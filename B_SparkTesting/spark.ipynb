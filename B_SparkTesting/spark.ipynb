{
 "cells": [
  {
   "cell_type": "markdown",
   "id": "bbe0fdc2",
   "metadata": {},
   "source": [
    "### Start SparkSession"
   ]
  },
  {
   "cell_type": "code",
   "execution_count": 1,
   "id": "81aff97d",
   "metadata": {},
   "outputs": [
    {
     "name": "stderr",
     "output_type": "stream",
     "text": [
      "25/07/17 18:30:34 WARN NativeCodeLoader: Unable to load native-hadoop library for your platform... using builtin-java classes where applicable\n",
      "Using Spark's default log4j profile: org/apache/spark/log4j-defaults.properties\n",
      "Setting default log level to \"WARN\".\n",
      "To adjust logging level use sc.setLogLevel(newLevel). For SparkR, use setLogLevel(newLevel).\n"
     ]
    },
    {
     "name": "stdout",
     "output_type": "stream",
     "text": [
      "Активные Spark сессии: http://16ecfb548f4b:4040\n"
     ]
    },
    {
     "data": {
      "text/html": [
       "\n",
       "        <div>\n",
       "            <p><b>SparkContext</b></p>\n",
       "\n",
       "            <p><a href=\"http://16ecfb548f4b:4040\">Spark UI</a></p>\n",
       "\n",
       "            <dl>\n",
       "              <dt>Version</dt>\n",
       "                <dd><code>v3.0.0</code></dd>\n",
       "              <dt>Master</dt>\n",
       "                <dd><code>spark://spark-master:7077</code></dd>\n",
       "              <dt>AppName</dt>\n",
       "                <dd><code>pyspark_local</code></dd>\n",
       "            </dl>\n",
       "        </div>\n",
       "        "
      ],
      "text/plain": [
       "<SparkContext master=spark://spark-master:7077 appName=pyspark_local>"
      ]
     },
     "execution_count": 1,
     "metadata": {},
     "output_type": "execute_result"
    }
   ],
   "source": [
    "from pyspark.sql import SparkSession\n",
    "import pyspark.sql.functions as F\n",
    "\n",
    "\n",
    "spark = SparkSession \\\n",
    "            .builder \\\n",
    "            .appName(\"pyspark_local\") \\\n",
    "            .master(\"spark://spark-master:7077\") \\\n",
    "            .config(\"spark.driver.memory\", \"4g\") \\\n",
    "            .config(\"spark.executor.memory\", \"2g\") \\\n",
    "            .config(\"spark.executor.cores\", \"2\") \\\n",
    "    .getOrCreate()\n",
    "\n",
    "\n",
    "# spark = SparkSession \\\n",
    "#             .builder \\\n",
    "#             .appName(\"pyspark_local\") \\\n",
    "#             .master(\"spark://spark-master:7077\") \\\n",
    "#             .config(\"spark.driver.memory\", \"8g\") \\\n",
    "#             .config(\"spark.executor.memory\", \"2g\") \\\n",
    "#             .config(\"spark.executor.cores\", \"2\") \\\n",
    "#     .getOrCreate()\n",
    "\n",
    "sc = spark.sparkContext\n",
    "\n",
    "\n",
    "print(\"Активные Spark сессии:\", spark.sparkContext.uiWebUrl)\n",
    "sc"
   ]
  },
  {
   "cell_type": "code",
   "execution_count": 2,
   "id": "77eba73e",
   "metadata": {},
   "outputs": [
    {
     "name": "stdout",
     "output_type": "stream",
     "text": [
      "Сконфигурированная память драйвера: 8g\n",
      "Сконфигурированная память исполнителя: 2g\n",
      "Сконфигурированная память PySpark для исполнителя: None\n"
     ]
    }
   ],
   "source": [
    "driver_memory = spark.sparkContext.getConf().get(\"spark.driver.memory\")\n",
    "print(f\"Сконфигурированная память драйвера: {driver_memory}\")\n",
    "\n",
    "executor_memory = spark.sparkContext.getConf().get(\"spark.executor.memory\")\n",
    "print(f\"Сконфигурированная память исполнителя: {executor_memory}\")\n",
    "\n",
    "pyspark_executor_memory = spark.sparkContext.getConf().get(\"spark.executor.pyspark.memory\")\n",
    "print(f\"Сконфигурированная память PySpark для исполнителя: {pyspark_executor_memory}\")"
   ]
  },
  {
   "cell_type": "markdown",
   "id": "c55f2c5a",
   "metadata": {},
   "source": [
    "### Read"
   ]
  },
  {
   "cell_type": "code",
   "execution_count": 3,
   "id": "f92ace2f",
   "metadata": {},
   "outputs": [],
   "source": [
    "PATH = 'data/orders.csv'"
   ]
  },
  {
   "cell_type": "code",
   "execution_count": 4,
   "id": "1ca58477",
   "metadata": {},
   "outputs": [
    {
     "name": "stderr",
     "output_type": "stream",
     "text": [
      "[Stage 1:>                                                          (0 + 1) / 1]\r"
     ]
    },
    {
     "name": "stdout",
     "output_type": "stream",
     "text": [
      "+-----------------+--------------------+--------------------+--------------------+--------------------+--------------------+--------------------+----------+--------------------+--------------------+------+------------+\n",
      "|              _c0|                 _c1|                 _c2|                 _c3|                 _c4|                 _c5|                 _c6|       _c7|                 _c8|                 _c9|  _c10|        _c11|\n",
      "+-----------------+--------------------+--------------------+--------------------+--------------------+--------------------+--------------------+----------+--------------------+--------------------+------+------------+\n",
      "|             name|               email|             address|   registration_date|               phone|             company|                 job| birthdate|             country|                uuid|salary|country_code|\n",
      "|Jermaine Espinoza|  fbaker@example.org|634 Gonzalez Inle...|2024-06-01T00:00:...| +1-605-744-8478x494|           Baker Ltd| Broadcast presenter|1985-01-12|          Azerbaijan|9c482b2e-b191-446...| 10350|          HT|\n",
      "|    Lauren Thomas|alfredwaters@exam...|26631 Jill Juncti...|2024-03-12T00:00:...|        722.209.9393|   Castillo-Valencia|      Dramatherapist|1965-10-31|            Barbados|ca0d3252-e65c-43a...|  8000|          TF|\n",
      "|  James Gutierrez|carmen78@example.com|01077 Wilson Viad...|2024-09-03T00:00:...|001-458-508-9427x...|Dean, Hall and Si...|Development worke...|1993-10-28|          Kazakhstan|6a625dc7-238f-4cb...| 15900|          GM|\n",
      "|       Kyle Kline|zgonzalez@example...|54247 Phillips Fo...|2024-06-01T00:00:...|001-579-863-8127x...|Nelson, Zhang and...|Print production ...|1964-05-26|   Equatorial Guinea|0f05ddba-d193-416...|  8300|          KM|\n",
      "|     Rhonda Foley|jonathan92@exampl...|1234 Cox Light Su...|2024-08-30T00:00:...|        513-361-0719|        White-Oneill|  Academic librarian|2006-08-07|               Korea|757b9bd8-1aa7-424...|  2300|          LV|\n",
      "|      Kyle Watson|ryanbarron@exampl...|518 Adams Junctio...|2024-05-29T00:00:...|   476-776-5078x2432|Solomon, Moore an...|Clothing/textile ...|1998-01-16|              Bhutan|425adba2-c30b-45c...|  7150|          CZ|\n",
      "|    Amy Mcfarland|alvaradoadam@exam...|021 Jordan Wall, ...|2024-05-29T00:00:...|   517-897-7421x9848|      Dawson-Hensley|Commissioning editor|1992-10-15|            Guernsey|92c6c55e-bb76-4f9...|  3000|          BY|\n",
      "| Angela Mcpherson|charleserickson@e...|9953 Silva Ville ...|2024-09-03T00:00:...| +1-207-529-2129x002|         King-Bailey|Audiological scie...|1994-05-20|              Canada|ea2d6a30-88e8-435...| 10350|          FO|\n",
      "|      John Sparks|aguirrethomas@exa...|6488 Bernard Mill...|2024-01-10T00:00:...|    447.276.7449x063|    Bonilla-Mccarthy|       Meteorologist|1987-09-21|    Christmas Island|f3d44b10-e23e-4ff...| 13350|          MT|\n",
      "| Madison Chambers|natalie43@example...|74333 Graham Via ...|2024-09-03T00:00:...|  680-540-2534x29453|Burgess, Williams...|Control and instr...|1966-04-09|               Samoa|a777a93d-b214-4c3...|  2000|          HM|\n",
      "|        Megan Day| cmalone@example.org|4358 Turner River...|2024-04-04T00:00:...|+1-898-862-7028x5398|Singleton, Hughes...|Television camera...|1985-10-20|           Venezuela|2938384d-1b0b-47d...| 18300|          BR|\n",
      "|      James Gomez|smartinez@example...|3453 Bryan Trail,...|2024-08-30T00:00:...|          6296247845|Bolton, Hall and ...|   Freight forwarder|1983-12-22|Holy See (Vatican...|d280de90-2b71-41d...| 14850|          AS|\n",
      "|  Kenneth Johnson|samantha49@exampl...|USCGC Alvarado, F...|2024-01-10T00:00:...|          8952051792|        Castillo-Day|  Wellsite geologist|1970-05-16|             Germany|ce9a7e18-c84d-4bc...| 11550|          FI|\n",
      "|        Sara Vega|michelechen@examp...|65080 Martinez Fr...|2024-02-23T00:00:...|       (850)284-8908|Sullivan, Stephen...|Customer service ...|1968-10-25|            Suriname|89fe98ae-6f1d-436...| 19100|          MA|\n",
      "|      Alan Martin| zhunter@example.com|41781 Lloyd Ports...|2024-08-30T00:00:...|        297-935-8388|         Jones Group|      Energy manager|1977-05-19|          Montenegro|49ace390-070e-47f...| 14150|          CW|\n",
      "|     Kylie Conner|linamanda@example...|19553 Conner Driv...|2024-08-30T00:00:...|   (205)800-9320x880|Caldwell, Barker ...|Water quality sci...|1995-06-03|       Cote d'Ivoire|48293cde-1164-471...|  9050|          AI|\n",
      "| Felicia Campbell| julia49@example.org|707 Lisa Keys Sui...|2024-03-12T00:00:...|+1-684-904-5939x1626|Simon, Murray and...|Nutritional thera...|1967-06-22|     Kyrgyz Republic|4d6dc773-ae78-4bf...|  4850|          TO|\n",
      "|      Kellie Wolf|  tadams@example.com|313 Sloan Plaza, ...|2024-08-30T00:00:...|+1-931-409-4930x0...|   Gonzalez-Cummings|Journalist, broad...|1999-01-28|         Switzerland|3f42df36-a084-413...| 15250|          CO|\n",
      "|      Shawn Garza| kevin03@example.net|2470 Goodman Lodg...|2024-04-04T00:00:...|        279.629.6598|        Williams LLC|   Recycling officer|1989-11-23|             Comoros|06c2762f-053b-4e0...| 15450|          KN|\n",
      "+-----------------+--------------------+--------------------+--------------------+--------------------+--------------------+--------------------+----------+--------------------+--------------------+------+------------+\n",
      "only showing top 20 rows\n",
      "\n"
     ]
    },
    {
     "name": "stderr",
     "output_type": "stream",
     "text": [
      "                                                                                \r"
     ]
    }
   ],
   "source": [
    "spark.read.csv(PATH).show()"
   ]
  },
  {
   "cell_type": "code",
   "execution_count": 5,
   "id": "41632483",
   "metadata": {},
   "outputs": [
    {
     "name": "stderr",
     "output_type": "stream",
     "text": [
      "                                                                                \r"
     ]
    },
    {
     "name": "stdout",
     "output_type": "stream",
     "text": [
      "+-----------------+--------------------+--------------------+--------------------+--------------------+--------------------+--------------------+----------+-----------------+--------------------+------+------------+\n",
      "|             name|               email|             address|   registration_date|               phone|             company|                 job| birthdate|          country|                uuid|salary|country_code|\n",
      "+-----------------+--------------------+--------------------+--------------------+--------------------+--------------------+--------------------+----------+-----------------+--------------------+------+------------+\n",
      "|Jermaine Espinoza|  fbaker@example.org|634 Gonzalez Inle...|2024-06-01T00:00:...| +1-605-744-8478x494|           Baker Ltd| Broadcast presenter|1985-01-12|       Azerbaijan|9c482b2e-b191-446...| 10350|          HT|\n",
      "|    Lauren Thomas|alfredwaters@exam...|26631 Jill Juncti...|2024-03-12T00:00:...|        722.209.9393|   Castillo-Valencia|      Dramatherapist|1965-10-31|         Barbados|ca0d3252-e65c-43a...|  8000|          TF|\n",
      "|  James Gutierrez|carmen78@example.com|01077 Wilson Viad...|2024-09-03T00:00:...|001-458-508-9427x...|Dean, Hall and Si...|Development worke...|1993-10-28|       Kazakhstan|6a625dc7-238f-4cb...| 15900|          GM|\n",
      "|       Kyle Kline|zgonzalez@example...|54247 Phillips Fo...|2024-06-01T00:00:...|001-579-863-8127x...|Nelson, Zhang and...|Print production ...|1964-05-26|Equatorial Guinea|0f05ddba-d193-416...|  8300|          KM|\n",
      "|     Rhonda Foley|jonathan92@exampl...|1234 Cox Light Su...|2024-08-30T00:00:...|        513-361-0719|        White-Oneill|  Academic librarian|2006-08-07|            Korea|757b9bd8-1aa7-424...|  2300|          LV|\n",
      "+-----------------+--------------------+--------------------+--------------------+--------------------+--------------------+--------------------+----------+-----------------+--------------------+------+------------+\n",
      "only showing top 5 rows\n",
      "\n"
     ]
    }
   ],
   "source": [
    "spark.read.csv(PATH, sep=',', header=True).show(5)"
   ]
  },
  {
   "cell_type": "code",
   "execution_count": 6,
   "id": "bc5d93a0",
   "metadata": {},
   "outputs": [],
   "source": [
    "df = spark.read.csv(PATH, sep=',', header=True)"
   ]
  },
  {
   "cell_type": "code",
   "execution_count": 7,
   "id": "4f62f910",
   "metadata": {},
   "outputs": [
    {
     "name": "stdout",
     "output_type": "stream",
     "text": [
      "root\n",
      " |-- name: string (nullable = true)\n",
      " |-- email: string (nullable = true)\n",
      " |-- address: string (nullable = true)\n",
      " |-- registration_date: string (nullable = true)\n",
      " |-- phone: string (nullable = true)\n",
      " |-- company: string (nullable = true)\n",
      " |-- job: string (nullable = true)\n",
      " |-- birthdate: string (nullable = true)\n",
      " |-- country: string (nullable = true)\n",
      " |-- uuid: string (nullable = true)\n",
      " |-- salary: string (nullable = true)\n",
      " |-- country_code: string (nullable = true)\n",
      "\n"
     ]
    }
   ],
   "source": [
    "df.printSchema()"
   ]
  },
  {
   "cell_type": "code",
   "execution_count": 8,
   "id": "13f5376a",
   "metadata": {},
   "outputs": [
    {
     "name": "stdout",
     "output_type": "stream",
     "text": [
      "root\n",
      " |-- full_name: string (nullable = true)\n",
      " |-- email: string (nullable = true)\n",
      " |-- address: string (nullable = true)\n",
      " |-- registration_date: string (nullable = true)\n",
      " |-- phone_number: string (nullable = true)\n",
      " |-- company: string (nullable = true)\n",
      " |-- job: string (nullable = true)\n",
      " |-- birthdate: string (nullable = true)\n",
      " |-- country: string (nullable = true)\n",
      " |-- uuid: string (nullable = true)\n",
      " |-- salary: string (nullable = true)\n",
      " |-- country_code: string (nullable = true)\n",
      "\n"
     ]
    },
    {
     "data": {
      "text/plain": [
       "['full_name',\n",
       " 'email',\n",
       " 'address',\n",
       " 'registration_date',\n",
       " 'phone_number',\n",
       " 'company',\n",
       " 'job',\n",
       " 'birthdate',\n",
       " 'country',\n",
       " 'uuid',\n",
       " 'salary',\n",
       " 'country_code']"
      ]
     },
     "execution_count": 8,
     "metadata": {},
     "output_type": "execute_result"
    }
   ],
   "source": [
    "result = df\\\n",
    "    .withColumnRenamed(\"name\", \"full_name\")\\\n",
    "    .withColumnRenamed(\"phone\", \"phone_number\")\n",
    "\n",
    "result.printSchema()\n",
    "result.columns"
   ]
  },
  {
   "cell_type": "code",
   "execution_count": 9,
   "id": "b8903a12",
   "metadata": {},
   "outputs": [
    {
     "name": "stdout",
     "output_type": "stream",
     "text": [
      "+-----------------+------------------------+---------------------------------------------------------+-----------------------------+----------------------+--------------------------+-----------------------------+----------+-----------------+------------------------------------+------+------------+\n",
      "|full_name        |email                   |address                                                  |registration_date            |phone_number          |company                   |job                          |birthdate |country          |uuid                                |salary|country_code|\n",
      "+-----------------+------------------------+---------------------------------------------------------+-----------------------------+----------------------+--------------------------+-----------------------------+----------+-----------------+------------------------------------+------+------------+\n",
      "|Jermaine Espinoza|fbaker@example.org      |634 Gonzalez Inlet Suite 238, South Trevormouth, VA 19774|2024-06-01T00:00:00.000+03:00|+1-605-744-8478x494   |Baker Ltd                 |Broadcast presenter          |1985-01-12|Azerbaijan       |9c482b2e-b191-4462-bee4-b5dda215e792|10350 |HT          |\n",
      "|Lauren Thomas    |alfredwaters@example.com|26631 Jill Junction, Sandersborough, GA 60912            |2024-03-12T00:00:00.000+03:00|722.209.9393          |Castillo-Valencia         |Dramatherapist               |1965-10-31|Barbados         |ca0d3252-e65c-43aa-b557-8d5efe5f60bb|8000  |TF          |\n",
      "|James Gutierrez  |carmen78@example.com    |01077 Wilson Viaduct, West Heather, NV 03145             |2024-09-03T00:00:00.000+03:00|001-458-508-9427x3274 |Dean, Hall and Simmons    |Development worker, community|1993-10-28|Kazakhstan       |6a625dc7-238f-4cbc-8368-f3a33ec291c6|15900 |GM          |\n",
      "|Kyle Kline       |zgonzalez@example.net   |54247 Phillips Forest, Simmonsview, CT 26557             |2024-06-01T00:00:00.000+03:00|001-579-863-8127x73535|Nelson, Zhang and Robinson|Print production planner     |1964-05-26|Equatorial Guinea|0f05ddba-d193-416f-a8dd-2be953d8c8a4|8300  |KM          |\n",
      "|Rhonda Foley     |jonathan92@example.org  |1234 Cox Light Suite 381, Brownfurt, NV 24776            |2024-08-30T00:00:00.000+03:00|513-361-0719          |White-Oneill              |Academic librarian           |2006-08-07|Korea            |757b9bd8-1aa7-4241-9710-77d285870a2d|2300  |LV          |\n",
      "+-----------------+------------------------+---------------------------------------------------------+-----------------------------+----------------------+--------------------------+-----------------------------+----------+-----------------+------------------------------------+------+------------+\n",
      "only showing top 5 rows\n",
      "\n"
     ]
    }
   ],
   "source": [
    "result.show(5, False)"
   ]
  },
  {
   "cell_type": "code",
   "execution_count": 10,
   "id": "8d79c0de",
   "metadata": {},
   "outputs": [
    {
     "name": "stdout",
     "output_type": "stream",
     "text": [
      "-RECORD 0----------------------------------------------------------------------\n",
      " full_name         | Jermaine Espinoza                                         \n",
      " email             | fbaker@example.org                                        \n",
      " address           | 634 Gonzalez Inlet Suite 238, South Trevormouth, VA 19774 \n",
      " registration_date | 2024-06-01T00:00:00.000+03:00                             \n",
      " phone_number      | +1-605-744-8478x494                                       \n",
      " company           | Baker Ltd                                                 \n",
      " job               | Broadcast presenter                                       \n",
      " birthdate         | 1985-01-12                                                \n",
      " country           | Azerbaijan                                                \n",
      " uuid              | 9c482b2e-b191-4462-bee4-b5dda215e792                      \n",
      " salary            | 10350                                                     \n",
      " country_code      | HT                                                        \n",
      "-RECORD 1----------------------------------------------------------------------\n",
      " full_name         | Lauren Thomas                                             \n",
      " email             | alfredwaters@example.com                                  \n",
      " address           | 26631 Jill Junction, Sandersborough, GA 60912             \n",
      " registration_date | 2024-03-12T00:00:00.000+03:00                             \n",
      " phone_number      | 722.209.9393                                              \n",
      " company           | Castillo-Valencia                                         \n",
      " job               | Dramatherapist                                            \n",
      " birthdate         | 1965-10-31                                                \n",
      " country           | Barbados                                                  \n",
      " uuid              | ca0d3252-e65c-43aa-b557-8d5efe5f60bb                      \n",
      " salary            | 8000                                                      \n",
      " country_code      | TF                                                        \n",
      "only showing top 2 rows\n",
      "\n"
     ]
    }
   ],
   "source": [
    "result.show(2, False, True)"
   ]
  },
  {
   "cell_type": "markdown",
   "id": "64543be9",
   "metadata": {},
   "source": [
    "### PrintSchema"
   ]
  },
  {
   "cell_type": "code",
   "execution_count": 11,
   "id": "013b89f3",
   "metadata": {},
   "outputs": [
    {
     "name": "stdout",
     "output_type": "stream",
     "text": [
      "root\n",
      " |-- name: string (nullable = true)\n",
      " |-- email: string (nullable = true)\n",
      " |-- address: string (nullable = true)\n",
      " |-- registration_date: string (nullable = true)\n",
      " |-- phone: string (nullable = true)\n",
      " |-- company: string (nullable = true)\n",
      " |-- job: string (nullable = true)\n",
      " |-- birthdate: string (nullable = true)\n",
      " |-- country: string (nullable = true)\n",
      " |-- uuid: string (nullable = true)\n",
      " |-- salary: string (nullable = true)\n",
      " |-- country_code: string (nullable = true)\n",
      "\n"
     ]
    }
   ],
   "source": [
    "df.printSchema()"
   ]
  },
  {
   "cell_type": "code",
   "execution_count": 12,
   "id": "e0864e9a",
   "metadata": {},
   "outputs": [
    {
     "name": "stdout",
     "output_type": "stream",
     "text": [
      "root\n",
      " |-- first_name: string (nullable = true)\n",
      " |-- email: string (nullable = true)\n",
      " |-- address: string (nullable = true)\n",
      " |-- registration_date: date (nullable = true)\n",
      " |-- phone_number: string (nullable = true)\n",
      " |-- company: string (nullable = true)\n",
      " |-- job: string (nullable = true)\n",
      " |-- birthdate: date (nullable = true)\n",
      " |-- country: string (nullable = true)\n",
      " |-- uuid: string (nullable = true)\n",
      " |-- salary: string (nullable = true)\n",
      " |-- country_code: string (nullable = true)\n",
      "\n"
     ]
    }
   ],
   "source": [
    "result = df \\\n",
    "    .withColumnRenamed(\"name\", \"first_name\") \\\n",
    "    .withColumnRenamed(\"phone\", \"phone_number\") \\\n",
    "    .withColumn('registration_date', F.col('registration_date').cast('date')) \\\n",
    "    .withColumn('birthdate', F.col('birthdate').cast('date'))\n",
    "\n",
    "result.printSchema()"
   ]
  },
  {
   "cell_type": "code",
   "execution_count": 13,
   "id": "7ae020d6",
   "metadata": {},
   "outputs": [
    {
     "name": "stderr",
     "output_type": "stream",
     "text": [
      "                                                                                \r"
     ]
    },
    {
     "name": "stdout",
     "output_type": "stream",
     "text": [
      "+------+\n",
      "|salary|\n",
      "+------+\n",
      "|16250 |\n",
      "|3650  |\n",
      "|7650  |\n",
      "|4850  |\n",
      "|3200  |\n",
      "|6900  |\n",
      "|10250 |\n",
      "|14000 |\n",
      "|2700  |\n",
      "|12750 |\n",
      "|6850  |\n",
      "|2550  |\n",
      "|13700 |\n",
      "|5450  |\n",
      "|18750 |\n",
      "|17100 |\n",
      "|3250  |\n",
      "|11600 |\n",
      "|2200  |\n",
      "|15100 |\n",
      "+------+\n",
      "only showing top 20 rows\n",
      "\n"
     ]
    }
   ],
   "source": [
    "df \\\n",
    "    .select('salary')\\\n",
    "    .distinct()\\\n",
    "    .show(20, truncate=False)"
   ]
  },
  {
   "cell_type": "code",
   "execution_count": 14,
   "id": "a54bdb8f",
   "metadata": {},
   "outputs": [
    {
     "name": "stdout",
     "output_type": "stream",
     "text": [
      "root\n",
      " |-- first_name: string (nullable = true)\n",
      " |-- email: string (nullable = true)\n",
      " |-- address: string (nullable = true)\n",
      " |-- registration_date: date (nullable = true)\n",
      " |-- phone_number: string (nullable = true)\n",
      " |-- company: string (nullable = true)\n",
      " |-- job: string (nullable = true)\n",
      " |-- birthdate: date (nullable = true)\n",
      " |-- country: string (nullable = true)\n",
      " |-- uuid: string (nullable = true)\n",
      " |-- salary: long (nullable = true)\n",
      " |-- country_code: string (nullable = true)\n",
      "\n"
     ]
    },
    {
     "name": "stderr",
     "output_type": "stream",
     "text": [
      "                                                                                \r"
     ]
    },
    {
     "name": "stdout",
     "output_type": "stream",
     "text": [
      "+------+\n",
      "|salary|\n",
      "+------+\n",
      "|2250  |\n",
      "|3800  |\n",
      "|16100 |\n",
      "|5850  |\n",
      "|17150 |\n",
      "|9750  |\n",
      "|6700  |\n",
      "|7800  |\n",
      "|17100 |\n",
      "|14450 |\n",
      "|2900  |\n",
      "|4300  |\n",
      "|2400  |\n",
      "|10000 |\n",
      "|11700 |\n",
      "|3200  |\n",
      "|13200 |\n",
      "|11450 |\n",
      "|16900 |\n",
      "|12300 |\n",
      "+------+\n",
      "only showing top 20 rows\n",
      "\n"
     ]
    }
   ],
   "source": [
    "result = df \\\n",
    "    .withColumnRenamed(\"name\", \"first_name\") \\\n",
    "    .withColumnRenamed(\"phone\", \"phone_number\") \\\n",
    "    .withColumn('registration_date', F.col('registration_date').cast('date')) \\\n",
    "    .withColumn('birthdate', F.col('birthdate').cast('date')) \\\n",
    "    .withColumn('salary', F.col('salary').cast('long'))\n",
    "\n",
    "result.printSchema()\n",
    "result \\\n",
    "    .select('salary')\\\n",
    "    .distinct()\\\n",
    "    .show(20, truncate=False)"
   ]
  },
  {
   "cell_type": "code",
   "execution_count": 15,
   "id": "e769ff29",
   "metadata": {},
   "outputs": [],
   "source": [
    "# result = df \\\n",
    "#     .withColumnRenamed(\"registration_date\", \"registered_at\") \\\n",
    "#     .withColumnRenamed(\"birthdate\", \"dob\") \\\n",
    "#     .withColumnRenamed(\"country_code\", \"iso_code\")\n",
    "\n",
    "# result.columns\n"
   ]
  },
  {
   "cell_type": "code",
   "execution_count": 16,
   "id": "7d24ce02",
   "metadata": {},
   "outputs": [],
   "source": [
    "# result.printSchema()"
   ]
  },
  {
   "cell_type": "markdown",
   "id": "d2fbadae",
   "metadata": {},
   "source": [
    "### Select"
   ]
  },
  {
   "cell_type": "code",
   "execution_count": 17,
   "id": "b7d58539",
   "metadata": {},
   "outputs": [
    {
     "name": "stderr",
     "output_type": "stream",
     "text": [
      "                                                                                \r"
     ]
    },
    {
     "name": "stdout",
     "output_type": "stream",
     "text": [
      "+-----------------+\n",
      "|registration_date|\n",
      "+-----------------+\n",
      "|2024-08-30       |\n",
      "|2024-09-03       |\n",
      "|2024-03-12       |\n",
      "|2024-05-29       |\n",
      "|2024-02-23       |\n",
      "|2024-01-10       |\n",
      "|2024-04-04       |\n",
      "|2024-06-01       |\n",
      "+-----------------+\n",
      "\n"
     ]
    }
   ],
   "source": [
    "result\\\n",
    "    .select('registration_date')\\\n",
    "    .distinct()\\\n",
    "    .show(truncate=False)"
   ]
  },
  {
   "cell_type": "markdown",
   "id": "8a26f475",
   "metadata": {},
   "source": [
    "### GroupBy"
   ]
  },
  {
   "cell_type": "code",
   "execution_count": 18,
   "id": "745bf3d0",
   "metadata": {},
   "outputs": [
    {
     "name": "stderr",
     "output_type": "stream",
     "text": [
      "[Stage 29:>                                                         (0 + 8) / 8]\r"
     ]
    },
    {
     "name": "stdout",
     "output_type": "stream",
     "text": [
      "+------------------------------------+----------+\n",
      "|country                             |total_rows|\n",
      "+------------------------------------+----------+\n",
      "|Zimbabwe                            |14584     |\n",
      "|Zambia                              |14804     |\n",
      "|Yemen                               |14737     |\n",
      "|Western Sahara                      |14732     |\n",
      "|Wallis and Futuna                   |14573     |\n",
      "|Vietnam                             |14750     |\n",
      "|Venezuela                           |14771     |\n",
      "|Vanuatu                             |14686     |\n",
      "|Uzbekistan                          |14663     |\n",
      "|Uruguay                             |14678     |\n",
      "|United States of America            |14796     |\n",
      "|United States Virgin Islands        |14683     |\n",
      "|United States Minor Outlying Islands|14617     |\n",
      "|United Kingdom                      |14709     |\n",
      "|United Arab Emirates                |14762     |\n",
      "|Ukraine                             |14702     |\n",
      "|Uganda                              |14987     |\n",
      "|Tuvalu                              |14761     |\n",
      "|Turks and Caicos Islands            |14513     |\n",
      "|Turkmenistan                        |14738     |\n",
      "+------------------------------------+----------+\n",
      "only showing top 20 rows\n",
      "\n"
     ]
    },
    {
     "name": "stderr",
     "output_type": "stream",
     "text": [
      "                                                                                \r"
     ]
    }
   ],
   "source": [
    "result\\\n",
    "    .groupBy('country')\\\n",
    "    .agg(F.count('*').alias('total_rows'))\\\n",
    "    .orderBy(F.col('country').desc())\\\n",
    "    .show(truncate=False)"
   ]
  },
  {
   "cell_type": "code",
   "execution_count": 19,
   "id": "b8465736",
   "metadata": {},
   "outputs": [
    {
     "data": {
      "text/plain": [
       "['first_name',\n",
       " 'email',\n",
       " 'address',\n",
       " 'registration_date',\n",
       " 'phone_number',\n",
       " 'company',\n",
       " 'job',\n",
       " 'birthdate',\n",
       " 'country',\n",
       " 'uuid',\n",
       " 'salary',\n",
       " 'country_code']"
      ]
     },
     "execution_count": 19,
     "metadata": {},
     "output_type": "execute_result"
    }
   ],
   "source": [
    "result.columns"
   ]
  },
  {
   "cell_type": "code",
   "execution_count": 20,
   "id": "ae56d7ff",
   "metadata": {},
   "outputs": [
    {
     "name": "stderr",
     "output_type": "stream",
     "text": [
      "[Stage 31:>                                                         (0 + 8) / 8]\r"
     ]
    },
    {
     "name": "stdout",
     "output_type": "stream",
     "text": [
      "+----------+----------+\n",
      "|max_salary|min_salary|\n",
      "+----------+----------+\n",
      "|20000     |2000      |\n",
      "+----------+----------+\n",
      "\n"
     ]
    },
    {
     "name": "stderr",
     "output_type": "stream",
     "text": [
      "                                                                                \r"
     ]
    }
   ],
   "source": [
    "# Выведите минимальное и максимальное значение salary (max_salary, min_salary)\n",
    "\n",
    "result\\\n",
    "    .agg(\n",
    "        F.max('salary').alias('max_salary'),\n",
    "        F.min('salary').alias('min_salary')\n",
    "    )\\\n",
    "    .show(truncate=False)"
   ]
  },
  {
   "cell_type": "markdown",
   "id": "84cd8d43",
   "metadata": {},
   "source": [
    "### Filter"
   ]
  },
  {
   "cell_type": "code",
   "execution_count": 21,
   "id": "54b29a0e",
   "metadata": {},
   "outputs": [
    {
     "name": "stderr",
     "output_type": "stream",
     "text": [
      "                                                                                \r"
     ]
    },
    {
     "name": "stdout",
     "output_type": "stream",
     "text": [
      "df_de_salary 29183\n"
     ]
    },
    {
     "name": "stderr",
     "output_type": "stream",
     "text": [
      "                                                                                \r"
     ]
    },
    {
     "name": "stdout",
     "output_type": "stream",
     "text": [
      "df_de_salary2 29183\n"
     ]
    },
    {
     "name": "stderr",
     "output_type": "stream",
     "text": [
      "[Stage 39:>                                                         (0 + 8) / 8]\r"
     ]
    },
    {
     "name": "stdout",
     "output_type": "stream",
     "text": [
      "True\n"
     ]
    },
    {
     "name": "stderr",
     "output_type": "stream",
     "text": [
      "                                                                                \r"
     ]
    }
   ],
   "source": [
    "# Два варианта написании фильтрации\n",
    "df_de_salary = result\\\n",
    "    .where(F.col(\"country\") == \"Korea\") \\\n",
    "    .where(F.col(\"salary\").isNotNull()) \\\n",
    "\n",
    "df_de_salary2 = result \\\n",
    "    .where('country = \"Korea\"') \\\n",
    "    .where('salary IS NOT NULL')\n",
    "\n",
    "print('df_de_salary',df_de_salary.count())\n",
    "print('df_de_salary2',df_de_salary2.count())\n",
    "print(df_de_salary.count() == df_de_salary2.count())"
   ]
  },
  {
   "cell_type": "markdown",
   "id": "9751380a",
   "metadata": {},
   "source": [
    "### Save to CSV"
   ]
  },
  {
   "cell_type": "code",
   "execution_count": 22,
   "id": "a406a8f4",
   "metadata": {},
   "outputs": [
    {
     "name": "stdout",
     "output_type": "stream",
     "text": [
      "root\n",
      " |-- first_name: string (nullable = true)\n",
      " |-- email: string (nullable = true)\n",
      " |-- address: string (nullable = true)\n",
      " |-- registration_date: date (nullable = true)\n",
      " |-- phone_number: string (nullable = true)\n",
      " |-- company: string (nullable = true)\n",
      " |-- job: string (nullable = true)\n",
      " |-- birthdate: date (nullable = true)\n",
      " |-- country: string (nullable = true)\n",
      " |-- uuid: string (nullable = true)\n",
      " |-- salary: long (nullable = true)\n",
      " |-- country_code: string (nullable = true)\n",
      "\n"
     ]
    }
   ],
   "source": [
    "df_de_salary2.printSchema()"
   ]
  },
  {
   "cell_type": "code",
   "execution_count": 23,
   "id": "8c23ba69",
   "metadata": {},
   "outputs": [
    {
     "name": "stdout",
     "output_type": "stream",
     "text": [
      "+-----------------+------------------------+---------------------------------------------+-----------------+-----------------+---------------------------+-----------------------------+----------+-------+------------------------------------+------+------------+\n",
      "|first_name       |email                   |address                                      |registration_date|phone_number     |company                    |job                          |birthdate |country|uuid                                |salary|country_code|\n",
      "+-----------------+------------------------+---------------------------------------------+-----------------+-----------------+---------------------------+-----------------------------+----------+-------+------------------------------------+------+------------+\n",
      "|Rhonda Foley     |jonathan92@example.org  |1234 Cox Light Suite 381, Brownfurt, NV 24776|2024-08-30       |513-361-0719     |White-Oneill               |Academic librarian           |2006-08-07|Korea  |757b9bd8-1aa7-4241-9710-77d285870a2d|2300  |LV          |\n",
      "|Christine Hopkins|davisvanessa@example.com|6319 Jacob Dale Suite 289, Danaside, NM 89761|2024-09-03       |(607)860-3600x174|Parker, Mcdowell and Moreno|Development worker, community|2006-05-22|Korea  |b629f5c4-05c1-45fd-bd4c-218ad628d2c1|14000 |PE          |\n",
      "+-----------------+------------------------+---------------------------------------------+-----------------+-----------------+---------------------------+-----------------------------+----------+-------+------------------------------------+------+------------+\n",
      "only showing top 2 rows\n",
      "\n"
     ]
    }
   ],
   "source": [
    "df_de_salary.show(2, truncate=False)"
   ]
  },
  {
   "cell_type": "code",
   "execution_count": 24,
   "id": "34a39db7",
   "metadata": {},
   "outputs": [
    {
     "data": {
      "text/plain": [
       "['first_name',\n",
       " 'email',\n",
       " 'address',\n",
       " 'registration_date',\n",
       " 'phone_number',\n",
       " 'company',\n",
       " 'job',\n",
       " 'birthdate',\n",
       " 'country',\n",
       " 'uuid',\n",
       " 'salary',\n",
       " 'country_code']"
      ]
     },
     "execution_count": 24,
     "metadata": {},
     "output_type": "execute_result"
    }
   ],
   "source": [
    "df_de_salary.columns"
   ]
  },
  {
   "cell_type": "code",
   "execution_count": 25,
   "id": "cb2e528b",
   "metadata": {},
   "outputs": [
    {
     "name": "stdout",
     "output_type": "stream",
     "text": [
      "+------+-----------------------------------+-----------------------------+-------------------+--------------------------------+----------+\n",
      "|salary|job                                |company                      |first_name         |email                           |reg_date  |\n",
      "+------+-----------------------------------+-----------------------------+-------------------+--------------------------------+----------+\n",
      "|2300  |Academic librarian                 |White-Oneill                 |Rhonda Foley       |jonathan92@example.org          |2024-08-30|\n",
      "|14000 |Development worker, community      |Parker, Mcdowell and Moreno  |Christine Hopkins  |davisvanessa@example.com        |2024-09-03|\n",
      "|19900 |Stage manager                      |Dean-Hubbard                 |Thomas Schultz     |byrdjean@example.org            |2024-08-30|\n",
      "|8300  |Hydrogeologist                     |Graves Group                 |Marissa Price      |ugates@example.org              |2024-09-03|\n",
      "|3400  |Dance movement psychotherapist     |Bowen-Rodriguez              |Christopher Kemp   |brenda90@example.com            |2024-05-29|\n",
      "|6900  |Surveyor, minerals                 |Decker-Davis                 |Melanie Johnson    |simoncaroline@example.org       |2024-01-10|\n",
      "|4250  |Commercial horticulturist          |Hudson Group                 |Carrie Phillips DDS|richardsonjason@example.net     |2024-05-29|\n",
      "|9000  |Trading standards officer          |Perez and Sons               |Michael Phillips   |christinachristensen@example.net|2024-01-10|\n",
      "|9900  |Personnel officer                  |Hogan-Lopez                  |Christopher Cruz   |latasha52@example.net           |2024-02-23|\n",
      "|20000 |Learning disability nurse          |Murphy, Reed and Lin         |Joseph Chavez      |rebeccacarter@example.org       |2024-04-04|\n",
      "|2350  |Engineer, broadcasting (operations)|Chang Ltd                    |Shawn Mills        |loriwalker@example.org          |2024-01-10|\n",
      "|2450  |Civil Service fast streamer        |Sherman, Gregory and Thompson|Melissa Murphy     |karenrichards@example.net       |2024-08-30|\n",
      "|16950 |Clinical psychologist              |Barnett-Riley                |Nicholas Cross     |rsosa@example.net               |2024-02-23|\n",
      "|19300 |Equality and diversity officer     |Cooper, Hampton and Hoffman  |Timothy Krause     |michellestewart@example.com     |2024-05-29|\n",
      "|5500  |Customer service manager           |Schneider-Summers            |Ryan Brown         |ebennett@example.net            |2024-04-04|\n",
      "|11400 |Database administrator             |Brock, Briggs and Ellison    |Travis Mcbride     |tammyhernandez@example.org      |2024-02-23|\n",
      "|18500 |Media buyer                        |Brown and Sons               |Elizabeth Fisher   |youngmichael@example.org        |2024-05-29|\n",
      "|11600 |Aeronautical engineer              |Bender-Mendez                |Teresa Taylor      |ujacobs@example.org             |2024-03-12|\n",
      "|7050  |Garment/textile technologist       |Washington-Fox               |Vanessa Fowler     |robertvega@example.net          |2024-02-23|\n",
      "|16850 |Personal assistant                 |Johnson PLC                  |Mackenzie Fields   |alan72@example.net              |2024-09-03|\n",
      "+------+-----------------------------------+-----------------------------+-------------------+--------------------------------+----------+\n",
      "only showing top 20 rows\n",
      "\n"
     ]
    }
   ],
   "source": [
    "final = df_de_salary.select(\n",
    "    'salary',\n",
    "    'job',\n",
    "    'company',\n",
    "    'first_name',\n",
    "    'email',\n",
    "    F.col('registration_date').cast('date').alias('reg_date')\n",
    ")\n",
    "\n",
    "final.show(20, truncate=False)\n"
   ]
  },
  {
   "cell_type": "code",
   "execution_count": 26,
   "id": "bb9f903c",
   "metadata": {},
   "outputs": [],
   "source": [
    "import shutil\n",
    "\n",
    "shutil.rmtree('data/final_no_control')\n",
    "shutil.rmtree('data/final_one_file')\n",
    "shutil.rmtree('data/final_partitioned')\n",
    "shutil.rmtree('data/final_partitioned_repart')\n",
    "shutil.rmtree('data/final_partitioned_coalesce')"
   ]
  },
  {
   "cell_type": "code",
   "execution_count": 27,
   "id": "cb07c0d4",
   "metadata": {},
   "outputs": [
    {
     "name": "stderr",
     "output_type": "stream",
     "text": [
      "                                                                                \r"
     ]
    },
    {
     "name": "stdout",
     "output_type": "stream",
     "text": [
      "Кол-во партиций 8\n"
     ]
    }
   ],
   "source": [
    "# Сохранение неконтроллируемое по кол-ву файлов\n",
    "final\\\n",
    "    .write\\\n",
    "    .format('csv')\\\n",
    "    .options(header='True', sep=';')\\\n",
    "    .csv('data/final_no_control')\n",
    "\n",
    "partition_num = final.rdd.getNumPartitions()\n",
    "print(f'Кол-во партиций {partition_num}')"
   ]
  },
  {
   "cell_type": "code",
   "execution_count": 28,
   "id": "ee556bd4",
   "metadata": {},
   "outputs": [
    {
     "name": "stderr",
     "output_type": "stream",
     "text": [
      "[Stage 44:>                                                         (0 + 1) / 1]\r"
     ]
    },
    {
     "name": "stdout",
     "output_type": "stream",
     "text": [
      "Кол-во партиций 1\n"
     ]
    },
    {
     "name": "stderr",
     "output_type": "stream",
     "text": [
      "                                                                                \r"
     ]
    }
   ],
   "source": [
    "# Сохранение контроллируемое по кол-ву файлов - ОДИН ФАЙЛ\n",
    "final\\\n",
    "    .coalesce(1)\\\n",
    "    .write\\\n",
    "    .format('csv')\\\n",
    "    .options(header='True', sep=';')\\\n",
    "    .csv('data/final_one_file') \n",
    "\n",
    "partition_num = final.coalesce(1).rdd.getNumPartitions()\n",
    "print(f'Кол-во партиций {partition_num}')"
   ]
  },
  {
   "cell_type": "code",
   "execution_count": 29,
   "id": "df5e34d3",
   "metadata": {},
   "outputs": [
    {
     "name": "stderr",
     "output_type": "stream",
     "text": [
      "[Stage 46:>                                                         (0 + 8) / 8]\r"
     ]
    },
    {
     "name": "stdout",
     "output_type": "stream",
     "text": [
      "Load_date distinct: 8\n"
     ]
    },
    {
     "name": "stderr",
     "output_type": "stream",
     "text": [
      "                                                                                \r"
     ]
    }
   ],
   "source": [
    "# Сохранения с партицированием\n",
    "final\\\n",
    "    .write\\\n",
    "    .partitionBy('reg_date')\\\n",
    "    .format('csv')\\\n",
    "    .options(header='True', sep=';')\\\n",
    "    .csv('data/final_partitioned')\n",
    "\n",
    "print_df = final.select('reg_date').distinct()\n",
    "print(f'Load_date distinct: {print_df.count()}')"
   ]
  },
  {
   "cell_type": "code",
   "execution_count": 30,
   "id": "f08fd024",
   "metadata": {},
   "outputs": [
    {
     "name": "stderr",
     "output_type": "stream",
     "text": [
      "                                                                                \r"
     ]
    },
    {
     "name": "stdout",
     "output_type": "stream",
     "text": [
      "Кол-во партиций 1\n"
     ]
    }
   ],
   "source": [
    "# Сохранения с партицированием и repartition внутри самой партиции\n",
    "final\\\n",
    "    .repartition(1, 'reg_date')\\\n",
    "    .write\\\n",
    "    .partitionBy('reg_date')\\\n",
    "    .format('csv')\\\n",
    "    .options(header='True', sep=';')\\\n",
    "    .csv('data/final_partitioned_repart')\n",
    "\n",
    "partition_num = final.repartition(1, 'reg_date').rdd.getNumPartitions()\n",
    "print(f'Кол-во партиций {partition_num}')"
   ]
  },
  {
   "cell_type": "code",
   "execution_count": 31,
   "id": "93825ff2",
   "metadata": {},
   "outputs": [
    {
     "name": "stderr",
     "output_type": "stream",
     "text": [
      "                                                                                \r"
     ]
    },
    {
     "name": "stdout",
     "output_type": "stream",
     "text": [
      "Кол-во партиций 1\n"
     ]
    }
   ],
   "source": [
    "# coalesce VS repartition\n",
    "\n",
    "final\\\n",
    "    .coalesce(1)\\\n",
    "    .write\\\n",
    "    .partitionBy('reg_date')\\\n",
    "    .format('csv')\\\n",
    "    .options(header='True', sep=';')\\\n",
    "    .csv('data/final_partitioned_coalesce')\n",
    "\n",
    "partition_num = final.repartition(1, 'reg_date').rdd.getNumPartitions()\n",
    "print(f'Кол-во партиций {partition_num}')\n",
    "\n",
    "# repartition - распределяет файлы равномерно. Делает shuffle\n",
    "# coalesce - объединяет данные как есть"
   ]
  },
  {
   "cell_type": "markdown",
   "id": "9b5f46d0",
   "metadata": {},
   "source": [
    "### Read Transformed"
   ]
  },
  {
   "cell_type": "code",
   "execution_count": 32,
   "id": "f3c38478",
   "metadata": {},
   "outputs": [
    {
     "name": "stdout",
     "output_type": "stream",
     "text": [
      "3598\n",
      "3598\n",
      "3598\n",
      "3598\n"
     ]
    }
   ],
   "source": [
    "reader_no_control = spark\\\n",
    "                        .read\\\n",
    "                        .csv('data/final_no_control/', header=True, sep=';')\\\n",
    "                        .where(''' reg_date = \"2024-01-10\" ''')\n",
    "\n",
    "reader_final_one_file = spark\\\n",
    "                            .read\\\n",
    "                            .csv('data/final_one_file/', header=True, sep=';')\\\n",
    "                            .where(''' reg_date = \"2024-01-10\" ''')\n",
    "\n",
    "reader_partitioned = spark\\\n",
    "                        .read\\\n",
    "                        .csv('data/final_partitioned', header=True, sep=';')\\\n",
    "                        .where(''' reg_date = \"2024-01-10\" ''')\n",
    "\n",
    "reader_partitioned_repart = spark\\\n",
    "                                .read\\\n",
    "                                .csv('data/final_partitioned_repart', header=True, sep=';')\\\n",
    "                                .where(''' reg_date = \"2024-01-10\" ''')\n",
    "\n",
    "print(reader_no_control.count())\n",
    "print(reader_final_one_file.count())\n",
    "print(reader_partitioned.count())\n",
    "print(reader_partitioned_repart.count())"
   ]
  },
  {
   "cell_type": "markdown",
   "id": "fcb708af",
   "metadata": {},
   "source": [
    "### JOIN"
   ]
  },
  {
   "cell_type": "code",
   "execution_count": 33,
   "id": "0f7681c6",
   "metadata": {},
   "outputs": [
    {
     "name": "stdout",
     "output_type": "stream",
     "text": [
      "+----------+----------+-------------+\n",
      "|min_salary|max_salary|        level|\n",
      "+----------+----------+-------------+\n",
      "|         0|      5000|       низкая|\n",
      "|      5001|     10000|      средняя|\n",
      "|     10001|     20000|      высокая|\n",
      "|     20001|    999999|очень высокая|\n",
      "+----------+----------+-------------+\n",
      "\n"
     ]
    },
    {
     "name": "stderr",
     "output_type": "stream",
     "text": [
      "[Stage 69:>                                                         (0 + 8) / 8]\r"
     ]
    },
    {
     "name": "stdout",
     "output_type": "stream",
     "text": [
      "+-----------------+--------------------+--------------------+-------------------+--------------------+--------------------+--------------------+----------+-----------------+--------------------+------+------------+\n",
      "|             name|               email|             address|  registration_date|               phone|             company|                 job| birthdate|          country|                uuid|salary|country_code|\n",
      "+-----------------+--------------------+--------------------+-------------------+--------------------+--------------------+--------------------+----------+-----------------+--------------------+------+------------+\n",
      "|Jermaine Espinoza|  fbaker@example.org|634 Gonzalez Inle...|2024-05-31 21:00:00| +1-605-744-8478x494|           Baker Ltd| Broadcast presenter|1985-01-12|       Azerbaijan|9c482b2e-b191-446...| 10350|          HT|\n",
      "|    Lauren Thomas|alfredwaters@exam...|26631 Jill Juncti...|2024-03-11 21:00:00|        722.209.9393|   Castillo-Valencia|      Dramatherapist|1965-10-31|         Barbados|ca0d3252-e65c-43a...|  8000|          TF|\n",
      "|  James Gutierrez|carmen78@example.com|01077 Wilson Viad...|2024-09-02 21:00:00|001-458-508-9427x...|Dean, Hall and Si...|Development worke...|1993-10-28|       Kazakhstan|6a625dc7-238f-4cb...| 15900|          GM|\n",
      "|       Kyle Kline|zgonzalez@example...|54247 Phillips Fo...|2024-05-31 21:00:00|001-579-863-8127x...|Nelson, Zhang and...|Print production ...|1964-05-26|Equatorial Guinea|0f05ddba-d193-416...|  8300|          KM|\n",
      "+-----------------+--------------------+--------------------+-------------------+--------------------+--------------------+--------------------+----------+-----------------+--------------------+------+------------+\n",
      "only showing top 4 rows\n",
      "\n"
     ]
    },
    {
     "name": "stderr",
     "output_type": "stream",
     "text": [
      "                                                                                \r"
     ]
    }
   ],
   "source": [
    "data = [\n",
    "    (0,     5000,   \"низкая\"),\n",
    "    (5001,  10000,  \"средняя\"),\n",
    "    (10001, 20000,  \"высокая\"),\n",
    "    (20001, 999999, \"очень высокая\")\n",
    "]\n",
    "\n",
    "salary_levels_df = spark.createDataFrame(data, schema=\"min_salary long, max_salary long, level string\")\n",
    "salary_levels_df.show()\n",
    "\n",
    "order_data = spark.read.csv('data/orders.csv', header=True, sep=',', inferSchema=True)\n",
    "\n",
    "order_data.show(4)"
   ]
  },
  {
   "cell_type": "code",
   "execution_count": 34,
   "id": "226ca9cd",
   "metadata": {},
   "outputs": [],
   "source": [
    "# Отключим автоматический Broadcast JOIN\n",
    "import time\n",
    "spark.conf.set(\"spark.sql.autoBroadcastJoinThreshold\", -1)"
   ]
  },
  {
   "cell_type": "code",
   "execution_count": 35,
   "id": "256b2c00",
   "metadata": {},
   "outputs": [
    {
     "name": "stderr",
     "output_type": "stream",
     "text": [
      "                                                                                \r"
     ]
    },
    {
     "name": "stdout",
     "output_type": "stream",
     "text": [
      "Elapsed time for join operation: 0.89 seconds\n",
      "+-----------------+--------------------+--------------------+-------------------+--------------------+--------------------+--------------------+----------+--------------------+--------------------+------+------------+----------+----------+-------+\n",
      "|             name|               email|             address|  registration_date|               phone|             company|                 job| birthdate|             country|                uuid|salary|country_code|min_salary|max_salary|  level|\n",
      "+-----------------+--------------------+--------------------+-------------------+--------------------+--------------------+--------------------+----------+--------------------+--------------------+------+------------+----------+----------+-------+\n",
      "|Jermaine Espinoza|  fbaker@example.org|634 Gonzalez Inle...|2024-05-31 21:00:00| +1-605-744-8478x494|           Baker Ltd| Broadcast presenter|1985-01-12|          Azerbaijan|9c482b2e-b191-446...| 10350|          HT|     10001|     20000|высокая|\n",
      "|    Lauren Thomas|alfredwaters@exam...|26631 Jill Juncti...|2024-03-11 21:00:00|        722.209.9393|   Castillo-Valencia|      Dramatherapist|1965-10-31|            Barbados|ca0d3252-e65c-43a...|  8000|          TF|      5001|     10000|средняя|\n",
      "|  James Gutierrez|carmen78@example.com|01077 Wilson Viad...|2024-09-02 21:00:00|001-458-508-9427x...|Dean, Hall and Si...|Development worke...|1993-10-28|          Kazakhstan|6a625dc7-238f-4cb...| 15900|          GM|     10001|     20000|высокая|\n",
      "|       Kyle Kline|zgonzalez@example...|54247 Phillips Fo...|2024-05-31 21:00:00|001-579-863-8127x...|Nelson, Zhang and...|Print production ...|1964-05-26|   Equatorial Guinea|0f05ddba-d193-416...|  8300|          KM|      5001|     10000|средняя|\n",
      "|     Rhonda Foley|jonathan92@exampl...|1234 Cox Light Su...|2024-08-29 21:00:00|        513-361-0719|        White-Oneill|  Academic librarian|2006-08-07|               Korea|757b9bd8-1aa7-424...|  2300|          LV|         0|      5000| низкая|\n",
      "|      Kyle Watson|ryanbarron@exampl...|518 Adams Junctio...|2024-05-28 21:00:00|   476-776-5078x2432|Solomon, Moore an...|Clothing/textile ...|1998-01-16|              Bhutan|425adba2-c30b-45c...|  7150|          CZ|      5001|     10000|средняя|\n",
      "|    Amy Mcfarland|alvaradoadam@exam...|021 Jordan Wall, ...|2024-05-28 21:00:00|   517-897-7421x9848|      Dawson-Hensley|Commissioning editor|1992-10-15|            Guernsey|92c6c55e-bb76-4f9...|  3000|          BY|         0|      5000| низкая|\n",
      "| Angela Mcpherson|charleserickson@e...|9953 Silva Ville ...|2024-09-02 21:00:00| +1-207-529-2129x002|         King-Bailey|Audiological scie...|1994-05-20|              Canada|ea2d6a30-88e8-435...| 10350|          FO|     10001|     20000|высокая|\n",
      "|      John Sparks|aguirrethomas@exa...|6488 Bernard Mill...|2024-01-09 21:00:00|    447.276.7449x063|    Bonilla-Mccarthy|       Meteorologist|1987-09-21|    Christmas Island|f3d44b10-e23e-4ff...| 13350|          MT|     10001|     20000|высокая|\n",
      "| Madison Chambers|natalie43@example...|74333 Graham Via ...|2024-09-02 21:00:00|  680-540-2534x29453|Burgess, Williams...|Control and instr...|1966-04-09|               Samoa|a777a93d-b214-4c3...|  2000|          HM|         0|      5000| низкая|\n",
      "|        Megan Day| cmalone@example.org|4358 Turner River...|2024-04-03 21:00:00|+1-898-862-7028x5398|Singleton, Hughes...|Television camera...|1985-10-20|           Venezuela|2938384d-1b0b-47d...| 18300|          BR|     10001|     20000|высокая|\n",
      "|      James Gomez|smartinez@example...|3453 Bryan Trail,...|2024-08-29 21:00:00|          6296247845|Bolton, Hall and ...|   Freight forwarder|1983-12-22|Holy See (Vatican...|d280de90-2b71-41d...| 14850|          AS|     10001|     20000|высокая|\n",
      "|  Kenneth Johnson|samantha49@exampl...|USCGC Alvarado, F...|2024-01-09 21:00:00|          8952051792|        Castillo-Day|  Wellsite geologist|1970-05-16|             Germany|ce9a7e18-c84d-4bc...| 11550|          FI|     10001|     20000|высокая|\n",
      "|        Sara Vega|michelechen@examp...|65080 Martinez Fr...|2024-02-22 21:00:00|       (850)284-8908|Sullivan, Stephen...|Customer service ...|1968-10-25|            Suriname|89fe98ae-6f1d-436...| 19100|          MA|     10001|     20000|высокая|\n",
      "|      Alan Martin| zhunter@example.com|41781 Lloyd Ports...|2024-08-29 21:00:00|        297-935-8388|         Jones Group|      Energy manager|1977-05-19|          Montenegro|49ace390-070e-47f...| 14150|          CW|     10001|     20000|высокая|\n",
      "|     Kylie Conner|linamanda@example...|19553 Conner Driv...|2024-08-29 21:00:00|   (205)800-9320x880|Caldwell, Barker ...|Water quality sci...|1995-06-03|       Cote d'Ivoire|48293cde-1164-471...|  9050|          AI|      5001|     10000|средняя|\n",
      "| Felicia Campbell| julia49@example.org|707 Lisa Keys Sui...|2024-03-11 21:00:00|+1-684-904-5939x1626|Simon, Murray and...|Nutritional thera...|1967-06-22|     Kyrgyz Republic|4d6dc773-ae78-4bf...|  4850|          TO|         0|      5000| низкая|\n",
      "|      Kellie Wolf|  tadams@example.com|313 Sloan Plaza, ...|2024-08-29 21:00:00|+1-931-409-4930x0...|   Gonzalez-Cummings|Journalist, broad...|1999-01-28|         Switzerland|3f42df36-a084-413...| 15250|          CO|     10001|     20000|высокая|\n",
      "|      Shawn Garza| kevin03@example.net|2470 Goodman Lodg...|2024-04-03 21:00:00|        279.629.6598|        Williams LLC|   Recycling officer|1989-11-23|             Comoros|06c2762f-053b-4e0...| 15450|          KN|     10001|     20000|высокая|\n",
      "|   Michael Castro|   jmora@example.net|334 Tucker Glen, ...|2024-04-03 21:00:00|          6574114030|      Werner-Navarro|        Retail buyer|1974-06-06|             Iceland|7ee0b48c-cf7f-47c...| 18800|          NE|     10001|     20000|высокая|\n",
      "+-----------------+--------------------+--------------------+-------------------+--------------------+--------------------+--------------------+----------+--------------------+--------------------+------+------------+----------+----------+-------+\n",
      "only showing top 20 rows\n",
      "\n"
     ]
    }
   ],
   "source": [
    "# Замерим выполнение запроса без broadcast join\n",
    "\n",
    "spark.conf.set(\"spark.sql.autoBroadcastJoinThreshold\", -1)\n",
    "\n",
    "start_time = time.time()\n",
    "\n",
    "order_data = order_data.withColumn(\"salary\", F.col(\"salary\").cast(\"long\"))\n",
    "\n",
    "joined = order_data.join(\n",
    "    salary_levels_df,\n",
    "    (order_data.salary >= salary_levels_df.min_salary) & (order_data.salary <= salary_levels_df.max_salary),\n",
    "    how=\"left\"\n",
    ")\n",
    "\n",
    "joined.count()\n",
    "end_time = time.time()\n",
    "print(f\"Elapsed time for join operation: {end_time - start_time:.2f} seconds\")\n",
    "joined.show()"
   ]
  },
  {
   "cell_type": "code",
   "execution_count": 36,
   "id": "d63702a0",
   "metadata": {},
   "outputs": [
    {
     "name": "stderr",
     "output_type": "stream",
     "text": [
      "[Stage 77:>                                                         (0 + 8) / 8]\r"
     ]
    },
    {
     "name": "stdout",
     "output_type": "stream",
     "text": [
      "Elapsed time for broadcast join operation: 2.20 seconds\n"
     ]
    },
    {
     "name": "stderr",
     "output_type": "stream",
     "text": [
      "                                                                                \r"
     ]
    }
   ],
   "source": [
    "# Замерим выполнение запроса c broadcast join\n",
    "\n",
    "spark.conf.set(\"spark.sql.autoBroadcastJoinThreshold\", 1)\n",
    "\n",
    "start_time = time.time()\n",
    "\n",
    "order_data = order_data.withColumn(\"salary\", F.col(\"salary\").cast(\"long\"))\n",
    "\n",
    "joined = order_data.join(\n",
    "    F.broadcast(salary_levels_df),\n",
    "    (order_data.salary >= salary_levels_df.min_salary) & (order_data.salary <= salary_levels_df.max_salary),\n",
    "    how=\"left\"\n",
    ")\n",
    "\n",
    "joined.count()\n",
    "\n",
    "end_time = time.time()\n",
    "\n",
    "print(f\"Elapsed time for broadcast join operation: {end_time - start_time:.2f} seconds\")\n"
   ]
  },
  {
   "cell_type": "markdown",
   "id": "a98b6e54",
   "metadata": {},
   "source": [
    "### Cache | Persist"
   ]
  },
  {
   "cell_type": "code",
   "execution_count": 37,
   "id": "bcc434c7",
   "metadata": {},
   "outputs": [
    {
     "name": "stderr",
     "output_type": "stream",
     "text": [
      "                                                                                \r"
     ]
    },
    {
     "data": {
      "text/plain": [
       "3600000"
      ]
     },
     "execution_count": 37,
     "metadata": {},
     "output_type": "execute_result"
    }
   ],
   "source": [
    "order_data.cache().count()"
   ]
  },
  {
   "cell_type": "code",
   "execution_count": 38,
   "id": "ff9e39b2",
   "metadata": {},
   "outputs": [
    {
     "data": {
      "text/plain": [
       "DataFrame[name: string, email: string, address: string, registration_date: timestamp, phone: string, company: string, job: string, birthdate: string, country: string, uuid: string, salary: bigint, country_code: string]"
      ]
     },
     "execution_count": 38,
     "metadata": {},
     "output_type": "execute_result"
    }
   ],
   "source": [
    "order_data.unpersist()"
   ]
  },
  {
   "cell_type": "code",
   "execution_count": 39,
   "id": "cd82c973",
   "metadata": {},
   "outputs": [
    {
     "name": "stderr",
     "output_type": "stream",
     "text": [
      "                                                                                \r"
     ]
    },
    {
     "data": {
      "text/plain": [
       "3600000"
      ]
     },
     "execution_count": 39,
     "metadata": {},
     "output_type": "execute_result"
    }
   ],
   "source": [
    "from pyspark.storagelevel import StorageLevel\n",
    "\n",
    "order_data.persist(StorageLevel.DISK_ONLY).count()"
   ]
  },
  {
   "cell_type": "markdown",
   "id": "d8c3381c",
   "metadata": {},
   "source": [
    "### Repartition & Coalesce"
   ]
  },
  {
   "cell_type": "code",
   "execution_count": 40,
   "id": "9dc72a4a",
   "metadata": {},
   "outputs": [
    {
     "name": "stdout",
     "output_type": "stream",
     "text": [
      "+---+------+\n",
      "| id|number|\n",
      "+---+------+\n",
      "|  1|   one|\n",
      "|  2|   two|\n",
      "|  3| three|\n",
      "|  4|  four|\n",
      "|  5|  five|\n",
      "|  6|   six|\n",
      "|  7| seven|\n",
      "|  8| eight|\n",
      "|  9|  nine|\n",
      "+---+------+\n",
      "\n"
     ]
    }
   ],
   "source": [
    "data = [(1,'one'), (2,'two'), (3,'three'), (4,'four'),\n",
    "        (5,'five'), (6,'six'), (7, 'seven'), (8, 'eight'),\n",
    "        (9, 'nine')]\n",
    "\n",
    "df = spark.createDataFrame(data, ['id', 'number'])\n",
    "\n",
    "df.show()"
   ]
  },
  {
   "cell_type": "code",
   "execution_count": 41,
   "id": "6a50e4ed",
   "metadata": {},
   "outputs": [
    {
     "data": {
      "text/plain": [
       "[[Row(id=9, number='nine')],\n",
       " [],\n",
       " [],\n",
       " [Row(id=3, number='three'),\n",
       "  Row(id=7, number='seven'),\n",
       "  Row(id=5, number='five'),\n",
       "  Row(id=2, number='two'),\n",
       "  Row(id=1, number='one'),\n",
       "  Row(id=6, number='six'),\n",
       "  Row(id=4, number='four'),\n",
       "  Row(id=8, number='eight')]]"
      ]
     },
     "execution_count": 41,
     "metadata": {},
     "output_type": "execute_result"
    }
   ],
   "source": [
    "# Намеренно перемешаем и поделим на 8 разделов\n",
    "mix = df.repartition(4)\n",
    "mix.rdd.glom().collect()"
   ]
  },
  {
   "cell_type": "code",
   "execution_count": 42,
   "id": "8a8347ab",
   "metadata": {},
   "outputs": [
    {
     "data": {
      "text/plain": [
       "[[Row(id=4, number='four'),\n",
       "  Row(id=9, number='nine'),\n",
       "  Row(id=5, number='five'),\n",
       "  Row(id=6, number='six')],\n",
       " [Row(id=2, number='two'), Row(id=1, number='one')],\n",
       " [Row(id=3, number='three'),\n",
       "  Row(id=7, number='seven'),\n",
       "  Row(id=8, number='eight')]]"
      ]
     },
     "execution_count": 42,
     "metadata": {},
     "output_type": "execute_result"
    }
   ],
   "source": [
    "mix.repartition(3).rdd.glom().collect()"
   ]
  },
  {
   "cell_type": "code",
   "execution_count": 43,
   "id": "d8ff0fc0",
   "metadata": {},
   "outputs": [
    {
     "data": {
      "text/plain": [
       "[[Row(id=9, number='nine')],\n",
       " [],\n",
       " [Row(id=3, number='three'),\n",
       "  Row(id=7, number='seven'),\n",
       "  Row(id=2, number='two'),\n",
       "  Row(id=6, number='six'),\n",
       "  Row(id=4, number='four'),\n",
       "  Row(id=8, number='eight'),\n",
       "  Row(id=1, number='one'),\n",
       "  Row(id=5, number='five')]]"
      ]
     },
     "execution_count": 43,
     "metadata": {},
     "output_type": "execute_result"
    }
   ],
   "source": [
    "mix.coalesce(3).rdd.glom().collect()"
   ]
  },
  {
   "cell_type": "code",
   "execution_count": 44,
   "id": "a4334ab8",
   "metadata": {},
   "outputs": [],
   "source": [
    "# mix.toPandas().head()"
   ]
  },
  {
   "cell_type": "code",
   "execution_count": 45,
   "id": "fc446c6a",
   "metadata": {},
   "outputs": [
    {
     "name": "stderr",
     "output_type": "stream",
     "text": [
      "                                                                                \r"
     ]
    },
    {
     "data": {
      "text/plain": [
       "[Row(name,email,address,registration_date,phone,company,job,birthdate,country,uuid,salary,country_code='Jermaine Espinoza,fbaker@example.org,\"634 Gonzalez Inlet Suite 238, South Trevormouth, VA 19774\",2024-06-01T00:00:00.000+03:00,+1-605-744-8478x494,Baker Ltd,Broadcast presenter,1985-01-12,Azerbaijan,9c482b2e-b191-4462-bee4-b5dda215e792,10350,HT'),\n",
       " Row(name,email,address,registration_date,phone,company,job,birthdate,country,uuid,salary,country_code='Lauren Thomas,alfredwaters@example.com,\"26631 Jill Junction, Sandersborough, GA 60912\",2024-03-12T00:00:00.000+03:00,722.209.9393,Castillo-Valencia,Dramatherapist,1965-10-31,Barbados,ca0d3252-e65c-43aa-b557-8d5efe5f60bb,8000,TF'),\n",
       " Row(name,email,address,registration_date,phone,company,job,birthdate,country,uuid,salary,country_code='James Gutierrez,carmen78@example.com,\"01077 Wilson Viaduct, West Heather, NV 03145\",2024-09-03T00:00:00.000+03:00,001-458-508-9427x3274,\"Dean, Hall and Simmons\",\"Development worker, community\",1993-10-28,Kazakhstan,6a625dc7-238f-4cbc-8368-f3a33ec291c6,15900,GM'),\n",
       " Row(name,email,address,registration_date,phone,company,job,birthdate,country,uuid,salary,country_code='Kyle Kline,zgonzalez@example.net,\"54247 Phillips Forest, Simmonsview, CT 26557\",2024-06-01T00:00:00.000+03:00,001-579-863-8127x73535,\"Nelson, Zhang and Robinson\",Print production planner,1964-05-26,Equatorial Guinea,0f05ddba-d193-416f-a8dd-2be953d8c8a4,8300,KM'),\n",
       " Row(name,email,address,registration_date,phone,company,job,birthdate,country,uuid,salary,country_code='Rhonda Foley,jonathan92@example.org,\"1234 Cox Light Suite 381, Brownfurt, NV 24776\",2024-08-30T00:00:00.000+03:00,513-361-0719,White-Oneill,Academic librarian,2006-08-07,Korea,757b9bd8-1aa7-4241-9710-77d285870a2d,2300,LV'),\n",
       " Row(name,email,address,registration_date,phone,company,job,birthdate,country,uuid,salary,country_code='Kyle Watson,ryanbarron@example.net,\"518 Adams Junction, Lake Dawn, GU 67031\",2024-05-29T00:00:00.000+03:00,476-776-5078x2432,\"Solomon, Moore and White\",Clothing/textile technologist,1998-01-16,Bhutan,425adba2-c30b-45cf-b18d-a37414425fb2,7150,CZ'),\n",
       " Row(name,email,address,registration_date,phone,company,job,birthdate,country,uuid,salary,country_code='Amy Mcfarland,alvaradoadam@example.org,\"021 Jordan Wall, North Cynthia, LA 89021\",2024-05-29T00:00:00.000+03:00,517-897-7421x9848,Dawson-Hensley,Commissioning editor,1992-10-15,Guernsey,92c6c55e-bb76-4f96-926e-7676db392ae6,3000,BY'),\n",
       " Row(name,email,address,registration_date,phone,company,job,birthdate,country,uuid,salary,country_code='Angela Mcpherson,charleserickson@example.net,\"9953 Silva Ville Apt. 591, Williamsville, WA 02562\",2024-09-03T00:00:00.000+03:00,+1-207-529-2129x002,King-Bailey,Audiological scientist,1994-05-20,Canada,ea2d6a30-88e8-4356-802a-f339f71f9b79,10350,FO'),\n",
       " Row(name,email,address,registration_date,phone,company,job,birthdate,country,uuid,salary,country_code='John Sparks,aguirrethomas@example.org,\"6488 Bernard Mill Suite 158, West Kristen, FM 62114\",2024-01-10T00:00:00.000+03:00,447.276.7449x063,Bonilla-Mccarthy,Meteorologist,1987-09-21,Christmas Island,f3d44b10-e23e-4ff9-84f0-82d1dbbfee15,13350,MT'),\n",
       " Row(name,email,address,registration_date,phone,company,job,birthdate,country,uuid,salary,country_code='Madison Chambers,natalie43@example.com,\"74333 Graham Via Suite 553, Jacquelinebury, NH 67031\",2024-09-03T00:00:00.000+03:00,680-540-2534x29453,\"Burgess, Williams and Cooley\",Control and instrumentation engineer,1966-04-09,Samoa,a777a93d-b214-4c3a-84b6-5269f7e683e4,2000,HM'),\n",
       " Row(name,email,address,registration_date,phone,company,job,birthdate,country,uuid,salary,country_code='Megan Day,cmalone@example.org,\"4358 Turner River, Michaelberg, KS 23240\",2024-04-04T00:00:00.000+03:00,+1-898-862-7028x5398,\"Singleton, Hughes and Zamora\",Television camera operator,1985-10-20,Venezuela,2938384d-1b0b-47d7-b822-4d95c64c00b1,18300,BR'),\n",
       " Row(name,email,address,registration_date,phone,company,job,birthdate,country,uuid,salary,country_code='James Gomez,smartinez@example.net,\"3453 Bryan Trail, Lake Jason, WY 40677\",2024-08-30T00:00:00.000+03:00,6296247845,\"Bolton, Hall and Smith\",Freight forwarder,1983-12-22,Holy See (Vatican City State),d280de90-2b71-41d4-b0f7-087dce80d40c,14850,AS'),\n",
       " Row(name,email,address,registration_date,phone,company,job,birthdate,country,uuid,salary,country_code='Kenneth Johnson,samantha49@example.net,\"USCGC Alvarado, FPO AA 31839\",2024-01-10T00:00:00.000+03:00,8952051792,Castillo-Day,Wellsite geologist,1970-05-16,Germany,ce9a7e18-c84d-4bcc-8964-7f23f98155b5,11550,FI'),\n",
       " Row(name,email,address,registration_date,phone,company,job,birthdate,country,uuid,salary,country_code='Sara Vega,michelechen@example.org,\"65080 Martinez Freeway Suite 346, Brittanyside, UT 67235\",2024-02-23T00:00:00.000+03:00,(850)284-8908,\"Sullivan, Stephens and Maynard\",Customer service manager,1968-10-25,Suriname,89fe98ae-6f1d-4366-857e-b78c49eb0ff0,19100,MA'),\n",
       " Row(name,email,address,registration_date,phone,company,job,birthdate,country,uuid,salary,country_code='Alan Martin,zhunter@example.com,\"41781 Lloyd Ports Apt. 453, Leehaven, SD 79891\",2024-08-30T00:00:00.000+03:00,297-935-8388,Jones Group,Energy manager,1977-05-19,Montenegro,49ace390-070e-47f1-a146-ce539dce198d,14150,CW'),\n",
       " Row(name,email,address,registration_date,phone,company,job,birthdate,country,uuid,salary,country_code='Kylie Conner,linamanda@example.org,\"19553 Conner Drives, Wrightmouth, PR 63754\",2024-08-30T00:00:00.000+03:00,(205)800-9320x880,\"Caldwell, Barker and Collins\",Water quality scientist,1995-06-03,Cote d\\'Ivoire,48293cde-1164-471c-8faf-ed9eb157ed0e,9050,AI'),\n",
       " Row(name,email,address,registration_date,phone,company,job,birthdate,country,uuid,salary,country_code='Felicia Campbell,julia49@example.org,\"707 Lisa Keys Suite 683, Johnton, DE 88910\",2024-03-12T00:00:00.000+03:00,+1-684-904-5939x1626,\"Simon, Murray and Martinez\",Nutritional therapist,1967-06-22,Kyrgyz Republic,4d6dc773-ae78-4bf0-900e-bacd517d8f49,4850,TO'),\n",
       " Row(name,email,address,registration_date,phone,company,job,birthdate,country,uuid,salary,country_code='Kellie Wolf,tadams@example.com,\"313 Sloan Plaza, Pamelaton, UT 76482\",2024-08-30T00:00:00.000+03:00,+1-931-409-4930x02398,Gonzalez-Cummings,\"Journalist, broadcasting\",1999-01-28,Switzerland,3f42df36-a084-4134-8a9b-e924ec599b31,15250,CO'),\n",
       " Row(name,email,address,registration_date,phone,company,job,birthdate,country,uuid,salary,country_code='Shawn Garza,kevin03@example.net,\"2470 Goodman Lodge Apt. 830, Jeffreyberg, NM 90144\",2024-04-04T00:00:00.000+03:00,279.629.6598,Williams LLC,Recycling officer,1989-11-23,Comoros,06c2762f-053b-4e01-80a5-450f3f0513fb,15450,KN'),\n",
       " Row(name,email,address,registration_date,phone,company,job,birthdate,country,uuid,salary,country_code='Michael Castro,jmora@example.net,\"334 Tucker Glen, South Tracy, ME 52635\",2024-04-04T00:00:00.000+03:00,6574114030,Werner-Navarro,Retail buyer,1974-06-06,Iceland,7ee0b48c-cf7f-47c7-8c39-7db311c1ef29,18800,NE'),\n",
       " Row(name,email,address,registration_date,phone,company,job,birthdate,country,uuid,salary,country_code='Anthony Hernandez,kristi96@example.com,\"PSC 2269, Box 1040, APO AE 50920\",2024-02-23T00:00:00.000+03:00,(331)906-2027x035,\"Estrada, Michael and Powell\",Commissioning editor,1994-11-04,Montenegro,a01178de-6a34-48f8-a524-bf9e19d9e40a,19050,MO'),\n",
       " Row(name,email,address,registration_date,phone,company,job,birthdate,country,uuid,salary,country_code='Keith Todd,elizabeth69@example.com,\"PSC 7574, Box 3532, APO AP 73531\",2024-02-23T00:00:00.000+03:00,377.557.8862,\"Johnson, Hudson and Hale\",Trade mark attorney,1997-07-09,Namibia,1831e9ff-e0f9-4087-bd0a-e7c4f55a1ec3,13450,KM'),\n",
       " Row(name,email,address,registration_date,phone,company,job,birthdate,country,uuid,salary,country_code='Austin Hines,kelsey97@example.org,\"383 Stephanie Crescent, Lake Denisehaven, ID 62290\",2024-09-03T00:00:00.000+03:00,(653)817-3811,\"Compton, Doyle and Bailey\",Sales promotion account executive,1992-07-19,Tuvalu,18443ee3-6f10-4f8b-8c26-dd2baad86968,13700,KI'),\n",
       " Row(name,email,address,registration_date,phone,company,job,birthdate,country,uuid,salary,country_code='Kelly Mills,melindaelliott@example.net,\"6935 Richard Glen, New Jill, AL 68740\",2024-09-03T00:00:00.000+03:00,887.870.2343x1272,\"Watson, Mendoza and Watkins\",\"Editor, commissioning\",1986-06-03,Saint Pierre and Miquelon,3b10832e-d99a-48f4-867d-22ce251b03a7,9200,CX'),\n",
       " Row(name,email,address,registration_date,phone,company,job,birthdate,country,uuid,salary,country_code='Jaclyn Poole,nathanblack@example.org,\"40358 Melissa Field Apt. 926, North Jaredmouth, PR 31660\",2024-02-23T00:00:00.000+03:00,+1-614-968-4601x9017,Chen PLC,\"Engineer, mining\",1967-07-08,Afghanistan,9527bb9a-cc03-4705-8b3b-9851101b05d4,14650,NO'),\n",
       " Row(name,email,address,registration_date,phone,company,job,birthdate,country,uuid,salary,country_code='Donna Chen,wayne40@example.net,\"4105 Lawrence Park, Crosstown, GA 18881\",2024-01-10T00:00:00.000+03:00,584.959.9553,Lopez Group,Ecologist,2006-08-02,Wallis and Futuna,bcf4bbb5-6cea-43a6-bb73-02aa102c539f,16000,BS'),\n",
       " Row(name,email,address,registration_date,phone,company,job,birthdate,country,uuid,salary,country_code='Sara Parker,imoreno@example.net,\"516 Campbell Isle, Vasquezview, IN 31109\",2024-09-03T00:00:00.000+03:00,882.621.8093x1614,Price-English,Careers adviser,1976-06-06,Algeria,be05268f-a323-4943-bd0c-4bfd291629ea,11950,IL'),\n",
       " Row(name,email,address,registration_date,phone,company,job,birthdate,country,uuid,salary,country_code='Jonathan Johnson,matthewcook@example.org,\"39333 Olson Fields, Moonville, PR 75236\",2024-01-10T00:00:00.000+03:00,505.874.2285x150,Cook-Gutierrez,\"Engineer, technical sales\",1963-10-02,Bahrain,427d7fc7-5994-4072-8b99-00a63ae38f34,11950,SL'),\n",
       " Row(name,email,address,registration_date,phone,company,job,birthdate,country,uuid,salary,country_code='Johnny Green,andrew21@example.com,\"876 Webb Islands, Tracyfort, WV 78818\",2024-08-30T00:00:00.000+03:00,+1-295-835-9133x269,\"Bowman, Wagner and Stone\",Counsellor,1991-12-22,Faroe Islands,2b0c7d6f-bf2a-423f-a887-31548881d849,17950,SH'),\n",
       " Row(name,email,address,registration_date,phone,company,job,birthdate,country,uuid,salary,country_code='Alex Barry,aguerrero@example.com,\"40833 Mark Plains Apt. 341, Garretttown, RI 60907\",2024-06-01T00:00:00.000+03:00,+1-301-931-1038x7389,Wilson PLC,Radio producer,1989-08-14,Marshall Islands,0063eb2a-e659-4c56-ad31-db09c9582185,17150,CR'),\n",
       " Row(name,email,address,registration_date,phone,company,job,birthdate,country,uuid,salary,country_code='Sylvia Walker,ymorrow@example.net,\"735 Jenkins Inlet Suite 008, Kimberlybury, MH 16996\",2024-05-29T00:00:00.000+03:00,8937969754,Shaw-Holland,Banker,1996-10-08,Sri Lanka,7d863983-4fde-452f-8cd9-fe202789d48e,2350,UA'),\n",
       " Row(name,email,address,registration_date,phone,company,job,birthdate,country,uuid,salary,country_code='Jaclyn Ellis,jessica02@example.net,\"3226 Figueroa Harbor Suite 486, Wilsonton, VT 48692\",2024-01-10T00:00:00.000+03:00,001-609-783-6666x39887,Owen Inc,\"Administrator, Civil Service\",1993-11-07,Marshall Islands,23fe24a2-af6a-4e16-ad0f-59ad45f12f40,5800,BR'),\n",
       " Row(name,email,address,registration_date,phone,company,job,birthdate,country,uuid,salary,country_code='Mary Williams,fwilson@example.com,\"528 Jamie Junctions, Davidtown, DE 82885\",2024-03-12T00:00:00.000+03:00,001-224-817-6458x73927,\"Cruz, Fowler and Holmes\",\"Engineer, energy\",1993-10-25,Guyana,d69a9338-7f4f-42c3-80b7-cdd0b5a5658e,3200,IO'),\n",
       " Row(name,email,address,registration_date,phone,company,job,birthdate,country,uuid,salary,country_code='Eric Jones,nharris@example.org,\"24168 Tonya Mountains Suite 398, West Wendy, OK 85412\",2024-08-30T00:00:00.000+03:00,001-319-872-2374x272,Mendez and Sons,Corporate investment banker,1987-11-01,Croatia,9ea7d8ee-117a-4c04-9e28-273c3edcd463,13200,RO'),\n",
       " Row(name,email,address,registration_date,phone,company,job,birthdate,country,uuid,salary,country_code='Brian Maxwell,drewhoward@example.org,\"08102 Brown Summit, South Lisa, MA 30905\",2024-04-04T00:00:00.000+03:00,(978)818-4302x350,Martin Group,Facilities manager,1967-10-24,Equatorial Guinea,84a03537-0bfa-4694-af0b-240bf6906189,8300,VI'),\n",
       " Row(name,email,address,registration_date,phone,company,job,birthdate,country,uuid,salary,country_code='David Baker,uruiz@example.com,\"3105 Walker Parkways, New Joseph, CA 39880\",2024-05-29T00:00:00.000+03:00,885.662.5190x1058,\"Adams, Garcia and Davis\",Best boy,1973-12-08,Antarctica (the territory South of 60 deg S),5c3f0be6-327a-4037-95d8-183d282d5ad8,3550,SO'),\n",
       " Row(name,email,address,registration_date,phone,company,job,birthdate,country,uuid,salary,country_code='Carlos Davis,ukidd@example.org,\"63936 Teresa Drive, South Jessechester, IL 86814\",2024-06-01T00:00:00.000+03:00,+1-933-438-9077x2985,Cole-Chapman,Airline pilot,1991-09-30,Marshall Islands,65df4a0f-bca5-4dcd-8f2f-689312625a33,4600,KE'),\n",
       " Row(name,email,address,registration_date,phone,company,job,birthdate,country,uuid,salary,country_code='Kyle Garcia,tasha27@example.org,\"6957 Jill Ports, North George, SC 14835\",2024-01-10T00:00:00.000+03:00,9112158740,\"Nunez, Benjamin and Barnes\",Haematologist,1996-09-21,Japan,d65f5eaa-9e59-4905-ae42-27cc3d93f5b0,3300,BM'),\n",
       " Row(name,email,address,registration_date,phone,company,job,birthdate,country,uuid,salary,country_code='Amanda Martinez,normanboyd@example.com,\"007 Paula Circle, Sylviaport, MS 12206\",2024-08-30T00:00:00.000+03:00,(859)877-3299x750,Smith Inc,Chartered loss adjuster,1997-07-25,Cyprus,b58362c9-7cec-453f-9e99-6741918bebba,19300,VU'),\n",
       " Row(name,email,address,registration_date,phone,company,job,birthdate,country,uuid,salary,country_code='Sarah Garcia,ugomez@example.com,\"USNS Garrett, FPO AE 72127\",2024-09-03T00:00:00.000+03:00,341-618-4432x6111,\"Mccoy, Small and Hill\",\"Engineer, site\",1994-06-24,Algeria,d3da1e77-7d79-4ec7-9fb8-5bbca93bb233,18700,KN'),\n",
       " Row(name,email,address,registration_date,phone,company,job,birthdate,country,uuid,salary,country_code='Matthew Jensen,garciajohn@example.org,\"59812 Jane Club Apt. 860, Michealbury, AZ 22199\",2024-02-23T00:00:00.000+03:00,001-762-560-7112x7719,\"Williams, Kaufman and Castillo\",\"Accountant, chartered\",1983-04-28,Andorra,913c07ec-ddeb-4dc1-aa90-1726f1d6fdea,6750,MH'),\n",
       " Row(name,email,address,registration_date,phone,company,job,birthdate,country,uuid,salary,country_code='Christopher Juarez,william74@example.net,\"83841 Robert Oval, Shaffershire, NC 00796\",2024-04-04T00:00:00.000+03:00,+1-921-324-7874x148,\"Mckinney, Mason and Smith\",Secretary/administrator,1981-12-05,Azerbaijan,3e86f837-cc33-42c6-ac97-e18c1b6fa6ae,3100,MG'),\n",
       " Row(name,email,address,registration_date,phone,company,job,birthdate,country,uuid,salary,country_code='Pamela Smith,brandonestrada@example.net,\"65020 Latoya Plains, Brianfurt, NV 96656\",2024-09-03T00:00:00.000+03:00,+1-630-471-9349x5676,Whitehead Ltd,Lawyer,2005-12-19,Congo,827f4033-3752-41e4-8879-a53aa680e5d0,16850,IO'),\n",
       " Row(name,email,address,registration_date,phone,company,job,birthdate,country,uuid,salary,country_code='Jessica Miller,jason46@example.org,\"85563 Garrison Isle Apt. 485, Brianborough, ND 85989\",2024-02-23T00:00:00.000+03:00,447-271-5300,\"Hill, Patterson and Marsh\",Research scientist (medical),2004-11-21,Seychelles,34d29932-febe-41e7-a817-b2686d5e7650,10750,SD'),\n",
       " Row(name,email,address,registration_date,phone,company,job,birthdate,country,uuid,salary,country_code='Ryan Good,zharrison@example.com,\"2609 Miller Corner, East Crystal, MO 64771\",2024-09-03T00:00:00.000+03:00,(400)220-5485x21189,\"Huerta, Torres and Moore\",Veterinary surgeon,1994-11-26,San Marino,202c3a41-32f7-4216-90fd-f64cdc756ae1,13200,CO'),\n",
       " Row(name,email,address,registration_date,phone,company,job,birthdate,country,uuid,salary,country_code='Susan Ellis,carrillochristopher@example.com,\"328 Mullins Shoals, Cynthiafort, NM 65174\",2024-01-10T00:00:00.000+03:00,860.881.6542,\"Glover, Vaughn and Austin\",Proofreader,1982-08-16,Angola,4ab0e69b-a0ce-4845-96a2-4323c43900c1,6200,IT'),\n",
       " Row(name,email,address,registration_date,phone,company,job,birthdate,country,uuid,salary,country_code='Cody Finley,william45@example.com,\"638 Cory Avenue Apt. 660, East Megan, HI 36786\",2024-08-30T00:00:00.000+03:00,001-747-382-6825,\"Marks, White and Klein\",\"Surveyor, minerals\",1985-04-10,Burkina Faso,55818295-383a-4a0a-b885-ea1e7ca8a5b1,10950,DM'),\n",
       " Row(name,email,address,registration_date,phone,company,job,birthdate,country,uuid,salary,country_code='Kelly Marsh,lindseyjohnston@example.org,\"55322 John Underpass Apt. 004, Birdburgh, PW 22422\",2024-01-10T00:00:00.000+03:00,(758)319-2244x0591,Hughes-Delgado,Oncologist,1998-08-29,Venezuela,b2fb457a-9303-4428-8a9b-d82f9c7cf503,8000,AO'),\n",
       " Row(name,email,address,registration_date,phone,company,job,birthdate,country,uuid,salary,country_code='Dr. Cynthia Palmer,zharrison@example.org,\"9880 Morgan Ferry, Avilashire, CT 66856\",2024-02-23T00:00:00.000+03:00,865-229-9341x3464,Norris Inc,Soil scientist,1981-11-05,Thailand,0b67be06-548b-41b6-9d7d-94bce94d4924,18350,BA'),\n",
       " Row(name,email,address,registration_date,phone,company,job,birthdate,country,uuid,salary,country_code='Dana Bailey,elizabeth09@example.com,\"Unit 5654 Box 0065, DPO AP 11274\",2024-02-23T00:00:00.000+03:00,655-385-5042x40818,Lopez-Smith,\"Administrator, Civil Service\",1965-11-03,Belgium,1b7c25e1-81cc-45cc-8f1a-d71d276a5ce3,10850,VG'),\n",
       " Row(name,email,address,registration_date,phone,company,job,birthdate,country,uuid,salary,country_code='Michael Sanchez,matthewschristopher@example.net,\"509 Billy Common Apt. 587, Stuartland, VT 87346\",2024-06-01T00:00:00.000+03:00,666.378.7648x8054,\"Gibbs, Mclean and Poole\",\"Scientist, product/process development\",1984-03-02,South Georgia and the South Sandwich Islands,31187ac1-ad50-4322-86bb-aa9aea54ca1e,10400,CH'),\n",
       " Row(name,email,address,registration_date,phone,company,job,birthdate,country,uuid,salary,country_code='William Edwards,joelvance@example.org,\"3152 Natasha Passage Apt. 543, West Stacey, HI 58291\",2024-05-29T00:00:00.000+03:00,(318)794-4479,\"Garcia, Hall and Martinez\",Barrister\\'s clerk,1983-05-26,Macao,7616b75a-cac5-4f13-bd4b-362594149260,13550,PA'),\n",
       " Row(name,email,address,registration_date,phone,company,job,birthdate,country,uuid,salary,country_code='Brandon Vazquez,sarahhooper@example.net,\"1320 Harrell Extension, Jamesmouth, UT 54433\",2024-01-10T00:00:00.000+03:00,961.692.5997x440,\"Nelson, Whitaker and Flores\",Social worker,2007-04-10,Tajikistan,ab5b1f4c-92aa-481b-85af-aaf46eb0e635,6100,VI'),\n",
       " Row(name,email,address,registration_date,phone,company,job,birthdate,country,uuid,salary,country_code='Ricky Sandoval,oliviashort@example.com,\"54306 Rick Burgs, New Debrastad, AS 81127\",2024-09-03T00:00:00.000+03:00,(251)944-5391,Davis LLC,\"Scientist, research (life sciences)\",1993-10-15,Marshall Islands,84a3a4c0-392a-4774-87d4-396279851a1d,16550,GP'),\n",
       " Row(name,email,address,registration_date,phone,company,job,birthdate,country,uuid,salary,country_code='Levi Mckinney,timothywalker@example.net,\"785 Cruz Gateway Apt. 105, Richardville, ND 66491\",2024-04-04T00:00:00.000+03:00,5772056484,\"Acosta, Turner and Carlson\",Barista,1970-07-27,Algeria,ddd8016c-1873-45f9-9f8e-20cf22d334d1,18750,PW'),\n",
       " Row(name,email,address,registration_date,phone,company,job,birthdate,country,uuid,salary,country_code='Joseph Hancock,yolandawilson@example.net,\"6944 Jason Squares, Sarahland, UT 69520\",2024-05-29T00:00:00.000+03:00,(540)341-3911,\"Lane, Lee and White\",\"Scientist, physiological\",1963-04-13,United States of America,b17f5e06-023b-42c0-bf1f-355e61585f21,5350,FJ'),\n",
       " Row(name,email,address,registration_date,phone,company,job,birthdate,country,uuid,salary,country_code='Blake Huerta,tayloralan@example.com,\"1251 Kristie Club Suite 156, Port Sonya, NY 56676\",2024-09-03T00:00:00.000+03:00,709-694-0002,Diaz Inc,\"Producer, radio\",1989-09-01,Canada,ac66eb1e-ad5e-42f8-9d50-ce3ebfd65e3b,8600,ZA'),\n",
       " Row(name,email,address,registration_date,phone,company,job,birthdate,country,uuid,salary,country_code='Joseph Garcia,jharris@example.com,\"887 Monica Glen Suite 597, East Andrea, MP 96874\",2024-04-04T00:00:00.000+03:00,+1-710-354-9159x3200,\"Hernandez, Perez and Wells\",Nutritional therapist,1978-07-01,Niger,8b935a13-8b18-4dd5-a7ad-165eb641aae8,9700,HT'),\n",
       " Row(name,email,address,registration_date,phone,company,job,birthdate,country,uuid,salary,country_code='Sarah Robinson DDS,bsimon@example.net,\"841 Miranda Ramp, East Michaelland, IN 02737\",2024-06-01T00:00:00.000+03:00,001-950-310-4120x92235,Lopez Group,Claims inspector/assessor,1999-12-18,Yemen,bb3533c1-b26c-4a18-a310-ac84e298d86c,13850,JE'),\n",
       " Row(name,email,address,registration_date,phone,company,job,birthdate,country,uuid,salary,country_code='Marissa Guzman,janetcarpenter@example.org,\"707 Thomas Curve, Lake Aaron, ME 60521\",2024-04-04T00:00:00.000+03:00,865.674.2289x4598,Taylor-Turner,Materials engineer,1965-02-03,Saint Vincent and the Grenadines,96dc4061-906e-4da3-8b96-5005f29c1b56,16450,ZW'),\n",
       " Row(name,email,address,registration_date,phone,company,job,birthdate,country,uuid,salary,country_code='Pamela Potts,hhull@example.org,\"73294 Steven Cape Suite 934, Woodwardstad, MA 81897\",2024-05-29T00:00:00.000+03:00,572-915-5411x899,Rowe-Gardner,\"Therapist, horticultural\",1985-01-05,Jersey,5f4a43d9-3d7e-476f-8474-bb4839f7e753,5100,MU'),\n",
       " Row(name,email,address,registration_date,phone,company,job,birthdate,country,uuid,salary,country_code='Edward Collier,xdavis@example.org,\"PSC 3762, Box 8436, APO AA 31021\",2024-01-10T00:00:00.000+03:00,635-363-0244,Roach-Williams,\"Lighting technician, broadcasting/film/video\",1982-07-03,Albania,9ebd1910-515f-41b9-9f52-7618afb6378b,2900,IL'),\n",
       " Row(name,email,address,registration_date,phone,company,job,birthdate,country,uuid,salary,country_code='Bradley Gonzalez,aramirez@example.net,\"1705 Ashley Springs Apt. 015, Jennifermouth, MH 43446\",2024-01-10T00:00:00.000+03:00,914-348-6282x8939,\"Crawford, Miller and Kent\",Solicitor,1975-02-26,Libyan Arab Jamahiriya,19656c89-2e18-4bae-bdc2-3a68600582ab,12200,MH'),\n",
       " Row(name,email,address,registration_date,phone,company,job,birthdate,country,uuid,salary,country_code='Elizabeth Gomez,aaguilar@example.com,\"5019 Michelle Stream, Reidshire, WV 93823\",2024-09-03T00:00:00.000+03:00,970-780-1523x061,Anderson-Jones,Fisheries officer,1964-12-09,Mongolia,5ffeaf9e-19a0-4282-b5ba-69fc5eba9cd2,4650,ES'),\n",
       " Row(name,email,address,registration_date,phone,company,job,birthdate,country,uuid,salary,country_code='Jennifer Huang,hillchristina@example.org,\"4824 Kaitlyn Plains, Caseystad, OK 27450\",2024-06-01T00:00:00.000+03:00,452-682-7912x632,\"Hobbs, Peterson and Ayala\",Ecologist,1993-12-01,Argentina,82f8535e-d7bc-47c1-b8f2-f37abbcca82a,16650,ME'),\n",
       " Row(name,email,address,registration_date,phone,company,job,birthdate,country,uuid,salary,country_code='Samantha Franklin,efisher@example.com,\"24234 Patricia Creek, Port Lauren, FM 40807\",2024-05-29T00:00:00.000+03:00,(466)308-9687,Ortega Group,\"Radiographer, therapeutic\",1960-09-05,North Macedonia,0cf666f5-6dbf-4a5c-89da-8a8131eb918c,6900,SV'),\n",
       " Row(name,email,address,registration_date,phone,company,job,birthdate,country,uuid,salary,country_code='Anthony Cummings,kaitlyn03@example.com,\"0479 Brenda Parks, Olsonbury, DC 29958\",2024-02-23T00:00:00.000+03:00,256-842-7454x64899,\"Baker, Bishop and Fisher\",Sales executive,2002-05-29,Namibia,24caf4fa-84e7-4feb-8ec2-9b727c9eb64b,10650,LB'),\n",
       " Row(name,email,address,registration_date,phone,company,job,birthdate,country,uuid,salary,country_code='Cynthia Herring,jack99@example.org,\"380 Jackie Underpass, Jeffreyside, CA 68310\",2024-02-23T00:00:00.000+03:00,001-947-448-3506,Page-Garza,Psychiatrist,1983-02-04,Australia,59ae7d61-84da-4d62-b26b-1d2a8ae87e9d,15450,SV'),\n",
       " Row(name,email,address,registration_date,phone,company,job,birthdate,country,uuid,salary,country_code='Samuel Taylor,jonathannunez@example.org,\"893 Davis Point, Branchchester, PR 60171\",2024-02-23T00:00:00.000+03:00,001-476-312-4115x79483,Flores-Webb,Operational investment banker,1966-01-29,Bouvet Island (Bouvetoya),e139f371-826a-4f40-9a3a-3f04bf2e9859,13750,YT'),\n",
       " Row(name,email,address,registration_date,phone,company,job,birthdate,country,uuid,salary,country_code='Sharon Taylor,lrice@example.net,\"80794 Sarah Locks Suite 456, Port William, MI 18345\",2024-01-10T00:00:00.000+03:00,984.584.6062x343,Douglas LLC,Statistician,2001-12-31,Portugal,c7642557-45a3-410d-9999-f3a5a08dd987,17300,SG'),\n",
       " Row(name,email,address,registration_date,phone,company,job,birthdate,country,uuid,salary,country_code='Jordan Rodriguez,staceyolsen@example.com,\"723 Andrew Light, New Kim, FM 68784\",2024-02-23T00:00:00.000+03:00,(241)795-1623x24092,Novak-Bradley,Statistician,1993-06-07,Marshall Islands,5cfd2182-a094-4647-a897-7cb27c4ce8ad,12600,KI'),\n",
       " Row(name,email,address,registration_date,phone,company,job,birthdate,country,uuid,salary,country_code='Patrick Lawson,tanderson@example.org,\"9169 Perry Gardens, Lake Jamie, AL 09673\",2024-02-23T00:00:00.000+03:00,227-500-9244x4937,\"Harrison, Romero and Hayden\",Meteorologist,1977-05-01,Slovakia (Slovak Republic),7f29e383-8975-4a70-b7c4-df84e10b47e8,8050,KE'),\n",
       " Row(name,email,address,registration_date,phone,company,job,birthdate,country,uuid,salary,country_code='Lynn Rice,poncebradley@example.org,\"913 Mcintyre Manors Suite 555, East Michael, SC 48731\",2024-04-04T00:00:00.000+03:00,001-758-894-8517x6466,Martinez-Rodriguez,Translator,2006-09-20,Equatorial Guinea,abf1400f-51b9-4277-b3c6-566daad22630,11200,AG'),\n",
       " Row(name,email,address,registration_date,phone,company,job,birthdate,country,uuid,salary,country_code='Wendy Nelson MD,qwise@example.com,\"9830 Diaz Plaza, Browntown, AK 72054\",2024-05-29T00:00:00.000+03:00,319-294-1362x726,Jones-Mclean,Chief Marketing Officer,1989-01-25,Sao Tome and Principe,ff33c58a-f318-4423-8c9c-9e59379444c2,8100,VE'),\n",
       " Row(name,email,address,registration_date,phone,company,job,birthdate,country,uuid,salary,country_code='Austin Thomas,pearsonjesse@example.net,\"PSC 2823, Box 0396, APO AP 74536\",2024-02-23T00:00:00.000+03:00,330.381.0817x1642,Hill Group,Arts administrator,1988-12-12,Central African Republic,527801e4-72ba-4ac7-9f20-9dc69f2c935e,8900,PY'),\n",
       " Row(name,email,address,registration_date,phone,company,job,birthdate,country,uuid,salary,country_code='Kelly Mcintosh,jeanboyd@example.com,\"26393 Brandon Village Suite 479, South Michael, NE 89705\",2024-02-23T00:00:00.000+03:00,+1-345-297-1052x66643,Foster-Stevens,Legal secretary,1992-03-05,Comoros,23761cbc-fca9-4266-8637-b9e71b92c282,4800,WF'),\n",
       " Row(name,email,address,registration_date,phone,company,job,birthdate,country,uuid,salary,country_code='Mr. Jeremy Newman,tiffanynguyen@example.com,\"26203 Emily Stream Suite 043, Melanieport, WA 81156\",2024-02-23T00:00:00.000+03:00,228-408-4454x8237,Campbell-Robertson,\"Chemist, analytical\",1976-10-05,Pitcairn Islands,6747e3f6-a915-46ca-95bd-a33dfefdf9bb,8100,DK'),\n",
       " Row(name,email,address,registration_date,phone,company,job,birthdate,country,uuid,salary,country_code='Timothy Mccoy,doughertydonna@example.org,\"970 Charles Lodge, Robertborough, MS 67111\",2024-09-03T00:00:00.000+03:00,431.284.0107,\"Nguyen, Murphy and Gray\",\"Engineer, chemical\",1981-02-06,Namibia,83818a85-85a6-4855-aa9e-b7986eeee1c2,10200,MW'),\n",
       " Row(name,email,address,registration_date,phone,company,job,birthdate,country,uuid,salary,country_code='John Farley,erin80@example.org,\"643 Monique Plains Suite 075, Josephland, MP 39661\",2024-05-29T00:00:00.000+03:00,001-508-336-8147x80940,White LLC,Architectural technologist,1970-11-21,Argentina,6ff47415-05e6-4b7a-9d1a-a83732f926bb,18650,IS'),\n",
       " Row(name,email,address,registration_date,phone,company,job,birthdate,country,uuid,salary,country_code='Christian Avila,philip74@example.net,\"282 Hartman Parkways, Port Abigailside, VT 67842\",2024-03-12T00:00:00.000+03:00,001-295-756-7224x42975,\"Bray, Melendez and Morgan\",Geoscientist,1990-05-05,Cyprus,79283338-e4f9-4331-ad60-b338fae72cb0,10050,OM'),\n",
       " Row(name,email,address,registration_date,phone,company,job,birthdate,country,uuid,salary,country_code='Jose Martinez,micheledoyle@example.net,\"45010 Kyle Vista Apt. 559, New Carlosview, OH 09047\",2024-08-30T00:00:00.000+03:00,(798)388-4741,Thompson Ltd,\"Lecturer, higher education\",1981-06-04,Cyprus,7e7d226c-c70f-4d62-bffc-b988210025e5,17900,MG'),\n",
       " Row(name,email,address,registration_date,phone,company,job,birthdate,country,uuid,salary,country_code='Dale Obrien,sara97@example.org,\"Unit 4074 Box 8906, DPO AP 45031\",2024-03-12T00:00:00.000+03:00,+1-895-572-3305x494,Ballard PLC,\"Therapist, horticultural\",1974-05-18,Qatar,1e749b76-c177-401e-a847-7d81a9cbc0e8,17550,ET'),\n",
       " Row(name,email,address,registration_date,phone,company,job,birthdate,country,uuid,salary,country_code='Erin Mcfarland,wintersrobert@example.com,\"823 Taylor Parks Suite 278, North Ryan, MT 32540\",2024-09-03T00:00:00.000+03:00,584.880.0495x3946,Rodriguez and Sons,Sales promotion account executive,1961-04-12,Guam,c2c23b2e-4c5e-4035-9b1c-b849274b3609,13500,BL'),\n",
       " Row(name,email,address,registration_date,phone,company,job,birthdate,country,uuid,salary,country_code='James Tyler,johnsonlarry@example.com,\"0646 Burns Trace, East Heather, TN 99230\",2024-04-04T00:00:00.000+03:00,(884)878-6976x9578,Smith Ltd,Civil Service fast streamer,1967-01-02,Tokelau,46575f2c-e1df-4f08-adf0-3837830c0ae2,15900,ES'),\n",
       " Row(name,email,address,registration_date,phone,company,job,birthdate,country,uuid,salary,country_code='Franklin Pennington,daniellemendoza@example.com,\"616 Angela Ridges Suite 047, Barajasfurt, OK 31695\",2024-03-12T00:00:00.000+03:00,744-862-1878,Holmes Group,Research scientist (physical sciences),1977-08-02,Bhutan,e0f52065-c679-415b-91f1-2c40ae77e656,11300,CA'),\n",
       " Row(name,email,address,registration_date,phone,company,job,birthdate,country,uuid,salary,country_code='Mrs. Leslie Lawson DVM,tamarafisher@example.net,\"292 Wilson Lodge Suite 166, Samanthaton, NV 59167\",2024-08-30T00:00:00.000+03:00,(547)360-8860,Evans-Waters,Science writer,1970-12-06,Iceland,6ca7c7d8-cf95-4731-95b9-b796e46d7c37,6000,IE'),\n",
       " Row(name,email,address,registration_date,phone,company,job,birthdate,country,uuid,salary,country_code='Jordan Baker,ywu@example.net,\"4051 Chloe Grove, Warechester, MA 94626\",2024-03-12T00:00:00.000+03:00,001-540-580-4416,\"Simmons, Hansen and Nielsen\",Therapeutic radiographer,1998-02-19,Fiji,f95c0dff-2683-4a0c-a7d2-97cbbf89b8ed,15600,SL'),\n",
       " Row(name,email,address,registration_date,phone,company,job,birthdate,country,uuid,salary,country_code='Jessica Williams,david98@example.org,\"4926 Timothy Wall, South Marissafort, MD 20638\",2024-05-29T00:00:00.000+03:00,636.555.7046x43577,Benitez-Mitchell,Press photographer,1961-09-15,Uganda,fd3e2f04-bc83-4994-a7c2-18d5f940d841,2600,ER'),\n",
       " Row(name,email,address,registration_date,phone,company,job,birthdate,country,uuid,salary,country_code='Jason Howard,kholmes@example.org,\"050 Cantu Islands Apt. 332, Taylorberg, NV 61509\",2024-06-01T00:00:00.000+03:00,770.310.1956,Clarke-Bradley,Arts administrator,2005-04-20,Guernsey,7af078eb-3b44-4dba-a2c8-3250dc341ecf,2600,FI'),\n",
       " Row(name,email,address,registration_date,phone,company,job,birthdate,country,uuid,salary,country_code='Joanne West,kanderson@example.org,\"Unit 4990 Box 5081, DPO AE 19578\",2024-09-03T00:00:00.000+03:00,001-912-660-3848x9998,Lee Ltd,Financial risk analyst,1969-06-12,Niger,fc189ea8-6e70-44dd-af18-c2da15cfcb38,10450,CD'),\n",
       " Row(name,email,address,registration_date,phone,company,job,birthdate,country,uuid,salary,country_code='Patrick Herrera,donnaclark@example.com,\"PSC 5074, Box 4737, APO AA 33501\",2024-08-30T00:00:00.000+03:00,804.860.7891x8077,Robinson-Rodriguez,Corporate treasurer,1988-02-22,Mongolia,39331204-d807-4e96-b06c-d9e537c85e0b,2300,MZ'),\n",
       " Row(name,email,address,registration_date,phone,company,job,birthdate,country,uuid,salary,country_code='Brenda Nguyen,andrew00@example.com,\"87478 Aaron Key, Lake Rhonda, AL 61634\",2024-08-30T00:00:00.000+03:00,558.527.7431,\"Cabrera, Williams and Gray\",Stage manager,1980-05-30,Costa Rica,00bcee60-0eb7-446b-8027-9ce67e6ca588,5150,VA'),\n",
       " Row(name,email,address,registration_date,phone,company,job,birthdate,country,uuid,salary,country_code='Matthew Robinson,ppena@example.com,\"789 Madeline Trafficway Suite 650, Lewisfurt, MD 55179\",2024-05-29T00:00:00.000+03:00,641.946.4620,\"York, Ruiz and Perez\",Editorial assistant,1961-10-04,Hong Kong,ccf8a507-9806-4ce2-83f8-5708f3c3843c,17200,NZ'),\n",
       " Row(name,email,address,registration_date,phone,company,job,birthdate,country,uuid,salary,country_code='Cindy Bowman,washingtontimothy@example.org,\"5796 Eaton Place, Andrewschester, RI 42926\",2024-06-01T00:00:00.000+03:00,958.356.2272,Hill Group,Health visitor,1969-02-24,Jersey,c7dd568e-a4fb-47ae-b313-5837aa950276,5200,BE'),\n",
       " Row(name,email,address,registration_date,phone,company,job,birthdate,country,uuid,salary,country_code='Chris Trujillo,richard60@example.com,\"0866 Andrews Villages Apt. 385, Davisstad, OH 67198\",2024-03-12T00:00:00.000+03:00,001-504-451-6075,\"Dominguez, Jones and Lopez\",\"Administrator, charities/voluntary organisations\",1989-03-20,Burkina Faso,6b86c615-9cf8-4b01-99b2-89a25d43e30e,9300,GY'),\n",
       " Row(name,email,address,registration_date,phone,company,job,birthdate,country,uuid,salary,country_code='Robert Estrada,joanne94@example.org,\"482 Gardner Forges, East Kendramouth, AR 97500\",2024-03-12T00:00:00.000+03:00,001-534-329-2819x207,Diaz-Mckinney,Graphic designer,1983-06-01,Australia,9b2a52be-6bbc-4731-bb92-18945576cd68,11400,ST'),\n",
       " Row(name,email,address,registration_date,phone,company,job,birthdate,country,uuid,salary,country_code='Sarah Mathews,jeffreysanchez@example.com,\"2113 Theresa Villages Apt. 828, East Lauren, MA 71602\",2024-01-10T00:00:00.000+03:00,267.883.0442x735,Cordova Group,\"Surveyor, insurance\",1994-05-21,Jordan,b975d139-61dd-4488-967b-c1e882d910be,18100,SA'),\n",
       " Row(name,email,address,registration_date,phone,company,job,birthdate,country,uuid,salary,country_code='Joshua Lee,raykelly@example.org,\"0596 Murphy Forest, Sparksland, PW 00998\",2024-05-29T00:00:00.000+03:00,6163217522,\"Myers, Lutz and Smith\",Restaurant manager,1966-12-11,Bulgaria,da8378db-ed07-4cb2-9b57-c3cf9828118b,15850,BV'),\n",
       " Row(name,email,address,registration_date,phone,company,job,birthdate,country,uuid,salary,country_code='Rita Flores,cory31@example.org,\"9939 Melissa Shoal, East Davidstad, MA 95925\",2024-02-23T00:00:00.000+03:00,686-317-6658x00666,\"Guerrero, Preston and Davis\",\"Pharmacist, community\",1969-07-28,Guadeloupe,5c3b13b3-7836-4826-a97e-7833f13bb9d9,14900,BI'),\n",
       " Row(name,email,address,registration_date,phone,company,job,birthdate,country,uuid,salary,country_code='Jessica Collier,eclark@example.net,\"477 Boyd Springs, Wrightstad, WV 07422\",2024-09-03T00:00:00.000+03:00,7608520230,King Group,Retail buyer,2005-06-04,South Georgia and the South Sandwich Islands,3ff1c0c9-f329-490e-876c-17b2e8b5e186,10300,MF'),\n",
       " Row(name,email,address,registration_date,phone,company,job,birthdate,country,uuid,salary,country_code='Brittany Hall,christopherramos@example.org,\"87478 Nelson Parkway Apt. 419, Jimmyview, MD 94483\",2024-01-10T00:00:00.000+03:00,575-878-4115x8175,Carr-Francis,Site engineer,1999-07-20,Georgia,9aab5d40-2115-442e-be11-a4ec8a6144ad,5950,WF'),\n",
       " Row(name,email,address,registration_date,phone,company,job,birthdate,country,uuid,salary,country_code='Brian Strickland,ahernandez@example.net,\"88422 Julia Mews, Lisaborough, MI 11008\",2024-09-03T00:00:00.000+03:00,611.567.9999x06161,Glover and Sons,Economist,1990-01-07,Moldova,25e0e2a6-7bc5-405c-b1ac-8a97b12530ea,4500,CN'),\n",
       " Row(name,email,address,registration_date,phone,company,job,birthdate,country,uuid,salary,country_code='Kenneth Rodriguez,warrenkathleen@example.com,\"469 Hines Landing, East Stevenfurt, PR 62112\",2024-04-04T00:00:00.000+03:00,733.356.7269,Oneill-Cochran,Arts development officer,1987-11-11,Antarctica (the territory South of 60 deg S),e25ddcf3-f58c-43aa-a1d6-c0f7e088ac02,16650,MK'),\n",
       " Row(name,email,address,registration_date,phone,company,job,birthdate,country,uuid,salary,country_code='Victoria Adams,erin95@example.net,\"9824 Timothy Walks Apt. 380, Tracyburgh, FM 02295\",2024-03-12T00:00:00.000+03:00,+1-961-903-5402,Perez-Hawkins,Passenger transport manager,1968-07-13,Luxembourg,b3283d9f-8249-4857-bf2c-b05969f7b13f,11550,HR'),\n",
       " Row(name,email,address,registration_date,phone,company,job,birthdate,country,uuid,salary,country_code='Jeremy Garcia,bartlettsteven@example.org,\"89187 Timothy Grove, Elliottton, PA 71407\",2024-04-04T00:00:00.000+03:00,441.645.2083x0885,Donaldson and Sons,\"Conservation officer, historic buildings\",1999-07-14,Martinique,4782cfb0-3917-4849-8304-634da9c8eda8,7950,IO'),\n",
       " Row(name,email,address,registration_date,phone,company,job,birthdate,country,uuid,salary,country_code='Melissa Phillips,kingjennifer@example.com,\"479 Victoria Junctions Suite 293, West Ashley, CA 59506\",2024-06-01T00:00:00.000+03:00,(462)529-4511,Taylor-Le,Visual merchandiser,1975-03-01,Jamaica,84217b6d-2416-4004-9bc3-1d6178ffa7d5,8150,AZ'),\n",
       " Row(name,email,address,registration_date,phone,company,job,birthdate,country,uuid,salary,country_code='Donald Davis,pbradford@example.org,\"PSC 5014, Box 7937, APO AA 64275\",2024-02-23T00:00:00.000+03:00,(334)362-9497,Atkins-Clark,Insurance account manager,1993-07-27,Malaysia,ecd90e87-2c31-47c2-b4e3-257fbac732b5,2450,MH'),\n",
       " Row(name,email,address,registration_date,phone,company,job,birthdate,country,uuid,salary,country_code='Dustin Harper,jennifer52@example.org,\"499 Ford Isle, North Tyler, AZ 30343\",2024-03-12T00:00:00.000+03:00,362.461.5254,Powers-Baker,Art gallery manager,1986-02-09,Martinique,f7fe58ff-899f-4bf3-b4a9-1124d8ae78ad,7300,KR'),\n",
       " Row(name,email,address,registration_date,phone,company,job,birthdate,country,uuid,salary,country_code='Todd Wright,gregorycraig@example.net,\"92476 Angela Plaza, Andersonchester, CO 09193\",2024-04-04T00:00:00.000+03:00,385-722-1189x47335,\"Fry, Kelly and Gonzales\",Occupational therapist,1963-10-25,Comoros,af333442-f402-4de8-9d1e-d702463194c4,11250,QA'),\n",
       " Row(name,email,address,registration_date,phone,company,job,birthdate,country,uuid,salary,country_code='Mary Pennington,smithmonica@example.net,\"6490 Stephen Mountains, South Jacquelineberg, OR 91793\",2024-01-10T00:00:00.000+03:00,518-745-6624x6500,Patel-Barajas,\"Engineer, technical sales\",1971-01-30,Antarctica (the territory South of 60 deg S),e4889c16-a98e-4b6f-9734-cca7e04634cc,14200,VI'),\n",
       " Row(name,email,address,registration_date,phone,company,job,birthdate,country,uuid,salary,country_code='Keith Sparks,patricia70@example.com,\"10241 Stephen Hills, Gardnerside, IA 57499\",2024-06-01T00:00:00.000+03:00,8893469234,Bowman LLC,\"Psychologist, counselling\",1985-05-18,Lao People\\'s Democratic Republic,bf3ad7d2-f71a-477b-8c1b-70d0a28d32ae,10550,GN'),\n",
       " Row(name,email,address,registration_date,phone,company,job,birthdate,country,uuid,salary,country_code='Christopher Hart,meredithharrison@example.org,\"2436 Harris Run, Robinsonport, VT 87220\",2024-09-03T00:00:00.000+03:00,(739)357-4091,\"Ramirez, Dawson and Cox\",Chief Financial Officer,1978-08-16,United States Virgin Islands,288b93dd-0b7c-4791-93f0-acad481e6768,11800,AZ'),\n",
       " Row(name,email,address,registration_date,phone,company,job,birthdate,country,uuid,salary,country_code='Robin Sanchez,kingdavid@example.com,\"322 Kiara Center, Lake Andrew, ID 63665\",2024-06-01T00:00:00.000+03:00,2622928572,Robinson-Miller,\"Designer, graphic\",2007-05-10,Benin,d29aa241-4fc2-4b27-a2f7-20e3e2c76c9b,2250,RW'),\n",
       " Row(name,email,address,registration_date,phone,company,job,birthdate,country,uuid,salary,country_code='Vickie Fischer,alyssa95@example.net,\"5847 Jeffrey Lodge Apt. 928, Lake Pamela, ID 19155\",2024-09-03T00:00:00.000+03:00,001-546-562-6709x48526,Myers-Walter,Planning and development surveyor,1990-01-19,Bouvet Island (Bouvetoya),d44b627e-576c-476f-8501-ef12217d042f,12550,SJ'),\n",
       " Row(name,email,address,registration_date,phone,company,job,birthdate,country,uuid,salary,country_code='Jacqueline Ford,davidsonjames@example.com,\"61353 Armstrong Lodge, Lake Thomasbury, MS 46587\",2024-09-03T00:00:00.000+03:00,(951)808-6359,Chen-Salazar,Theatre manager,2004-11-04,South Georgia and the South Sandwich Islands,9b3c8d69-b5bc-4848-a899-b8432961788b,9550,BI'),\n",
       " Row(name,email,address,registration_date,phone,company,job,birthdate,country,uuid,salary,country_code='Craig Wilson,jennifer93@example.net,\"27500 Raymond Keys Apt. 358, Larsonfurt, GU 24164\",2024-04-04T00:00:00.000+03:00,001-804-507-1002,Myers-Wood,Equality and diversity officer,1993-10-19,El Salvador,99118aa8-f428-400d-b1fc-eac6bd3bff7a,10450,AR'),\n",
       " Row(name,email,address,registration_date,phone,company,job,birthdate,country,uuid,salary,country_code='John Walters,gjohnson@example.net,\"450 Bean Valleys Suite 254, Pattersonburgh, AR 16846\",2024-01-10T00:00:00.000+03:00,787.406.4472x6503,Mullins Group,Horticultural therapist,2003-05-06,Paraguay,df10aae2-3244-46c9-b361-29836b11c613,12550,GU'),\n",
       " Row(name,email,address,registration_date,phone,company,job,birthdate,country,uuid,salary,country_code='Anthony Camacho,ijohnson@example.net,\"456 Roger Meadow, East Anna, NJ 34570\",2024-05-29T00:00:00.000+03:00,869.624.3896x65515,Schultz LLC,Theme park manager,1992-10-30,San Marino,aa8ec475-b2b8-44d7-ad65-9413af14a6e7,11200,BR'),\n",
       " Row(name,email,address,registration_date,phone,company,job,birthdate,country,uuid,salary,country_code='Jordan Hayes,xedwards@example.org,\"Unit 1773 Box 1774, DPO AE 87733\",2024-09-03T00:00:00.000+03:00,841.609.3687,\"Jacobs, Riley and Reyes\",Financial risk analyst,1984-09-08,Cook Islands,80cc8c20-a54c-413e-abbd-bd06fb95701c,15850,BN'),\n",
       " Row(name,email,address,registration_date,phone,company,job,birthdate,country,uuid,salary,country_code='Richard Moore,michael88@example.org,\"14072 Cynthia Skyway, Thomasborough, VT 18241\",2024-06-01T00:00:00.000+03:00,(987)287-3924x618,Hammond PLC,\"Research officer, trade union\",1977-10-22,Uruguay,0e93f1d7-d50a-458d-816b-ff4b927f07f5,8850,OM'),\n",
       " Row(name,email,address,registration_date,phone,company,job,birthdate,country,uuid,salary,country_code='Robert Obrien,parkerlarry@example.com,\"888 Candice Springs, Coxmouth, FM 56082\",2024-09-03T00:00:00.000+03:00,7016814584,\"Wilson, Harris and Jones\",\"Programmer, applications\",2003-10-13,Burundi,44bbcfc7-5167-4130-ab41-f38fe0bcb7bc,5900,GN'),\n",
       " Row(name,email,address,registration_date,phone,company,job,birthdate,country,uuid,salary,country_code='Gerald Stephens,kelsey39@example.org,\"46809 Sullivan Lane Apt. 305, North Stephenchester, OR 71951\",2024-01-10T00:00:00.000+03:00,+1-628-246-3589x942,\"Strong, Gordon and Dixon\",\"Conservator, furniture\",1987-12-22,Burundi,ec4e16bf-adcc-40b3-9901-59412b6d735e,10500,UY'),\n",
       " Row(name,email,address,registration_date,phone,company,job,birthdate,country,uuid,salary,country_code='Julia Hill,toddmark@example.net,\"7661 Thompson Harbor, Hartfurt, KS 23063\",2024-09-03T00:00:00.000+03:00,001-244-849-8894,Morales and Sons,Chief Strategy Officer,1995-08-02,French Southern Territories,9ede6020-d0b8-4382-a15d-002261440fc8,18050,GU'),\n",
       " Row(name,email,address,registration_date,phone,company,job,birthdate,country,uuid,salary,country_code='Donald Jones,itravis@example.com,\"449 Brittany Spurs Apt. 194, Robertston, MO 33410\",2024-04-04T00:00:00.000+03:00,417-521-8957x913,Villarreal and Sons,\"Teacher, music\",1994-06-26,Angola,1d77749a-2202-4a7b-a494-13ea895e7773,16750,SX'),\n",
       " Row(name,email,address,registration_date,phone,company,job,birthdate,country,uuid,salary,country_code='Jacqueline Ramirez,morgankaitlyn@example.com,\"415 Sanders Loop Apt. 362, Beardburgh, MI 68346\",2024-08-30T00:00:00.000+03:00,742.935.6214,\"Velasquez, Patton and Love\",Recycling officer,2003-06-20,Cambodia,5c1f941b-49d5-4b76-bea7-39d513b51d54,9500,SY'),\n",
       " Row(name,email,address,registration_date,phone,company,job,birthdate,country,uuid,salary,country_code='Wesley Chapman,rmiller@example.org,\"36996 Walker Manor Apt. 352, New Carlaborough, IL 02586\",2024-09-03T00:00:00.000+03:00,(733)361-1100x271,\"Lopez, Hampton and Gibson\",Medical laboratory scientific officer,1987-03-27,Ireland,7857c427-8aa5-4971-a039-64394d2cf6f2,15650,BZ'),\n",
       " Row(name,email,address,registration_date,phone,company,job,birthdate,country,uuid,salary,country_code='Laura Russell,villadaniel@example.com,\"79697 Johns Flats, Williamschester, MA 08449\",2024-01-10T00:00:00.000+03:00,846-718-9174x1510,\"Lee, Drake and Thornton\",Therapeutic radiographer,1996-02-20,Ecuador,52bd529c-0067-46c4-a10e-8c2496e8e5b3,10350,RE'),\n",
       " Row(name,email,address,registration_date,phone,company,job,birthdate,country,uuid,salary,country_code='Bradley Gonzalez,alex32@example.net,\"4220 Ferguson Walk Apt. 278, Brianastad, NH 58096\",2024-05-29T00:00:00.000+03:00,(348)215-0071,Cox-Reese,Quality manager,1986-11-19,Jersey,3e7ac40e-c031-463f-b8d6-e2ceb2ee941f,19150,NI'),\n",
       " Row(name,email,address,registration_date,phone,company,job,birthdate,country,uuid,salary,country_code='Laurie Harris,mannjulia@example.com,\"Unit 0009 Box 5624, DPO AA 50091\",2024-06-01T00:00:00.000+03:00,+1-908-485-9688x215,Rubio Ltd,Games developer,2002-03-20,Kuwait,9ea5bc18-25e4-43d6-bbee-00360b5d34d0,13150,NZ'),\n",
       " Row(name,email,address,registration_date,phone,company,job,birthdate,country,uuid,salary,country_code='Cody Macdonald,jennifer48@example.com,\"96631 Smith Fort, South Jamesborough, LA 62954\",2024-03-12T00:00:00.000+03:00,001-244-634-7492x22660,Davenport-Diaz,Psychiatrist,1980-07-06,Bahamas,377a52f7-60eb-495a-bf5c-aefe396a0213,18500,SO'),\n",
       " Row(name,email,address,registration_date,phone,company,job,birthdate,country,uuid,salary,country_code='Eric Nelson,aliciacarlson@example.org,\"2852 Joseph Shoal, West Scott, KS 13836\",2024-06-01T00:00:00.000+03:00,732.401.9769,\"Le, Sanders and Reynolds\",\"Designer, television/film set\",1972-04-14,San Marino,a8541db0-9275-40e3-9544-d5010af3c8dc,13500,KR'),\n",
       " Row(name,email,address,registration_date,phone,company,job,birthdate,country,uuid,salary,country_code='Christopher Newman,raymond35@example.org,\"915 Diaz Lake Suite 214, New Katherine, RI 50143\",2024-01-10T00:00:00.000+03:00,4523920194,\"Wright, Thomas and Todd\",Passenger transport manager,1962-11-19,North Macedonia,70ab4fb4-cc03-450d-a541-716605a7d85a,15750,BR'),\n",
       " Row(name,email,address,registration_date,phone,company,job,birthdate,country,uuid,salary,country_code='Whitney Jimenez,danielnavarro@example.com,\"959 Martinez Via, Richardsonberg, ID 06848\",2024-04-04T00:00:00.000+03:00,+1-887-201-1413x4533,Willis LLC,Consulting civil engineer,1982-05-15,China,2f439719-0d44-4fb5-9948-ca8736ebb027,17250,ML'),\n",
       " Row(name,email,address,registration_date,phone,company,job,birthdate,country,uuid,salary,country_code='Ashley Holder,deannasheppard@example.org,\"PSC 1718, Box 9303, APO AP 38857\",2024-04-04T00:00:00.000+03:00,(751)249-8502x13060,Hinton-Hansen,\"Production assistant, television\",1972-09-09,Uganda,3d85324a-24db-4693-af20-792093d6d87c,8900,PK'),\n",
       " Row(name,email,address,registration_date,phone,company,job,birthdate,country,uuid,salary,country_code='Anthony Herman,nancymoody@example.net,\"06362 Harvey Fort, New Andreaport, IA 47441\",2024-03-12T00:00:00.000+03:00,001-558-335-1012,Martin Inc,Homeopath,1979-11-16,Afghanistan,90afc725-b27d-49cb-8587-5f0700a9ba71,3100,CF'),\n",
       " Row(name,email,address,registration_date,phone,company,job,birthdate,country,uuid,salary,country_code='Scott Sanders,norriskeith@example.net,\"44034 Melinda Divide Suite 061, Denisefort, CT 85925\",2024-02-23T00:00:00.000+03:00,668.926.1071,Price Group,Recycling officer,1960-05-12,Armenia,f2916393-8533-4049-a1d3-94c09eb7eb2e,12500,BV'),\n",
       " Row(name,email,address,registration_date,phone,company,job,birthdate,country,uuid,salary,country_code='Eric Lee,diana55@example.net,\"854 Khan Park, Port Brian, TN 85468\",2024-08-30T00:00:00.000+03:00,846.698.8984x779,Graves-Campos,\"Production assistant, television\",1970-02-25,Liechtenstein,2823b605-d9bf-4481-9cb1-263fcdc15e5a,11700,VU'),\n",
       " Row(name,email,address,registration_date,phone,company,job,birthdate,country,uuid,salary,country_code='Christopher Clark,smithdavid@example.org,\"51290 Stephen Manor, North Zachary, CA 67517\",2024-05-29T00:00:00.000+03:00,917.514.4391x27389,Carter Ltd,Stage manager,1978-10-14,Lesotho,80348ad8-6f00-43ed-8b2e-9ce8b639c331,5100,JM'),\n",
       " Row(name,email,address,registration_date,phone,company,job,birthdate,country,uuid,salary,country_code='Natalie Lester,steven93@example.com,\"43166 Kimberly Crest, Laurafurt, CO 72164\",2024-01-10T00:00:00.000+03:00,001-756-442-5818x8404,\"King, Brown and Grant\",\"Designer, ceramics/pottery\",2000-11-16,Sao Tome and Principe,f3eb4c05-8ec2-4b20-bd25-c2304dc4312c,2300,MM'),\n",
       " Row(name,email,address,registration_date,phone,company,job,birthdate,country,uuid,salary,country_code='Tyler Smith,connor26@example.org,\"357 Fernando Vista Apt. 427, Tuckermouth, IL 93013\",2024-03-12T00:00:00.000+03:00,001-997-498-1073x84373,Kelly-Brown,Science writer,1980-10-27,Isle of Man,b267ce9b-4033-4d4e-8eeb-a2c888f43ab8,8650,TK'),\n",
       " Row(name,email,address,registration_date,phone,company,job,birthdate,country,uuid,salary,country_code='Elizabeth Phillips,kjones@example.net,\"035 Brown Villages Apt. 227, Lindaview, KY 12831\",2024-05-29T00:00:00.000+03:00,(589)566-5100,Shaw PLC,Jewellery designer,1986-04-29,Colombia,c4c49259-39b0-48d3-b8cb-956b74baa889,5700,PY'),\n",
       " Row(name,email,address,registration_date,phone,company,job,birthdate,country,uuid,salary,country_code='Felicia Romero,jennifernelson@example.com,\"PSC 5710, Box 6155, APO AE 94823\",2024-06-01T00:00:00.000+03:00,(333)808-2606,Ramirez PLC,Private music teacher,1998-04-23,Palestinian Territory,a1336ba2-9bd7-452c-ac22-a0b4212e2292,19250,TW'),\n",
       " Row(name,email,address,registration_date,phone,company,job,birthdate,country,uuid,salary,country_code='Kaitlyn Kemp,vchavez@example.net,\"3088 Christie Walk Suite 368, Sabrinaland, PR 25357\",2024-01-10T00:00:00.000+03:00,925.327.3699,\"Campbell, Gutierrez and Johnson\",Location manager,1972-08-17,Brunei Darussalam,19ac62cf-3057-47cf-bbde-31a31dddd152,2300,ML'),\n",
       " Row(name,email,address,registration_date,phone,company,job,birthdate,country,uuid,salary,country_code='Victoria Wright,quinnsamuel@example.com,\"00308 Christina Track Suite 247, East Jeffreyview, FL 17543\",2024-01-10T00:00:00.000+03:00,969-860-1347,Schaefer-Johnston,Geographical information systems officer,2004-05-30,Swaziland,b0fefb46-9749-45bd-99b1-0fefff1ba04e,16000,JE'),\n",
       " Row(name,email,address,registration_date,phone,company,job,birthdate,country,uuid,salary,country_code='Jeremy Morrow,kristin36@example.com,\"4814 Kelly Canyon Apt. 698, South Kendraview, TN 04424\",2024-02-23T00:00:00.000+03:00,001-250-876-8540x81502,Wyatt-Barrett,Insurance claims handler,1972-06-25,Tonga,ea18de1d-c0d2-497d-ac79-54803d4cadb8,12850,AO'),\n",
       " Row(name,email,address,registration_date,phone,company,job,birthdate,country,uuid,salary,country_code='Lori Patterson,sheltontodd@example.com,\"661 Daniel Station Suite 574, Robinsonville, NM 96418\",2024-08-30T00:00:00.000+03:00,8576110827,Huang-Vasquez,\"Lecturer, further education\",1990-01-31,Brazil,7a07bc9a-4666-4da7-91a5-4e5dc685cdc0,11450,GD'),\n",
       " Row(name,email,address,registration_date,phone,company,job,birthdate,country,uuid,salary,country_code='James Jackson,haydenryan@example.net,\"38422 Taylor Corner, West Mark, NV 11046\",2024-09-03T00:00:00.000+03:00,302-863-7626,Weber-Monroe,\"Social research officer, government\",2003-06-10,Cote d\\'Ivoire,53d0ba2d-4c03-44a5-af75-93577e9ef9af,8150,ZW'),\n",
       " Row(name,email,address,registration_date,phone,company,job,birthdate,country,uuid,salary,country_code='Anthony Anderson,simonaaron@example.net,\"USNV Hunter, FPO AP 08200\",2024-09-03T00:00:00.000+03:00,224-401-0345,Pierce Group,Clinical cytogeneticist,1976-04-14,Northern Mariana Islands,a6b023fa-fa16-41db-a6ab-2449f7a43d54,18300,VN'),\n",
       " Row(name,email,address,registration_date,phone,company,job,birthdate,country,uuid,salary,country_code='Andrea Stokes,zprice@example.net,\"929 Michael Islands Suite 507, East Joshuatown, MS 54890\",2024-08-30T00:00:00.000+03:00,+1-923-783-5343,Romero LLC,Media planner,1962-01-22,Gibraltar,85b07607-9ac0-4351-875e-145a69da5fcc,6800,KZ'),\n",
       " Row(name,email,address,registration_date,phone,company,job,birthdate,country,uuid,salary,country_code='John Gray,leereid@example.com,\"9278 Smith Lakes Apt. 416, Craigberg, PA 60513\",2024-09-03T00:00:00.000+03:00,+1-969-299-4474x2404,Hamilton LLC,Public affairs consultant,1977-12-08,Greece,d8763553-79ba-4ec0-a886-c779547a6d0b,16100,PG'),\n",
       " Row(name,email,address,registration_date,phone,company,job,birthdate,country,uuid,salary,country_code='Jennifer Barrera,meyershawn@example.com,\"9664 Jones Fort Apt. 082, Haleyberg, NJ 52754\",2024-04-04T00:00:00.000+03:00,462-972-7735x5820,Lang-Lynch,Tax inspector,1984-10-14,Ireland,1844e576-aad5-48c6-a5e5-80eef7c94c90,6600,PH'),\n",
       " Row(name,email,address,registration_date,phone,company,job,birthdate,country,uuid,salary,country_code='Timothy Short,varcher@example.net,\"776 Nicole Track Apt. 659, Frenchton, NH 06913\",2024-06-01T00:00:00.000+03:00,001-516-264-3466x342,Fleming-Banks,\"Engineer, petroleum\",1981-12-24,Martinique,653676ce-1196-45fd-b161-98d6abf8aa1c,5800,PK'),\n",
       " Row(name,email,address,registration_date,phone,company,job,birthdate,country,uuid,salary,country_code='John Quinn,xgarcia@example.org,\"015 John Trail, Aaronmouth, TX 57279\",2024-01-10T00:00:00.000+03:00,654-520-6993x3269,Sullivan-Arroyo,\"Restaurant manager, fast food\",1959-09-25,Algeria,c2bbaa54-49a2-4919-ac5f-2e0679abb7ac,11550,AQ'),\n",
       " Row(name,email,address,registration_date,phone,company,job,birthdate,country,uuid,salary,country_code='Robert Barber,kjones@example.org,\"85882 Smith Fort, Michellefurt, MP 09036\",2024-05-29T00:00:00.000+03:00,224.905.7148x140,Lambert LLC,Clinical molecular geneticist,1982-03-08,Liberia,ad033499-fc6b-4a49-aaaa-c013913c3f5a,18850,GM'),\n",
       " Row(name,email,address,registration_date,phone,company,job,birthdate,country,uuid,salary,country_code='Daniel Harrison,fhernandez@example.net,\"049 Hines Estate, Andrewston, NM 27924\",2024-03-12T00:00:00.000+03:00,2788745770,Ortega and Sons,Management consultant,1984-09-30,Zimbabwe,de7e5d13-4e90-4eeb-b252-2688ff966b15,2350,AZ'),\n",
       " Row(name,email,address,registration_date,phone,company,job,birthdate,country,uuid,salary,country_code='Brittany Frederick,aarondorsey@example.net,\"088 Mary Lock Suite 387, North Donnaborough, LA 38058\",2024-06-01T00:00:00.000+03:00,599-917-0743x15977,Kidd-Clark,Interpreter,1968-07-29,Macao,3ea8c8d4-0cfb-47b9-962c-5ffc02bb0d54,19050,MN'),\n",
       " Row(name,email,address,registration_date,phone,company,job,birthdate,country,uuid,salary,country_code='Chris Rios,nathansnow@example.com,\"749 Petersen Centers Apt. 961, South Tiffanytown, MA 92043\",2024-05-29T00:00:00.000+03:00,+1-932-843-9887x84871,\"Taylor, Davis and Aguilar\",Freight forwarder,2002-07-22,Guyana,a49d5632-9a9a-45c2-a8c3-0a0e6fa018d0,8200,IT'),\n",
       " Row(name,email,address,registration_date,phone,company,job,birthdate,country,uuid,salary,country_code='Erica Case,thomas19@example.com,\"75106 Deborah Manor, Waltonborough, KS 47267\",2024-08-30T00:00:00.000+03:00,(833)512-6544x04050,Hamilton and Sons,\"Programme researcher, broadcasting/film/video\",1987-04-20,Togo,db5a34f4-e768-4790-b3cf-e8266869cb11,13000,MN'),\n",
       " Row(name,email,address,registration_date,phone,company,job,birthdate,country,uuid,salary,country_code='Anthony Yang,angela06@example.net,\"58168 Wolfe Station, Holdenchester, FL 77699\",2024-04-04T00:00:00.000+03:00,001-282-862-0061x6700,Smith-Hernandez,Trading standards officer,1990-11-01,Zimbabwe,d61bc47f-030d-4ea5-a9ec-af033309910a,10450,YE'),\n",
       " Row(name,email,address,registration_date,phone,company,job,birthdate,country,uuid,salary,country_code='Laura Jackson,ericksonadam@example.com,\"PSC 7929, Box 6150, APO AP 70324\",2024-08-30T00:00:00.000+03:00,6638621803,Walton-White,Management consultant,1960-08-11,Chad,656361d1-bdd4-45c9-9e31-c19527038fc7,10700,AL'),\n",
       " Row(name,email,address,registration_date,phone,company,job,birthdate,country,uuid,salary,country_code='Todd Barber,alexissanchez@example.org,\"47213 Ramos Highway, Elizabethmouth, DE 82233\",2024-02-23T00:00:00.000+03:00,001-704-901-2733x9805,Neal-Baker,Barrister\\'s clerk,2006-03-27,Central African Republic,a71f5cef-e2c7-4b47-ab86-b74c35cd5294,10250,MG'),\n",
       " Row(name,email,address,registration_date,phone,company,job,birthdate,country,uuid,salary,country_code='Valerie Morrow,zachary07@example.org,\"836 Garcia Knoll Apt. 132, Jenniferfurt, AS 18733\",2024-08-30T00:00:00.000+03:00,865-934-9139,Terry Ltd,Physiotherapist,1978-04-27,Cyprus,23d02040-382a-42de-be70-a6dc5806053f,14500,VU'),\n",
       " Row(name,email,address,registration_date,phone,company,job,birthdate,country,uuid,salary,country_code='Daryl Barry,xnichols@example.net,\"967 Glover Cape Suite 099, East Josetown, MS 44481\",2024-08-30T00:00:00.000+03:00,462-938-2191,Lane-Cohen,\"Therapist, art\",1975-02-27,Brazil,dfd9c82a-fb00-4b02-bb37-7178de8e216b,18800,NZ'),\n",
       " Row(name,email,address,registration_date,phone,company,job,birthdate,country,uuid,salary,country_code='Ryan Brooks,erin84@example.com,\"4039 Rodriguez Key, Lake Travisfurt, WI 75393\",2024-02-23T00:00:00.000+03:00,001-997-858-5056x66628,\"Lutz, Burke and Nelson\",\"Scientist, physiological\",1987-07-26,Dominican Republic,4cc8106f-9bed-4043-b8e6-d6a2d7e5a559,11150,CK'),\n",
       " Row(name,email,address,registration_date,phone,company,job,birthdate,country,uuid,salary,country_code='Jermaine Cook,sheri13@example.com,\"536 Angela Neck, Melissabury, MA 85039\",2024-02-23T00:00:00.000+03:00,350-567-6829x03162,Nunez-Rivers,Seismic interpreter,1961-05-21,Belize,3835272e-0361-484d-933d-a848bd574491,15400,AQ'),\n",
       " Row(name,email,address,registration_date,phone,company,job,birthdate,country,uuid,salary,country_code='Alyssa Graham,phoward@example.com,\"66383 Glenn Rapids Suite 950, Kellyshire, CO 10668\",2024-02-23T00:00:00.000+03:00,(538)207-5583,Williams-Munoz,Copy,1971-05-10,San Marino,d3bfe8e0-3b33-45c0-b564-60232b089176,15300,AF'),\n",
       " Row(name,email,address,registration_date,phone,company,job,birthdate,country,uuid,salary,country_code='Thomas Farmer,kathrynjackson@example.com,\"2999 Coleman Throughway, West Alan, VT 01472\",2024-04-04T00:00:00.000+03:00,429.286.8647x3740,\"Gray, Harris and Martin\",\"Engineer, production\",1988-01-22,Falkland Islands (Malvinas),d6223a47-5b47-427e-9210-cbc5086fb0a1,13250,BY'),\n",
       " Row(name,email,address,registration_date,phone,company,job,birthdate,country,uuid,salary,country_code='Alexander Wilson,brownmichael@example.org,\"1956 Mcpherson Squares, New Taylor, KY 52214\",2024-05-29T00:00:00.000+03:00,482-557-5037,\"Lee, Cohen and Henderson\",Camera operator,1965-04-16,Saint Pierre and Miquelon,ee922978-c415-485f-a32a-0523db902a04,5800,HU'),\n",
       " Row(name,email,address,registration_date,phone,company,job,birthdate,country,uuid,salary,country_code='Latoya Nicholson,progers@example.net,\"6801 Johnson Islands Apt. 888, Washingtonside, KS 06957\",2024-09-03T00:00:00.000+03:00,+1-807-283-8513x0392,Murphy-Allen,Fisheries officer,1968-09-03,Barbados,c6fc6777-26fd-4198-be88-d08c1d985390,9300,HM'),\n",
       " Row(name,email,address,registration_date,phone,company,job,birthdate,country,uuid,salary,country_code='Nathaniel Baird,sharonknapp@example.com,\"4671 Dustin Inlet Suite 906, East Calvinhaven, OR 62065\",2024-02-23T00:00:00.000+03:00,001-378-777-4978x7584,\"Moore, Lee and Craig\",Investment analyst,1989-04-12,Sri Lanka,0eedf126-6f36-49cc-9d1a-901344b76fa1,9500,ID'),\n",
       " Row(name,email,address,registration_date,phone,company,job,birthdate,country,uuid,salary,country_code='Carrie Christensen,martintorres@example.net,\"Unit 3604 Box 9869, DPO AP 51187\",2024-09-03T00:00:00.000+03:00,001-979-377-9981,Warren and Sons,\"Editor, film/video\",2001-02-23,Gabon,0dd4b731-5356-4717-bbfb-a6cd2fc9916e,9850,CC'),\n",
       " Row(name,email,address,registration_date,phone,company,job,birthdate,country,uuid,salary,country_code='Michael Roberts,zvincent@example.com,\"PSC 3619, Box 4169, APO AE 88785\",2024-06-01T00:00:00.000+03:00,9857506214,Marquez-Bennett,Police officer,1985-01-07,Lesotho,ad7f384c-6186-4a21-9a49-8c79d544777e,9150,LI'),\n",
       " Row(name,email,address,registration_date,phone,company,job,birthdate,country,uuid,salary,country_code='Seth Hoffman,brookslisa@example.net,\"3616 Simmons Village, West Tracyport, MT 14861\",2024-08-30T00:00:00.000+03:00,497-491-7786x874,Zuniga-Sanchez,Retail buyer,1960-05-13,Cape Verde,1c040ba2-2675-4bf6-a67f-b180035e316c,16750,LV'),\n",
       " Row(name,email,address,registration_date,phone,company,job,birthdate,country,uuid,salary,country_code='Michelle Cook,cody02@example.com,\"1897 Baxter Parkways Apt. 172, Lindaside, PW 73884\",2024-05-29T00:00:00.000+03:00,+1-925-497-8501x4786,Wilson Ltd,Secretary/administrator,1981-12-06,Sweden,97807bc3-c351-43da-98e5-7f917c605119,5550,BH'),\n",
       " Row(name,email,address,registration_date,phone,company,job,birthdate,country,uuid,salary,country_code='Stacy Carpenter,bmoreno@example.net,\"466 Jasmine Springs, Thomasfurt, MI 24657\",2024-03-12T00:00:00.000+03:00,624.986.6116,\"Carey, Jacobs and Sandoval\",\"Programmer, systems\",2007-03-10,Algeria,4b3b9794-f522-4b51-96b8-923deba44d7c,4450,IS'),\n",
       " Row(name,email,address,registration_date,phone,company,job,birthdate,country,uuid,salary,country_code='Gregory Olsen,mbailey@example.net,\"904 Luna Park Suite 523, Julieberg, IL 46011\",2024-02-23T00:00:00.000+03:00,492.317.5305,\"Cole, Jimenez and Duncan\",\"Teacher, music\",2003-09-09,Luxembourg,c501626a-33d3-424d-b56e-bc417732ce12,7650,TZ'),\n",
       " Row(name,email,address,registration_date,phone,company,job,birthdate,country,uuid,salary,country_code='Emily Moore,jeremiahpetty@example.com,\"3240 Eric Estates, North Johnhaven, VI 65396\",2024-03-12T00:00:00.000+03:00,2125661712,\"Perez, Lee and Wong\",Charity fundraiser,1988-11-28,Hong Kong,f2f4eda6-a700-4249-bb9d-729d3671f169,10850,IM'),\n",
       " Row(name,email,address,registration_date,phone,company,job,birthdate,country,uuid,salary,country_code='Brian Brown,rconner@example.com,\"4417 Richards Field Apt. 995, South Christophermouth, AK 02062\",2024-05-29T00:00:00.000+03:00,219.420.9795,\"Parker, Harris and Castro\",\"Engineer, electronics\",1982-06-26,Guernsey,4cda7fb4-1954-4d75-b727-eda74f84af92,4600,IL'),\n",
       " Row(name,email,address,registration_date,phone,company,job,birthdate,country,uuid,salary,country_code='Christine Hopkins,davisvanessa@example.com,\"6319 Jacob Dale Suite 289, Danaside, NM 89761\",2024-09-03T00:00:00.000+03:00,(607)860-3600x174,\"Parker, Mcdowell and Moreno\",\"Development worker, community\",2006-05-22,Korea,b629f5c4-05c1-45fd-bd4c-218ad628d2c1,14000,PE'),\n",
       " Row(name,email,address,registration_date,phone,company,job,birthdate,country,uuid,salary,country_code='Cheryl Oliver,laurie77@example.org,\"35821 Peters Ports Suite 841, New Katherine, WA 52207\",2024-02-23T00:00:00.000+03:00,537-851-3258x065,\"Ramos, Williams and Rich\",\"Pilot, airline\",1970-01-29,Saint Kitts and Nevis,59063cf6-c051-4be0-87b5-0ff10ef74530,8400,GQ'),\n",
       " Row(name,email,address,registration_date,phone,company,job,birthdate,country,uuid,salary,country_code='Leah Morgan,howardkaren@example.net,\"486 Tina Estate Suite 404, West Annettefurt, MS 18384\",2024-04-04T00:00:00.000+03:00,001-738-613-1597x60985,Friedman-Schmidt,\"Horticulturist, commercial\",1999-05-21,Benin,2cd513a4-2bfd-4444-8a82-7261450ad7cc,14700,SX'),\n",
       " Row(name,email,address,registration_date,phone,company,job,birthdate,country,uuid,salary,country_code='Nicholas Chase,andrew30@example.net,\"51373 Davis Brook Apt. 632, Lake Nicoleberg, NM 65435\",2024-08-30T00:00:00.000+03:00,+1-371-244-7028x3854,Love-Ruiz,\"Surveyor, land/geomatics\",1985-01-06,Niger,1ea45fdf-9f9b-4414-94af-b70b8d85db1c,6450,MG'),\n",
       " Row(name,email,address,registration_date,phone,company,job,birthdate,country,uuid,salary,country_code='Michelle Grant,nicolewilliams@example.org,\"967 Wood Burgs, Wagnerton, IA 46426\",2024-09-03T00:00:00.000+03:00,9003204523,\"Hancock, Fox and Nguyen\",Records manager,1969-11-20,Italy,baab7eb8-1b23-4f3a-8104-367001b80651,12200,FK'),\n",
       " Row(name,email,address,registration_date,phone,company,job,birthdate,country,uuid,salary,country_code='Alan Turner,greggbond@example.net,\"81970 Contreras Shoal Apt. 939, Natalieshire, AR 53193\",2024-06-01T00:00:00.000+03:00,001-452-781-3035x16064,\"Thompson, Michael and Watson\",Occupational hygienist,1960-10-05,France,23f4ed39-1fa2-47e3-bbc0-eb87f0635d26,10500,ER'),\n",
       " Row(name,email,address,registration_date,phone,company,job,birthdate,country,uuid,salary,country_code='Joseph Christian,gwang@example.net,\"10071 Heather Haven, South Angela, NV 60942\",2024-01-10T00:00:00.000+03:00,+1-236-612-4801x508,\"Rose, Frank and Mays\",Set designer,1985-07-15,Thailand,703aa451-c14d-4d31-a1d3-bd03f33cb0cf,5650,PS'),\n",
       " Row(name,email,address,registration_date,phone,company,job,birthdate,country,uuid,salary,country_code='Kelly Jenkins,lindseyschwartz@example.com,\"86622 Jonathan Course, North Valerie, PR 34991\",2024-06-01T00:00:00.000+03:00,001-364-469-5460x3349,Freeman and Sons,\"Development worker, community\",1977-06-25,Sri Lanka,cea388bf-58e4-415a-9035-946028fb726e,4300,DK'),\n",
       " Row(name,email,address,registration_date,phone,company,job,birthdate,country,uuid,salary,country_code='Kristy Marshall,steven01@example.com,\"79564 John Walks, West Michael, ID 03543\",2024-04-04T00:00:00.000+03:00,(223)635-7966x487,Ball-Mills,\"Scientist, forensic\",2006-01-08,Timor-Leste,b294fa6b-9902-4994-b911-647317d7b1af,3850,CY'),\n",
       " Row(name,email,address,registration_date,phone,company,job,birthdate,country,uuid,salary,country_code='Colin Clark,xsampson@example.org,\"940 Mark Way Apt. 873, Port Samantha, CO 32224\",2024-06-01T00:00:00.000+03:00,+1-243-983-9710,Ball Ltd,\"Optician, dispensing\",2005-05-29,Norfolk Island,71a28102-8af6-4142-ad8b-c76d6d17c168,7550,CA'),\n",
       " Row(name,email,address,registration_date,phone,company,job,birthdate,country,uuid,salary,country_code='Robert Bray,kathleenstevenson@example.com,\"62871 Bradshaw Extensions, Carrborough, CO 80107\",2024-03-12T00:00:00.000+03:00,699.907.7014x5206,Fry Group,\"Engineer, energy\",1981-06-10,Barbados,1c28d865-8b9e-4a5e-b648-e3c8cf852f19,16600,KP'),\n",
       " Row(name,email,address,registration_date,phone,company,job,birthdate,country,uuid,salary,country_code='Kelly Carter,tammy88@example.net,\"11716 Angela Ramp Suite 133, North Tracyhaven, NJ 80568\",2024-04-04T00:00:00.000+03:00,(311)640-1659x152,Singleton-Walker,Lobbyist,1989-06-01,Zambia,1588ab56-9b8f-414d-9b69-a72f724dcf8a,13950,KH'),\n",
       " Row(name,email,address,registration_date,phone,company,job,birthdate,country,uuid,salary,country_code='Dustin Dickson,hkirby@example.net,\"5904 Regina Ville, Kimhaven, ME 79699\",2024-08-30T00:00:00.000+03:00,458.945.2803x054,Lopez and Sons,Equality and diversity officer,1979-08-28,Spain,c13b1aba-1d25-4502-be16-127bd4e7647e,3500,SR'),\n",
       " Row(name,email,address,registration_date,phone,company,job,birthdate,country,uuid,salary,country_code='John Jones,blake57@example.com,\"773 Thomas Ports, Tammychester, FL 56273\",2024-05-29T00:00:00.000+03:00,997-452-3667x234,\"Greene, Thompson and Peterson\",Media planner,1970-08-21,Netherlands Antilles,e29aff0c-5921-44e1-81a8-e9c0073b9575,2150,KP'),\n",
       " Row(name,email,address,registration_date,phone,company,job,birthdate,country,uuid,salary,country_code='Amber Hernandez,jackie31@example.net,\"15764 Odonnell Crescent Suite 664, Shirleybury, ID 96066\",2024-02-23T00:00:00.000+03:00,316.940.1996,\"Clark, Hoffman and Jensen\",Investment analyst,1968-01-28,Guyana,940cea70-a326-4abb-8ba1-ce4e3559bc18,13500,VG'),\n",
       " Row(name,email,address,registration_date,phone,company,job,birthdate,country,uuid,salary,country_code='John Scott,stacey72@example.net,\"23082 Lamb Lake Suite 803, Lynnburgh, MT 72766\",2024-04-04T00:00:00.000+03:00,+1-833-981-1824,Vaughn-Travis,\"Conservator, museum/gallery\",1998-03-28,Singapore,afb155bb-4fb9-4094-b138-6e8760699fd9,15400,PH'),\n",
       " Row(name,email,address,registration_date,phone,company,job,birthdate,country,uuid,salary,country_code='Jamie Pearson,ewhite@example.net,\"177 Kimberly Junction Suite 071, West Brendashire, KS 87445\",2024-03-12T00:00:00.000+03:00,001-981-433-4591x40690,Shelton LLC,Writer,1977-06-20,Burundi,09d66e40-aaa9-4c28-bc00-8ebd46d38d35,4000,FJ'),\n",
       " Row(name,email,address,registration_date,phone,company,job,birthdate,country,uuid,salary,country_code='Erica Singh,rmurphy@example.com,\"471 Juan Hills Apt. 701, North Kaitlinside, HI 46176\",2024-08-30T00:00:00.000+03:00,909-829-6028x65612,Payne-Rodriguez,Podiatrist,1976-08-07,Nepal,97bafa11-2426-4c19-9be5-69be178fc39b,2700,PY'),\n",
       " Row(name,email,address,registration_date,phone,company,job,birthdate,country,uuid,salary,country_code='Colin Parks,vazqueztravis@example.net,\"181 Micheal Wells, Jennifershire, MD 01090\",2024-05-29T00:00:00.000+03:00,001-491-453-3747x75492,\"Anderson, Caldwell and Boyd\",Health service manager,1970-12-16,Saint Kitts and Nevis,304b5811-3613-45e5-b091-a574313f39c7,5850,LI'),\n",
       " Row(name,email,address,registration_date,phone,company,job,birthdate,country,uuid,salary,country_code='Natalie Molina,pamela00@example.com,\"327 Stacey Trail Suite 175, Kevinside, VA 67690\",2024-04-04T00:00:00.000+03:00,001-908-332-4710x155,Chung-Choi,Restaurant manager,1983-04-25,Antarctica (the territory South of 60 deg S),36262736-270b-4d76-8ef1-74334114db79,14800,SO'),\n",
       " Row(name,email,address,registration_date,phone,company,job,birthdate,country,uuid,salary,country_code='John Kirby,vspencer@example.org,\"676 Jordan Brook Apt. 194, West Clarencefort, SC 65124\",2024-02-23T00:00:00.000+03:00,+1-511-583-5121x971,\"Griffin, Smith and Powell\",Clinical research associate,1990-05-18,Bangladesh,0aa265b9-4e4e-4fe8-9d03-7ce9644a36bd,5900,RU'),\n",
       " Row(name,email,address,registration_date,phone,company,job,birthdate,country,uuid,salary,country_code='Veronica Rice,josewiley@example.org,\"287 Smith Square Suite 186, West Jimmyville, MP 12809\",2024-03-12T00:00:00.000+03:00,+1-895-966-3028,Yates Inc,Production manager,1969-02-25,Egypt,06254cf1-ed56-41bc-9306-234d0f5a0a99,17550,HT'),\n",
       " Row(name,email,address,registration_date,phone,company,job,birthdate,country,uuid,salary,country_code='Angela Taylor,patelbryan@example.net,\"14030 Nicole Glens Apt. 435, Moodyville, GU 34307\",2024-04-04T00:00:00.000+03:00,001-933-697-4014x287,Knight PLC,Drilling engineer,1991-02-11,Dominican Republic,9473c078-f1b1-4570-a659-4083d11c76f4,5100,GW'),\n",
       " Row(name,email,address,registration_date,phone,company,job,birthdate,country,uuid,salary,country_code='Vanessa Raymond,crystalcampbell@example.net,\"6312 Ford Lodge Apt. 167, North Jamesstad, KS 29745\",2024-05-29T00:00:00.000+03:00,639-323-4867x966,Weaver-Pugh,\"Teacher, special educational needs\",1970-07-27,Lithuania,c4a48766-acec-4b09-8de6-8c6a43c82952,9850,GH'),\n",
       " Row(name,email,address,registration_date,phone,company,job,birthdate,country,uuid,salary,country_code='Alicia Henry,john93@example.com,\"555 Thomas Mission Suite 878, North Kevinbury, AR 37465\",2024-08-30T00:00:00.000+03:00,680-243-4252,\"Ross, Esparza and Lewis\",Warden/ranger,1997-06-12,Madagascar,c7f75161-ec46-4701-a2a0-c4aeb16a19cb,6000,LU'),\n",
       " Row(name,email,address,registration_date,phone,company,job,birthdate,country,uuid,salary,country_code='Jacqueline Jones,jturner@example.com,\"46482 Adam Land Apt. 163, East Troy, IL 97310\",2024-03-12T00:00:00.000+03:00,7827247112,Robinson-Green,Sub,1999-09-11,Iraq,b66e2a32-4a2b-4577-a327-bcc5d02c76a1,17300,LR'),\n",
       " Row(name,email,address,registration_date,phone,company,job,birthdate,country,uuid,salary,country_code='Cathy Navarro,jessica30@example.org,\"76350 Thompson Hill Apt. 313, Pammouth, NE 55153\",2024-02-23T00:00:00.000+03:00,2704294600,Turner Group,Mechanical engineer,2001-10-01,Chad,7da0f6b5-f9b9-4489-8918-7b4a516cedc8,11000,AG'),\n",
       " Row(name,email,address,registration_date,phone,company,job,birthdate,country,uuid,salary,country_code='Joshua Roach,catherine50@example.net,\"Unit 8593 Box 2640, DPO AA 13182\",2024-09-03T00:00:00.000+03:00,468.865.6809x430,Bryant-Holmes,Accommodation manager,1986-10-18,Andorra,5fc83be1-5640-4fd0-8fa7-28cd0ededfd3,17700,ID'),\n",
       " Row(name,email,address,registration_date,phone,company,job,birthdate,country,uuid,salary,country_code='Tammy Simmons,rachelmoore@example.org,\"85723 Roger Walk, Stevenhaven, OR 82822\",2024-01-10T00:00:00.000+03:00,+1-288-823-9447x989,\"Turner, Frye and Wilson\",Graphic designer,1970-09-29,Botswana,fc3d2d48-fec8-4190-ab3a-4df6f083b125,16300,PL'),\n",
       " Row(name,email,address,registration_date,phone,company,job,birthdate,country,uuid,salary,country_code='Jaime Miller,tracyaguilar@example.net,\"46079 Franklin Burg Suite 193, Moranstad, NC 07998\",2024-02-23T00:00:00.000+03:00,+1-289-384-1507,Brennan-Brown,Operational researcher,1989-05-07,Hungary,b204bbae-217b-4eeb-aa40-2f00fa8a93ce,15700,KM'),\n",
       " Row(name,email,address,registration_date,phone,company,job,birthdate,country,uuid,salary,country_code='Daniel Ellison,andrew66@example.org,\"11778 Strong Turnpike Apt. 427, Petersonburgh, SC 99760\",2024-02-23T00:00:00.000+03:00,4339339122,Long and Sons,Chartered public finance accountant,1980-12-03,Mali,9eb9b2d5-5aa8-410b-8e8d-06ec91439559,4550,MA'),\n",
       " Row(name,email,address,registration_date,phone,company,job,birthdate,country,uuid,salary,country_code='Thomas Schultz,byrdjean@example.org,\"9418 Dwayne Causeway Suite 346, New Annburgh, LA 15240\",2024-08-30T00:00:00.000+03:00,001-653-780-7038x4003,Dean-Hubbard,Stage manager,1983-11-18,Korea,c0b59479-2dfe-4bbe-8006-637697007075,19900,GU'),\n",
       " Row(name,email,address,registration_date,phone,company,job,birthdate,country,uuid,salary,country_code='Chad Castillo,victorsanders@example.net,\"189 Parker Prairie Suite 143, Lake Jose, NJ 37817\",2024-03-12T00:00:00.000+03:00,795.841.3276x1750,Edwards PLC,Clinical psychologist,1989-07-17,Aruba,60ae3946-3087-4c38-af66-305a8c4b400a,11500,ER'),\n",
       " Row(name,email,address,registration_date,phone,company,job,birthdate,country,uuid,salary,country_code='Alexandria Vaughan,freemanmegan@example.net,\"99862 Andrew Springs, Dixonbury, SD 05915\",2024-09-03T00:00:00.000+03:00,762.712.8352x489,\"Bowen, Clark and Garcia\",Administrator,1983-11-03,Kazakhstan,4198f607-97d9-48ae-a782-88d4ae21403f,16500,GF'),\n",
       " Row(name,email,address,registration_date,phone,company,job,birthdate,country,uuid,salary,country_code='Christina Holland,lcoleman@example.net,\"26040 Robin Streets Suite 208, Johnbury, PW 10048\",2024-09-03T00:00:00.000+03:00,639-744-1074,\"Washington, Herrera and Willis\",\"Pharmacist, community\",1994-12-03,Syrian Arab Republic,1b2db4fa-9558-4582-a6a4-e74b5f9a05f7,6350,CU'),\n",
       " Row(name,email,address,registration_date,phone,company,job,birthdate,country,uuid,salary,country_code='Daniel Roberts,whall@example.org,\"83622 Steven Passage Apt. 122, Kevinborough, AK 95811\",2024-06-01T00:00:00.000+03:00,+1-434-753-3474x65597,\"Martin, Frazier and Griffin\",Pharmacologist,1968-08-23,Togo,825ec4a6-34c5-42cb-9c87-1f14d92b141d,12250,SL'),\n",
       " Row(name,email,address,registration_date,phone,company,job,birthdate,country,uuid,salary,country_code='Amy Blake,david65@example.com,\"9568 Joshua Summit, Ballburgh, VA 90506\",2024-05-29T00:00:00.000+03:00,001-675-793-2295,Jenkins and Sons,\"Radiographer, diagnostic\",1969-01-29,Guatemala,cc4884a5-5ca5-408d-855e-b8c889c8bab3,11700,PG'),\n",
       " Row(name,email,address,registration_date,phone,company,job,birthdate,country,uuid,salary,country_code='Nicolas Deleon,taylorvargas@example.net,\"1100 Shane Lock, North Jacob, MP 25797\",2024-02-23T00:00:00.000+03:00,(368)991-5775,Manning-Dean,Geographical information systems officer,1963-05-06,French Polynesia,6a6d656c-435b-4ad4-b5ae-5f8488484ba8,18850,IM'),\n",
       " Row(name,email,address,registration_date,phone,company,job,birthdate,country,uuid,salary,country_code='Kayla Cook,kdaniels@example.com,\"947 Williams Expressway, Aarontown, NM 16098\",2024-03-12T00:00:00.000+03:00,564-610-9839x48201,Wade Inc,Production manager,1994-02-19,Bahamas,6d76d77e-20df-422f-850b-c69d1309322c,15750,CC'),\n",
       " Row(name,email,address,registration_date,phone,company,job,birthdate,country,uuid,salary,country_code='Lindsey Gregory,roseroberts@example.com,\"81549 Richardson Crossing, Whitneyfort, MT 39724\",2024-09-03T00:00:00.000+03:00,(245)568-8496x0283,Herrera-Morrison,Chartered loss adjuster,2002-11-29,Tunisia,1c5aa191-07ac-4832-8a6a-28d52925c59c,14250,BG'),\n",
       " Row(name,email,address,registration_date,phone,company,job,birthdate,country,uuid,salary,country_code='Evan Grimes,tracy74@example.net,\"405 Kimberly Circle Suite 398, Kimberlyberg, MI 98678\",2024-05-29T00:00:00.000+03:00,6667950255,Potter-Davidson,Ecologist,1985-12-28,Lao People\\'s Democratic Republic,19d79911-7aab-4b2e-ad6f-89c2bfde297a,15150,PG'),\n",
       " Row(name,email,address,registration_date,phone,company,job,birthdate,country,uuid,salary,country_code='Daniel Wells,geraldmoore@example.org,\"9681 Bethany Circles, New Susanside, PR 41177\",2024-05-29T00:00:00.000+03:00,657-596-9571,\"Holmes, Williams and Wilson\",Haematologist,1962-01-16,Argentina,46f899bf-0079-4e1c-afaf-74aca9865658,6850,CA'),\n",
       " Row(name,email,address,registration_date,phone,company,job,birthdate,country,uuid,salary,country_code='Jeffrey Franklin,bethkline@example.org,\"6137 Caitlin Harbor, Santosborough, WA 06774\",2024-06-01T00:00:00.000+03:00,+1-802-795-6170x3651,Francis-Martin,Research scientist (life sciences),1982-09-18,Tunisia,082a7c8f-4ca8-437f-90bf-a52a4002cbc5,10150,MO'),\n",
       " Row(name,email,address,registration_date,phone,company,job,birthdate,country,uuid,salary,country_code='Robert Boyd,logan16@example.net,\"57972 Laura Junction, Edwardsstad, CT 87458\",2024-08-30T00:00:00.000+03:00,+1-292-767-7531x3129,Henson-Maldonado,Social worker,1975-06-16,Vanuatu,cb920955-273d-4515-bf90-01c2cc93289b,18850,CY'),\n",
       " Row(name,email,address,registration_date,phone,company,job,birthdate,country,uuid,salary,country_code='Stephanie Myers,florespamela@example.org,\"26029 Norris Corner, Garzachester, OK 33323\",2024-06-01T00:00:00.000+03:00,310.476.3370,Ayala-Huang,\"Teacher, adult education\",1976-01-03,Hungary,c44b35b8-c6dc-4101-b089-26907297703b,6550,RU'),\n",
       " Row(name,email,address,registration_date,phone,company,job,birthdate,country,uuid,salary,country_code='Loretta Anderson,taylorjenkins@example.com,\"119 Todd Passage, Lake Heather, AL 33166\",2024-09-03T00:00:00.000+03:00,001-328-993-2008x83801,Rivera LLC,\"Production designer, theatre/television/film\",1980-11-06,Ethiopia,64e10b37-f55e-41f2-978d-043af2b3e7ac,17000,LC'),\n",
       " Row(name,email,address,registration_date,phone,company,job,birthdate,country,uuid,salary,country_code='Laura Booker,youngjustin@example.net,\"PSC 7599, Box 0497, APO AP 15687\",2024-08-30T00:00:00.000+03:00,866.331.8567x0618,Brown Group,Theatre manager,2002-04-10,Mayotte,146f4ed2-1f5e-44ed-bd5f-f141db560482,2450,AT'),\n",
       " Row(name,email,address,registration_date,phone,company,job,birthdate,country,uuid,salary,country_code='Sierra Tate,michaelrobertson@example.net,\"450 Joshua Crest Apt. 783, North Christinafurt, IN 78496\",2024-08-30T00:00:00.000+03:00,(956)579-6220,Miller-Hansen,\"Lecturer, further education\",1987-10-21,Anguilla,03c933f7-5284-4fa2-a5f5-a71322e9d370,9350,SD'),\n",
       " Row(name,email,address,registration_date,phone,company,job,birthdate,country,uuid,salary,country_code='Meagan Weber,ian03@example.net,\"53001 Clifford Camp, Keithland, FM 64909\",2024-01-10T00:00:00.000+03:00,+1-309-753-0450x53499,\"Barnes, Jacobs and Moore\",\"Journalist, broadcasting\",2003-07-26,Greenland,5dccbb56-050c-42b5-ba50-c3aaf8963886,2400,IN'),\n",
       " Row(name,email,address,registration_date,phone,company,job,birthdate,country,uuid,salary,country_code='Terri Humphrey,benjamin66@example.com,\"2077 Leslie Isle, Johnsville, NH 05901\",2024-08-30T00:00:00.000+03:00,001-964-664-8345x35187,Williams Group,Diplomatic Services operational officer,1982-10-20,Gabon,e1a7344a-d5b1-4641-9491-6664dedda4c5,12750,EE'),\n",
       " Row(name,email,address,registration_date,phone,company,job,birthdate,country,uuid,salary,country_code='Scott May,davisshelby@example.com,\"3327 Denise Common Apt. 993, North Lisastad, PR 99692\",2024-06-01T00:00:00.000+03:00,2062300926,Escobar LLC,Probation officer,1963-06-08,Samoa,b24ba04c-9a62-44c3-aaf4-b522a562f5e0,5450,IE'),\n",
       " Row(name,email,address,registration_date,phone,company,job,birthdate,country,uuid,salary,country_code='Erica Middleton,ucruz@example.org,\"5947 Nathan Terrace Suite 160, New Vincentview, MA 91035\",2024-03-12T00:00:00.000+03:00,001-791-892-6594x357,Cook-Buck,\"Engineer, control and instrumentation\",1977-01-30,Togo,206b2861-b547-42fd-a625-76462c6b6df3,4700,HR'),\n",
       " Row(name,email,address,registration_date,phone,company,job,birthdate,country,uuid,salary,country_code='Jennifer Hill,juliecain@example.net,\"84079 Wagner Station Suite 093, Susanfurt, SC 63387\",2024-08-30T00:00:00.000+03:00,001-960-723-2519x60055,Anderson-Hammond,Sport and exercise psychologist,1980-04-25,Guernsey,936a48a3-2911-48be-bba3-900921747c40,17100,AL'),\n",
       " Row(name,email,address,registration_date,phone,company,job,birthdate,country,uuid,salary,country_code='Derek Wilson,marshalllaura@example.net,\"PSC 6437, Box 2596, APO AP 36152\",2024-01-10T00:00:00.000+03:00,718.437.7144x573,\"Hill, Johnson and Armstrong\",Data scientist,2000-04-29,Barbados,ed986423-2b6d-46d3-aee3-27804e0cc06f,15550,NA'),\n",
       " Row(name,email,address,registration_date,phone,company,job,birthdate,country,uuid,salary,country_code='Amy Wilson,rhondabowman@example.net,\"575 Michael Loop, Alejandrostad, NH 52972\",2024-08-30T00:00:00.000+03:00,(393)724-8811x13043,Hensley LLC,\"Surveyor, minerals\",1978-02-16,Libyan Arab Jamahiriya,fa04763b-bcbf-4446-a2b3-e2b0fb767f9d,12700,CY'),\n",
       " Row(name,email,address,registration_date,phone,company,job,birthdate,country,uuid,salary,country_code='Brandon Hernandez,catherineberg@example.net,\"8435 Clinton Points, Hayeston, NM 17161\",2024-04-04T00:00:00.000+03:00,+1-215-257-2814x0354,Smith PLC,\"Nurse, adult\",1978-01-15,Netherlands Antilles,b82310f1-cad3-4e73-a507-a834f9195f1e,11900,MM'),\n",
       " Row(name,email,address,registration_date,phone,company,job,birthdate,country,uuid,salary,country_code='Mindy Anderson,whayes@example.org,\"43793 Andrew Bridge Apt. 303, Port Carolynside, ID 96384\",2024-06-01T00:00:00.000+03:00,989-504-3014,\"Wilson, White and Hatfield\",Trade mark attorney,1978-06-18,Philippines,cee0eded-16e9-4fb7-9b66-3f2643c42f1e,5850,PH'),\n",
       " Row(name,email,address,registration_date,phone,company,job,birthdate,country,uuid,salary,country_code='Mark Stark,jhampton@example.net,\"88324 Douglas Tunnel, South Davidburgh, GA 86619\",2024-04-04T00:00:00.000+03:00,001-557-503-2790x9919,\"Cain, Acevedo and Oconnor\",Paediatric nurse,1994-01-05,Benin,00736cc2-7bfc-4f86-83a6-d4807f809524,9800,KM'),\n",
       " Row(name,email,address,registration_date,phone,company,job,birthdate,country,uuid,salary,country_code='Charles Trujillo,justin77@example.net,\"5574 Tammy Parks, Port Audrey, DE 27366\",2024-09-03T00:00:00.000+03:00,686-269-8303x139,Walker-Henson,Volunteer coordinator,1987-12-30,Comoros,0956ed60-de0e-40e9-964e-90303cdeaafa,7000,MF'),\n",
       " Row(name,email,address,registration_date,phone,company,job,birthdate,country,uuid,salary,country_code='Rebecca Parker,brooksjonathan@example.com,\"32414 Matthew Fords Suite 769, New Sean, VI 85729\",2024-04-04T00:00:00.000+03:00,+1-962-778-5307x3525,\"Boyd, Baker and Rios\",Dispensing optician,1972-04-26,Northern Mariana Islands,808989e0-ddaf-46fd-a1c7-5c2854a09b57,15750,CZ'),\n",
       " Row(name,email,address,registration_date,phone,company,job,birthdate,country,uuid,salary,country_code='Sydney Perez,jasonmiranda@example.com,\"0838 Rita Course Suite 089, East Christineview, KY 60261\",2024-09-03T00:00:00.000+03:00,(899)492-9711x332,White-Young,Biomedical engineer,1977-03-01,Portugal,1953ea6a-a93e-4573-a3ec-8f65a306ef30,10750,MC'),\n",
       " Row(name,email,address,registration_date,phone,company,job,birthdate,country,uuid,salary,country_code='Stacey Barrett,johnnysoto@example.org,\"862 Perez Meadows Suite 986, Deniseport, MA 63267\",2024-08-30T00:00:00.000+03:00,710-788-8249,Harris Group,Arts administrator,2007-03-03,Mozambique,dfc24395-799f-4ea2-9e72-1f9c2dd66697,18950,MR'),\n",
       " Row(name,email,address,registration_date,phone,company,job,birthdate,country,uuid,salary,country_code='Tina Maynard,robert40@example.com,\"24906 Christensen Islands, Danielberg, SD 67496\",2024-06-01T00:00:00.000+03:00,4382046369,Johnson Ltd,Teaching laboratory technician,1996-09-13,Mali,32358aed-615a-4d40-bcaa-fb4849d83609,3500,SR'),\n",
       " Row(name,email,address,registration_date,phone,company,job,birthdate,country,uuid,salary,country_code='Michael Obrien Jr.,spencerpaul@example.com,\"10764 Morgan Ranch, Mcintoshland, IL 85658\",2024-01-10T00:00:00.000+03:00,+1-744-308-5055x5727,Ray Group,Special effects artist,2005-05-18,Spain,0d95a4a8-011f-4e93-8316-d9da4c4b5fa8,16700,ZA'),\n",
       " Row(name,email,address,registration_date,phone,company,job,birthdate,country,uuid,salary,country_code='Paul Fisher,dennischeryl@example.net,\"1439 Laurie Haven Suite 824, Lake Brandy, SD 60929\",2024-03-12T00:00:00.000+03:00,872.289.1917x378,Young LLC,Agricultural engineer,1991-09-14,Azerbaijan,f9f58432-d379-419e-8d5e-ceda03a5e294,10300,AG'),\n",
       " Row(name,email,address,registration_date,phone,company,job,birthdate,country,uuid,salary,country_code='Susan Clayton,llopez@example.net,\"659 Amber Rapids, Jamesberg, OK 87711\",2024-02-23T00:00:00.000+03:00,(975)541-8604x27452,\"Newton, Gonzalez and Jones\",\"Programmer, applications\",2006-10-25,Indonesia,7dd2f988-26aa-4cdd-b8f2-b900dea2be75,18100,SA'),\n",
       " Row(name,email,address,registration_date,phone,company,job,birthdate,country,uuid,salary,country_code='Tina Vargas,jeffrey08@example.net,\"3101 Johnson Lane Apt. 505, Port Kristen, WY 71569\",2024-03-12T00:00:00.000+03:00,(348)766-1289,Harris-Murphy,Multimedia programmer,1976-10-05,Bermuda,980b25e0-ed51-42d6-aebf-b4aa145ad9f8,7600,VN'),\n",
       " Row(name,email,address,registration_date,phone,company,job,birthdate,country,uuid,salary,country_code='Kelly Mays,walkerdebbie@example.org,\"29654 Phelps Hills Suite 883, East Richard, OH 97635\",2024-08-30T00:00:00.000+03:00,956-733-1796x35831,Guzman-Powell,Herpetologist,1972-01-09,Philippines,fe96463f-b36c-43af-b34a-6a260850a859,19450,FM'),\n",
       " Row(name,email,address,registration_date,phone,company,job,birthdate,country,uuid,salary,country_code='Tracy Brady,kimberlyrice@example.org,\"6361 Ayala Trail Apt. 928, East Jennifer, NJ 67005\",2024-02-23T00:00:00.000+03:00,6605286408,\"Chaney, Munoz and Raymond\",Copy,1997-08-05,Barbados,e51ba57a-92c5-4c9e-934a-f7cb82e99ede,7300,DE'),\n",
       " Row(name,email,address,registration_date,phone,company,job,birthdate,country,uuid,salary,country_code='Jesse Munoz,michellerusso@example.com,\"3704 Brian Lakes, North Richard, FL 89074\",2024-05-29T00:00:00.000+03:00,+1-256-906-3749x426,Gray-Hernandez,Actor,1992-01-22,Gibraltar,747cef8b-b523-434e-9b94-96908b7fadf5,2900,FK'),\n",
       " Row(name,email,address,registration_date,phone,company,job,birthdate,country,uuid,salary,country_code='William Smith,tylerbarrett@example.org,\"410 Frank Plains, North Megan, ME 56401\",2024-04-04T00:00:00.000+03:00,+1-538-594-8461,Thompson Group,Acupuncturist,1982-12-11,Lesotho,41a982d5-6824-4008-8826-996ff112f226,13300,CX'),\n",
       " Row(name,email,address,registration_date,phone,company,job,birthdate,country,uuid,salary,country_code='Matthew Butler,joelmoses@example.net,\"908 Richards Pike Suite 109, Lake John, AK 26813\",2024-03-12T00:00:00.000+03:00,(450)239-4424x9780,Jimenez Group,\"Scientist, research (life sciences)\",1994-09-29,India,153136be-e68c-4c52-9155-6d9573b1e944,18950,ES'),\n",
       " Row(name,email,address,registration_date,phone,company,job,birthdate,country,uuid,salary,country_code='Maria Copeland,pwilliams@example.net,\"1384 Coleman Island, North Nicholastown, AS 04259\",2024-02-23T00:00:00.000+03:00,001-689-865-4497x89683,Bishop-Joseph,Adult guidance worker,1965-09-08,Eritrea,107496b9-457b-4975-a6cd-af536baed11c,3850,LY'),\n",
       " Row(name,email,address,registration_date,phone,company,job,birthdate,country,uuid,salary,country_code='Erin Anthony,wlee@example.com,\"973 Beverly Fords Apt. 675, New Johntown, UT 41260\",2024-04-04T00:00:00.000+03:00,+1-627-572-3217x408,Hernandez-Cole,\"Librarian, public\",1976-02-20,Georgia,02b09f9d-9978-4b8f-94c7-7088e7e019e5,11550,SD'),\n",
       " Row(name,email,address,registration_date,phone,company,job,birthdate,country,uuid,salary,country_code='Michael Underwood,michaelford@example.com,\"335 Sullivan Forge, Hillside, IA 58282\",2024-08-30T00:00:00.000+03:00,+1-232-546-7670x58427,\"Arnold, Irwin and Solis\",\"Pilot, airline\",1969-01-29,Tanzania,e7b4b5ca-ece9-496b-8cf1-8967fefe5c75,17500,SM'),\n",
       " Row(name,email,address,registration_date,phone,company,job,birthdate,country,uuid,salary,country_code='Theresa Ali,rodneywarner@example.org,\"792 Collins Canyon Apt. 867, West Robin, PR 49319\",2024-01-10T00:00:00.000+03:00,+1-544-775-4126x935,\"Hudson, Nolan and Edwards\",\"Conservator, furniture\",1999-01-08,Mauritania,e053d198-15cf-470b-8916-8b6dd050a757,5150,ME'),\n",
       " Row(name,email,address,registration_date,phone,company,job,birthdate,country,uuid,salary,country_code='Patrick Klein,ewoods@example.org,\"65678 Cunningham Stream Suite 072, North Randall, OK 57832\",2024-01-10T00:00:00.000+03:00,001-219-743-9356,\"Knapp, Evans and Snyder\",Medical technical officer,1993-11-26,Kyrgyz Republic,04017dca-e903-4ff0-b8da-4a9449896bdf,13650,CD'),\n",
       " Row(name,email,address,registration_date,phone,company,job,birthdate,country,uuid,salary,country_code='Stanley Davidson,qcollins@example.com,\"8750 Davis Stravenue, Port Kellyberg, PA 27703\",2024-04-04T00:00:00.000+03:00,+1-458-458-8816x4807,\"Hudson, Jones and Harmon\",Occupational psychologist,1970-09-13,Bermuda,64a57ce5-4379-47cc-a040-cc21c9c9e5dc,4450,NZ'),\n",
       " Row(name,email,address,registration_date,phone,company,job,birthdate,country,uuid,salary,country_code='Dr. Briana Parker,crystal46@example.org,\"1214 Michelle Way Suite 433, West Karen, SC 42859\",2024-03-12T00:00:00.000+03:00,550.410.6220x8788,\"Garcia, Robertson and Watson\",\"Scientist, forensic\",2004-10-12,Portugal,596dce45-231d-47e8-a06e-a5e93da81014,10350,FI'),\n",
       " Row(name,email,address,registration_date,phone,company,job,birthdate,country,uuid,salary,country_code='Scott Harris,woodsgregory@example.com,\"65733 Alyssa Highway Apt. 691, North Patrick, AS 67216\",2024-05-29T00:00:00.000+03:00,426.790.2820,Sanchez Inc,Chiropodist,1977-05-28,Chile,44b47d53-64f5-41d8-9d4e-4673bff6159f,12300,AR'),\n",
       " Row(name,email,address,registration_date,phone,company,job,birthdate,country,uuid,salary,country_code='Brittney Hobbs,emily24@example.com,\"3095 Elizabeth Ramp, North Stephanie, CT 85577\",2024-02-23T00:00:00.000+03:00,001-783-758-5216x87352,Espinoza-Rios,Personnel officer,1987-01-12,Barbados,de192861-b7be-41ef-830b-0728fad1bdc9,14150,NZ'),\n",
       " Row(name,email,address,registration_date,phone,company,job,birthdate,country,uuid,salary,country_code='Brandon Lopez,mcdanieltiffany@example.org,\"418 Keith Falls Apt. 102, Harmonmouth, AL 18488\",2024-06-01T00:00:00.000+03:00,001-593-673-9640,Garrett LLC,Customer service manager,2007-02-12,Bahamas,e178ad5b-67b6-449a-92d4-ea1fa62f7c73,15500,SI'),\n",
       " Row(name,email,address,registration_date,phone,company,job,birthdate,country,uuid,salary,country_code='Mary Andrews,patriciahall@example.org,\"540 Evans Ranch Apt. 527, West Theodoretown, MD 05809\",2024-01-10T00:00:00.000+03:00,+1-927-921-6554,\"Schaefer, Oneill and King\",Statistician,1969-05-02,Senegal,0216511b-791d-41a4-930f-37722d4c3adb,15450,MU'),\n",
       " Row(name,email,address,registration_date,phone,company,job,birthdate,country,uuid,salary,country_code='Maurice Cole,kyle96@example.net,\"63713 Lindsey Cove Suite 200, Lake Matthew, CA 88043\",2024-09-03T00:00:00.000+03:00,(360)643-1671x4961,Horn and Sons,\"Scientist, research (medical)\",1968-10-25,Guinea,82f36c5b-3b07-41f7-8810-554b0ad7ee67,13150,BH'),\n",
       " Row(name,email,address,registration_date,phone,company,job,birthdate,country,uuid,salary,country_code='Hayley Charles,leslieavery@example.org,\"3835 Rebekah Avenue Apt. 748, New Heatherport, ID 68207\",2024-09-03T00:00:00.000+03:00,697-635-7269,Reynolds LLC,Field trials officer,1989-11-26,Palestinian Territory,5e1d1727-111f-4c7c-856f-60dbd16b2c01,5800,SO'),\n",
       " Row(name,email,address,registration_date,phone,company,job,birthdate,country,uuid,salary,country_code='Rachel Smith,qarias@example.org,\"05907 Ferguson Ports, North Ruthview, KS 73358\",2024-09-03T00:00:00.000+03:00,+1-650-386-8485,Ryan-Mckee,Industrial/product designer,2002-03-13,Greenland,a2a682e9-c032-43ea-8963-8413846085a6,9150,TH'),\n",
       " Row(name,email,address,registration_date,phone,company,job,birthdate,country,uuid,salary,country_code='James Hanson,jacobsonterri@example.com,\"51163 Grace Vista Apt. 912, Millermouth, RI 05628\",2024-06-01T00:00:00.000+03:00,(810)951-4990,Weiss Ltd,Advertising art director,1983-03-18,Pitcairn Islands,dd172e48-07f2-4623-ac40-6acdcea1cda9,16300,MY'),\n",
       " Row(name,email,address,registration_date,phone,company,job,birthdate,country,uuid,salary,country_code='Brent Terry,upalmer@example.org,\"7171 Oscar Forges, South Patrick, AK 13243\",2024-06-01T00:00:00.000+03:00,623.920.7200,Estes LLC,Hospital doctor,1963-08-15,Japan,9027c157-5aa8-49a1-89fb-8ac6c2373787,16200,NC'),\n",
       " Row(name,email,address,registration_date,phone,company,job,birthdate,country,uuid,salary,country_code='Teresa Ford DDS,jknight@example.net,\"5417 Javier Lane Suite 219, South Robertview, GU 03012\",2024-01-10T00:00:00.000+03:00,514.694.6596x633,Carr-Andrews,Tourism officer,1960-02-27,Seychelles,eaa2fcc3-166f-45bc-927a-324522248fb4,8500,DZ'),\n",
       " Row(name,email,address,registration_date,phone,company,job,birthdate,country,uuid,salary,country_code='Samantha Martinez,reedkurt@example.net,\"45116 Murphy Viaduct, Stevenberg, MN 48843\",2024-02-23T00:00:00.000+03:00,(221)716-8697x76784,Morgan Group,Optometrist,2001-06-13,Liberia,8d459612-696c-4833-8895-705e5ee53815,8500,GM'),\n",
       " Row(name,email,address,registration_date,phone,company,job,birthdate,country,uuid,salary,country_code='Emily Valdez,patriciazamora@example.com,\"04322 Jordan Drive, Port Lori, SD 30896\",2024-05-29T00:00:00.000+03:00,305.909.2856x4324,\"Sellers, French and Phillips\",\"Engineer, electronics\",1960-06-21,Estonia,cf7304b5-dcba-4010-a466-d4244381f397,20000,OM'),\n",
       " Row(name,email,address,registration_date,phone,company,job,birthdate,country,uuid,salary,country_code='Maurice Smith,matthew86@example.net,\"04520 Victoria Expressway, South Jessica, MI 59777\",2024-01-10T00:00:00.000+03:00,001-447-415-9196x02579,\"Smith, Flores and West\",\"Accountant, chartered public finance\",1962-09-07,Nepal,5af89253-8ff3-4df4-89b7-5088207ff71e,15350,LC'),\n",
       " Row(name,email,address,registration_date,phone,company,job,birthdate,country,uuid,salary,country_code='Ashley Schroeder,joseph83@example.org,\"445 Jasmine Pike, Port Jessicatown, VI 09308\",2024-04-04T00:00:00.000+03:00,001-549-226-4843x14458,Clark PLC,Immunologist,1986-10-08,United States Virgin Islands,cea4c8cc-9cf6-4b68-8578-43dfe112f8ca,19650,GF'),\n",
       " Row(name,email,address,registration_date,phone,company,job,birthdate,country,uuid,salary,country_code='Donald Parsons,flara@example.com,\"99921 Olson Falls, Sloanstad, VA 29348\",2024-04-04T00:00:00.000+03:00,(451)485-3748x24725,\"Lopez, George and Navarro\",Telecommunications researcher,1988-04-08,Tokelau,d8b7ecaf-1e26-441c-936e-6219218bb094,3850,LS'),\n",
       " Row(name,email,address,registration_date,phone,company,job,birthdate,country,uuid,salary,country_code='Laura Martinez,whitesusan@example.org,\"USNS Wang, FPO AP 88689\",2024-03-12T00:00:00.000+03:00,220-680-4518,Harvey Ltd,\"Loss adjuster, chartered\",1976-10-11,Germany,5cdace1f-682e-43cf-8701-6a55c8136087,10400,PG'),\n",
       " Row(name,email,address,registration_date,phone,company,job,birthdate,country,uuid,salary,country_code='Anthony Rose,beverly52@example.net,\"3680 Hill Locks Suite 634, South Christian, DE 21663\",2024-09-03T00:00:00.000+03:00,2436792351,Wright Ltd,Translator,1970-03-15,Tanzania,55489d90-5af6-4713-8bee-da55afcdcabb,6100,PE'),\n",
       " Row(name,email,address,registration_date,phone,company,job,birthdate,country,uuid,salary,country_code='Sara Mccarthy,sethallen@example.net,\"927 Lindsey Coves Suite 678, West Shawnfort, MO 40571\",2024-06-01T00:00:00.000+03:00,865-717-6079,\"Moore, Hill and Cross\",Armed forces training and education officer,1964-08-12,Cuba,e53e30db-241d-4ef5-9450-90b07f404e83,18500,SM'),\n",
       " Row(name,email,address,registration_date,phone,company,job,birthdate,country,uuid,salary,country_code='Amy Ferguson,markowens@example.org,\"135 Sanchez Extensions, Jenkinsmouth, VI 90222\",2024-06-01T00:00:00.000+03:00,903.837.0420x270,\"Simpson, Watkins and Peterson\",\"Scientist, audiological\",1976-09-05,Japan,b6f9b34f-08b1-43a2-8c42-1c733b2997dc,16550,SZ'),\n",
       " Row(name,email,address,registration_date,phone,company,job,birthdate,country,uuid,salary,country_code='Heather Hunt,evanscrystal@example.net,\"USNV Pennington, FPO AA 76379\",2024-02-23T00:00:00.000+03:00,970.359.3675x849,Sullivan-Fisher,\"Runner, broadcasting/film/video\",1983-08-07,Cyprus,7ac3e83b-3415-4414-9463-20762154680a,13350,AM'),\n",
       " Row(name,email,address,registration_date,phone,company,job,birthdate,country,uuid,salary,country_code='Omar Nunez,brownkaren@example.org,\"05542 Watkins Branch Suite 045, Port Brandon, PR 39143\",2024-03-12T00:00:00.000+03:00,3803246209,\"Ramirez, Frye and Coffey\",Camera operator,1981-12-31,Croatia,fedfc802-3a16-4b7b-9e3e-75584d36c6da,14600,YE'),\n",
       " Row(name,email,address,registration_date,phone,company,job,birthdate,country,uuid,salary,country_code='Rita Edwards,crystalaguirre@example.net,\"88912 Jones Corners, Waltersmouth, GU 23323\",2024-04-04T00:00:00.000+03:00,343-890-6630x7566,Silva-Wright,\"Editor, magazine features\",1996-07-18,Israel,d4299a32-b67a-48ac-810e-c3cad4c7b853,14300,CD'),\n",
       " Row(name,email,address,registration_date,phone,company,job,birthdate,country,uuid,salary,country_code='John Rice,johnsonstephen@example.org,\"15585 Tammy Station Apt. 689, North Kristinachester, NJ 79562\",2024-05-29T00:00:00.000+03:00,001-567-205-2347x95489,Myers Ltd,Fashion designer,1998-07-15,Svalbard & Jan Mayen Islands,ac746169-5299-40ae-81c1-e2ea7b76ec9d,7750,GG'),\n",
       " Row(name,email,address,registration_date,phone,company,job,birthdate,country,uuid,salary,country_code='Michelle Christensen,daviswilliam@example.org,\"590 Miller Lights, Russellfurt, PW 09049\",2024-04-04T00:00:00.000+03:00,(630)350-5329,Cochran Group,\"Doctor, hospital\",2001-01-05,Eritrea,77954f42-c1f8-425c-93f9-77e7290bb473,4100,NE'),\n",
       " Row(name,email,address,registration_date,phone,company,job,birthdate,country,uuid,salary,country_code='Dalton Martinez,obray@example.net,\"Unit 8719 Box 1785, DPO AA 65456\",2024-05-29T00:00:00.000+03:00,(228)649-3157x891,Ortiz Inc,Magazine journalist,1976-02-15,Tonga,4eca7ba7-e802-4d04-96ad-940438168b70,9200,GI'),\n",
       " Row(name,email,address,registration_date,phone,company,job,birthdate,country,uuid,salary,country_code='Lisa Mckay,dianastevens@example.net,\"USNS Garcia, FPO AP 43688\",2024-01-10T00:00:00.000+03:00,(993)695-0378,Ayers PLC,\"Engineer, petroleum\",1980-05-21,Burkina Faso,1bda91a9-54f1-4116-a99e-bdd3eac350ab,9550,MU'),\n",
       " Row(name,email,address,registration_date,phone,company,job,birthdate,country,uuid,salary,country_code='Michael Cook,kevin39@example.org,\"8780 Mitchell Viaduct, Mirandaview, NM 47496\",2024-06-01T00:00:00.000+03:00,001-863-949-3020x633,West LLC,Proofreader,1987-10-23,Bosnia and Herzegovina,780c7d16-1a6c-4bd1-9b99-e6391de86c07,7400,CY'),\n",
       " Row(name,email,address,registration_date,phone,company,job,birthdate,country,uuid,salary,country_code='Jeffrey Hunt,sharon34@example.com,\"8956 Kelly Mountains Suite 462, Henryberg, AS 22985\",2024-05-29T00:00:00.000+03:00,640.842.1510x949,\"Dean, Booth and Burnett\",Orthoptist,1980-09-03,Heard Island and McDonald Islands,07d33dcb-d6e5-4caa-aa32-3fa537644984,11650,MC'),\n",
       " Row(name,email,address,registration_date,phone,company,job,birthdate,country,uuid,salary,country_code='Joseph Walsh,davidnash@example.net,\"966 Jeffrey Lodge, Haroldmouth, WI 01349\",2024-02-23T00:00:00.000+03:00,+1-214-780-9214x1159,Moore-Adams,Paramedic,2002-01-01,Uruguay,5860013e-d7ba-441c-aa9a-770835154915,8200,TJ'),\n",
       " Row(name,email,address,registration_date,phone,company,job,birthdate,country,uuid,salary,country_code='Marc Beard,carrie61@example.org,\"PSC 2019, Box 2393, APO AA 05349\",2024-01-10T00:00:00.000+03:00,206.567.0385,Lee Group,\"Buyer, industrial\",1991-05-22,Israel,9363f86d-191a-4962-aec8-b77e79246167,5900,NU'),\n",
       " Row(name,email,address,registration_date,phone,company,job,birthdate,country,uuid,salary,country_code='Carrie Rice,nicolewise@example.com,\"373 Hill Shore, West Allison, PR 02462\",2024-09-03T00:00:00.000+03:00,(334)582-7244x26219,Ferguson Group,Customer service manager,1991-06-12,Canada,5a0b9008-129f-4fef-8bc7-41ff41af92e8,15750,AZ'),\n",
       " Row(name,email,address,registration_date,phone,company,job,birthdate,country,uuid,salary,country_code='Melissa Estes,pwilson@example.net,\"22430 Melissa Trail Suite 828, Matthewburgh, VT 23204\",2024-02-23T00:00:00.000+03:00,721-622-4871,\"Mills, Erickson and Herrera\",Event organiser,1961-05-16,Mauritius,755c07d8-eb93-4605-bc2d-367f61990b38,9750,MW'),\n",
       " Row(name,email,address,registration_date,phone,company,job,birthdate,country,uuid,salary,country_code='Michael Soto,pamela37@example.com,\"86054 Gregory Rue, Lynnview, OH 63398\",2024-04-04T00:00:00.000+03:00,+1-927-958-5108,Dean Ltd,Forensic scientist,1959-12-18,Bahamas,a7f66ab4-94cf-4b0d-852a-3714218731e2,3800,EG'),\n",
       " Row(name,email,address,registration_date,phone,company,job,birthdate,country,uuid,salary,country_code='Kevin Martinez,jose03@example.com,\"924 Shea Street, Hansonfort, CT 19784\",2024-03-12T00:00:00.000+03:00,947-696-3480,Ray-Myers,Community arts worker,1962-07-09,Mozambique,db60d8a4-b2d4-45f6-acb2-262e64c702d0,14700,FR'),\n",
       " Row(name,email,address,registration_date,phone,company,job,birthdate,country,uuid,salary,country_code='Jennifer Walsh,daniel53@example.net,\"233 Denise Pines Suite 436, North Aaronstad, HI 42789\",2024-02-23T00:00:00.000+03:00,574-615-0844x882,Smith-Johnston,Commercial horticulturist,1991-10-26,Trinidad and Tobago,89b1adec-80a8-4192-b8a3-7578c96c4ce3,14300,EH'),\n",
       " Row(name,email,address,registration_date,phone,company,job,birthdate,country,uuid,salary,country_code='Dennis Reynolds,jonesmichael@example.com,\"PSC 0792, Box 5074, APO AE 62589\",2024-02-23T00:00:00.000+03:00,+1-890-933-8353,Jenkins-Vega,\"Programmer, multimedia\",1991-05-25,Hong Kong,4a3823d8-1a27-44dd-8e60-41d4e26a132e,4650,SG'),\n",
       " Row(name,email,address,registration_date,phone,company,job,birthdate,country,uuid,salary,country_code='Alyssa Brooks,kmurray@example.net,\"80972 Karen Center, West Troyside, OK 93110\",2024-04-04T00:00:00.000+03:00,2407494472,James LLC,Sports therapist,1993-04-05,Mexico,0e3a75e5-43b5-4ab3-8fef-ea36b60bd183,6550,GU'),\n",
       " Row(name,email,address,registration_date,phone,company,job,birthdate,country,uuid,salary,country_code='Michele Wilson,zruiz@example.com,\"393 Aaron Fort Apt. 350, Stevenmouth, IN 06612\",2024-05-29T00:00:00.000+03:00,+1-325-346-2856x16400,\"Stokes, Gibson and Huffman\",Ophthalmologist,1994-05-12,Falkland Islands (Malvinas),757e9b7a-4b13-4b53-b1e2-968cc4c4c040,13950,GW'),\n",
       " Row(name,email,address,registration_date,phone,company,job,birthdate,country,uuid,salary,country_code='Antonio Carney,nicholeramos@example.org,\"464 Joseph Wells, Racheltown, GU 81533\",2024-08-30T00:00:00.000+03:00,(995)773-0754x026,\"Hughes, Holt and Fry\",Armed forces logistics/support/administrative officer,1971-01-28,Djibouti,31e6f14b-32dc-4075-8877-1bdd0aac8031,3000,IQ'),\n",
       " Row(name,email,address,registration_date,phone,company,job,birthdate,country,uuid,salary,country_code='Jodi Lowe,barbara76@example.org,\"00420 Richard Loaf, Toddmouth, IA 57299\",2024-06-01T00:00:00.000+03:00,955.788.6645,Powers-Patel,Diagnostic radiographer,1969-02-14,Sao Tome and Principe,ce99fbbe-36c4-418a-ae42-5e4fc09f4b69,13550,SZ'),\n",
       " Row(name,email,address,registration_date,phone,company,job,birthdate,country,uuid,salary,country_code='Eric Howard,sfarley@example.com,\"5489 Boone Cape, North Jasonbury, NH 30354\",2024-05-29T00:00:00.000+03:00,(521)530-3299x86723,French LLC,Actor,1984-12-15,Botswana,9f95c457-6d26-4e93-abee-a551aead1ecd,13300,WS'),\n",
       " Row(name,email,address,registration_date,phone,company,job,birthdate,country,uuid,salary,country_code='Michael Brown,parkerrobert@example.net,\"77923 Lori Parks, South Tiffany, MO 51149\",2024-05-29T00:00:00.000+03:00,657.781.6532,Peterson-Robinson,\"Engineer, electrical\",1969-08-04,Palestinian Territory,0870bc49-968a-4d23-9bbd-0df49062fa4c,14750,PT'),\n",
       " Row(name,email,address,registration_date,phone,company,job,birthdate,country,uuid,salary,country_code='Jesse Coleman,ymoore@example.org,\"Unit 3011 Box 4690, DPO AP 19939\",2024-09-03T00:00:00.000+03:00,001-745-877-9081x07233,\"Mckenzie, Rasmussen and Jenkins\",Armed forces training and education officer,1972-04-02,North Macedonia,35fb48df-006c-424b-b2d3-cb40875eac73,10250,GS'),\n",
       " Row(name,email,address,registration_date,phone,company,job,birthdate,country,uuid,salary,country_code='Elizabeth Zamora,carrollcharlotte@example.com,\"537 Luis Mount Suite 016, East Sandra, NE 16671\",2024-06-01T00:00:00.000+03:00,001-267-304-7331x3697,Brooks-Kaiser,Paediatric nurse,2001-11-06,Mozambique,61975046-f1c0-497b-afb2-e10469107c1d,18100,TC'),\n",
       " Row(name,email,address,registration_date,phone,company,job,birthdate,country,uuid,salary,country_code='Jennifer Avery,kingmelissa@example.com,\"42093 Kim Pines Suite 055, Greenton, AR 64238\",2024-01-10T00:00:00.000+03:00,298.877.5624,Richardson Group,Airline pilot,1974-07-06,Qatar,648bdbe3-54fe-471a-9f3a-9c7cbee68349,6300,SZ'),\n",
       " Row(name,email,address,registration_date,phone,company,job,birthdate,country,uuid,salary,country_code='Mr. Andrew Smith,collinsandrea@example.com,\"848 Melissa Square Apt. 659, Danielleberg, UT 86273\",2024-09-03T00:00:00.000+03:00,(532)609-5159x20048,\"Schneider, Harrison and Welch\",\"Chemist, analytical\",1969-03-05,Azerbaijan,cf9d2110-f7fb-48b0-8386-fb1abc63de3a,8450,SI'),\n",
       " Row(name,email,address,registration_date,phone,company,job,birthdate,country,uuid,salary,country_code='Patricia Fox,sarahpatel@example.com,\"Unit 2384 Box 1429, DPO AA 01517\",2024-08-30T00:00:00.000+03:00,624-546-7327,Ferguson-Carr,\"Engineer, electronics\",1966-12-14,Malaysia,02a95bac-e70a-4471-9ac3-ecd65995316f,7950,SB'),\n",
       " Row(name,email,address,registration_date,phone,company,job,birthdate,country,uuid,salary,country_code='Dennis Horton,osbornerandy@example.net,\"003 Hoffman Light Suite 253, North Kyleport, PA 91259\",2024-09-03T00:00:00.000+03:00,+1-783-482-6421,\"Sanders, Payne and Smith\",Geophysical data processor,1965-09-25,Singapore,d0e07c56-eecf-40b0-975e-d9c6addb23b7,3100,YE'),\n",
       " Row(name,email,address,registration_date,phone,company,job,birthdate,country,uuid,salary,country_code='Mr. David Lucas Jr.,alex41@example.org,\"8511 Katie Common Suite 026, Johnberg, RI 42119\",2024-03-12T00:00:00.000+03:00,5742873091,Harvey Ltd,Diagnostic radiographer,1987-06-11,Iran,a79eb772-eb7e-4d6b-ac02-9b3bdaa41443,3600,TL'),\n",
       " Row(name,email,address,registration_date,phone,company,job,birthdate,country,uuid,salary,country_code='Chelsea Watson,patriciachen@example.net,\"13517 Jeffrey Burg Apt. 716, New Valerieberg, MN 22615\",2024-05-29T00:00:00.000+03:00,(243)311-4003,\"Brown, Watkins and Ayers\",Ecologist,1985-05-08,Bolivia,32779359-0bbb-4c82-9e11-a785b9174627,3200,CX'),\n",
       " Row(name,email,address,registration_date,phone,company,job,birthdate,country,uuid,salary,country_code='Justin Meadows,patriciahodges@example.org,\"0729 Santos Avenue Apt. 535, Mckenziemouth, FM 63541\",2024-08-30T00:00:00.000+03:00,(761)940-7150x1302,Leonard Ltd,Horticultural consultant,1982-01-20,Micronesia,7f5d7b51-2fcb-4fb3-a117-a586179492bd,4100,AO'),\n",
       " Row(name,email,address,registration_date,phone,company,job,birthdate,country,uuid,salary,country_code='Brian Mcclure,jeremy60@example.org,\"546 Crystal Point Apt. 962, North Tiffany, SD 86951\",2024-02-23T00:00:00.000+03:00,(842)953-6784x150,\"Dennis, Reyes and Gross\",Health visitor,1982-06-24,Moldova,43e370e2-e91e-4f85-9102-96e89f58d69d,5850,LC'),\n",
       " Row(name,email,address,registration_date,phone,company,job,birthdate,country,uuid,salary,country_code='Erin Daniels,rossmichael@example.org,\"5837 Hill Cape Suite 480, South Jessicamouth, MA 79251\",2024-06-01T00:00:00.000+03:00,+1-383-503-5028x007,Meza PLC,Clinical molecular geneticist,2007-02-03,Thailand,bc4608be-d5a5-40f3-992f-3633db2daac2,10200,BY'),\n",
       " Row(name,email,address,registration_date,phone,company,job,birthdate,country,uuid,salary,country_code='Kevin Fernandez,newmanlisa@example.net,\"7103 Duke Dam, Crossstad, KS 84961\",2024-09-03T00:00:00.000+03:00,(708)846-7195x15694,Moss PLC,\"Designer, blown glass/stained glass\",1978-07-09,Estonia,d292b440-e880-4c21-8eb3-0b9e42bb3feb,8550,BN'),\n",
       " Row(name,email,address,registration_date,phone,company,job,birthdate,country,uuid,salary,country_code='Lindsey Cochran,megan79@example.org,\"96732 Adams Centers Suite 666, Mullenborough, RI 66875\",2024-09-03T00:00:00.000+03:00,273.250.9649x29883,Hebert PLC,Meteorologist,1991-11-07,Niue,161435e9-9aee-43e2-9b3e-e74478b17ddd,9400,GP'),\n",
       " Row(name,email,address,registration_date,phone,company,job,birthdate,country,uuid,salary,country_code='Christopher Mitchell,swansonbrandon@example.net,\"Unit 5112 Box 9432, DPO AE 29780\",2024-06-01T00:00:00.000+03:00,614-376-6290x662,\"Rodriguez, Montoya and Harrison\",Risk analyst,1968-06-29,Liberia,943d1730-2d8d-47fc-a1d4-44ef1af766ff,9650,PN'),\n",
       " Row(name,email,address,registration_date,phone,company,job,birthdate,country,uuid,salary,country_code='Debbie Fritz,brandon67@example.net,\"59817 Jamie Courts, Elizabethport, PW 13818\",2024-02-23T00:00:00.000+03:00,735.730.3341x872,Morgan-Mccormick,Comptroller,1995-10-05,Kazakhstan,2acea246-c0d8-44cd-b79c-9108c89b20db,6300,BH'),\n",
       " Row(name,email,address,registration_date,phone,company,job,birthdate,country,uuid,salary,country_code='David Green,kmorales@example.com,\"Unit 0566 Box 3098, DPO AA 16740\",2024-04-04T00:00:00.000+03:00,6276438722,Fisher and Sons,Soil scientist,2000-04-13,Sweden,38eb5486-3f72-4bf2-bf6e-b4a937686226,15700,BF'),\n",
       " Row(name,email,address,registration_date,phone,company,job,birthdate,country,uuid,salary,country_code='Mark Villarreal,billymclean@example.com,\"USNV Henderson, FPO AA 53773\",2024-01-10T00:00:00.000+03:00,(958)491-2459,\"Moon, Martin and Rodgers\",\"Engineer, production\",1963-01-19,Benin,a39c7d42-6100-4375-86dc-472995020beb,5800,FM'),\n",
       " Row(name,email,address,registration_date,phone,company,job,birthdate,country,uuid,salary,country_code='Victoria Moses,lauraperez@example.org,\"595 Pearson Inlet Suite 524, East Allenhaven, NJ 80281\",2024-01-10T00:00:00.000+03:00,001-400-293-2777x937,Martinez-Cook,\"Surveyor, rural practice\",2002-07-16,Sweden,a9219747-3b0c-4f1f-b062-1d8d2e9948e1,2000,DE'),\n",
       " Row(name,email,address,registration_date,phone,company,job,birthdate,country,uuid,salary,country_code='Kristi Greene,kylechambers@example.org,\"52473 Christopher Vista, Owensstad, NC 86479\",2024-08-30T00:00:00.000+03:00,686-508-8637x739,Meadows-Cooper,Web designer,1968-08-25,Mozambique,219b3713-bf4b-4435-8b0d-ef1df8f26609,19950,CF'),\n",
       " Row(name,email,address,registration_date,phone,company,job,birthdate,country,uuid,salary,country_code='Jerry Schneider,david09@example.com,\"95666 Thompson Valleys Suite 662, Port Gary, GU 54009\",2024-05-29T00:00:00.000+03:00,5506264018,\"Mitchell, Patel and Wilson\",Immunologist,1980-07-15,Armenia,fe400eac-97e8-4e56-934e-e9c0d270139e,7300,CF'),\n",
       " Row(name,email,address,registration_date,phone,company,job,birthdate,country,uuid,salary,country_code='Aaron Young,bobbyalvarez@example.org,\"1629 David Point Suite 779, Bartontown, GU 59868\",2024-06-01T00:00:00.000+03:00,001-844-634-7600x168,Anderson-Mckenzie,Dentist,1984-01-13,Cote d\\'Ivoire,aeea107e-c544-4e37-9327-d5dfe9415062,4150,MW'),\n",
       " Row(name,email,address,registration_date,phone,company,job,birthdate,country,uuid,salary,country_code='Katherine Mclean,davisjoshua@example.net,\"Unit 8745 Box 8474, DPO AP 60242\",2024-08-30T00:00:00.000+03:00,(983)810-0325,Lopez Inc,Aid worker,1969-12-01,Liberia,ceadcb57-0334-40aa-9f73-5b291673380f,2650,MR'),\n",
       " Row(name,email,address,registration_date,phone,company,job,birthdate,country,uuid,salary,country_code='Jesse Wilcox,michael08@example.com,\"Unit 4950 Box 2532, DPO AA 01487\",2024-02-23T00:00:00.000+03:00,001-514-920-0980x7250,\"Coleman, Smith and Smith\",Patent examiner,1980-08-01,Gibraltar,9fb8ec0d-c1f6-47b4-819b-1d284aa289f9,16400,BJ'),\n",
       " Row(name,email,address,registration_date,phone,company,job,birthdate,country,uuid,salary,country_code='Carol Chen,ccarroll@example.com,\"919 Nelson Oval Suite 395, New Joannahaven, PR 39482\",2024-02-23T00:00:00.000+03:00,001-431-388-4979x462,Moore-Walker,Aid worker,1975-04-24,Bahrain,1e79df4a-cfcb-4049-a3ea-a47c1bbcaff5,2600,ER'),\n",
       " Row(name,email,address,registration_date,phone,company,job,birthdate,country,uuid,salary,country_code='Chad Turner,elizabeth46@example.org,\"772 Conrad Crossing, Yoderside, NJ 68254\",2024-09-03T00:00:00.000+03:00,001-331-458-6054x7538,\"Burnett, Guerrero and Bell\",English as a second language teacher,1965-09-02,Hungary,0b72f81c-4a14-44b1-ab93-48f3ce4dcd36,5100,KY'),\n",
       " Row(name,email,address,registration_date,phone,company,job,birthdate,country,uuid,salary,country_code='Scott Davis,jortega@example.org,\"00075 Garcia Turnpike, Woodview, MP 02790\",2024-05-29T00:00:00.000+03:00,+1-776-565-8208x680,\"Mccall, Gibson and Costa\",Architectural technologist,1991-09-10,Cambodia,44a4cee2-c58d-46f8-add1-2b6ce6da50b3,11750,BS'),\n",
       " Row(name,email,address,registration_date,phone,company,job,birthdate,country,uuid,salary,country_code='Nathan Duarte,adamseric@example.com,\"0329 Melissa Stream, Dodsonbury, NY 13221\",2024-08-30T00:00:00.000+03:00,2132700967,Reyes-Miller,Radio producer,1990-04-27,Guinea-Bissau,25f49da0-334d-433d-90ec-abd307dd78cd,13350,RW'),\n",
       " Row(name,email,address,registration_date,phone,company,job,birthdate,country,uuid,salary,country_code='Sierra Gonzalez,tammy57@example.com,\"1991 Armstrong Village Apt. 543, Herreraview, FL 33452\",2024-08-30T00:00:00.000+03:00,(685)405-2608x9305,\"Richards, Martinez and Collins\",Careers adviser,1993-01-02,Lao People\\'s Democratic Republic,f8a07278-2979-4375-bc85-6807371a215c,15800,WF'),\n",
       " Row(name,email,address,registration_date,phone,company,job,birthdate,country,uuid,salary,country_code='Amanda Smith,garybowman@example.net,\"853 Robin Isle Apt. 390, South Anthony, AK 69518\",2024-05-29T00:00:00.000+03:00,210-205-3191x225,Holmes Ltd,Management consultant,1986-03-22,Israel,802c812e-1af2-4a90-9ab5-1238071176aa,9000,MU'),\n",
       " Row(name,email,address,registration_date,phone,company,job,birthdate,country,uuid,salary,country_code='Katelyn Lee,robinfowler@example.net,\"58352 Morgan Unions, Tristanbury, DE 53088\",2024-04-04T00:00:00.000+03:00,721-677-0398,Brown PLC,\"Psychologist, counselling\",2001-06-18,United States Minor Outlying Islands,71745bd1-4170-453b-a10b-5ec92799dfef,17450,PM'),\n",
       " Row(name,email,address,registration_date,phone,company,job,birthdate,country,uuid,salary,country_code='David Carroll,evan06@example.org,\"3811 Gregory Row Suite 537, East David, IN 19273\",2024-04-04T00:00:00.000+03:00,(770)258-3479x647,\"Flores, Davis and Walker\",Photographer,1966-04-30,Reunion,f44fbdba-82fc-4265-a986-f78b0bd755ae,2450,BA'),\n",
       " Row(name,email,address,registration_date,phone,company,job,birthdate,country,uuid,salary,country_code='Corey Charles,yreed@example.net,\"516 Joy Fork, Port Chris, ND 92376\",2024-04-04T00:00:00.000+03:00,553.250.8693x8435,Wilson PLC,Bonds trader,1963-09-16,Myanmar,65f04295-2aba-49d0-b76e-04abed3a26ff,4250,BV'),\n",
       " Row(name,email,address,registration_date,phone,company,job,birthdate,country,uuid,salary,country_code='Walter Scott,tunderwood@example.net,\"62124 Kyle Views, East Jenniferberg, PR 97080\",2024-04-04T00:00:00.000+03:00,001-771-599-6654x112,Armstrong Ltd,Financial risk analyst,1983-05-12,Bangladesh,95dec3a6-5ddd-4c79-a561-b363d6c70c8f,4150,CM'),\n",
       " Row(name,email,address,registration_date,phone,company,job,birthdate,country,uuid,salary,country_code='John Williams,hicksemily@example.net,\"PSC 5593, Box 2318, APO AE 64005\",2024-03-12T00:00:00.000+03:00,656-343-4585x9304,\"Soto, Smith and Floyd\",Osteopath,1977-05-23,Swaziland,7d6a73f6-426e-4b18-b4d2-edbc16795534,16550,KM'),\n",
       " Row(name,email,address,registration_date,phone,company,job,birthdate,country,uuid,salary,country_code='Roy Martinez,nmorris@example.org,\"984 Taylor Garden, Smithburgh, GA 97591\",2024-05-29T00:00:00.000+03:00,616.576.8576x37898,\"Young, Patton and Ortiz\",\"Therapist, art\",1997-03-25,Italy,45f323ed-77b7-4a93-b9fa-c69877d5b795,9650,CG'),\n",
       " Row(name,email,address,registration_date,phone,company,job,birthdate,country,uuid,salary,country_code='Rachel Flores,justinjacobs@example.com,\"857 Moody Turnpike, West Markborough, MS 12069\",2024-08-30T00:00:00.000+03:00,+1-720-894-8415x996,\"Sanford, Young and Guerrero\",\"Engineer, technical sales\",1963-05-25,Italy,292e6464-d6f4-4d87-b5d6-dc28decab4f3,12400,ET'),\n",
       " Row(name,email,address,registration_date,phone,company,job,birthdate,country,uuid,salary,country_code='Nicholas Johnson,lisa89@example.com,\"48809 Lisa Falls Suite 259, New Amandashire, NY 98130\",2024-09-03T00:00:00.000+03:00,865-758-2900x1203,Sanchez Group,Homeopath,2002-08-05,Cook Islands,f76b9398-ad2e-458d-a39a-765af44ea9d6,2150,US'),\n",
       " Row(name,email,address,registration_date,phone,company,job,birthdate,country,uuid,salary,country_code='Renee Lee,whopkins@example.com,\"1663 Miller Common Apt. 644, East Annville, MT 16298\",2024-08-30T00:00:00.000+03:00,735.389.4157x0718,Ruiz-Edwards,Agricultural engineer,1987-06-15,Senegal,4eb5678f-acf8-436e-84f8-3d007d7658a3,15750,UY'),\n",
       " Row(name,email,address,registration_date,phone,company,job,birthdate,country,uuid,salary,country_code='Joseph Bradley,christopher99@example.com,\"69359 Wallace Alley Suite 077, New Christopher, AZ 36412\",2024-03-12T00:00:00.000+03:00,(345)882-2508x730,Stewart PLC,\"Horticulturist, commercial\",1988-06-20,United States of America,9f93d9d5-de16-48fd-b3e3-ccb16ff988a8,3900,VG'),\n",
       " Row(name,email,address,registration_date,phone,company,job,birthdate,country,uuid,salary,country_code='James Harper,leonard49@example.com,\"762 Peter Port Apt. 046, East Thomasfort, MO 08171\",2024-01-10T00:00:00.000+03:00,730-376-1777x6343,\"Taylor, Rosario and Shelton\",Economist,1986-12-29,Cayman Islands,ceb14ace-0cab-4ce8-bcea-ad018248c33a,10250,EH'),\n",
       " Row(name,email,address,registration_date,phone,company,job,birthdate,country,uuid,salary,country_code='Jeffery Roberts,davislinda@example.org,\"Unit 1035 Box 3345, DPO AE 14012\",2024-01-10T00:00:00.000+03:00,902.703.8906x499,Smith Inc,Contracting civil engineer,1982-06-10,Australia,62129b4f-d706-4a55-b150-3bd64e6bba90,8450,JM'),\n",
       " Row(name,email,address,registration_date,phone,company,job,birthdate,country,uuid,salary,country_code='Derrick Gutierrez,zcampbell@example.org,\"8772 Bailey Club Suite 331, Carolynstad, CT 29469\",2024-03-12T00:00:00.000+03:00,534.775.4870x1594,Cook-Garcia,Theatre manager,1977-12-26,Singapore,0d8564b2-9eef-4a3c-9f11-c03d4fd56628,17700,IT'),\n",
       " Row(name,email,address,registration_date,phone,company,job,birthdate,country,uuid,salary,country_code='Vicki Carter,jenniferklein@example.com,\"0468 Dana Lane, Port Tylerstad, NJ 24153\",2024-06-01T00:00:00.000+03:00,001-393-457-9597x40438,Wright-Huber,Animal nutritionist,1971-02-16,Mongolia,40c0a9b4-c114-4706-b927-b5b13030361b,8000,PE'),\n",
       " Row(name,email,address,registration_date,phone,company,job,birthdate,country,uuid,salary,country_code='Michelle Edwards,tristan87@example.com,\"86518 Ashley Station, North Andrewport, CT 89647\",2024-06-01T00:00:00.000+03:00,(688)349-4238,Hubbard-Richards,Architectural technologist,1973-11-20,Belgium,78ae3da3-c588-4111-bed6-2f677ebd7e12,10900,GB'),\n",
       " Row(name,email,address,registration_date,phone,company,job,birthdate,country,uuid,salary,country_code='Lisa Mitchell,kscott@example.com,\"637 Castro Loop, Freemanland, MH 50553\",2024-04-04T00:00:00.000+03:00,896-871-1601x321,Moore-Robinson,Surgeon,1964-09-08,Liechtenstein,49bbc827-a785-4fa1-a75c-c0e3269954bb,18150,KM'),\n",
       " Row(name,email,address,registration_date,phone,company,job,birthdate,country,uuid,salary,country_code='Brendan Wang,frankgray@example.org,\"161 Aaron Via, Karaberg, MN 01040\",2024-03-12T00:00:00.000+03:00,768.912.5816x3873,\"Jenkins, Anderson and Kirk\",\"Programmer, applications\",1961-08-26,Liechtenstein,56f78d56-17e2-4e5b-a41e-1c397e2a9d43,8550,EC'),\n",
       " Row(name,email,address,registration_date,phone,company,job,birthdate,country,uuid,salary,country_code='Michael Watson,rthomas@example.org,\"77915 Ryan Shoals Apt. 332, North Christopherbury, OR 46862\",2024-03-12T00:00:00.000+03:00,973.484.3689x366,\"Greene, Hayes and George\",Industrial/product designer,2005-02-07,Aruba,07143964-a003-4380-9780-31bf02367ba0,19650,MN'),\n",
       " Row(name,email,address,registration_date,phone,company,job,birthdate,country,uuid,salary,country_code='Vanessa Wright,diazkimberly@example.org,\"51285 Robert Park Suite 139, East Regina, CT 30031\",2024-04-04T00:00:00.000+03:00,486.789.6331,Jackson and Sons,Physiological scientist,1969-10-04,Faroe Islands,bd559c88-2105-45e3-9027-1bee298f53df,3000,AW'),\n",
       " Row(name,email,address,registration_date,phone,company,job,birthdate,country,uuid,salary,country_code='Shelly Chambers,carolyn64@example.com,\"PSC 7119, Box 8854, APO AP 45813\",2024-09-03T00:00:00.000+03:00,434.717.5040,\"Burns, Berry and Young\",Advice worker,1972-05-09,British Indian Ocean Territory (Chagos Archipelago),210975d3-c826-4a5e-aae8-9fa18505c6f4,3250,MZ'),\n",
       " Row(name,email,address,registration_date,phone,company,job,birthdate,country,uuid,salary,country_code='Tonya Faulkner,fowlerjohnny@example.org,\"224 Hood Field Apt. 204, Isabelstad, GU 51581\",2024-04-04T00:00:00.000+03:00,001-231-290-0854x7853,Weber and Sons,Further education lecturer,1975-07-06,Uzbekistan,2e4d73d1-a2f8-42dd-9923-e39a69b0ad4d,6350,BD'),\n",
       " Row(name,email,address,registration_date,phone,company,job,birthdate,country,uuid,salary,country_code='Carlos Oconnor,ychambers@example.net,\"67375 Smith Square, Port Kaitlynstad, MO 86062\",2024-05-29T00:00:00.000+03:00,489.649.5158x876,\"Malone, Martin and Stewart\",\"Horticulturist, commercial\",1979-07-14,Turkmenistan,eb75286c-5ac2-4776-a3ba-d244410e6802,13700,TV'),\n",
       " Row(name,email,address,registration_date,phone,company,job,birthdate,country,uuid,salary,country_code='Sheryl Thompson,umitchell@example.org,\"PSC 6834, Box 7030, APO AP 98681\",2024-03-12T00:00:00.000+03:00,472-815-7153,\"Schmidt, Washington and Rush\",Illustrator,2005-04-07,Mali,3c4a1453-5d97-4acc-85b8-b7603637e1c6,14150,PA'),\n",
       " Row(name,email,address,registration_date,phone,company,job,birthdate,country,uuid,salary,country_code='Stacey Callahan,julie64@example.org,\"304 Thomas Lights, West Michaelhaven, ID 68428\",2024-09-03T00:00:00.000+03:00,+1-972-844-5595,Barnes PLC,\"Engineer, technical sales\",1992-07-26,Maldives,fe9f40a2-53d2-4d6d-b933-ef334608ff8a,9400,NL'),\n",
       " Row(name,email,address,registration_date,phone,company,job,birthdate,country,uuid,salary,country_code='Christopher Burke,kimberly11@example.net,\"644 Owens Way Suite 997, Murillomouth, WA 14845\",2024-04-04T00:00:00.000+03:00,596.992.1773,Scott PLC,\"Accountant, chartered public finance\",1967-12-27,British Virgin Islands,043ebf9a-a03c-463f-8612-da21dd4ca425,14250,CW'),\n",
       " Row(name,email,address,registration_date,phone,company,job,birthdate,country,uuid,salary,country_code='Taylor Gregory,sandersdavid@example.com,\"477 Jackson Roads, Robertsberg, VA 17698\",2024-02-23T00:00:00.000+03:00,+1-983-859-1589x88696,Strong PLC,Environmental manager,1966-05-24,Canada,ef3c627b-7a7b-4ab3-9054-3beab01d19cb,16300,SJ'),\n",
       " Row(name,email,address,registration_date,phone,company,job,birthdate,country,uuid,salary,country_code='Brandon Cox,mario82@example.net,\"136 Parker Gardens Apt. 105, Bassmouth, MH 10539\",2024-09-03T00:00:00.000+03:00,(792)781-3764,\"Nichols, Davis and Russell\",Broadcast engineer,1973-04-27,Niue,7ab6d637-a9d7-4aae-8602-3de1f6cc8ad2,2350,DJ'),\n",
       " Row(name,email,address,registration_date,phone,company,job,birthdate,country,uuid,salary,country_code='Casey Obrien,mitchelljenkins@example.org,\"798 Cantu Stream, Simpsonside, NJ 71640\",2024-02-23T00:00:00.000+03:00,944.242.0773,Galvan LLC,Chief Financial Officer,2002-01-02,Mexico,bf5c7571-b998-4b0b-ad25-c9c5d32742b7,14800,DJ'),\n",
       " Row(name,email,address,registration_date,phone,company,job,birthdate,country,uuid,salary,country_code='Haley Gordon,kelsey16@example.com,\"69039 Wong Roads, Smithmouth, AL 89074\",2024-03-12T00:00:00.000+03:00,964.974.8659,Davis-Miller,Data scientist,1988-01-30,Rwanda,b7d143e0-a428-4c26-8821-44ae57f40854,14550,TR'),\n",
       " Row(name,email,address,registration_date,phone,company,job,birthdate,country,uuid,salary,country_code='Garrett Norton,michael39@example.net,\"68473 Cruz Ville Apt. 428, Port Valerie, WA 27871\",2024-01-10T00:00:00.000+03:00,539-606-2745x885,Garcia-Mcfarland,Astronomer,1992-08-14,Barbados,b04d1923-8b20-41a9-9911-73625b8152e7,19500,EE'),\n",
       " Row(name,email,address,registration_date,phone,company,job,birthdate,country,uuid,salary,country_code='Wayne Hodges,shermanspencer@example.org,\"72849 Gonzales Courts, West Jacob, VI 90640\",2024-09-03T00:00:00.000+03:00,299-414-6759x31335,Chapman-Nolan,Call centre manager,1994-08-26,Guyana,e784fdfc-571c-4288-8931-54864e20ebbe,14550,KM'),\n",
       " Row(name,email,address,registration_date,phone,company,job,birthdate,country,uuid,salary,country_code='Christine Mckay,stephenjackson@example.net,\"79909 Sanchez Mission, Johnton, AL 45125\",2024-03-12T00:00:00.000+03:00,+1-367-513-7987x080,\"Castillo, Ward and Gardner\",Magazine journalist,1994-05-02,Moldova,67182252-f22e-442f-8519-4975b6000e04,17400,BS'),\n",
       " Row(name,email,address,registration_date,phone,company,job,birthdate,country,uuid,salary,country_code='Wendy Gibson,erinmyers@example.org,\"1827 Elizabeth Dam, West Sandraside, OH 58096\",2024-08-30T00:00:00.000+03:00,274.804.6933x282,\"Robinson, Moore and Sanchez\",Scientific laboratory technician,1966-07-16,Faroe Islands,3dde170a-5d5c-4b40-97c6-164c068b8bca,7550,SS'),\n",
       " Row(name,email,address,registration_date,phone,company,job,birthdate,country,uuid,salary,country_code='Allison Clayton,kmartin@example.net,\"1633 Michele Underpass, Richardsonchester, KS 05153\",2024-08-30T00:00:00.000+03:00,001-384-399-5818,\"Holloway, Hernandez and Blankenship\",Barrister\\'s clerk,1973-09-22,Romania,5d43764e-3205-42fb-b2b9-ac865dac97ee,8000,AM'),\n",
       " Row(name,email,address,registration_date,phone,company,job,birthdate,country,uuid,salary,country_code='Frances Perez,peter54@example.com,\"38379 Debra Ferry Suite 796, East Michael, PR 36192\",2024-06-01T00:00:00.000+03:00,001-289-555-3863x55974,Marks-Stone,\"Scientist, research (physical sciences)\",1985-05-30,Bulgaria,ca59e1ab-d77d-413a-ac19-cd5363e00139,12000,BS'),\n",
       " Row(name,email,address,registration_date,phone,company,job,birthdate,country,uuid,salary,country_code='Richard Bowers,james23@example.net,\"285 Anthony Center, Port Brianstad, CT 62517\",2024-04-04T00:00:00.000+03:00,392-485-9630x9935,Powell-Smith,Systems developer,1999-11-23,Croatia,0fe31f1b-ffff-4c11-a855-6f42ae593ff1,13100,AX'),\n",
       " Row(name,email,address,registration_date,phone,company,job,birthdate,country,uuid,salary,country_code='Ashley Garcia,brett10@example.com,\"071 Lin Grove Apt. 816, Kaitlynton, OK 26800\",2024-02-23T00:00:00.000+03:00,001-975-357-2812,Walsh-Molina,Tree surgeon,1963-07-21,Lesotho,70ceba32-0f75-42b8-ba17-627f89f2d2e4,10450,PS'),\n",
       " Row(name,email,address,registration_date,phone,company,job,birthdate,country,uuid,salary,country_code='Donna Cox,sandra06@example.org,\"415 Conrad Meadow Suite 087, West Hectorview, OH 10974\",2024-01-10T00:00:00.000+03:00,7326842505,\"Gross, Garza and Obrien\",\"Education officer, museum\",1963-03-01,Afghanistan,52ee8445-b43c-4093-94c2-3931444f6bdb,12450,BM'),\n",
       " Row(name,email,address,registration_date,phone,company,job,birthdate,country,uuid,salary,country_code='Kimberly Jenkins,tiffanybridges@example.org,\"20150 Walton Burgs Suite 439, West Kathy, GU 07678\",2024-09-03T00:00:00.000+03:00,764-250-2822,Huber-Murphy,Adult nurse,1985-05-21,Seychelles,94e06466-9698-4343-9f6a-63a2529713b8,18450,DZ'),\n",
       " Row(name,email,address,registration_date,phone,company,job,birthdate,country,uuid,salary,country_code='Nathan Waller,vincentsaunders@example.com,\"912 Reyes Corners Apt. 847, Jenniferborough, CA 75343\",2024-09-03T00:00:00.000+03:00,+1-297-779-7594x615,\"Sanchez, Morris and Cooke\",\"Psychotherapist, dance movement\",1984-06-10,Oman,b7fb0244-1d8a-4116-8c6d-10219a5659a4,2650,CI'),\n",
       " Row(name,email,address,registration_date,phone,company,job,birthdate,country,uuid,salary,country_code='Sarah Chambers,vponce@example.com,\"71149 Bailey Parkway, South Michael, WY 52156\",2024-09-03T00:00:00.000+03:00,323.459.9432x1485,\"Watson, Mills and Green\",Site engineer,1997-05-27,Monaco,5c5611e6-5355-4e59-9253-1f9afad5b5b4,9050,CK'),\n",
       " Row(name,email,address,registration_date,phone,company,job,birthdate,country,uuid,salary,country_code='Corey Allen,brenda32@example.com,\"2972 Gibson Squares Suite 814, Port Jerry, MA 13636\",2024-06-01T00:00:00.000+03:00,243.529.0529x6895,\"Moore, Jones and Chung\",Animal nutritionist,1964-08-25,Antigua and Barbuda,4392af5c-ab8e-416c-8d77-0070d1f1820e,6700,CM'),\n",
       " Row(name,email,address,registration_date,phone,company,job,birthdate,country,uuid,salary,country_code='Natalie Briggs,phughes@example.org,\"76155 Leblanc Point Apt. 397, Doyletown, AS 81096\",2024-01-10T00:00:00.000+03:00,001-550-644-6653x334,\"Shea, Taylor and Travis\",Higher education careers adviser,1962-05-26,United States of America,a137ddc9-bfa9-4b2d-928f-b49491f09d90,7600,KI'),\n",
       " Row(name,email,address,registration_date,phone,company,job,birthdate,country,uuid,salary,country_code='Jesus Morales,marissa30@example.net,\"286 Lynn Crescent Suite 442, Nicoleview, CO 95970\",2024-06-01T00:00:00.000+03:00,001-663-257-7205x9072,\"Johnson, Bowers and Tran\",\"Conservation officer, historic buildings\",1994-05-20,Malaysia,b9319180-e099-439c-ad9b-7998376d3955,13300,CM'),\n",
       " Row(name,email,address,registration_date,phone,company,job,birthdate,country,uuid,salary,country_code='Richard Adams,brandonperkins@example.org,\"380 Jason Mission Suite 505, Robertsstad, MN 85603\",2024-05-29T00:00:00.000+03:00,486.428.3946x1358,\"Johnson, Allen and Doyle\",Private music teacher,2004-01-01,Barbados,cbface85-429a-4bef-b84e-d6481c4da427,5750,LY'),\n",
       " Row(name,email,address,registration_date,phone,company,job,birthdate,country,uuid,salary,country_code='Monica Barry,wmorales@example.org,\"553 Owens Extensions Apt. 132, Lake Dwayne, ID 25350\",2024-05-29T00:00:00.000+03:00,(636)623-3880,Bell Ltd,\"Engineer, manufacturing\",1985-11-19,Isle of Man,d33498df-1bb6-4b41-8287-32ed0e408a52,7800,BJ'),\n",
       " Row(name,email,address,registration_date,phone,company,job,birthdate,country,uuid,salary,country_code='Angelica Cortez,gutierrezcarol@example.org,\"189 Velasquez Ramp Suite 690, Jacksonton, CA 28744\",2024-03-12T00:00:00.000+03:00,+1-567-292-9447,\"Brown, Romero and Fowler\",Market researcher,1976-12-21,New Caledonia,b98769e1-7790-4e03-9d31-05f16bbb90d3,3000,UM'),\n",
       " Row(name,email,address,registration_date,phone,company,job,birthdate,country,uuid,salary,country_code='Phyllis Lynch,jasonreid@example.org,\"907 James Manor Apt. 703, West Anthony, ND 31052\",2024-09-03T00:00:00.000+03:00,001-967-424-4217x7864,Green-Morrison,\"Chemist, analytical\",1965-05-24,Oman,9732d1b2-3af5-4334-8b7e-377664ca4376,15400,GD'),\n",
       " Row(name,email,address,registration_date,phone,company,job,birthdate,country,uuid,salary,country_code='Natalie Watson,jill37@example.com,\"82253 Perry Cliffs Apt. 130, Howardborough, HI 87104\",2024-06-01T00:00:00.000+03:00,699-601-3569,Valenzuela Group,Exercise physiologist,1996-08-14,Heard Island and McDonald Islands,ce2aca59-fa90-4ab9-90c5-fc3861f83069,6250,BZ'),\n",
       " Row(name,email,address,registration_date,phone,company,job,birthdate,country,uuid,salary,country_code='Jacob Watson,nwatkins@example.org,\"002 Rose Forge, Lake Bryceport, AL 78791\",2024-04-04T00:00:00.000+03:00,001-262-458-1648x43996,Bush-Lawrence,Horticultural consultant,2000-08-10,Kenya,94118101-ac4f-48de-95ff-f53aae766dd6,15950,BQ'),\n",
       " Row(name,email,address,registration_date,phone,company,job,birthdate,country,uuid,salary,country_code='Christine Key,yhammond@example.com,\"4095 Mcconnell Route, East Zacharyborough, IA 95456\",2024-04-04T00:00:00.000+03:00,(650)987-9144,Henson LLC,Therapeutic radiographer,1999-01-04,Venezuela,4535469f-28bf-4e56-9708-cab4d8299a31,12050,BE'),\n",
       " Row(name,email,address,registration_date,phone,company,job,birthdate,country,uuid,salary,country_code='John Burke,ijones@example.com,\"580 Peterson Summit, East Marisaborough, OH 07201\",2024-08-30T00:00:00.000+03:00,(869)623-7643x6399,\"Watson, Green and Hudson\",\"Solicitor, Scotland\",1966-12-12,Iran,cb116346-48db-4144-afd8-e83138471bc2,19400,SZ'),\n",
       " Row(name,email,address,registration_date,phone,company,job,birthdate,country,uuid,salary,country_code='Brittany Cooper,paul70@example.org,\"2414 Young Cape, East Frederickfurt, UT 28360\",2024-09-03T00:00:00.000+03:00,5864142538,\"Price, Woods and Thornton\",Land/geomatics surveyor,1978-11-21,Seychelles,2c9256cd-9c9a-4942-b8c0-3a2d767403f4,12050,IE'),\n",
       " Row(name,email,address,registration_date,phone,company,job,birthdate,country,uuid,salary,country_code='Jack Stevenson,hayesmatthew@example.org,\"55763 Johnson Underpass Apt. 045, East Brittanyville, NH 84674\",2024-08-30T00:00:00.000+03:00,7542290298,Morgan Ltd,Mechanical engineer,1989-12-24,Gabon,3ad9ac53-84ab-4f8e-bb98-98943b5c8f49,11200,MM'),\n",
       " Row(name,email,address,registration_date,phone,company,job,birthdate,country,uuid,salary,country_code='Jordan Johnson,carterrobert@example.org,\"9316 Houston Center Suite 310, Yvonneton, MN 56714\",2024-05-29T00:00:00.000+03:00,001-884-603-8329,\"Washington, Carr and Mitchell\",Public librarian,1965-01-25,Portugal,ad20b837-a6c6-416a-a962-4f7920763ed2,7400,TC'),\n",
       " Row(name,email,address,registration_date,phone,company,job,birthdate,country,uuid,salary,country_code='William Thompson,zsmall@example.net,\"175 Watts Islands Suite 826, New Lisa, WI 22324\",2024-01-10T00:00:00.000+03:00,001-467-816-3143x66758,\"Pierce, Haas and Cruz\",\"Production designer, theatre/television/film\",1960-07-16,Gibraltar,fc449858-6307-4da6-a6e4-dd094c44f77c,11700,KE'),\n",
       " Row(name,email,address,registration_date,phone,company,job,birthdate,country,uuid,salary,country_code='Brian Sanchez,dwayne38@example.net,\"3193 Jeremy Plains, Nguyenfurt, WY 06254\",2024-03-12T00:00:00.000+03:00,534-430-4277x574,Huerta Inc,Broadcast presenter,1991-03-09,Benin,71063046-3c2c-4d28-a251-ee3a833018b9,6050,TZ'),\n",
       " Row(name,email,address,registration_date,phone,company,job,birthdate,country,uuid,salary,country_code='Anna Hill,erik90@example.net,\"2557 Monica Cliff, Colinmouth, OK 83986\",2024-04-04T00:00:00.000+03:00,333.875.0367,Davis-Elliott,Media buyer,1991-03-19,Bahamas,f7072bc1-3806-4d22-ab4b-689ae80415c7,2150,GS'),\n",
       " Row(name,email,address,registration_date,phone,company,job,birthdate,country,uuid,salary,country_code='Ann Evans,rebecca52@example.net,\"7127 Carter Flats Suite 811, Lake William, NY 75500\",2024-05-29T00:00:00.000+03:00,001-212-911-9447,Mccormick-Macias,\"Therapist, occupational\",1975-02-22,British Indian Ocean Territory (Chagos Archipelago),f25326ed-2d98-49f7-9477-3d6d5a7d2087,6650,KE'),\n",
       " Row(name,email,address,registration_date,phone,company,job,birthdate,country,uuid,salary,country_code='Charles Clayton,browntheresa@example.org,\"2519 Travis Parkway, Lake Jennifer, MN 93218\",2024-09-03T00:00:00.000+03:00,(832)581-5573,Butler-Martin,Risk manager,1968-01-16,Isle of Man,bc93a47c-0aaf-4462-b24a-8621ff99fcbe,8100,IT'),\n",
       " Row(name,email,address,registration_date,phone,company,job,birthdate,country,uuid,salary,country_code='Rebecca Hernandez,phatfield@example.org,\"183 Mendoza Viaduct, North Audreyfort, WY 49715\",2024-03-12T00:00:00.000+03:00,740-762-1361x5143,\"Petersen, Davis and Cole\",\"Sales professional, IT\",1994-09-16,Lebanon,86bc7370-aa12-4cf1-aff1-e402cebece27,10000,CY'),\n",
       " Row(name,email,address,registration_date,phone,company,job,birthdate,country,uuid,salary,country_code='Erik Hernandez,erik56@example.org,\"91325 Daniel Mill, Lake Jennifer, VT 63156\",2024-03-12T00:00:00.000+03:00,338.900.0864x92763,Smith Group,\"Investment banker, corporate\",1968-05-24,South Georgia and the South Sandwich Islands,f7602ede-9fd5-4c24-8e50-0e3b2d0d6984,15200,WS'),\n",
       " Row(name,email,address,registration_date,phone,company,job,birthdate,country,uuid,salary,country_code='Lindsey Sanchez,logan26@example.org,\"501 Reyes Courts Suite 929, Lake Danielle, WY 13825\",2024-06-01T00:00:00.000+03:00,(563)634-0888x214,\"Solis, Holmes and Joyce\",Clinical embryologist,1964-09-03,Panama,6b53016f-05ed-428f-a34c-75b73c9f5c67,9950,KY'),\n",
       " Row(name,email,address,registration_date,phone,company,job,birthdate,country,uuid,salary,country_code='William Anderson,josephmcgee@example.org,\"80900 John Knolls, Lake William, PR 95458\",2024-08-30T00:00:00.000+03:00,(917)395-5396,Briggs Group,Video editor,2001-10-06,Burkina Faso,df86c479-35e6-43bf-a266-366a485e0dd5,2950,MC'),\n",
       " Row(name,email,address,registration_date,phone,company,job,birthdate,country,uuid,salary,country_code='Gina Haley,johnsonraymond@example.com,\"USCGC Macdonald, FPO AA 70645\",2024-09-03T00:00:00.000+03:00,+1-307-752-0815x90927,Williams Inc,Town planner,1977-01-24,Portugal,01f3cd55-a3c2-478a-8125-d33903c6bb1a,8600,DE'),\n",
       " Row(name,email,address,registration_date,phone,company,job,birthdate,country,uuid,salary,country_code='Joel Bell,perezmargaret@example.com,\"26595 Gonzalez Hill, Brownside, PW 41045\",2024-05-29T00:00:00.000+03:00,+1-869-444-4500x4711,Crosby Inc,Aeronautical engineer,1974-07-07,Barbados,48d4bbc1-6fbb-433a-aee4-4e07f8d21ee1,11550,AT'),\n",
       " Row(name,email,address,registration_date,phone,company,job,birthdate,country,uuid,salary,country_code='Marissa Price,ugates@example.org,\"254 Darlene Spur, East Kurt, AK 81036\",2024-09-03T00:00:00.000+03:00,677-369-4372x29505,Graves Group,Hydrogeologist,1982-04-06,Korea,f3e6f494-eea0-4a58-8125-f97c49f8594e,8300,NO'),\n",
       " Row(name,email,address,registration_date,phone,company,job,birthdate,country,uuid,salary,country_code='Cynthia Peterson,maxmiller@example.net,\"93833 Page Pines, New Makaylafurt, KS 17721\",2024-06-01T00:00:00.000+03:00,+1-406-688-8570,\"Evans, Hardin and Meyer\",Press sub,1980-05-11,Wallis and Futuna,3597e827-f6da-4321-9565-fe901d328c38,11750,TL'),\n",
       " Row(name,email,address,registration_date,phone,company,job,birthdate,country,uuid,salary,country_code='Deborah West,erica61@example.org,\"6726 Katie Union, Harringtonchester, NE 33952\",2024-03-12T00:00:00.000+03:00,+1-777-706-7579,\"Martin, Archer and Collins\",Water quality scientist,1995-04-18,Singapore,f27a5836-4238-4264-9f09-3c153b9ec4b9,7800,NU'),\n",
       " Row(name,email,address,registration_date,phone,company,job,birthdate,country,uuid,salary,country_code='Stacy Villegas,zperez@example.com,\"08469 Perez Hill, North Donald, IL 95560\",2024-09-03T00:00:00.000+03:00,(228)241-0380,Reese-Kidd,Architectural technologist,1963-10-10,Bosnia and Herzegovina,d9889ca4-694d-43aa-8087-99a9945f8b82,11750,LC'),\n",
       " Row(name,email,address,registration_date,phone,company,job,birthdate,country,uuid,salary,country_code='Christopher Kemp,brenda90@example.com,\"15634 Brenda Valley Apt. 858, Thomasmouth, UT 16847\",2024-05-29T00:00:00.000+03:00,(331)445-9427x743,Bowen-Rodriguez,Dance movement psychotherapist,1986-12-27,Korea,d880a470-833b-499c-934d-8d235bb6c185,3400,TJ'),\n",
       " Row(name,email,address,registration_date,phone,company,job,birthdate,country,uuid,salary,country_code='Carolyn Allen,stacey30@example.org,\"2890 Rhodes Path, Nicholasfort, VA 40637\",2024-05-29T00:00:00.000+03:00,6786950601,Smith LLC,Drilling engineer,2004-10-02,Zimbabwe,c7cf73aa-97d7-462a-89d2-58fd6dfebe7c,9600,CN'),\n",
       " Row(name,email,address,registration_date,phone,company,job,birthdate,country,uuid,salary,country_code='Carrie Wong,terricampbell@example.org,\"650 Donna Rapid Apt. 281, Frazierview, VA 27723\",2024-01-10T00:00:00.000+03:00,001-945-434-9331x463,Stafford-Garcia,Metallurgist,1959-08-31,Gabon,da9b6521-d213-4621-ac15-4baacb5998e3,18300,BA'),\n",
       " Row(name,email,address,registration_date,phone,company,job,birthdate,country,uuid,salary,country_code='Richard Reynolds,rreilly@example.net,\"61583 Michael Spurs, Boydburgh, RI 44028\",2024-01-10T00:00:00.000+03:00,332-210-6842,\"Butler, Harris and Greer\",Actuary,2003-03-23,Guinea-Bissau,7c24bb53-7c08-4278-8d34-40bbd60d3165,10000,FO'),\n",
       " Row(name,email,address,registration_date,phone,company,job,birthdate,country,uuid,salary,country_code='Mr. Mario Jackson PhD,jerry82@example.com,\"477 Amanda Route Apt. 431, Mullenstad, VT 44590\",2024-06-01T00:00:00.000+03:00,001-495-624-8036,\"Scott, Little and Green\",Amenity horticulturist,2003-09-24,Namibia,8dd0c0d5-cbcd-4ce4-9605-c44d1156893f,17000,GU'),\n",
       " Row(name,email,address,registration_date,phone,company,job,birthdate,country,uuid,salary,country_code='James Hampton,bookerjason@example.com,\"789 Anthony Ports, Turnerfurt, NC 76161\",2024-05-29T00:00:00.000+03:00,+1-498-262-3737x6728,\"Howard, Garcia and Carroll\",Water quality scientist,1961-12-27,Falkland Islands (Malvinas),585e3bfd-eeed-404b-87a3-389f15ba6f4d,14950,FK'),\n",
       " Row(name,email,address,registration_date,phone,company,job,birthdate,country,uuid,salary,country_code='Michael Crawford,haley94@example.net,\"013 Bowen Circle, Ellisland, SD 08950\",2024-02-23T00:00:00.000+03:00,+1-294-967-7328x4020,Ibarra-Stuart,Nature conservation officer,1999-09-05,Colombia,dc4c212e-e112-486c-831c-acb7de0aeaed,10850,PM'),\n",
       " Row(name,email,address,registration_date,phone,company,job,birthdate,country,uuid,salary,country_code='Shelly Wood,alanhunt@example.com,\"PSC 4833, Box 6139, APO AE 93718\",2024-08-30T00:00:00.000+03:00,+1-893-416-7887x364,Valdez-Terry,\"Buyer, industrial\",1990-12-31,Hungary,134efc52-58a2-4d57-bad8-0b9c32cc7cbf,17700,GW'),\n",
       " Row(name,email,address,registration_date,phone,company,job,birthdate,country,uuid,salary,country_code='Lindsey Wood,zachary91@example.org,\"37573 Rhonda Union, North Johnville, GA 51940\",2024-01-10T00:00:00.000+03:00,001-486-359-2097x31450,\"Pearson, Gonzales and Higgins\",Clinical cytogeneticist,1993-01-02,Ecuador,cd6f7ba1-36a5-44ba-9095-833be49d7d4f,18000,WF'),\n",
       " Row(name,email,address,registration_date,phone,company,job,birthdate,country,uuid,salary,country_code='Rodney Avila,rmeyers@example.com,\"15500 Tonya Valley Suite 416, West Diana, MO 98542\",2024-04-04T00:00:00.000+03:00,001-990-893-6667x9489,Price LLC,Soil scientist,1964-09-17,North Macedonia,1a1020c3-1dd7-4da7-8675-d62dc5745631,14000,MS'),\n",
       " Row(name,email,address,registration_date,phone,company,job,birthdate,country,uuid,salary,country_code='Sheila Hebert,angela16@example.net,\"85387 Anderson Park, Summerstown, IN 82617\",2024-09-03T00:00:00.000+03:00,4719076119,Matthews and Sons,Learning disability nurse,1977-11-01,Northern Mariana Islands,d153c405-209f-4d8a-aa19-9cf9622f9e28,16450,DJ'),\n",
       " Row(name,email,address,registration_date,phone,company,job,birthdate,country,uuid,salary,country_code='Kelly Jones,monicahernandez@example.net,\"5026 Franklin Circles, Maryburgh, NC 05418\",2024-01-10T00:00:00.000+03:00,+1-819-356-6764,Harris Inc,Commercial art gallery manager,1986-07-27,Haiti,ce80c001-68f0-4413-8c8a-0238d896e83b,19200,MZ'),\n",
       " Row(name,email,address,registration_date,phone,company,job,birthdate,country,uuid,salary,country_code='Stephanie Moore,jgreene@example.org,\"USNV Richardson, FPO AE 76173\",2024-05-29T00:00:00.000+03:00,+1-797-369-3349x83446,Morales-Montgomery,Futures trader,1983-10-24,El Salvador,5048500a-9df7-49a3-99ac-04317d263967,13050,BZ'),\n",
       " Row(name,email,address,registration_date,phone,company,job,birthdate,country,uuid,salary,country_code='Jessica Callahan,richardsonpaul@example.com,\"45644 Luna Greens, Laraville, UT 71078\",2024-02-23T00:00:00.000+03:00,276-719-2723x6045,Hughes PLC,\"Designer, furniture\",1984-03-05,Mauritius,fef61afc-78a3-48a2-a4f3-5a06b35fc544,3250,TW'),\n",
       " Row(name,email,address,registration_date,phone,company,job,birthdate,country,uuid,salary,country_code='Randall Avery,lsanders@example.net,\"16504 Amanda Extension Apt. 089, Snowport, MO 19183\",2024-04-04T00:00:00.000+03:00,001-483-996-6299,\"Diaz, Cortez and Skinner\",Food technologist,1984-08-01,Portugal,b21abcc3-6dce-4575-b623-010c2092ff25,18800,ZA'),\n",
       " Row(name,email,address,registration_date,phone,company,job,birthdate,country,uuid,salary,country_code='April Roberts,patriciamartinez@example.net,\"49442 Mary Green, North Michelleborough, ND 06413\",2024-01-10T00:00:00.000+03:00,992.956.3312,Curtis and Sons,Dentist,1995-10-25,Sao Tome and Principe,24ef2c8f-ccb5-4998-a4f4-d6866cf96605,9550,GW'),\n",
       " Row(name,email,address,registration_date,phone,company,job,birthdate,country,uuid,salary,country_code='Abigail Miller,jenningsdarlene@example.net,\"3958 Ronald Brooks Suite 327, New Dustinfurt, GU 18555\",2024-09-03T00:00:00.000+03:00,+1-995-669-8485x040,Boyle Group,\"Chemist, analytical\",1978-02-27,Oman,15ecbc2d-27c0-4c37-afeb-58312545cde8,12750,UY'),\n",
       " Row(name,email,address,registration_date,phone,company,job,birthdate,country,uuid,salary,country_code='Courtney Wilson,brownrichard@example.net,\"679 Kimberly Meadows Suite 304, New Janet, MH 27446\",2024-01-10T00:00:00.000+03:00,964-331-3589x8204,Nguyen-Stewart,TEFL teacher,1962-05-20,Tanzania,8750af20-8a7f-4e7d-8c6d-148f87557e5f,2600,CL'),\n",
       " Row(name,email,address,registration_date,phone,company,job,birthdate,country,uuid,salary,country_code='Tim Zhang,kayla55@example.org,\"907 Rodriguez Plains Apt. 828, East Connie, CA 45847\",2024-09-03T00:00:00.000+03:00,670.477.9890,Stanley-Schroeder,Water engineer,1968-08-21,Panama,0eb62079-cccb-4ca8-a87a-f83e7bab91e1,16550,KY'),\n",
       " Row(name,email,address,registration_date,phone,company,job,birthdate,country,uuid,salary,country_code='Stacey Figueroa,michael89@example.org,\"1135 James Oval Apt. 239, West Seanmouth, HI 22725\",2024-01-10T00:00:00.000+03:00,(556)353-0214x3740,Gray Group,Environmental consultant,1987-11-19,Yemen,042204af-70fb-443a-a9b7-0708e7e79d76,2600,ML'),\n",
       " Row(name,email,address,registration_date,phone,company,job,birthdate,country,uuid,salary,country_code='Benjamin House,karen38@example.org,\"5438 Schneider Pike Suite 689, Port Suzanne, LA 21394\",2024-06-01T00:00:00.000+03:00,440.395.9900x2191,Erickson-Ramirez,Adult guidance worker,1961-05-17,Israel,f2020345-993e-4064-b121-65b79bf2cae9,10050,YE'),\n",
       " Row(name,email,address,registration_date,phone,company,job,birthdate,country,uuid,salary,country_code='Justin James,nancywilliams@example.net,\"USS Carpenter, FPO AA 38362\",2024-06-01T00:00:00.000+03:00,534.205.7738x8367,\"Coleman, Wilson and Barnes\",Facilities manager,1994-11-27,Tokelau,eb8564da-3515-4182-8f67-3ac6d3bf2b10,12300,ID'),\n",
       " Row(name,email,address,registration_date,phone,company,job,birthdate,country,uuid,salary,country_code='Ryan Cook,melissamoreno@example.net,\"779 Sean Hollow Suite 049, Nelsonborough, NE 56829\",2024-04-04T00:00:00.000+03:00,763.699.7021x3178,Watkins Group,Counselling psychologist,1973-11-28,Luxembourg,4c01f0ce-b389-4a2d-a513-78db5cbb9630,16100,MV'),\n",
       " Row(name,email,address,registration_date,phone,company,job,birthdate,country,uuid,salary,country_code='Sandra Clayton,ashleygreen@example.org,\"8102 Jeffrey Circles Suite 460, Port Jessicaborough, HI 87937\",2024-03-12T00:00:00.000+03:00,695-964-6075x9551,Ray PLC,Estate manager/land agent,1979-02-12,Maldives,ef26707f-d7f3-4e53-96da-70c09b7ed482,6900,TT'),\n",
       " Row(name,email,address,registration_date,phone,company,job,birthdate,country,uuid,salary,country_code='Crystal Gordon,pattersonbarbara@example.net,\"533 Moore Fork Apt. 497, West Saraland, WV 59026\",2024-06-01T00:00:00.000+03:00,956.734.4633x63091,Hodges PLC,\"Conservation officer, historic buildings\",2004-01-01,Suriname,38d41fd2-1361-485d-a53a-48cd351f08e1,17550,NF'),\n",
       " Row(name,email,address,registration_date,phone,company,job,birthdate,country,uuid,salary,country_code='Austin Beard,cindygould@example.net,\"1689 Nguyen Squares, Sanchezfurt, ME 33057\",2024-06-01T00:00:00.000+03:00,+1-224-277-2565x24711,\"Hall, Patterson and Johnson\",\"Surveyor, insurance\",1990-10-21,Malawi,7eada97a-9c7d-4624-8447-3eabfd66dddc,8150,NG'),\n",
       " Row(name,email,address,registration_date,phone,company,job,birthdate,country,uuid,salary,country_code='Jeffrey Gordon,dsmith@example.net,\"4720 Michael Divide Apt. 055, Gordonfort, NY 96896\",2024-03-12T00:00:00.000+03:00,465.441.6655x48370,Montgomery-Wilson,Glass blower/designer,1991-03-18,Romania,3c827d83-dabf-4213-900c-bf4e9e70d8bc,7500,SA'),\n",
       " Row(name,email,address,registration_date,phone,company,job,birthdate,country,uuid,salary,country_code='Kathleen Baker,renee78@example.org,\"142 Derek Falls, Lynchmouth, NV 54536\",2024-08-30T00:00:00.000+03:00,(433)598-3887x8834,\"Bowman, Alvarez and Stewart\",Field trials officer,1965-10-27,Pitcairn Islands,ecedc6a1-c7cf-42b0-81c4-8e7760004bb1,15800,GM'),\n",
       " Row(name,email,address,registration_date,phone,company,job,birthdate,country,uuid,salary,country_code='Chelsea Parker,willisjason@example.org,\"681 Byrd Court Apt. 748, Jamesstad, MN 52185\",2024-04-04T00:00:00.000+03:00,4827307036,\"Collins, Murray and Sexton\",\"Education officer, environmental\",1994-06-03,Micronesia,2fe85742-cc3a-4938-9065-803b143fc4ef,10450,MZ'),\n",
       " Row(name,email,address,registration_date,phone,company,job,birthdate,country,uuid,salary,country_code='David Schmidt,elizabeth01@example.org,\"6050 Nancy Brooks, Lake Kevin, DE 26311\",2024-03-12T00:00:00.000+03:00,325.747.5890,Nicholson LLC,Horticultural therapist,2006-12-18,Luxembourg,b8fc52c2-50de-428b-bb5a-7593ef188bfe,2150,EC'),\n",
       " Row(name,email,address,registration_date,phone,company,job,birthdate,country,uuid,salary,country_code='Russell Conway,jacqueline53@example.org,\"97390 James Summit, Lake Christopher, PW 59756\",2024-09-03T00:00:00.000+03:00,+1-712-605-0123x26462,Brown-Henry,Teaching laboratory technician,1966-01-25,Latvia,e4292b42-5790-496a-99d8-d4e05f171e87,5050,LV'),\n",
       " Row(name,email,address,registration_date,phone,company,job,birthdate,country,uuid,salary,country_code='Mario Perry,jamie70@example.com,\"134 Carrie Road, West Paulafurt, VI 79595\",2024-09-03T00:00:00.000+03:00,896-319-4164,\"Howard, Johnson and Robbins\",\"Scientist, product/process development\",2005-09-21,Kiribati,33b99410-cf9c-4732-a247-313f65902166,4100,GG'),\n",
       " Row(name,email,address,registration_date,phone,company,job,birthdate,country,uuid,salary,country_code='Kristin Bailey,zchristensen@example.com,\"3400 Jimenez Trail, Smithborough, KY 53748\",2024-09-03T00:00:00.000+03:00,502-261-4526x72918,\"Hayes, Arroyo and Tran\",Scientific laboratory technician,1989-06-24,Papua New Guinea,9b370c64-e659-4cad-a342-3052a5b45842,6050,ZM'),\n",
       " Row(name,email,address,registration_date,phone,company,job,birthdate,country,uuid,salary,country_code='Jenna Mosley,hgarcia@example.org,\"865 Stafford Pine, Huffmanburgh, CT 56941\",2024-05-29T00:00:00.000+03:00,(782)335-6511x5127,Pearson-Rodriguez,Stage manager,1972-12-29,Bosnia and Herzegovina,2116e88b-daed-423c-8376-51c227459c08,5150,BI'),\n",
       " Row(name,email,address,registration_date,phone,company,job,birthdate,country,uuid,salary,country_code='Heather Lee,timothymitchell@example.com,\"14452 Allen Square, Lake Benjaminport, CT 22443\",2024-03-12T00:00:00.000+03:00,(749)479-8915x23642,\"Jordan, Ramirez and Reed\",Nature conservation officer,1967-07-31,Mauritania,a0205fa1-ed44-4475-8b57-64ac62764ec1,11600,PW'),\n",
       " Row(name,email,address,registration_date,phone,company,job,birthdate,country,uuid,salary,country_code='Chelsea Haynes,amberjones@example.org,\"2010 John Knoll Apt. 408, East Andrew, OH 23006\",2024-03-12T00:00:00.000+03:00,964-964-3125x14878,Carroll-Ortiz,Technical brewer,1994-06-14,Sri Lanka,a70cf411-a463-4789-ad47-70196a734142,4550,UZ'),\n",
       " Row(name,email,address,registration_date,phone,company,job,birthdate,country,uuid,salary,country_code='Amanda Russell,kcastillo@example.net,\"1711 Charles Keys, New Nicole, AR 30435\",2024-06-01T00:00:00.000+03:00,(771)871-0831x013,Drake-Taylor,Financial risk analyst,1983-07-20,Saint Martin,bddef61b-5fdf-4622-b9e8-e679e062ff2b,10950,UA'),\n",
       " Row(name,email,address,registration_date,phone,company,job,birthdate,country,uuid,salary,country_code='Suzanne Rosales,alexandria34@example.org,\"9127 Seth Bypass Suite 685, New Larry, MI 98782\",2024-05-29T00:00:00.000+03:00,849.488.2804,Mccall-Watson,\"Nurse, adult\",2005-04-17,Turkmenistan,6b66e9e3-7314-4eb9-a965-ef9aa9196132,2400,AD'),\n",
       " Row(name,email,address,registration_date,phone,company,job,birthdate,country,uuid,salary,country_code='Elizabeth Robinson,chris11@example.com,\"61055 Santiago Plaza, Simpsonfort, MP 25961\",2024-02-23T00:00:00.000+03:00,857-947-9838,Lawrence Inc,\"Psychologist, forensic\",1998-09-12,Barbados,821eb128-1234-42ee-84ec-15140b7e917c,13100,BB'),\n",
       " Row(name,email,address,registration_date,phone,company,job,birthdate,country,uuid,salary,country_code='Dalton Nguyen,zhughes@example.org,\"215 Moreno Club Suite 350, West Alvinbury, PR 32697\",2024-02-23T00:00:00.000+03:00,001-428-232-7763x5967,\"Mcbride, Morgan and Scott\",Animal nutritionist,1983-09-10,Cameroon,8327fc82-c1b9-44d3-abe3-aca39c2605cf,17350,GN'),\n",
       " Row(name,email,address,registration_date,phone,company,job,birthdate,country,uuid,salary,country_code='Paul Foster,lisa38@example.net,\"75620 Mora Ville, North Sherryside, MO 08325\",2024-09-03T00:00:00.000+03:00,+1-744-829-9722x98543,Johnson-Suarez,Petroleum engineer,1998-06-12,Isle of Man,8edad82b-5e3b-44f9-9bd4-6548e8b03224,11600,MA'),\n",
       " Row(name,email,address,registration_date,phone,company,job,birthdate,country,uuid,salary,country_code='Megan Martinez,barbaramoreno@example.net,\"2663 Jordan Views Suite 031, New Raymond, NM 80110\",2024-08-30T00:00:00.000+03:00,761.880.5924x15274,Church-Garcia,Chief of Staff,1985-04-28,French Guiana,be272c54-ed36-4af8-9d78-3492b6758701,15450,CF'),\n",
       " Row(name,email,address,registration_date,phone,company,job,birthdate,country,uuid,salary,country_code='Rhonda Lopez,dorseykevin@example.net,\"2164 Smith Fork Apt. 000, West Jason, PW 63584\",2024-08-30T00:00:00.000+03:00,922-733-6595,\"Padilla, Grant and Jackson\",Holiday representative,2003-12-25,Norway,0f4e8533-8ccd-4bfa-afba-ebffb0237e47,10700,SX'),\n",
       " Row(name,email,address,registration_date,phone,company,job,birthdate,country,uuid,salary,country_code='Jason Wright,logan80@example.com,\"616 Brandi Parkways, Ericland, PW 35422\",2024-03-12T00:00:00.000+03:00,001-937-730-0250x785,\"Jones, Glass and Lopez\",\"Therapist, art\",1962-05-13,Papua New Guinea,57b59b59-1494-441c-95ec-f830115c356f,5400,CR'),\n",
       " Row(name,email,address,registration_date,phone,company,job,birthdate,country,uuid,salary,country_code='Melanie Johnson,simoncaroline@example.org,\"PSC 9126, Box 8387, APO AE 51428\",2024-01-10T00:00:00.000+03:00,+1-859-550-0492,Decker-Davis,\"Surveyor, minerals\",1981-10-11,Korea,84c36b5e-39b7-4580-ba1e-f02e302fe4a3,6900,GN'),\n",
       " Row(name,email,address,registration_date,phone,company,job,birthdate,country,uuid,salary,country_code='Carla Powers,duncanann@example.org,\"341 Brewer Freeway, South Williamland, NC 72343\",2024-09-03T00:00:00.000+03:00,(376)298-4764x81256,\"Keller, Gonzalez and Brown\",Retail merchandiser,1986-12-20,Peru,3deea80f-07a2-4aba-b5a8-470c098e3a08,14500,MK'),\n",
       " Row(name,email,address,registration_date,phone,company,job,birthdate,country,uuid,salary,country_code='Kimberly Rodriguez,robertsscott@example.com,\"67005 Robin Harbor, Stephanieberg, SC 02980\",2024-04-04T00:00:00.000+03:00,(937)351-4442,\"Miller, Miller and Burnett\",Fish farm manager,1983-03-17,Saint Pierre and Miquelon,f36a0d83-c876-48b9-86a3-b34804298ca9,9900,ZW'),\n",
       " Row(name,email,address,registration_date,phone,company,job,birthdate,country,uuid,salary,country_code='Richard Hall,patricia36@example.net,\"PSC 3487, Box 7274, APO AA 27504\",2024-08-30T00:00:00.000+03:00,515.431.4402x11093,Cunningham-Roth,\"Merchandiser, retail\",1984-08-01,Holy See (Vatican City State),665be10c-af6a-4843-a98b-260860efe387,3050,SG'),\n",
       " Row(name,email,address,registration_date,phone,company,job,birthdate,country,uuid,salary,country_code='Nancy Thomas,brownronnie@example.org,\"Unit 1298 Box 6549, DPO AP 25728\",2024-09-03T00:00:00.000+03:00,(408)407-1072,Wright-Miller,Landscape architect,1975-10-09,Tanzania,d7ebff25-9585-4cb0-83e9-8ff866f0979e,7350,EH'),\n",
       " Row(name,email,address,registration_date,phone,company,job,birthdate,country,uuid,salary,country_code='Sara Wagner,hlane@example.com,\"1575 King Curve Apt. 208, West Lisaberg, MD 38137\",2024-06-01T00:00:00.000+03:00,(325)822-3341x81594,Mendoza-Mann,\"Lecturer, higher education\",1966-04-10,Sweden,09757be1-f12c-4230-a8eb-715fe74d426b,5250,NG'),\n",
       " Row(name,email,address,registration_date,phone,company,job,birthdate,country,uuid,salary,country_code='Maria Stephens,jenniferrobles@example.com,\"USCGC Miller, FPO AA 54831\",2024-02-23T00:00:00.000+03:00,001-898-995-8304x35110,Smith Group,Tax adviser,1999-08-29,Lebanon,2a698752-966b-411c-998a-1b0ce51fe167,8900,BZ'),\n",
       " Row(name,email,address,registration_date,phone,company,job,birthdate,country,uuid,salary,country_code='Sydney Clayton,ericmorgan@example.org,\"834 Larson Ramp Suite 609, South Tim, ME 22359\",2024-01-10T00:00:00.000+03:00,918-550-0584,Potter Inc,Make,1966-10-17,Oman,f7ebe5ac-7066-42f8-b433-a7c40dd81eec,19600,FK'),\n",
       " Row(name,email,address,registration_date,phone,company,job,birthdate,country,uuid,salary,country_code='George Moore,larryreed@example.com,\"49344 Erika Isle Apt. 873, Piercemouth, TN 91538\",2024-03-12T00:00:00.000+03:00,574-901-9374x69583,Ho Ltd,Manufacturing systems engineer,1961-11-06,Madagascar,8f50960e-41fd-4aef-8c34-da5e81c30f78,6750,BN'),\n",
       " Row(name,email,address,registration_date,phone,company,job,birthdate,country,uuid,salary,country_code='Joshua Perry,jennifer06@example.com,\"Unit 2986 Box 6510, DPO AE 30867\",2024-03-12T00:00:00.000+03:00,3787076998,Dunlap and Sons,\"Pharmacist, hospital\",1971-09-29,Portugal,83918dcb-852f-4497-a16a-bb3e2fdc522f,4050,VU'),\n",
       " Row(name,email,address,registration_date,phone,company,job,birthdate,country,uuid,salary,country_code='Deborah Valencia,courtneyjenkins@example.org,\"160 Marshall Viaduct, New Gina, FL 70884\",2024-04-04T00:00:00.000+03:00,001-418-903-9312,\"Dorsey, Simpson and Brandt\",\"Engineer, civil (consulting)\",1963-11-23,American Samoa,6206d483-e600-4f01-a6fd-aae3c5d369bc,16600,SZ'),\n",
       " Row(name,email,address,registration_date,phone,company,job,birthdate,country,uuid,salary,country_code='Michael Stokes,francislee@example.com,\"5311 Natalie Squares Apt. 393, Davisside, TX 13748\",2024-05-29T00:00:00.000+03:00,001-424-981-8817,Perry-Liu,Child psychotherapist,1981-11-02,Seychelles,a45ce475-af52-4e9e-8aae-e632218cf053,17400,TD'),\n",
       " Row(name,email,address,registration_date,phone,company,job,birthdate,country,uuid,salary,country_code='Daniel Ryan,ginaadams@example.net,\"9961 Crawford Estates Apt. 574, Ethanport, MA 30986\",2024-03-12T00:00:00.000+03:00,001-314-593-5469x92868,Mack Inc,\"Copywriter, advertising\",1980-03-10,Argentina,c5e042b3-0c51-455b-95eb-35f6123d0851,10850,VC'),\n",
       " Row(name,email,address,registration_date,phone,company,job,birthdate,country,uuid,salary,country_code='Jennifer Torres,todd04@example.org,\"USNS Farmer, FPO AP 17524\",2024-01-10T00:00:00.000+03:00,(223)908-4320,\"Hatfield, Nguyen and Chen\",Broadcast journalist,1966-12-06,Liberia,ba472ab8-f732-4080-bced-7c6b415954a4,16700,LY'),\n",
       " Row(name,email,address,registration_date,phone,company,job,birthdate,country,uuid,salary,country_code='Shawn Myers,reevessydney@example.net,\"8795 Hernandez Turnpike Suite 525, South Jessicaton, AR 12407\",2024-06-01T00:00:00.000+03:00,838-689-2213x8802,Johnson-Clements,Exhibition designer,1973-01-17,Denmark,5ac118f4-3565-4878-8adc-9044ac4a42a9,4350,GT'),\n",
       " Row(name,email,address,registration_date,phone,company,job,birthdate,country,uuid,salary,country_code='Susan Mclaughlin,christophercox@example.org,\"53343 Phillips Inlet Apt. 799, Lake Heidiport, AL 69258\",2024-04-04T00:00:00.000+03:00,205.954.0080,Hernandez-Keller,Copy,1959-06-21,New Zealand,45f387d0-5fb8-49fa-b828-a2d2a9473d59,2750,KH'),\n",
       " Row(name,email,address,registration_date,phone,company,job,birthdate,country,uuid,salary,country_code='Erin Mccarthy,saralane@example.org,\"43267 Gomez Mission Suite 480, Port Bryan, OK 80827\",2024-02-23T00:00:00.000+03:00,(653)990-3126x53881,\"Simpson, Johnson and Lee\",\"Production assistant, television\",1969-05-18,Estonia,09259893-6702-4fac-ad2e-ac263608cab8,17700,PN'),\n",
       " Row(name,email,address,registration_date,phone,company,job,birthdate,country,uuid,salary,country_code='Scott Mathis,joseph35@example.net,\"4653 Vincent Flats Suite 649, Jonestown, GU 40796\",2024-01-10T00:00:00.000+03:00,678.672.8646,\"Kirby, Cruz and Ramirez\",\"Lecturer, higher education\",1961-07-02,Palau,b4117224-ad59-4e84-8d98-aa14ef9f93a1,10100,BB'),\n",
       " Row(name,email,address,registration_date,phone,company,job,birthdate,country,uuid,salary,country_code='Sara Johnson,donna71@example.net,\"Unit 2350 Box 9184, DPO AE 30284\",2024-02-23T00:00:00.000+03:00,001-350-440-9810,Spence Inc,\"Therapist, art\",1966-12-05,British Virgin Islands,79b4ab48-a6eb-416f-b349-846b0edfd78e,4450,BT'),\n",
       " Row(name,email,address,registration_date,phone,company,job,birthdate,country,uuid,salary,country_code='Vanessa Smith,owatts@example.com,\"03796 Ramirez Falls Suite 219, Timothyhaven, PA 98786\",2024-04-04T00:00:00.000+03:00,686-770-6336,Brady-Smith,Product designer,1961-03-26,Reunion,1fd7f34e-7bd5-42ce-99e4-55db5ab7fc20,9450,MH'),\n",
       " Row(name,email,address,registration_date,phone,company,job,birthdate,country,uuid,salary,country_code='Christopher Levy,aprilpearson@example.net,\"455 Deborah Islands, North Jasonview, TX 71023\",2024-03-12T00:00:00.000+03:00,517-672-5121,Freeman PLC,\"Therapist, nutritional\",1977-05-10,Zambia,80bcd6e0-24c5-4fe0-af46-27a8663bd5a1,15700,HU'),\n",
       " Row(name,email,address,registration_date,phone,company,job,birthdate,country,uuid,salary,country_code='Timothy Gonzalez,christopherwong@example.org,\"623 Matthew Ports Suite 477, Dodsonchester, OH 77987\",2024-01-10T00:00:00.000+03:00,+1-589-792-8913x616,Young Inc,Estate agent,1972-06-05,British Virgin Islands,41bbbb86-fcd5-483d-9e05-d6e7ed941578,2400,TK'),\n",
       " Row(name,email,address,registration_date,phone,company,job,birthdate,country,uuid,salary,country_code='Roy Davis,perezevan@example.net,\"2922 Alexander Glens, South Emily, AS 16993\",2024-09-03T00:00:00.000+03:00,001-625-207-6369x420,\"Harper, Todd and Joyce\",Management consultant,1974-12-24,Norway,60d42593-1370-4e6b-b7d2-06a29bcb545a,13300,HT'),\n",
       " Row(name,email,address,registration_date,phone,company,job,birthdate,country,uuid,salary,country_code='Whitney Moore,gonzalescarrie@example.com,\"271 Thompson Plains, North Manuelmouth, VA 56376\",2024-03-12T00:00:00.000+03:00,801.435.5781x208,Mcdaniel-Evans,Risk manager,1997-04-13,Ukraine,26f4f7ab-0ea3-46d9-9f95-f38810149a8d,3950,UG'),\n",
       " Row(name,email,address,registration_date,phone,company,job,birthdate,country,uuid,salary,country_code='James Fuller,ortizloretta@example.org,\"685 Mary Lakes Suite 160, Thompsonburgh, NH 73353\",2024-09-03T00:00:00.000+03:00,+1-849-440-5708x7549,Gonzalez-Smith,\"Scientist, research (life sciences)\",1961-03-26,Israel,f4362cae-7b33-4a4f-ab45-20931e6bbcd0,19000,GI'),\n",
       " Row(name,email,address,registration_date,phone,company,job,birthdate,country,uuid,salary,country_code='Travis Holland,kevinruiz@example.com,\"0149 Joseph Station Apt. 845, Jonathanshire, GA 69966\",2024-05-29T00:00:00.000+03:00,(279)687-1779,Armstrong-Martinez,\"Journalist, magazine\",1962-12-13,United States of America,2acfaf36-0b71-4f0f-9211-9a158e1f8f9f,16200,ST'),\n",
       " Row(name,email,address,registration_date,phone,company,job,birthdate,country,uuid,salary,country_code='Dustin Delacruz,mjones@example.org,\"49655 Stephen Track, North Alan, KY 26295\",2024-05-29T00:00:00.000+03:00,001-639-796-5039x716,\"Sellers, Collier and Lowery\",Furniture designer,2005-11-13,Holy See (Vatican City State),2c948a72-c8a8-4217-9bbe-223d85f3005a,14600,BB'),\n",
       " Row(name,email,address,registration_date,phone,company,job,birthdate,country,uuid,salary,country_code='Jennifer Flores,christine14@example.com,\"342 Michael Valley, Vincentton, SD 38390\",2024-09-03T00:00:00.000+03:00,(829)952-0919,Sellers PLC,\"Pharmacist, community\",1960-10-04,Cyprus,32d7934a-2ea9-4d6e-b574-331ee654fa4f,4600,AF'),\n",
       " Row(name,email,address,registration_date,phone,company,job,birthdate,country,uuid,salary,country_code='Mark Buck,hyoung@example.com,\"1055 Jason Corner, Hernandezmouth, AL 98031\",2024-02-23T00:00:00.000+03:00,(477)552-1799,Miller-Garcia,Tourism officer,1962-07-27,Togo,ec815906-5d3d-4c67-a8bc-03d68a6dda64,15000,GN'),\n",
       " Row(name,email,address,registration_date,phone,company,job,birthdate,country,uuid,salary,country_code='Alexandra Sutton,scottwalker@example.com,\"Unit 6152 Box 8248, DPO AA 42057\",2024-01-10T00:00:00.000+03:00,497-906-6644x5113,\"Sparks, Nguyen and Dunn\",Mudlogger,1986-01-16,Turkey,5b92af16-0272-411a-bc40-91c92a4aad25,10450,GI'),\n",
       " Row(name,email,address,registration_date,phone,company,job,birthdate,country,uuid,salary,country_code='Ashley Alexander,jeffrey83@example.com,\"33815 James Inlet Apt. 056, Johnsonchester, LA 03591\",2024-06-01T00:00:00.000+03:00,001-888-454-1437x075,Rosario Group,Technical sales engineer,1997-06-26,Canada,65d50c05-7fac-415f-a1ea-851d43551d22,4700,NL'),\n",
       " Row(name,email,address,registration_date,phone,company,job,birthdate,country,uuid,salary,country_code='Katie Leon,amyfranco@example.org,\"7146 Valdez Plain Apt. 769, Townsendmouth, GA 84381\",2024-06-01T00:00:00.000+03:00,904-334-9605x006,Lynch LLC,\"Doctor, general practice\",1975-07-14,Burkina Faso,47f7924c-81fa-4df9-bb8a-c5d0db062415,13400,TK'),\n",
       " Row(name,email,address,registration_date,phone,company,job,birthdate,country,uuid,salary,country_code='Danielle Spence,zdavis@example.com,\"15084 Alexander Plain Apt. 728, Clementsfort, WA 84077\",2024-01-10T00:00:00.000+03:00,001-662-363-0883,\"Hill, Reyes and Vance\",Environmental consultant,1961-07-27,Cambodia,fcb6e82f-3970-4b7e-acc1-5898ab993415,12200,SL'),\n",
       " Row(name,email,address,registration_date,phone,company,job,birthdate,country,uuid,salary,country_code='Erin Johnston,morrisdustin@example.org,\"20274 Rachel Manors, Bridgesmouth, IA 84635\",2024-04-04T00:00:00.000+03:00,001-341-450-7525x2566,\"Mcpherson, Torres and Jefferson\",\"Geologist, wellsite\",2006-01-14,Hong Kong,7acde27c-a69b-48b4-ae8b-71dee79e558f,15250,AZ'),\n",
       " Row(name,email,address,registration_date,phone,company,job,birthdate,country,uuid,salary,country_code='Roger Olson,brian15@example.com,\"36547 Michael Dale, North Monicaview, KY 25461\",2024-06-01T00:00:00.000+03:00,330.313.9903,\"Dawson, Terry and Reid\",Interior and spatial designer,1982-02-05,Bangladesh,00901c80-c294-4b3d-8ce4-7639fd8722f3,13050,BS'),\n",
       " Row(name,email,address,registration_date,phone,company,job,birthdate,country,uuid,salary,country_code='Matthew Hayes,jodygarner@example.com,\"13034 Charlene Trail, Johnville, NH 80007\",2024-06-01T00:00:00.000+03:00,586.466.7939x660,Mcdonald-Williams,Race relations officer,1991-10-02,Lithuania,b1826cb3-17c5-4261-9400-3829ba97bb10,11700,CR'),\n",
       " Row(name,email,address,registration_date,phone,company,job,birthdate,country,uuid,salary,country_code='Michelle Shannon,joseph04@example.org,\"23065 Gomez Isle, Taylorchester, MT 14117\",2024-02-23T00:00:00.000+03:00,207.565.8470x8039,\"Rogers, Castro and Wells\",Counselling psychologist,1998-11-05,Rwanda,ee6aaa27-d4ae-4bcf-bb0e-a47b295709ac,4800,TD'),\n",
       " Row(name,email,address,registration_date,phone,company,job,birthdate,country,uuid,salary,country_code='Connor Dillon,creed@example.com,\"6797 Kimberly Junction, Lopezshire, MT 63404\",2024-06-01T00:00:00.000+03:00,618-867-8832x88306,Campbell PLC,Printmaker,2004-09-23,Bahrain,726fb032-7b8e-46d0-a052-beda8c009609,8400,FM'),\n",
       " Row(name,email,address,registration_date,phone,company,job,birthdate,country,uuid,salary,country_code='Vincent Martinez,mbaker@example.net,\"4934 Robin Centers Apt. 575, Moorebury, DC 31670\",2024-05-29T00:00:00.000+03:00,001-961-721-0121x950,Chambers-Mercado,Amenity horticulturist,1968-04-27,Mauritius,9b74d758-c596-442e-ad33-cc1830e359fb,6350,EE'),\n",
       " Row(name,email,address,registration_date,phone,company,job,birthdate,country,uuid,salary,country_code='Joshua Padilla,thomaswilson@example.org,\"159 Ward Oval Apt. 831, New Garyton, AK 31462\",2024-05-29T00:00:00.000+03:00,(664)638-2209,Taylor Inc,\"Physicist, medical\",1966-10-14,Mauritius,09dba593-8ede-4240-88ec-0c54b20b38b2,17600,BA'),\n",
       " Row(name,email,address,registration_date,phone,company,job,birthdate,country,uuid,salary,country_code='Mary Gutierrez,frazierandrea@example.org,\"16528 Williams Lights, Davidview, UT 30028\",2024-02-23T00:00:00.000+03:00,(784)730-4881x88917,\"Powers, Carter and Bailey\",Bonds trader,1980-02-08,Canada,41ba0feb-dd5f-41fb-b205-15e346c0b395,18950,SI'),\n",
       " Row(name,email,address,registration_date,phone,company,job,birthdate,country,uuid,salary,country_code='Darryl West,staciefoley@example.net,\"8158 Wade Junction Suite 361, New Johnville, ND 59101\",2024-01-10T00:00:00.000+03:00,+1-337-523-9086x60273,Waller-Harper,\"Designer, furniture\",1978-01-16,Rwanda,00b21f29-7a27-464e-9c8f-e3a7b65eef28,16000,MU'),\n",
       " Row(name,email,address,registration_date,phone,company,job,birthdate,country,uuid,salary,country_code='Carolyn Cook,jessica98@example.com,\"4563 Edwin Garden Suite 431, Austinburgh, WI 96634\",2024-08-30T00:00:00.000+03:00,(406)722-6923x72420,Dawson-Mullins,\"Engineer, mining\",1995-07-24,Switzerland,31a10051-9958-43c2-8013-647618decd49,13450,EE'),\n",
       " Row(name,email,address,registration_date,phone,company,job,birthdate,country,uuid,salary,country_code='Zachary Ross,shawnnovak@example.com,\"95180 Woodard Flats Suite 411, Lake Stacy, MA 74101\",2024-05-29T00:00:00.000+03:00,211.398.1105,Wagner PLC,Amenity horticulturist,1989-09-18,Barbados,be4bbefc-da20-4d31-a6bf-802f60f90944,14950,BS'),\n",
       " Row(name,email,address,registration_date,phone,company,job,birthdate,country,uuid,salary,country_code='Mario Dunn,heatherkennedy@example.net,\"74901 Alexandra Gateway, Cynthialand, ND 81572\",2024-04-04T00:00:00.000+03:00,972.368.8533x849,Cohen Inc,Customer service manager,1968-09-27,Mauritania,de656227-eac4-467e-addf-2e6cc168641a,9200,SZ'),\n",
       " Row(name,email,address,registration_date,phone,company,job,birthdate,country,uuid,salary,country_code='Latoya Malone,zcastillo@example.net,\"86015 White Junctions Apt. 491, South Justinburgh, VA 00721\",2024-08-30T00:00:00.000+03:00,856-240-1874,Mcdaniel-Newman,Furniture designer,1977-02-27,Tunisia,8581c143-fbf3-4102-bf82-4e82901def65,19400,FI'),\n",
       " Row(name,email,address,registration_date,phone,company,job,birthdate,country,uuid,salary,country_code='Lisa Nash,raymond05@example.com,\"2888 Vargas Turnpike, North Kristin, WV 65382\",2024-08-30T00:00:00.000+03:00,001-956-336-9972x2254,Jones-Roberts,Product/process development scientist,1968-01-15,Tunisia,b56a11bc-f7c4-44ab-b0d5-6f13b837e0a6,18900,ML'),\n",
       " Row(name,email,address,registration_date,phone,company,job,birthdate,country,uuid,salary,country_code='Kim Williams,donaldjordan@example.org,\"Unit 2642 Box 4901, DPO AE 52023\",2024-08-30T00:00:00.000+03:00,001-464-687-9203x29636,Wang LLC,Estate agent,1964-01-29,South Georgia and the South Sandwich Islands,abc4831d-ddb9-4f85-9ed5-81ae1856bdfe,17450,CC'),\n",
       " Row(name,email,address,registration_date,phone,company,job,birthdate,country,uuid,salary,country_code='Ashley Kelly,michaeltran@example.org,\"33476 Howell Dam, Kristinfort, AL 94314\",2024-01-10T00:00:00.000+03:00,001-411-801-0782x353,Hopkins-Marquez,Electrical engineer,1970-04-09,Saint Vincent and the Grenadines,af796fa3-adfb-485f-9faa-da23c8ff48a2,6150,LK'),\n",
       " Row(name,email,address,registration_date,phone,company,job,birthdate,country,uuid,salary,country_code='Cameron Blackwell,ycox@example.com,\"54186 Simpson Club, South Dianeborough, MT 11418\",2024-01-10T00:00:00.000+03:00,203.210.9687x4654,\"Hernandez, Rodriguez and Mathis\",Radio producer,1986-06-23,Nigeria,5436bee2-034a-43bf-b047-b7c0fee59612,13600,NI'),\n",
       " Row(name,email,address,registration_date,phone,company,job,birthdate,country,uuid,salary,country_code='Arthur Blake,brenda81@example.com,\"0938 Chavez Summit Suite 364, Kelseyville, MP 11167\",2024-08-30T00:00:00.000+03:00,001-325-404-1161x928,Wilson LLC,Television production assistant,2002-08-13,Puerto Rico,1189799d-4e1a-432c-a5f6-dfc796c5c431,15750,SB'),\n",
       " Row(name,email,address,registration_date,phone,company,job,birthdate,country,uuid,salary,country_code='Tamara Boyle,ckennedy@example.org,\"560 Diaz Manors Apt. 323, Lake Michael, OH 15062\",2024-09-03T00:00:00.000+03:00,219-629-9017,\"Acevedo, Bennett and Beck\",Volunteer coordinator,1995-07-07,Gabon,dbadb2e5-d686-4a04-9bb6-86459636823e,11950,ZW'),\n",
       " Row(name,email,address,registration_date,phone,company,job,birthdate,country,uuid,salary,country_code='Teresa Ball,christophercook@example.org,\"95587 Sandra Plains Apt. 486, Port Brett, NY 07786\",2024-02-23T00:00:00.000+03:00,821.210.7284,Barnes-Burke,Air traffic controller,1968-11-28,Mauritius,4f482f1f-dc95-4505-bbf6-d91578c5ccf7,4100,TW'),\n",
       " Row(name,email,address,registration_date,phone,company,job,birthdate,country,uuid,salary,country_code='Katie Wallace,marissamahoney@example.org,\"4049 Forbes Port, Port Mariostad, RI 97629\",2024-02-23T00:00:00.000+03:00,+1-770-624-1369x7216,Marshall Inc,Actuary,2000-04-04,Somalia,59e17683-d5a6-4bd8-9738-edb1dec40378,18500,HK'),\n",
       " Row(name,email,address,registration_date,phone,company,job,birthdate,country,uuid,salary,country_code='Jessica Parks,greenapril@example.com,\"7658 Fox Locks Suite 406, Maryfurt, ND 55541\",2024-09-03T00:00:00.000+03:00,247-563-2028x00751,Miller-Le,English as a foreign language teacher,1966-11-19,Guam,5c1789d5-34f1-4a46-8834-b8d07fd9f2cd,19050,AT'),\n",
       " Row(name,email,address,registration_date,phone,company,job,birthdate,country,uuid,salary,country_code='Scott Morrow,williamtran@example.com,\"47724 Christina Knoll Suite 897, East John, ID 54365\",2024-08-30T00:00:00.000+03:00,001-384-755-8313,Ruiz-Johnson,Higher education lecturer,1961-12-04,United States of America,34b5e981-9931-48cd-a8df-ae204aa89921,19950,MV'),\n",
       " Row(name,email,address,registration_date,phone,company,job,birthdate,country,uuid,salary,country_code='Ann Baker,timothyjohnson@example.com,\"2276 Wood Land, East Sylviatown, MS 53740\",2024-02-23T00:00:00.000+03:00,(210)250-5574,Rosario and Sons,\"Embryologist, clinical\",1986-07-19,Saint Pierre and Miquelon,5621c38f-7dee-4fef-9ffe-55c33fa14f3e,10800,RS'),\n",
       " Row(name,email,address,registration_date,phone,company,job,birthdate,country,uuid,salary,country_code='Michael Brown,thomas99@example.net,\"59712 Jack Park, North Madisontown, AL 08412\",2024-03-12T00:00:00.000+03:00,811-848-5229,Nichols LLC,Economist,1972-03-30,Ukraine,5d154df1-c8c7-4ead-bf08-25b62e1c458e,16800,MN'),\n",
       " Row(name,email,address,registration_date,phone,company,job,birthdate,country,uuid,salary,country_code='Jennifer Ramirez MD,erik88@example.org,\"47923 Mark Views Apt. 641, East Emilyburgh, WI 96203\",2024-04-04T00:00:00.000+03:00,001-697-233-5740x20806,Gonzalez Ltd,\"Production assistant, television\",1971-10-28,Bosnia and Herzegovina,99259d3d-3df6-41f5-82b7-5bd34c52e52d,12450,SC'),\n",
       " Row(name,email,address,registration_date,phone,company,job,birthdate,country,uuid,salary,country_code='Mary Douglas,jeffrey83@example.com,\"591 Gross Lane, West Sarah, ND 35263\",2024-01-10T00:00:00.000+03:00,+1-923-754-1730x7327,Roberts-Patrick,Location manager,1985-04-24,Bahrain,38893927-0457-4a15-8d4c-bb130478a9fe,3400,LU'),\n",
       " Row(name,email,address,registration_date,phone,company,job,birthdate,country,uuid,salary,country_code='Sean Day,aguirrestephen@example.com,\"529 Santiago Isle Apt. 347, Castanedashire, NJ 37622\",2024-01-10T00:00:00.000+03:00,+1-312-744-9287x07604,Wilson Group,Accommodation manager,1980-03-20,Northern Mariana Islands,3fe2038c-01c4-4f86-8e86-6913dc71611d,7050,FI'),\n",
       " Row(name,email,address,registration_date,phone,company,job,birthdate,country,uuid,salary,country_code='Charles Morrison,joannablair@example.com,\"735 Stephen Roads, Calebmouth, HI 94345\",2024-03-12T00:00:00.000+03:00,+1-491-503-9887,Decker-Clark,Air cabin crew,1991-11-08,Egypt,ebdaafa9-3815-4978-a79d-027c2c83b01c,7400,CH'),\n",
       " Row(name,email,address,registration_date,phone,company,job,birthdate,country,uuid,salary,country_code='Marcia Farley,joshua78@example.com,\"88232 Pruitt Ramp Apt. 676, Harmonburgh, VI 53949\",2024-09-03T00:00:00.000+03:00,+1-744-840-3118x873,Young LLC,\"Surveyor, quantity\",1995-09-14,Papua New Guinea,fd1e79ec-cf45-4789-93b0-734ca3f2c917,2500,FI'),\n",
       " Row(name,email,address,registration_date,phone,company,job,birthdate,country,uuid,salary,country_code='Anthony Mcmillan,wroberts@example.com,\"219 Christopher Manor, New Casey, WI 32259\",2024-01-10T00:00:00.000+03:00,001-547-287-1243,\"Smith, Jones and Williamson\",Applications developer,1999-05-26,Solomon Islands,964ab5f0-13d6-470d-abca-4ca833916f65,9000,NI'),\n",
       " Row(name,email,address,registration_date,phone,company,job,birthdate,country,uuid,salary,country_code='Timothy Russell,andrew83@example.com,\"5645 Christopher Mountains Suite 563, New Melanie, HI 88354\",2024-05-29T00:00:00.000+03:00,(901)851-0809,\"Humphrey, Glover and Beck\",Estate agent,1984-09-16,Estonia,6be1f9d2-4a52-4706-ae85-db495f0b0c2c,15900,PT'),\n",
       " Row(name,email,address,registration_date,phone,company,job,birthdate,country,uuid,salary,country_code='Melissa Jones,rirwin@example.com,\"55532 Krista Valleys, South Robertborough, RI 91144\",2024-05-29T00:00:00.000+03:00,438-702-7886x6912,\"Lambert, Liu and Jones\",Jewellery designer,1985-02-09,Italy,931bf5b8-837f-445f-aece-3dc91fae1bc8,18100,GF'),\n",
       " Row(name,email,address,registration_date,phone,company,job,birthdate,country,uuid,salary,country_code='Kathy Ford,alexanderjulie@example.net,\"97665 Hays Pike Apt. 311, Millshaven, WI 36760\",2024-02-23T00:00:00.000+03:00,(520)433-9332,Mccall-Holmes,\"Programmer, systems\",2006-12-28,Norway,f29688e2-b8e2-40dc-ab9a-a8d9518c90a0,2050,IO'),\n",
       " Row(name,email,address,registration_date,phone,company,job,birthdate,country,uuid,salary,country_code='Elizabeth Esparza,gregorypalmer@example.org,\"102 Jacqueline Avenue, Woodsberg, MO 62669\",2024-05-29T00:00:00.000+03:00,888-882-3895x122,Ryan PLC,\"Engineer, petroleum\",1994-05-23,Senegal,4370d75b-9e06-4a45-8b15-b085afbbe383,17600,PT'),\n",
       " Row(name,email,address,registration_date,phone,company,job,birthdate,country,uuid,salary,country_code='Katie Williams DDS,uwatson@example.com,\"4492 Hart Station, Josephfort, CA 73261\",2024-08-30T00:00:00.000+03:00,3179383833,\"Miller, Reid and Burnett\",\"Surveyor, quantity\",1969-03-24,Turkey,93c18e98-8ebb-46a7-8764-919af92ac174,7700,JM'),\n",
       " Row(name,email,address,registration_date,phone,company,job,birthdate,country,uuid,salary,country_code='Daniel Dawson,bcarpenter@example.com,\"865 Jennifer Island, South Aaron, SC 38984\",2024-01-10T00:00:00.000+03:00,903-768-8291,Ruiz-Adams,Nature conservation officer,1969-01-05,New Zealand,62b0c6ab-427f-4e77-9a1b-157b8a1dc645,6550,TH'),\n",
       " Row(name,email,address,registration_date,phone,company,job,birthdate,country,uuid,salary,country_code='Natalie Burton,samantha65@example.com,\"57170 Timothy Forge, Sandrahaven, MI 62865\",2024-02-23T00:00:00.000+03:00,(498)345-8890,Price-Willis,Operational researcher,1989-01-07,Luxembourg,459f0bb4-cdde-4e29-8a90-0e5cf998caab,3300,CV'),\n",
       " Row(name,email,address,registration_date,phone,company,job,birthdate,country,uuid,salary,country_code='Mary Livingston,christopherwolfe@example.org,\"PSC 9343, Box 7735, APO AA 73119\",2024-08-30T00:00:00.000+03:00,841.842.1003x13799,Clarke and Sons,Outdoor activities/education manager,1994-06-20,Colombia,01d2e7ca-8a59-4fd8-895e-4a523dbb8571,17250,KR'),\n",
       " Row(name,email,address,registration_date,phone,company,job,birthdate,country,uuid,salary,country_code='Aaron Hill,john86@example.net,\"4394 Kemp Run, Port Crystal, VA 90493\",2024-02-23T00:00:00.000+03:00,+1-969-990-9873x6693,\"Duffy, Lee and Serrano\",\"Lecturer, higher education\",1993-05-31,Malaysia,d6a43149-914f-409f-a42f-18255439774c,11800,GA'),\n",
       " Row(name,email,address,registration_date,phone,company,job,birthdate,country,uuid,salary,country_code='Amy Avery,reginawebster@example.net,\"30641 Vasquez Fields, Ortizburgh, NY 84213\",2024-03-12T00:00:00.000+03:00,520-263-8120x335,Campos-Knox,Financial risk analyst,1990-11-23,Brunei Darussalam,8f1f9055-d1fc-4448-89ba-492f3c9a6006,10250,BZ'),\n",
       " Row(name,email,address,registration_date,phone,company,job,birthdate,country,uuid,salary,country_code='Robert Valencia,williamsholly@example.net,\"9464 Stephens Keys Apt. 357, Sarafort, ME 41869\",2024-02-23T00:00:00.000+03:00,001-536-289-9916x848,King Inc,\"Editor, magazine features\",1987-08-02,Montenegro,2646bd25-c0d9-40f2-8363-3cdfc19ca99d,5350,BQ'),\n",
       " Row(name,email,address,registration_date,phone,company,job,birthdate,country,uuid,salary,country_code='Heather Rocha,richardgray@example.com,\"148 Flynn Burgs Suite 296, Port Natalie, PR 08419\",2024-06-01T00:00:00.000+03:00,245-352-1355x82746,Harmon Inc,\"Designer, industrial/product\",1994-04-16,Somalia,1c0fee94-0ee0-4f90-ba74-2a90780c1428,7400,MN'),\n",
       " Row(name,email,address,registration_date,phone,company,job,birthdate,country,uuid,salary,country_code='Raymond Rodriguez,jared78@example.org,\"6113 Gamble Knoll Suite 431, Ethanport, WV 84922\",2024-01-10T00:00:00.000+03:00,001-748-980-1966x702,\"Boyd, Miller and Thompson\",Learning mentor,2006-11-29,Ireland,96c04132-6be8-4aee-a6c0-c8ec43806b0c,9200,SM'),\n",
       " Row(name,email,address,registration_date,phone,company,job,birthdate,country,uuid,salary,country_code='Jacqueline Robinson,mindyreilly@example.com,\"49484 Berger Hill, East Emily, AR 88985\",2024-03-12T00:00:00.000+03:00,(762)413-0415x40829,\"Acosta, Hurst and Young\",Air broker,1997-10-27,Marshall Islands,5d5f825a-77d3-4c38-8950-bf0ad93db433,15200,BO'),\n",
       " Row(name,email,address,registration_date,phone,company,job,birthdate,country,uuid,salary,country_code='Daniel Hill,alexanderveronica@example.org,\"700 Miller Pass Suite 153, Lorimouth, NC 93675\",2024-03-12T00:00:00.000+03:00,+1-503-904-6551,Schneider-Alexander,Hydrographic surveyor,1976-12-10,Madagascar,4a3af53b-67e4-4dab-8204-ac69e2a98f1d,17350,BS'),\n",
       " Row(name,email,address,registration_date,phone,company,job,birthdate,country,uuid,salary,country_code='Tammy Thomas,bakeramanda@example.com,\"311 Lucas Fields, Lake Brandonview, MI 30050\",2024-04-04T00:00:00.000+03:00,415-584-8537x416,Rodriguez-Clark,Learning mentor,2004-10-05,Hong Kong,d55dda1f-d1a0-425b-aff9-82d2ed34c276,14400,AO'),\n",
       " Row(name,email,address,registration_date,phone,company,job,birthdate,country,uuid,salary,country_code='Michelle Young,jillianhoffman@example.com,\"655 Daniel Prairie Suite 078, Port Michelle, ME 71049\",2024-08-30T00:00:00.000+03:00,001-573-935-0204x025,Woods PLC,Medical secretary,1967-11-29,Tanzania,bb184784-4e7c-43e3-ae49-6eac877a40df,11100,SE'),\n",
       " Row(name,email,address,registration_date,phone,company,job,birthdate,country,uuid,salary,country_code='Judith Salas,elizabeth31@example.net,\"357 Michelle Views Apt. 504, Lake Diane, MS 85144\",2024-08-30T00:00:00.000+03:00,+1-235-435-3608,\"Gibson, Hill and Flores\",Chartered loss adjuster,1988-03-07,Central African Republic,01f52a30-557d-409d-82e2-5d3be4a0415d,8750,TF'),\n",
       " Row(name,email,address,registration_date,phone,company,job,birthdate,country,uuid,salary,country_code='John Nolan,jill72@example.com,\"1862 Thomas Square Apt. 406, Rileyview, UT 33721\",2024-05-29T00:00:00.000+03:00,491.325.3672,Webb-Parks,Neurosurgeon,1963-04-14,United Arab Emirates,c8c5ed04-84bf-494c-8add-43f9a40be65d,14850,KP'),\n",
       " Row(name,email,address,registration_date,phone,company,job,birthdate,country,uuid,salary,country_code='Shawn Smith,mannalbert@example.net,\"PSC 4650, Box 3260, APO AP 85444\",2024-05-29T00:00:00.000+03:00,001-981-249-8300x18376,Walker LLC,\"Sound technician, broadcasting/film/video\",1980-09-18,Panama,9ce9b194-3dec-4298-84a3-be91b5dc40fa,18750,SS'),\n",
       " Row(name,email,address,registration_date,phone,company,job,birthdate,country,uuid,salary,country_code='Austin Taylor,erin01@example.com,\"30323 Peterson Walk Suite 241, West Calvin, ID 79468\",2024-03-12T00:00:00.000+03:00,(413)690-4357x195,\"Juarez, Jackson and Caldwell\",Early years teacher,1990-11-20,South Georgia and the South Sandwich Islands,990981f3-b243-4734-b7fa-41c1ae5852f7,19550,LI'),\n",
       " Row(name,email,address,registration_date,phone,company,job,birthdate,country,uuid,salary,country_code='Ryan Smith,miguel78@example.org,\"97845 Hannah Roads, North Vickiburgh, FM 33393\",2024-06-01T00:00:00.000+03:00,001-912-544-4967x8664,Gray-Middleton,Animal nutritionist,1963-06-25,Guinea,155f16b2-df73-48e3-afc4-26c7c0ba0d90,7850,MK'),\n",
       " Row(name,email,address,registration_date,phone,company,job,birthdate,country,uuid,salary,country_code='Lisa Cordova,jennifertaylor@example.net,\"0259 Ryan Ways, Lake Samuel, MI 20489\",2024-08-30T00:00:00.000+03:00,+1-558-352-2981x841,Lara and Sons,\"Designer, textile\",1964-03-07,Costa Rica,b664fa54-d663-4c24-ba03-2e9afd8b9b17,15700,BY'),\n",
       " Row(name,email,address,registration_date,phone,company,job,birthdate,country,uuid,salary,country_code='Julia Brooks,john50@example.net,\"4990 Derek Streets, East Johnstad, ID 58730\",2024-05-29T00:00:00.000+03:00,(503)373-2685x6614,Short-Navarro,Lexicographer,1965-06-28,Congo,2198e348-ce48-4776-8700-c5da4455341e,17050,SK'),\n",
       " Row(name,email,address,registration_date,phone,company,job,birthdate,country,uuid,salary,country_code='Margaret Mitchell,katherine30@example.com,\"5514 Blackwell Circle Suite 142, East Carmen, NH 85739\",2024-03-12T00:00:00.000+03:00,+1-242-508-5047x57029,Johnson and Sons,\"Administrator, charities/voluntary organisations\",1978-12-06,South Africa,d0838739-03cc-40c7-964c-782998d6fbc3,18250,BR'),\n",
       " Row(name,email,address,registration_date,phone,company,job,birthdate,country,uuid,salary,country_code='Christopher Mitchell,smills@example.org,\"523 Garcia Spurs Apt. 274, South Michael, KY 46287\",2024-06-01T00:00:00.000+03:00,(298)819-6651x6886,\"Austin, Coleman and Morgan\",Secondary school teacher,2000-10-30,Nepal,e702c73d-2a32-4ef5-9635-979e5bc2c264,5450,SJ'),\n",
       " Row(name,email,address,registration_date,phone,company,job,birthdate,country,uuid,salary,country_code='Jeffrey Ford,donald30@example.com,\"6512 Dominguez Lakes, Adamview, KS 40724\",2024-01-10T00:00:00.000+03:00,(947)859-2186x414,Johnson-Watson,Operational researcher,2004-01-25,Somalia,0f4c534e-837c-46a2-b403-7df25dfaf25a,7100,BY'),\n",
       " Row(name,email,address,registration_date,phone,company,job,birthdate,country,uuid,salary,country_code='Jeremy Watts,robinsonjose@example.com,\"76738 Martin Drives, Jeremyfort, TN 42809\",2024-01-10T00:00:00.000+03:00,(780)505-0474x6394,Ramirez PLC,Best boy,1961-02-08,Tajikistan,1a1fc6c3-8e61-496a-b7cc-c1406b616e4c,19600,SB'),\n",
       " Row(name,email,address,registration_date,phone,company,job,birthdate,country,uuid,salary,country_code='Beth Williams,mayerandrew@example.net,\"5430 Martin Expressway Suite 022, New Jeffreyborough, OR 72697\",2024-08-30T00:00:00.000+03:00,001-351-224-7933,Baker LLC,Landscape architect,1961-08-18,Indonesia,4b45a2f7-5f54-4154-b170-5e669b74a740,10350,KG'),\n",
       " Row(name,email,address,registration_date,phone,company,job,birthdate,country,uuid,salary,country_code='Joel Torres,mgonzalez@example.com,\"PSC 9184, Box 9810, APO AA 95174\",2024-03-12T00:00:00.000+03:00,830-790-7974x86092,Riley LLC,\"Engineer, civil (contracting)\",1994-05-26,Saint Pierre and Miquelon,90613a08-105b-4ed7-bab5-d2679bd80301,5800,TW'),\n",
       " Row(name,email,address,registration_date,phone,company,job,birthdate,country,uuid,salary,country_code='Michael Barnett,arielzavala@example.net,\"3185 Janice Dale, Port Thomasmouth, CT 03730\",2024-06-01T00:00:00.000+03:00,001-572-336-9608x18117,Cook-Rodriguez,Sub,1959-11-07,Italy,f0622351-8baf-4dc3-98f7-348649465d33,8050,ZM'),\n",
       " Row(name,email,address,registration_date,phone,company,job,birthdate,country,uuid,salary,country_code='Elizabeth Gomez DVM,yolandaserrano@example.net,\"PSC 4024, Box 3275, APO AA 76835\",2024-04-04T00:00:00.000+03:00,001-307-455-3589x15169,\"Garcia, Fuller and Thompson\",Retail manager,1997-07-02,Kazakhstan,5cc01633-f411-4fa2-b25e-d7b33fd15f4e,15650,CN'),\n",
       " Row(name,email,address,registration_date,phone,company,job,birthdate,country,uuid,salary,country_code='Abigail Diaz,carpenterkelly@example.org,\"61212 Reid Pines, South Pamelamouth, ID 98502\",2024-03-12T00:00:00.000+03:00,232.991.9964,Robinson Group,Cartographer,1975-01-19,Malaysia,59ebbbe7-061e-4e00-b4b3-9b96f6f9ecca,16700,AF'),\n",
       " Row(name,email,address,registration_date,phone,company,job,birthdate,country,uuid,salary,country_code='Jeremy Butler,victorthomas@example.net,\"139 Brandon Underpass, Port Melissa, MP 66689\",2024-08-30T00:00:00.000+03:00,+1-633-223-7065x488,Cain-Gonzales,Community development worker,1985-07-16,Liberia,29eac7d7-ee2f-4a7a-853f-4b5fc66684d6,10900,VG'),\n",
       " Row(name,email,address,registration_date,phone,company,job,birthdate,country,uuid,salary,country_code='Jason Frank,tasha92@example.net,\"1351 Jamie Burg Suite 025, North Philipstad, MT 78301\",2024-09-03T00:00:00.000+03:00,001-924-400-8390x93132,Walker and Sons,Health service manager,1967-01-10,Niger,b2bd97bd-b430-4513-83d1-6b3d0fc5bd01,16850,PS'),\n",
       " Row(name,email,address,registration_date,phone,company,job,birthdate,country,uuid,salary,country_code='Jordan Larson PhD,melissa05@example.com,\"52418 Lopez Forks, Port Anthony, SD 41517\",2024-08-30T00:00:00.000+03:00,001-623-434-6359,\"Molina, Brown and Mcdonald\",Charity officer,1993-06-01,Zambia,29890909-50c7-46e4-b1dc-277d3cb16d93,7250,TR'),\n",
       " Row(name,email,address,registration_date,phone,company,job,birthdate,country,uuid,salary,country_code='Claire Ray,jonesjason@example.com,\"085 Jones Neck Apt. 119, South Dawn, GA 89184\",2024-08-30T00:00:00.000+03:00,857-468-2375,\"Perez, Cook and Jimenez\",\"Psychologist, forensic\",1965-08-18,Jamaica,b673797d-e62c-4812-9d42-1ed12b68bc60,6200,FM'),\n",
       " Row(name,email,address,registration_date,phone,company,job,birthdate,country,uuid,salary,country_code='Jacob Diaz,eandrade@example.org,\"6207 Dorothy Road Apt. 587, Erikaport, IA 44660\",2024-08-30T00:00:00.000+03:00,(810)535-6975x2155,Anderson-Wright,Armed forces technical officer,1989-08-26,Philippines,7100708a-eff3-4a6b-a58f-cc6152fc5e05,12250,ME'),\n",
       " Row(name,email,address,registration_date,phone,company,job,birthdate,country,uuid,salary,country_code='Adrian Nelson,austinjulie@example.net,\"5718 Jacob Brooks Suite 172, Toddburgh, MO 53320\",2024-04-04T00:00:00.000+03:00,717-506-7032x268,Hoover LLC,\"Optician, dispensing\",2007-05-02,Jordan,a91f1ac1-243c-414e-a593-8d76b9ef642c,3850,PR'),\n",
       " Row(name,email,address,registration_date,phone,company,job,birthdate,country,uuid,salary,country_code='Dean Delgado,cesar36@example.org,\"89451 Danielle Islands, Tammychester, KS 85594\",2024-03-12T00:00:00.000+03:00,385.736.6114,Avila-Phillips,Lobbyist,1965-06-21,Netherlands,533b74ce-3925-4348-a373-f66b1f6d73c0,3000,MD'),\n",
       " Row(name,email,address,registration_date,phone,company,job,birthdate,country,uuid,salary,country_code='Rebecca Johnson,jacksonmichael@example.com,\"09250 Taylor Squares, Seanchester, OR 36945\",2024-03-12T00:00:00.000+03:00,+1-319-655-1458x78210,\"Tucker, Miller and Contreras\",Purchasing manager,1970-11-22,Honduras,e0a7df6b-0c71-4a4d-a1a3-1f26869fb7bb,8050,GW'),\n",
       " Row(name,email,address,registration_date,phone,company,job,birthdate,country,uuid,salary,country_code='Kenneth Haynes,carla45@example.com,\"679 Coleman Throughway, Briannaview, AZ 66570\",2024-01-10T00:00:00.000+03:00,450.366.5454x1792,\"Hall, Armstrong and Jones\",\"Scientist, research (physical sciences)\",2000-02-12,British Virgin Islands,f112eb1e-98dc-4d37-a394-3805d70eda37,9400,ER'),\n",
       " Row(name,email,address,registration_date,phone,company,job,birthdate,country,uuid,salary,country_code='Chad Murphy,bvasquez@example.org,\"0566 Lewis Land, Kaylamouth, LA 62468\",2024-06-01T00:00:00.000+03:00,261.436.1068,Taylor-Manning,Systems developer,1979-02-23,Luxembourg,a761d1f6-0c35-44ca-bdf2-36ca9d746562,7650,CL'),\n",
       " Row(name,email,address,registration_date,phone,company,job,birthdate,country,uuid,salary,country_code='Anthony Ramirez,whiteadrian@example.net,\"096 Costa Ferry Apt. 812, North Katherine, SC 60871\",2024-05-29T00:00:00.000+03:00,(809)429-8040x780,Benton PLC,\"Civil engineer, contracting\",1989-11-13,South Africa,73917a2f-27e6-4275-83a1-01e02c0fa7f5,8800,SA'),\n",
       " Row(name,email,address,registration_date,phone,company,job,birthdate,country,uuid,salary,country_code='William Wells,ethompson@example.org,\"1107 Victoria Squares Apt. 938, Turnerburgh, FM 43137\",2024-02-23T00:00:00.000+03:00,8414437399,Richard Ltd,Tourist information centre manager,1968-03-28,Tuvalu,0ed14a51-3958-48f8-8c60-6cf7268d32d0,9450,YT'),\n",
       " Row(name,email,address,registration_date,phone,company,job,birthdate,country,uuid,salary,country_code='Pamela Patel,opennington@example.org,\"848 Smith Motorway Suite 365, Michaelfort, TX 34376\",2024-05-29T00:00:00.000+03:00,001-301-580-9254,\"Phillips, Ortiz and Lee\",Data processing manager,1966-09-16,Portugal,542a206c-6fb5-4e4e-a8d1-dd8c48402380,18700,BA'),\n",
       " Row(name,email,address,registration_date,phone,company,job,birthdate,country,uuid,salary,country_code='Michelle Armstrong,connormitchell@example.com,\"Unit 4582 Box 2614, DPO AP 64804\",2024-09-03T00:00:00.000+03:00,001-477-444-9964x469,Gibson-Oconnor,Chief Executive Officer,1970-04-22,Pakistan,537de807-f000-4f63-9d08-a508c95d5b3b,9050,MD'),\n",
       " Row(name,email,address,registration_date,phone,company,job,birthdate,country,uuid,salary,country_code='Thomas Nelson,fredbarton@example.com,\"073 John Neck, Diazchester, KY 78937\",2024-08-30T00:00:00.000+03:00,333.920.8336,Stanley PLC,\"Journalist, newspaper\",1986-07-18,Bermuda,03336482-1dcd-40af-9eab-650679a7fbc9,9050,SX'),\n",
       " Row(name,email,address,registration_date,phone,company,job,birthdate,country,uuid,salary,country_code='James Ross,wstephens@example.net,\"7634 James Key Suite 260, Lake Matthewshire, MH 39298\",2024-09-03T00:00:00.000+03:00,808.796.6590x1558,Rogers PLC,\"Optician, dispensing\",1984-07-06,Taiwan,d2457b7d-2b69-4980-be67-dc8eb8c32264,16850,MV'),\n",
       " Row(name,email,address,registration_date,phone,company,job,birthdate,country,uuid,salary,country_code='Jon Norris,collinsyolanda@example.net,\"PSC 2097, Box 8218, APO AA 88513\",2024-02-23T00:00:00.000+03:00,279.819.6309,\"Perry, Miller and Anderson\",Make,1980-11-05,Ghana,63158b18-094a-4cfd-8d5b-1daef8fe35ec,8450,GN'),\n",
       " Row(name,email,address,registration_date,phone,company,job,birthdate,country,uuid,salary,country_code='Christopher Brewer,estradajohn@example.org,\"892 Daniel Trafficway Apt. 675, Richardland, MO 26501\",2024-06-01T00:00:00.000+03:00,(559)429-5706x04386,Garcia Inc,Lobbyist,1965-05-19,Kazakhstan,c597baba-3e93-4dcf-ad89-00c4a4f083c9,16350,PH'),\n",
       " Row(name,email,address,registration_date,phone,company,job,birthdate,country,uuid,salary,country_code='Hunter Perez,terrence52@example.com,\"9185 Mike Ville, Whiteview, OR 98727\",2024-03-12T00:00:00.000+03:00,(834)296-8678,Garcia Group,Pension scheme manager,1993-07-14,Cote d\\'Ivoire,54d73595-efb5-45d4-afd4-ea85c9016598,10400,GR'),\n",
       " Row(name,email,address,registration_date,phone,company,job,birthdate,country,uuid,salary,country_code='Jason Ortiz,williamandersen@example.org,\"99096 Leonard Isle, Lake Matthew, AK 29095\",2024-01-10T00:00:00.000+03:00,824-499-2387,Graves-Brown,Secretary/administrator,1989-12-13,Greenland,ff7e2a73-9743-446b-9430-cccc5d0e4174,15650,PR'),\n",
       " Row(name,email,address,registration_date,phone,company,job,birthdate,country,uuid,salary,country_code='Mario Peck,ashleycruz@example.com,\"75542 Winters Stravenue, South Michaelport, PW 61156\",2024-04-04T00:00:00.000+03:00,001-824-334-7204x85451,\"Johnston, Quinn and Alvarez\",\"Therapist, speech and language\",1966-10-07,Bosnia and Herzegovina,7961746a-6f69-4dd8-9f14-5f4b6717d0c9,14350,HR'),\n",
       " Row(name,email,address,registration_date,phone,company,job,birthdate,country,uuid,salary,country_code='Kevin Richard,madison06@example.com,\"5390 Stacy Path, North Chelsealand, WV 71120\",2024-01-10T00:00:00.000+03:00,+1-610-498-7716x55664,\"Gonzalez, Sullivan and Krueger\",\"Psychotherapist, child\",1998-03-16,Antarctica (the territory South of 60 deg S),facafbf1-7679-4f41-aa7e-a5e9d9605d6e,15850,MT'),\n",
       " Row(name,email,address,registration_date,phone,company,job,birthdate,country,uuid,salary,country_code='Shelby Martinez,amyroberts@example.org,\"5137 Darlene Ville, New Julieside, MT 35215\",2024-04-04T00:00:00.000+03:00,5742362865,Galvan Group,Architectural technologist,1962-04-25,Netherlands,02beadfb-a44b-43e6-b2fc-39d315b7c964,11100,GT'),\n",
       " Row(name,email,address,registration_date,phone,company,job,birthdate,country,uuid,salary,country_code='Melissa Scott,daltonsimpson@example.net,\"USNS Powers, FPO AA 65965\",2024-04-04T00:00:00.000+03:00,+1-784-628-3947x27367,Brooks-Martin,Social worker,1991-01-16,Colombia,52fd5417-6b86-437f-93da-a138e3fe0aad,14550,PK'),\n",
       " Row(name,email,address,registration_date,phone,company,job,birthdate,country,uuid,salary,country_code='Michael Romero,ashley34@example.net,\"PSC 3773, Box 0460, APO AE 43527\",2024-01-10T00:00:00.000+03:00,+1-871-929-9757x84097,Graves-Giles,Medical illustrator,2000-05-21,Taiwan,ef1bd041-90c4-4e67-ad2e-bf5611985fb5,14000,SH'),\n",
       " Row(name,email,address,registration_date,phone,company,job,birthdate,country,uuid,salary,country_code='Amanda Patterson,michael32@example.org,\"13974 Graham Mountain, Katherineshire, DE 45225\",2024-09-03T00:00:00.000+03:00,+1-654-858-1938x2108,\"Scott, Raymond and Barber\",\"Surveyor, quantity\",1965-02-26,Guernsey,68adc714-cf59-4f1c-9e80-e9b7401c9be9,9900,GQ'),\n",
       " Row(name,email,address,registration_date,phone,company,job,birthdate,country,uuid,salary,country_code='Jean Powers,wongmario@example.com,\"1520 Katherine Estates Apt. 083, Russelltown, KY 28014\",2024-02-23T00:00:00.000+03:00,578-850-7959x01182,\"Moody, Sexton and Sharp\",Computer games developer,1970-08-02,Hungary,0513e84b-3008-47b0-a20e-d8530da75a7f,15600,TN'),\n",
       " Row(name,email,address,registration_date,phone,company,job,birthdate,country,uuid,salary,country_code='Gina Padilla,hpowell@example.com,\"8863 Thornton Shore Apt. 189, West Williamland, WA 06616\",2024-06-01T00:00:00.000+03:00,675-676-8104,Morgan-Flores,Charity officer,2000-12-12,Kenya,2aa7b717-7f28-425b-a429-a6925cc4a470,14350,BD'),\n",
       " Row(name,email,address,registration_date,phone,company,job,birthdate,country,uuid,salary,country_code='Melissa Fisher,javila@example.com,\"4415 Beck Place Suite 625, Jamesfurt, HI 99880\",2024-05-29T00:00:00.000+03:00,492.514.9695x53977,Jones-Brooks,\"Engineer, agricultural\",2007-04-29,Antigua and Barbuda,e357343b-297d-4ba3-8a9a-b8c0c567c95f,4500,PF'),\n",
       " Row(name,email,address,registration_date,phone,company,job,birthdate,country,uuid,salary,country_code='Nicole Martin,davisjasmine@example.net,\"1450 Shaun Locks, Scotthaven, TX 53714\",2024-09-03T00:00:00.000+03:00,(267)960-9049,\"Valentine, Nguyen and Shannon\",Food technologist,2006-07-20,Morocco,cee7c50f-4fa4-415f-8d80-b0e3fe95d6b1,17700,PE'),\n",
       " Row(name,email,address,registration_date,phone,company,job,birthdate,country,uuid,salary,country_code='Cynthia Taylor,marywillis@example.com,\"Unit 0575 Box 0621, DPO AP 54896\",2024-09-03T00:00:00.000+03:00,(779)528-1658x8897,Sanders-Smith,Planning and development surveyor,2001-01-16,Malta,8a6b6536-bbb6-4477-b4b0-6e018d60b5e4,6800,AM'),\n",
       " Row(name,email,address,registration_date,phone,company,job,birthdate,country,uuid,salary,country_code='Shaun Baker,ronniewilliams@example.org,\"7856 Woods Skyway, Maytown, WI 94052\",2024-06-01T00:00:00.000+03:00,678-417-1031x420,Terry LLC,Geoscientist,1962-03-09,Canada,1018d3f9-0dd7-4aa4-83fa-07d2ce263571,9450,PK'),\n",
       " Row(name,email,address,registration_date,phone,company,job,birthdate,country,uuid,salary,country_code='Charles Clark,lanevincent@example.net,\"87346 Tonya Pass, North Sarah, AK 02469\",2024-06-01T00:00:00.000+03:00,(266)267-0182x8806,Frey Inc,Midwife,1991-12-25,Czech Republic,b984fd4f-67a4-4c6d-9466-8e09694f5ea1,3850,BN'),\n",
       " Row(name,email,address,registration_date,phone,company,job,birthdate,country,uuid,salary,country_code='Lauren Brown,jennifernorris@example.net,\"USS White, FPO AE 67323\",2024-04-04T00:00:00.000+03:00,441.948.0995x788,Murphy LLC,Advertising art director,2000-05-08,Japan,5ee5b1e7-af3b-42d8-a63c-b5582e40aa27,8150,TT'),\n",
       " Row(name,email,address,registration_date,phone,company,job,birthdate,country,uuid,salary,country_code='Mrs. Vanessa Smith DDS,darren07@example.org,\"741 Scott Extension, New Patriciamouth, AS 57008\",2024-08-30T00:00:00.000+03:00,985.639.6913x2329,Martinez-Turner,Travel agency manager,1989-10-22,Zimbabwe,a0bdd132-1740-4ebf-9b2a-56b84ce97523,7750,KY'),\n",
       " Row(name,email,address,registration_date,phone,company,job,birthdate,country,uuid,salary,country_code='John Bowman,wolfkenneth@example.org,\"36459 Nathan Stream, South Charlesland, MH 76146\",2024-08-30T00:00:00.000+03:00,001-898-436-6266,Evans and Sons,Futures trader,1966-03-15,Cyprus,1541171d-15fc-4693-bd46-a11d45402e3c,11250,PF'),\n",
       " Row(name,email,address,registration_date,phone,company,job,birthdate,country,uuid,salary,country_code='Brandon Thomas,davistodd@example.net,\"2342 Brian Lane, Gonzalezborough, IA 21104\",2024-04-04T00:00:00.000+03:00,+1-826-504-8489,Greene-Sullivan,Logistics and distribution manager,1974-06-11,Syrian Arab Republic,c8daa959-f7b8-4814-a6c8-721324028ec8,15850,LU'),\n",
       " Row(name,email,address,registration_date,phone,company,job,birthdate,country,uuid,salary,country_code='Michael Graham,hnichols@example.org,\"877 Ryan River Apt. 222, Lake Sandra, OR 48061\",2024-05-29T00:00:00.000+03:00,001-776-226-2589x399,Miller-Hernandez,Neurosurgeon,1967-12-10,Montenegro,9c4db61c-14c3-42e2-a769-1e87f12645e5,6900,BE'),\n",
       " Row(name,email,address,registration_date,phone,company,job,birthdate,country,uuid,salary,country_code='Nicholas Davidson,acervantes@example.net,\"475 Daniel Road, New Jose, MI 92131\",2024-08-30T00:00:00.000+03:00,716.845.2733,Rodriguez-Hunter,Broadcast journalist,1963-09-30,Svalbard & Jan Mayen Islands,15bf186d-019d-4d4a-b9f2-0ec82d602871,16350,CF'),\n",
       " Row(name,email,address,registration_date,phone,company,job,birthdate,country,uuid,salary,country_code='Sierra Hammond,jonathonbeck@example.org,\"21978 Bailey Courts, Burchland, MS 15337\",2024-06-01T00:00:00.000+03:00,(492)431-0207x80849,Gaines-Carpenter,Health physicist,1960-01-11,Timor-Leste,0debda30-0eb7-4a4f-a284-fd16a54851c2,9350,SI'),\n",
       " Row(name,email,address,registration_date,phone,company,job,birthdate,country,uuid,salary,country_code='Matthew Taylor,cortezscott@example.net,\"54084 Hines Dam Suite 052, North Keith, GU 07317\",2024-05-29T00:00:00.000+03:00,879.414.1726x27601,Taylor Inc,\"Programmer, multimedia\",1992-03-17,Mauritania,b26ecf48-69f1-4ce8-afe9-51bbd2279b11,16800,AE'),\n",
       " Row(name,email,address,registration_date,phone,company,job,birthdate,country,uuid,salary,country_code='Erin Miller,haley21@example.com,\"972 Madeline Springs Apt. 491, Mataland, OK 62668\",2024-03-12T00:00:00.000+03:00,910.992.0097,Klein-Monroe,Customer service manager,1998-02-05,El Salvador,210452d4-ef26-4792-af42-86a0dd7f3167,11950,GS'),\n",
       " Row(name,email,address,registration_date,phone,company,job,birthdate,country,uuid,salary,country_code='Lisa Smith,jacksonpeter@example.net,\"PSC 0558, Box 0832, APO AE 90106\",2024-08-30T00:00:00.000+03:00,918.985.6594x40860,Wright Ltd,Hydrologist,1999-08-28,Benin,0b041e73-e87d-49b3-b0d8-60893a748872,7650,TW'),\n",
       " Row(name,email,address,registration_date,phone,company,job,birthdate,country,uuid,salary,country_code='Heather Harris,hendersonjason@example.com,\"366 Zimmerman Overpass, North Christianshire, PW 05986\",2024-09-03T00:00:00.000+03:00,626-986-8060x7799,Soto and Sons,Adult nurse,1974-03-06,Belgium,258ea75a-3973-46db-9a6c-5bd175bfb2e6,6450,AO'),\n",
       " Row(name,email,address,registration_date,phone,company,job,birthdate,country,uuid,salary,country_code='Christopher Johnson,kelsey07@example.com,\"641 Robinson Grove Suite 391, Stephensonmouth, FL 24393\",2024-04-04T00:00:00.000+03:00,554-921-0102x94666,Cochran and Sons,Theatre manager,1967-09-16,Georgia,9c3f2bb0-eca0-451a-a3aa-0098863a6faf,10250,KE'),\n",
       " Row(name,email,address,registration_date,phone,company,job,birthdate,country,uuid,salary,country_code='Anna Cruz,johnjohnson@example.org,\"PSC 8798, Box 3055, APO AP 58134\",2024-01-10T00:00:00.000+03:00,+1-763-608-4628x7836,Whitehead-Coffey,Editorial assistant,1961-03-15,Samoa,7735c9e1-f4da-45f8-80a8-527b254c2896,11000,SD'),\n",
       " Row(name,email,address,registration_date,phone,company,job,birthdate,country,uuid,salary,country_code='Joshua Nolan,barbaralowe@example.net,\"334 Payne Pines, Lake Elizabeth, VI 70731\",2024-04-04T00:00:00.000+03:00,376-616-4170x9804,Daniels-White,Special educational needs teacher,1977-04-16,Palau,7b1551a8-79fa-4f0d-8280-ba242e081cdf,9550,ZA'),\n",
       " Row(name,email,address,registration_date,phone,company,job,birthdate,country,uuid,salary,country_code='Jamie Hamilton,zsmith@example.net,\"34862 Stephanie Shore Suite 083, Hayesmouth, GA 86853\",2024-02-23T00:00:00.000+03:00,3078150123,Hoffman-Mendoza,Publishing copy,1985-08-28,French Guiana,325814b0-f1cf-4b5e-bb31-3ea699377bac,15400,ID'),\n",
       " Row(name,email,address,registration_date,phone,company,job,birthdate,country,uuid,salary,country_code='Bryan White,leslie97@example.com,\"427 Derek Via, North Analand, TN 66081\",2024-04-04T00:00:00.000+03:00,3347470948,Anderson-Lewis,Corporate treasurer,1975-10-15,Macao,dd586338-2423-4fba-8dac-8022a60d3bc8,19850,BA'),\n",
       " Row(name,email,address,registration_date,phone,company,job,birthdate,country,uuid,salary,country_code='Chase Cole,jackienunez@example.com,\"7009 Jacqueline Prairie Apt. 213, Simmonsberg, IL 91468\",2024-05-29T00:00:00.000+03:00,+1-943-912-3785,\"Sullivan, Beasley and Rodriguez\",\"Designer, industrial/product\",2007-05-29,Ireland,d5abaf73-6468-4510-830b-0d4503ad6649,16950,RE'),\n",
       " Row(name,email,address,registration_date,phone,company,job,birthdate,country,uuid,salary,country_code='Alexander Russo,garygordon@example.com,\"4647 Kimberly Island, North Logan, AZ 03435\",2024-05-29T00:00:00.000+03:00,995.913.6486x837,\"Jimenez, Whitehead and Walker\",\"Accountant, chartered management\",2005-03-15,Malaysia,eb7f9d74-64ce-415a-b105-46d11b422e10,19300,PS'),\n",
       " Row(name,email,address,registration_date,phone,company,job,birthdate,country,uuid,salary,country_code='Melanie Oconnell,yfoster@example.net,\"364 Fuller Bridge Apt. 730, Anitaside, ND 43882\",2024-04-04T00:00:00.000+03:00,306.509.4055,\"Bradley, Ellis and Stone\",Medical sales representative,1969-07-27,Peru,bd1a25aa-90c9-4151-bbba-89e1485e53c1,8450,KM'),\n",
       " Row(name,email,address,registration_date,phone,company,job,birthdate,country,uuid,salary,country_code='Lawrence Ayala,mistyrowland@example.com,\"573 Susan Mount, New Samuel, ME 56185\",2024-01-10T00:00:00.000+03:00,+1-316-399-2171x087,\"Roberts, Olson and Rogers\",Armed forces technical officer,1999-01-20,Thailand,5c997fb2-0154-4bf4-ab30-b159d9620aa9,3100,EH'),\n",
       " Row(name,email,address,registration_date,phone,company,job,birthdate,country,uuid,salary,country_code='Laurie Skinner,christopher34@example.net,\"334 Briggs Village Apt. 929, South Shawn, MH 06936\",2024-02-23T00:00:00.000+03:00,225.932.3732x075,Spence-Foster,Senior tax professional/tax inspector,1961-12-04,Saint Barthelemy,eabdd20a-31f5-4ab0-8c92-2cd2dddbe7c6,12450,MP'),\n",
       " Row(name,email,address,registration_date,phone,company,job,birthdate,country,uuid,salary,country_code='Philip Waters,courtneyvalentine@example.com,\"2711 Gonzalez Avenue, Cynthiamouth, FM 29037\",2024-05-29T00:00:00.000+03:00,(382)880-0655x967,\"Kelly, Butler and Rocha\",Commercial art gallery manager,1976-04-13,Ethiopia,12194814-3b22-4dae-b09c-bd95ae34bf94,7900,MS'),\n",
       " Row(name,email,address,registration_date,phone,company,job,birthdate,country,uuid,salary,country_code='Jason Wilson,mark34@example.org,\"773 Bethany Spring Apt. 984, South Zoefurt, KY 81805\",2024-08-30T00:00:00.000+03:00,+1-950-956-7094x38710,Chandler-Bennett,\"Investment banker, operational\",1986-11-16,Ethiopia,2e10e1c2-a056-4114-9dfe-3e89107c2f3b,2150,AM'),\n",
       " Row(name,email,address,registration_date,phone,company,job,birthdate,country,uuid,salary,country_code='Katherine Anderson,kendraruiz@example.net,\"9706 Edward Manor Suite 331, Peterland, MH 31501\",2024-06-01T00:00:00.000+03:00,001-712-980-1730x53534,Hanson Group,Ship broker,1987-05-08,Sweden,a7ec0ac7-8750-4f67-82a6-4041d214b75f,5250,KY'),\n",
       " Row(name,email,address,registration_date,phone,company,job,birthdate,country,uuid,salary,country_code='Perry Kelly,osmall@example.org,\"PSC 4090, Box 3991, APO AE 12446\",2024-08-30T00:00:00.000+03:00,521-637-0401x4089,Bush and Sons,Radio producer,1968-01-16,United States of America,075e1bd1-f110-4e3e-877a-dd05e2ae4c64,18700,SK'),\n",
       " Row(name,email,address,registration_date,phone,company,job,birthdate,country,uuid,salary,country_code='Alexander Montgomery,frogers@example.org,\"Unit 7777 Box 1417, DPO AP 51013\",2024-06-01T00:00:00.000+03:00,(928)843-1919x2194,Wolfe-Perez,Automotive engineer,1971-06-28,Saint Helena,87988737-8db4-41d0-97f8-c1ad4d02f81a,8200,LR'),\n",
       " Row(name,email,address,registration_date,phone,company,job,birthdate,country,uuid,salary,country_code='Rebecca Brown,ujackson@example.net,\"938 Alison Wall Suite 779, Lake Lindsaytown, MS 47211\",2024-01-10T00:00:00.000+03:00,(259)576-8507,Meyer Ltd,Maintenance engineer,1981-12-18,Kiribati,c7b9ba97-dc88-45bd-8377-3adcaf804e35,11500,KI'),\n",
       " Row(name,email,address,registration_date,phone,company,job,birthdate,country,uuid,salary,country_code='Aaron Grant,barneselizabeth@example.org,\"44606 Espinoza Turnpike, Youngview, MT 15874\",2024-09-03T00:00:00.000+03:00,+1-446-334-5947x27965,Mcdaniel-Wall,\"Designer, industrial/product\",1978-11-12,Cambodia,4ec554aa-3719-4b60-8673-59dac6c1611b,4950,GY'),\n",
       " Row(name,email,address,registration_date,phone,company,job,birthdate,country,uuid,salary,country_code='Jessica Henry,lindamartinez@example.net,\"Unit 4802 Box 6768, DPO AP 92780\",2024-03-12T00:00:00.000+03:00,+1-878-254-3819x393,\"Moore, Berry and Palmer\",Housing manager/officer,1971-06-20,Greece,82cd5903-310d-47f2-861a-0b20749cb1c4,18550,KH'),\n",
       " Row(name,email,address,registration_date,phone,company,job,birthdate,country,uuid,salary,country_code='John Moreno,igraham@example.org,\"1768 Nash Ridge, Drakeshire, GU 02844\",2024-03-12T00:00:00.000+03:00,001-690-418-2793x7793,Hughes Inc,Minerals surveyor,1971-08-08,Christmas Island,a8d34fbd-6de1-4a75-8c99-275f6fc88009,10100,CN'),\n",
       " Row(name,email,address,registration_date,phone,company,job,birthdate,country,uuid,salary,country_code='Ann Ferguson,powersbryan@example.org,\"36179 Jeffrey Road Apt. 136, Mccannbury, FL 95994\",2024-03-12T00:00:00.000+03:00,848.960.0179,\"James, Anderson and Aguilar\",\"Designer, graphic\",2005-08-22,Gabon,abe224c5-2b02-4abe-82fa-1179f0a63f8f,12900,DK'),\n",
       " Row(name,email,address,registration_date,phone,company,job,birthdate,country,uuid,salary,country_code='Jennifer Gordon,samantha20@example.com,\"17103 Melanie Summit, North Joseph, WY 03869\",2024-05-29T00:00:00.000+03:00,(236)619-5951x214,\"Gregory, Wise and Allen\",\"Designer, furniture\",1962-09-04,Tuvalu,4ce60fe1-86cf-4ec8-b0db-50f3b7de90c5,14350,NA'),\n",
       " Row(name,email,address,registration_date,phone,company,job,birthdate,country,uuid,salary,country_code='Carrie Phillips DDS,richardsonjason@example.net,\"7554 Norris Ways, Perryport, IL 46092\",2024-05-29T00:00:00.000+03:00,306-950-8592x63897,Hudson Group,Commercial horticulturist,1989-03-09,Korea,84842617-94e6-449c-a8ce-e39578ac9a71,4250,GB'),\n",
       " Row(name,email,address,registration_date,phone,company,job,birthdate,country,uuid,salary,country_code='Debra Schaefer,egomez@example.org,\"078 Goodman Locks Suite 081, New Courtneytown, MS 01882\",2024-03-12T00:00:00.000+03:00,980-742-7308x2520,Cox-Martinez,\"Research officer, political party\",2006-07-11,Philippines,f37928c5-cfdf-48c0-814a-90c81a9923ee,18200,BN'),\n",
       " Row(name,email,address,registration_date,phone,company,job,birthdate,country,uuid,salary,country_code='Mary Orr,boltonparker@example.com,\"254 Suzanne Expressway Suite 605, East Lauraview, CA 99021\",2024-01-10T00:00:00.000+03:00,768.286.1955,\"Gardner, Sanchez and Torres\",Television production assistant,1997-09-14,Kiribati,f105e920-c493-42f6-b779-64281a983136,15750,GD'),\n",
       " Row(name,email,address,registration_date,phone,company,job,birthdate,country,uuid,salary,country_code='Randy Boyd,bbrown@example.com,\"9972 Peter Terrace Apt. 682, New Brian, FL 78147\",2024-05-29T00:00:00.000+03:00,001-516-315-2697x2752,Carlson LLC,Secretary/administrator,1979-09-21,South Africa,4d092f85-0c76-4873-91ef-4d7dc6060aff,6450,SO'),\n",
       " Row(name,email,address,registration_date,phone,company,job,birthdate,country,uuid,salary,country_code='Wesley Harris,angelamacdonald@example.com,\"USS Roberts, FPO AE 56479\",2024-01-10T00:00:00.000+03:00,546.975.3257x66638,Maldonado Group,Higher education lecturer,1973-04-07,Mayotte,d1430976-0636-4f23-bf01-d1104eb27a4b,2700,MX'),\n",
       " Row(name,email,address,registration_date,phone,company,job,birthdate,country,uuid,salary,country_code='Marie Allison,barronnicholas@example.org,\"58989 Burnett Isle Apt. 184, Mahoneyfort, DE 98344\",2024-02-23T00:00:00.000+03:00,562.827.2540x55675,\"Mcfarland, Henderson and Cox\",Special effects artist,1986-05-24,Mali,e8a45793-4d20-446b-89de-222aa1e0bb49,9400,ID'),\n",
       " Row(name,email,address,registration_date,phone,company,job,birthdate,country,uuid,salary,country_code='Brent Burgess PhD,jennifer60@example.com,\"9663 Jeffrey Prairie Apt. 625, Markhaven, NY 70296\",2024-06-01T00:00:00.000+03:00,(428)289-6377x4684,\"Walker, Cook and Hicks\",Metallurgist,2005-04-01,Greenland,e7147618-125f-4de3-99cc-d9221cd4003a,13200,KM'),\n",
       " Row(name,email,address,registration_date,phone,company,job,birthdate,country,uuid,salary,country_code='Patricia Miller,kimberlyhernandez@example.com,\"15616 Samantha Trace Suite 777, Jessemouth, MT 22447\",2024-09-03T00:00:00.000+03:00,001-824-739-5816,\"Dixon, Cox and Bullock\",Child psychotherapist,1996-02-07,Macao,767b7367-d7c8-4cad-9f49-33892a9a964b,2050,DO'),\n",
       " Row(name,email,address,registration_date,phone,company,job,birthdate,country,uuid,salary,country_code='Scott Richard,eparker@example.org,\"96030 Palmer Orchard, North Kimberlyburgh, MI 51937\",2024-09-03T00:00:00.000+03:00,(290)844-8161,Atkins and Sons,\"Accountant, chartered management\",1962-03-29,Bulgaria,5c2d2c0a-af0f-4907-8bd5-53ad3065b855,18500,SV'),\n",
       " Row(name,email,address,registration_date,phone,company,job,birthdate,country,uuid,salary,country_code='Cassandra Stone,hornjames@example.net,\"372 Antonio Course, Shariview, PA 56026\",2024-06-01T00:00:00.000+03:00,+1-243-546-3020x45510,\"Gay, Armstrong and Anderson\",Science writer,2004-08-07,Afghanistan,36c9e869-4292-4358-abc2-afbc87982050,5150,CA'),\n",
       " Row(name,email,address,registration_date,phone,company,job,birthdate,country,uuid,salary,country_code='Karen Mcgrath,buckleyelizabeth@example.com,\"964 Brian Station, North Shelley, WA 54299\",2024-04-04T00:00:00.000+03:00,6177448101,Boyd LLC,Telecommunications researcher,1972-03-09,Antarctica (the territory South of 60 deg S),df2030f5-00f2-403c-8b54-b28b9797a7b3,6950,GM'),\n",
       " Row(name,email,address,registration_date,phone,company,job,birthdate,country,uuid,salary,country_code='Nathan Beck,kcurtis@example.net,\"USCGC Best, FPO AP 68128\",2024-05-29T00:00:00.000+03:00,539.794.3952x6291,Hickman-Quinn,\"Surveyor, planning and development\",1968-06-03,Haiti,46e1b372-f631-4069-846a-563d4edf7a4a,15400,GL'),\n",
       " Row(name,email,address,registration_date,phone,company,job,birthdate,country,uuid,salary,country_code='Katie Snow,reedcarolyn@example.org,\"384 Garrison Falls, Tuckerchester, UT 12345\",2024-01-10T00:00:00.000+03:00,(304)976-4300x2054,\"Ramirez, Gray and Rice\",\"Accountant, chartered management\",1994-10-10,Myanmar,c397fcbe-a2a5-4a39-bd2c-c5cee591f8cf,18350,CL'),\n",
       " Row(name,email,address,registration_date,phone,company,job,birthdate,country,uuid,salary,country_code='Erica Hall,lynnmiguel@example.org,\"USNV Smith, FPO AP 29837\",2024-08-30T00:00:00.000+03:00,494-956-0147,Burke-Leonard,IT sales professional,1967-09-15,South Georgia and the South Sandwich Islands,4b630138-92cd-409c-a2e2-0e185f97b8b8,4350,PW'),\n",
       " Row(name,email,address,registration_date,phone,company,job,birthdate,country,uuid,salary,country_code='Michelle Olsen,nancy54@example.org,\"4703 Barber Springs, Port Brooke, AR 38094\",2024-05-29T00:00:00.000+03:00,(872)297-8262x90913,\"Clark, Yu and Taylor\",Product/process development scientist,1964-03-28,San Marino,1b580615-22e7-456c-aeaa-96228ddd10d4,11100,FM'),\n",
       " Row(name,email,address,registration_date,phone,company,job,birthdate,country,uuid,salary,country_code='Michelle Cook,kellydouglas@example.org,\"565 Stone Plaza Suite 336, Jesseton, NE 31739\",2024-05-29T00:00:00.000+03:00,761.695.1137x84425,Walters-Allen,Metallurgist,2001-07-21,Benin,9ea8a468-6713-45f8-a657-0ed685783674,14900,RE'),\n",
       " Row(name,email,address,registration_date,phone,company,job,birthdate,country,uuid,salary,country_code='Diane Gutierrez,ofranco@example.net,\"1530 Ball Shores Apt. 523, Navarroshire, DE 51888\",2024-09-03T00:00:00.000+03:00,(377)548-4712x32584,Murphy-Blake,Music therapist,1973-04-20,Jersey,418d451d-a87b-47bb-b2e2-b1d80fdc9a18,16200,IE'),\n",
       " Row(name,email,address,registration_date,phone,company,job,birthdate,country,uuid,salary,country_code='Jon Winters,butlerrobert@example.com,\"05264 Aguirre Mountain Apt. 118, South Ambermouth, PR 55531\",2024-03-12T00:00:00.000+03:00,344-906-5988,Lee-Clayton,Art gallery manager,1989-05-05,San Marino,b08ae146-76bf-4d96-822a-1e281485f201,15200,MO'),\n",
       " Row(name,email,address,registration_date,phone,company,job,birthdate,country,uuid,salary,country_code='Sheena Hardin,ballardgary@example.org,\"0786 Beverly Cove, Lake Kevinburgh, MP 60016\",2024-06-01T00:00:00.000+03:00,+1-627-335-3638x67879,Smith-Morris,Multimedia programmer,1999-12-01,Israel,e5b503f8-2176-4fe2-a31c-71006fe77502,14850,LR'),\n",
       " Row(name,email,address,registration_date,phone,company,job,birthdate,country,uuid,salary,country_code='Kyle Henderson,vhammond@example.org,\"218 Carlson Shoals Suite 690, Keithbury, CA 21072\",2024-01-10T00:00:00.000+03:00,982.595.0556x2388,\"Morgan, Rice and Buchanan\",Charity officer,1963-06-11,Antigua and Barbuda,02ec2da0-73ea-4f53-87b0-2e965ebab2ca,16750,HT'),\n",
       " Row(name,email,address,registration_date,phone,company,job,birthdate,country,uuid,salary,country_code='Tiffany Jefferson,josechung@example.net,\"7990 Johnson Inlet, Hughesville, AK 50716\",2024-02-23T00:00:00.000+03:00,001-376-722-6351,Bell-Lewis,\"Programmer, systems\",1971-03-15,Germany,0f167487-42fd-4a4b-ae20-5e13ddd6f20c,16300,GL'),\n",
       " Row(name,email,address,registration_date,phone,company,job,birthdate,country,uuid,salary,country_code='Erika Miller,heatherryan@example.net,\"85167 Jennifer Skyway Suite 866, Lewismouth, SD 57073\",2024-08-30T00:00:00.000+03:00,(997)974-5269x95756,Rivera-Clarke,Advice worker,1998-03-21,Martinique,4a4d31ed-8d81-4e10-9daa-32a56eebfe83,12100,PH'),\n",
       " Row(name,email,address,registration_date,phone,company,job,birthdate,country,uuid,salary,country_code='Joshua Flores,osmith@example.net,\"Unit 9833 Box 8390, DPO AP 59216\",2024-06-01T00:00:00.000+03:00,254.969.1500x8270,Stewart and Sons,Financial controller,1982-10-03,United States of America,5f05e343-0060-42bb-b760-0392294f1d94,8400,LC'),\n",
       " Row(name,email,address,registration_date,phone,company,job,birthdate,country,uuid,salary,country_code='Sherry Owen,kellymontoya@example.com,\"9311 Michael Glen Suite 457, Baileyhaven, VA 25821\",2024-06-01T00:00:00.000+03:00,+1-956-561-9492x26571,Smith and Sons,\"Investment banker, operational\",1997-10-17,Myanmar,a84cfa85-6a90-4e35-a2dd-9545e2626111,6700,EG'),\n",
       " Row(name,email,address,registration_date,phone,company,job,birthdate,country,uuid,salary,country_code='Mary Kemp,holly67@example.net,\"675 Patricia Avenue, New Micheleside, VT 27636\",2024-03-12T00:00:00.000+03:00,001-756-774-3859x54171,\"Morrison, Jenkins and Stokes\",\"Teacher, special educational needs\",1979-04-29,South Africa,0eb8c5f9-b952-4976-8f44-497d619f1963,12750,AE'),\n",
       " Row(name,email,address,registration_date,phone,company,job,birthdate,country,uuid,salary,country_code='Robin Mccormick,judithmontoya@example.org,\"66115 Holden Mountains, Leehaven, TX 14757\",2024-05-29T00:00:00.000+03:00,(221)210-4968x187,\"Nelson, Jacobson and Vargas\",Tree surgeon,1960-04-17,Eritrea,1d7d59a7-a4b2-47af-962b-16b90afd6999,7100,MN'),\n",
       " Row(name,email,address,registration_date,phone,company,job,birthdate,country,uuid,salary,country_code='Mark Bonilla,landerson@example.com,\"4555 Matthew Pine Apt. 968, Allenborough, PR 70867\",2024-03-12T00:00:00.000+03:00,3675405272,\"Hudson, Burns and Fox\",IT technical support officer,1996-05-13,Oman,bb08edfb-75b8-4a7c-8097-cc24b9e0a3f4,12950,GU'),\n",
       " Row(name,email,address,registration_date,phone,company,job,birthdate,country,uuid,salary,country_code='Edwin Harrington,taylormorton@example.com,\"1580 Courtney Route Apt. 201, Adamton, PA 32824\",2024-03-12T00:00:00.000+03:00,(255)258-7475,Robinson-Strickland,\"Engineer, biomedical\",2005-01-22,Serbia,81f25856-6291-4786-8dfd-4b565914052a,16750,AZ'),\n",
       " Row(name,email,address,registration_date,phone,company,job,birthdate,country,uuid,salary,country_code='Bradley Lang,sherri90@example.net,\"60335 Reese Square Apt. 878, South Tiffanyville, VT 62631\",2024-05-29T00:00:00.000+03:00,372-445-9005,Ruiz LLC,Consulting civil engineer,2003-11-18,Congo,4c6915c6-385a-4624-9894-3aa36a162bbf,8950,AZ'),\n",
       " Row(name,email,address,registration_date,phone,company,job,birthdate,country,uuid,salary,country_code='David Sandoval,qowens@example.org,\"753 James Prairie, North William, MN 30745\",2024-06-01T00:00:00.000+03:00,5776745595,\"Jimenez, Watson and Day\",Advertising art director,1971-01-15,Belgium,82da9c1e-e01b-4f50-bf7b-cd6d6de8b0d9,17850,LY'),\n",
       " Row(name,email,address,registration_date,phone,company,job,birthdate,country,uuid,salary,country_code='Richard Johnson,kennedynicholas@example.net,\"7773 Taylor Creek, Jonesshire, NH 34459\",2024-01-10T00:00:00.000+03:00,+1-827-289-6771x56824,Hayes-Chang,\"Horticulturist, amenity\",2004-11-09,American Samoa,098cbe6d-f184-4ae8-8706-97f288ddfc0c,18950,RE'),\n",
       " Row(name,email,address,registration_date,phone,company,job,birthdate,country,uuid,salary,country_code='Michael Phillips,christinachristensen@example.net,\"624 Snyder Mall, Brianborough, AZ 76638\",2024-01-10T00:00:00.000+03:00,4007228752,Perez and Sons,Trading standards officer,1983-02-16,Korea,454d9b76-016a-4997-a1b7-e1946f00b1b0,9000,SZ'),\n",
       " Row(name,email,address,registration_date,phone,company,job,birthdate,country,uuid,salary,country_code='Misty Lopez,pageellen@example.org,\"747 West Lakes, New Kennethview, OR 48176\",2024-05-29T00:00:00.000+03:00,001-467-446-3878x606,Kaiser LLC,\"Administrator, sports\",1986-03-14,Greenland,35e0f776-bd27-4e7c-a9c9-dd66a7a16df0,4700,MP'),\n",
       " Row(name,email,address,registration_date,phone,company,job,birthdate,country,uuid,salary,country_code='Laura Smith,jennifer73@example.com,\"612 Reed Lights, South Aaronstad, PW 53626\",2024-01-10T00:00:00.000+03:00,306.936.0084,Thompson Ltd,\"Psychologist, sport and exercise\",1980-10-14,Argentina,471bc34d-78bc-487d-b982-4fb7a3e29b25,5400,AF'),\n",
       " Row(name,email,address,registration_date,phone,company,job,birthdate,country,uuid,salary,country_code='Ryan Acosta,davismark@example.com,\"57716 Owens Ridge Apt. 365, Lindafort, MO 00953\",2024-04-04T00:00:00.000+03:00,648.444.5011x004,Frey-Kelly,Printmaker,1995-08-12,Nigeria,558904a9-2e69-454c-b36a-667a4ae2ecd0,6250,CD'),\n",
       " Row(name,email,address,registration_date,phone,company,job,birthdate,country,uuid,salary,country_code='Christine Woodard,barnesbethany@example.net,\"2069 Dorsey Island, Gonzalezville, OK 45670\",2024-09-03T00:00:00.000+03:00,629.465.2389x04241,Berry and Sons,Community arts worker,1975-02-14,Liechtenstein,118aa1cf-fa0a-4668-9580-afb410bf829c,2850,FK'),\n",
       " Row(name,email,address,registration_date,phone,company,job,birthdate,country,uuid,salary,country_code='Scott Smith,lisacole@example.com,\"Unit 6012 Box 0495, DPO AP 02034\",2024-05-29T00:00:00.000+03:00,+1-447-560-6259x814,\"Bentley, Fox and Stokes\",Public house manager,1996-08-27,Nauru,86628c8b-2c53-4792-aa70-a0e6b593de46,7700,KP'),\n",
       " Row(name,email,address,registration_date,phone,company,job,birthdate,country,uuid,salary,country_code='Marilyn Perry,kirkshelby@example.com,\"3136 Stephens Roads Apt. 857, Kylieberg, MN 72327\",2024-03-12T00:00:00.000+03:00,292-682-4318x323,\"Watson, Hughes and Johnson\",\"Surveyor, hydrographic\",1962-09-07,Cayman Islands,fe24c29d-7f1e-458d-9437-5dc817b1606e,17800,IQ'),\n",
       " Row(name,email,address,registration_date,phone,company,job,birthdate,country,uuid,salary,country_code='Robert Ballard,kathleensharp@example.net,\"948 Caleb Forges Suite 761, South Jason, GA 46420\",2024-04-04T00:00:00.000+03:00,677-951-8843,\"Durham, Wallace and Little\",Insurance risk surveyor,1981-04-13,Moldova,a2a23dcd-20f7-4fde-8561-2854c3959aa1,18050,ES'),\n",
       " Row(name,email,address,registration_date,phone,company,job,birthdate,country,uuid,salary,country_code='Darrell Snyder,melendezsean@example.net,\"933 Michele Manors Suite 702, West Danielmouth, WY 90358\",2024-04-04T00:00:00.000+03:00,725-524-8178,Reed-Burnett,\"Engineer, civil (contracting)\",1982-08-28,Antarctica (the territory South of 60 deg S),e88facb9-489a-406b-b868-c47ab9d62eec,2200,CC'),\n",
       " Row(name,email,address,registration_date,phone,company,job,birthdate,country,uuid,salary,country_code='William Hamilton,qrodriguez@example.com,\"62071 Bird Roads Apt. 987, Wellstown, FM 70384\",2024-08-30T00:00:00.000+03:00,001-507-266-0208x6820,\"Ferrell, Coleman and Dawson\",Community development worker,1990-05-30,Paraguay,60d16877-0f61-4c48-b9bf-ef93c4913a1d,16250,MY'),\n",
       " Row(name,email,address,registration_date,phone,company,job,birthdate,country,uuid,salary,country_code='Jennifer Gonzales,richard94@example.net,\"3790 Parker Corners, New Yolanda, NY 18196\",2024-06-01T00:00:00.000+03:00,(703)435-9860,\"Washington, Vasquez and Buckley\",Electrical engineer,1992-05-24,Lesotho,7304cc9a-ef90-46de-9aff-317ac236b4e9,6500,ER'),\n",
       " Row(name,email,address,registration_date,phone,company,job,birthdate,country,uuid,salary,country_code='Renee Serrano,ipatterson@example.com,\"02161 Alexa Gateway, North Carolyn, MH 07311\",2024-08-30T00:00:00.000+03:00,822-674-1392,\"Faulkner, Wallace and Howard\",Dispensing optician,1983-09-16,Turkmenistan,f2cfd48b-8061-46e1-9aba-14b9d0b392c2,7950,CX'),\n",
       " Row(name,email,address,registration_date,phone,company,job,birthdate,country,uuid,salary,country_code='Adam Casey,ujohnson@example.com,\"Unit 4924 Box 4490, DPO AA 56300\",2024-01-10T00:00:00.000+03:00,(583)576-3303,\"Lucas, Rocha and Henderson\",\"Engineer, civil (consulting)\",1998-11-27,Bulgaria,9d5c3779-c439-4e4d-b98b-81453940d3e3,5200,TG'),\n",
       " Row(name,email,address,registration_date,phone,company,job,birthdate,country,uuid,salary,country_code='Dr. Tyler Jones,michael86@example.com,\"1705 Michael Stravenue Suite 484, North John, MT 23126\",2024-02-23T00:00:00.000+03:00,001-262-408-2667x942,Harrington-Flynn,\"Psychologist, forensic\",1986-06-28,Monaco,b9d711a2-1780-4e8b-a5f9-a00877fefe86,11100,CC'),\n",
       " Row(name,email,address,registration_date,phone,company,job,birthdate,country,uuid,salary,country_code='Matthew Fuller,amy90@example.net,\"4396 Warner Pass Suite 659, Fordland, CT 55753\",2024-02-23T00:00:00.000+03:00,3168372629,Dillon-Martin,Financial manager,2001-10-03,Mauritius,80495b96-32ae-4e74-b066-6cbab49274d0,8150,CR'),\n",
       " Row(name,email,address,registration_date,phone,company,job,birthdate,country,uuid,salary,country_code='Andrea Wade,joshua03@example.net,\"7154 Rogers Row Apt. 742, Clineton, DC 13406\",2024-01-10T00:00:00.000+03:00,7055800817,\"Wise, Esparza and Duncan\",\"Pilot, airline\",1960-06-12,Armenia,9462d2c1-0fb3-4377-a16a-5a96832dc562,18250,PE'),\n",
       " Row(name,email,address,registration_date,phone,company,job,birthdate,country,uuid,salary,country_code='Clayton Washington,dylan75@example.net,\"076 Molly Ranch Apt. 354, Michaelview, NH 60849\",2024-05-29T00:00:00.000+03:00,836.856.9454x62409,Chen Ltd,Veterinary surgeon,1978-01-28,United States of America,498da0d2-6306-4caf-91b0-7347d23a0445,8500,SM'),\n",
       " Row(name,email,address,registration_date,phone,company,job,birthdate,country,uuid,salary,country_code='Stacy Ruiz,mezacraig@example.net,\"1079 Davis Centers, Wallaceton, OK 28924\",2024-08-30T00:00:00.000+03:00,646.804.1886x540,Griffin PLC,\"Engineer, control and instrumentation\",1963-01-22,Uzbekistan,ae87366a-33bf-4488-83bd-73a3654ce33d,12400,FI'),\n",
       " Row(name,email,address,registration_date,phone,company,job,birthdate,country,uuid,salary,country_code='Debbie Doyle,jrogers@example.org,\"12423 Velasquez Lock, Leeshire, WI 14633\",2024-03-12T00:00:00.000+03:00,917-555-4561x9560,Griffith LLC,Pathologist,2006-05-27,Slovenia,fbd7e99b-bb94-418d-bf0b-1addb0c35820,16800,TH'),\n",
       " Row(name,email,address,registration_date,phone,company,job,birthdate,country,uuid,salary,country_code='Katherine Morales,yolanda71@example.com,\"PSC 2422, Box 2136, APO AA 63650\",2024-06-01T00:00:00.000+03:00,913.973.8262x807,\"Shields, Suarez and Smith\",Air cabin crew,1996-06-14,Singapore,fce69334-7553-4ca8-9bc1-555f1004f51f,16300,SG'),\n",
       " Row(name,email,address,registration_date,phone,company,job,birthdate,country,uuid,salary,country_code='Linda Mclaughlin,raymond78@example.org,\"009 Jason Roads Suite 021, Dixonton, KS 63173\",2024-04-04T00:00:00.000+03:00,+1-217-228-8124x845,Mcconnell LLC,Trading standards officer,1988-04-28,Uzbekistan,cc1ae877-3480-436f-a37a-2c389cd26bb4,18050,NE'),\n",
       " Row(name,email,address,registration_date,phone,company,job,birthdate,country,uuid,salary,country_code='Sara Peterson,shanelloyd@example.com,\"836 Thomas Well, Waltersmouth, IN 58938\",2024-04-04T00:00:00.000+03:00,688-313-1617x51219,Downs LLC,Geographical information systems officer,2006-02-15,Libyan Arab Jamahiriya,a441e604-997c-4d45-84e0-80b6ce70c617,2850,UY'),\n",
       " Row(name,email,address,registration_date,phone,company,job,birthdate,country,uuid,salary,country_code='Omar Davis,bwilliams@example.com,\"30921 Franklin Spurs, Margaretberg, FM 24006\",2024-08-30T00:00:00.000+03:00,(345)560-5859x357,\"Morrison, Wolfe and Sutton\",Artist,1978-05-04,Bouvet Island (Bouvetoya),4f8e100c-891f-4335-ba75-de7632eb709a,9150,VC'),\n",
       " Row(name,email,address,registration_date,phone,company,job,birthdate,country,uuid,salary,country_code='Wanda Nelson,ehuff@example.com,\"00156 Osborne Meadow Apt. 733, North Dominiquemouth, PW 33596\",2024-03-12T00:00:00.000+03:00,735-538-0015x7623,\"Edwards, Gibson and Singh\",Petroleum engineer,1976-02-14,Dominica,bf34fcf3-653e-405c-80cf-b18de31e34ad,5100,GN'),\n",
       " Row(name,email,address,registration_date,phone,company,job,birthdate,country,uuid,salary,country_code='Nicholas Knight,cartersara@example.net,\"2482 Judy Loop Suite 018, Vegaborough, GA 15457\",2024-04-04T00:00:00.000+03:00,762-497-9950,Lin LLC,Housing manager/officer,1986-10-08,Northern Mariana Islands,1c7beae1-b5c7-43d6-971f-cbe510a12fe1,2300,GA'),\n",
       " Row(name,email,address,registration_date,phone,company,job,birthdate,country,uuid,salary,country_code='Joshua Case,christina26@example.com,\"7718 Gilbert Street Apt. 532, Port Douglas, WA 93841\",2024-09-03T00:00:00.000+03:00,001-329-483-9635x011,Thompson-White,\"Scientist, physiological\",1986-03-08,Swaziland,0431478b-d00a-4639-8360-b184344bd3bc,12500,SH'),\n",
       " Row(name,email,address,registration_date,phone,company,job,birthdate,country,uuid,salary,country_code='Travis Reese,elizabethdavis@example.com,\"39288 David Prairie, Moorefort, FL 91301\",2024-08-30T00:00:00.000+03:00,001-520-563-0348x973,\"Reese, Mccormick and Rivera\",\"Designer, industrial/product\",2003-11-11,Grenada,b23c39a7-e07c-4a70-a70c-1b51d82a5be0,3400,KW'),\n",
       " Row(name,email,address,registration_date,phone,company,job,birthdate,country,uuid,salary,country_code='Lisa Lindsey,keithmatthew@example.com,\"2896 Roberts Garden, Lake Cynthia, MP 78606\",2024-09-03T00:00:00.000+03:00,234-225-3828,Nash-Juarez,Personnel officer,1992-09-12,New Caledonia,92bbe65d-0c0f-4e1d-ba4b-a55415a0ec42,2700,SC'),\n",
       " Row(name,email,address,registration_date,phone,company,job,birthdate,country,uuid,salary,country_code='Sydney Moss,tburke@example.net,\"180 Howard Unions, South Thomashaven, AK 69879\",2024-09-03T00:00:00.000+03:00,812.347.6007x2977,\"Hahn, Russell and Mitchell\",\"Solicitor, Scotland\",2004-08-23,Uzbekistan,2c147447-5069-43d1-9dca-58abc5e791bd,9100,EC'),\n",
       " Row(name,email,address,registration_date,phone,company,job,birthdate,country,uuid,salary,country_code='Margaret Daniel,dakota50@example.org,\"7709 Smith Knoll, Wilkinsonville, RI 99421\",2024-04-04T00:00:00.000+03:00,+1-911-394-1352x93920,Hayden Inc,\"Teacher, English as a foreign language\",1966-03-04,Jersey,07bfa1cf-bfb3-441d-97d7-219270cab3c2,7550,UM'),\n",
       " Row(name,email,address,registration_date,phone,company,job,birthdate,country,uuid,salary,country_code='Lisa Wong,itorres@example.net,\"570 Daniel Alley, East Amanda, GA 40872\",2024-09-03T00:00:00.000+03:00,(844)600-0921,Mejia Ltd,Hydrogeologist,1970-10-23,Egypt,ef63fd54-c8f1-49e3-9805-5618a6d5aa60,15250,PE'),\n",
       " Row(name,email,address,registration_date,phone,company,job,birthdate,country,uuid,salary,country_code='Barry Bates,richardsmith@example.com,\"2874 Timothy Hills Suite 802, North Ericfort, NE 18127\",2024-03-12T00:00:00.000+03:00,289.598.2771x880,Collins and Sons,\"Engineer, building services\",2000-10-03,Turkey,e40426ba-55a0-4cd6-9cb2-e62a67da02e0,11800,TM'),\n",
       " Row(name,email,address,registration_date,phone,company,job,birthdate,country,uuid,salary,country_code='Kyle Hicks,randynichols@example.net,\"51818 Gary Crescent Apt. 774, Olsonberg, HI 85925\",2024-02-23T00:00:00.000+03:00,+1-504-354-4943,French Inc,Artist,1963-10-22,Isle of Man,098418e5-180a-439b-ac3f-8f484659cc81,16650,KZ'),\n",
       " Row(name,email,address,registration_date,phone,company,job,birthdate,country,uuid,salary,country_code='Steven Perry,zachary10@example.net,\"250 Wright Loop, East Ruth, CT 33801\",2024-03-12T00:00:00.000+03:00,(557)888-4869x500,Stephens-Fernandez,Armed forces technical officer,1964-02-26,Madagascar,cde17920-5bde-4b43-bd4c-159e249139f5,15700,SI'),\n",
       " Row(name,email,address,registration_date,phone,company,job,birthdate,country,uuid,salary,country_code='Kenneth Sanchez,mmckay@example.org,\"8071 Newton Fords Suite 326, East Alanville, AK 50882\",2024-06-01T00:00:00.000+03:00,(478)764-9115x97422,Sexton-Johnson,Fish farm manager,1993-02-15,Botswana,482afbd8-746f-4a4e-adf8-dbb24841f287,5300,IR'),\n",
       " Row(name,email,address,registration_date,phone,company,job,birthdate,country,uuid,salary,country_code='Alicia Phillips,ocarrillo@example.net,\"35626 Tara Stravenue, Petersenhaven, NC 39268\",2024-02-23T00:00:00.000+03:00,488-392-1423x977,Lane-Le,Energy engineer,1996-08-17,Greenland,f522261e-9d53-4d94-a109-cef0eb6b4e40,19000,CG'),\n",
       " Row(name,email,address,registration_date,phone,company,job,birthdate,country,uuid,salary,country_code='Deborah Davis,molly59@example.org,\"6215 Rogers Turnpike, New Arielland, NM 90606\",2024-01-10T00:00:00.000+03:00,(907)713-6252x11275,Lane-Baldwin,Insurance underwriter,2005-08-18,Grenada,9601e73f-3cce-49fe-8a52-ccfca0929ac1,10800,KH'),\n",
       " Row(name,email,address,registration_date,phone,company,job,birthdate,country,uuid,salary,country_code='Shawn Munoz,michelle23@example.net,\"519 Jones Loop, Stevenville, MS 72713\",2024-08-30T00:00:00.000+03:00,9312029897,Blake Inc,Youth worker,1977-05-03,Czech Republic,caad3289-908c-4abc-9f8d-04afc6203062,10900,CV'),\n",
       " Row(name,email,address,registration_date,phone,company,job,birthdate,country,uuid,salary,country_code='Joshua Ford,lisa39@example.net,\"5365 Virginia Turnpike Suite 205, Michaelport, NY 99220\",2024-06-01T00:00:00.000+03:00,483.357.4350,Swanson-Palmer,Records manager,1973-02-03,Latvia,32eaf455-b612-41e6-b34c-8e3879e30e80,12800,EG'),\n",
       " Row(name,email,address,registration_date,phone,company,job,birthdate,country,uuid,salary,country_code='Jason Smith,sthornton@example.net,\"7903 Eileen Shore, South David, WV 53314\",2024-01-10T00:00:00.000+03:00,(393)424-3598x9498,Elliott and Sons,Training and development officer,1982-01-08,Barbados,629282e2-fb2d-4099-bfd8-1ee7380af387,11750,EH'),\n",
       " Row(name,email,address,registration_date,phone,company,job,birthdate,country,uuid,salary,country_code='Amanda Young,hlowe@example.org,\"Unit 1336 Box 4980, DPO AE 44666\",2024-06-01T00:00:00.000+03:00,+1-569-676-4449x031,\"Mcguire, Young and Stewart\",Jewellery designer,2003-12-29,Gambia,b1f590c8-2f8b-41e8-ad06-061113973529,18250,GM'),\n",
       " Row(name,email,address,registration_date,phone,company,job,birthdate,country,uuid,salary,country_code='Alan Williams,patrick29@example.org,\"91962 Gabriel Stream Suite 805, South Nicholas, VT 38813\",2024-02-23T00:00:00.000+03:00,316.398.1054,Leonard and Sons,Counsellor,1975-07-29,Japan,e7e3dfe9-b953-4db0-bf8d-e35c4d432a35,7800,DE'),\n",
       " Row(name,email,address,registration_date,phone,company,job,birthdate,country,uuid,salary,country_code='Johnny Newton,hobbsjonathan@example.net,\"05042 Cantu Park Apt. 803, South Cristian, MS 99916\",2024-02-23T00:00:00.000+03:00,893.664.6687,Garcia and Sons,\"Investment banker, operational\",1969-04-05,New Caledonia,f8799db8-296e-451d-ad91-ba183db9635a,15550,BZ'),\n",
       " Row(name,email,address,registration_date,phone,company,job,birthdate,country,uuid,salary,country_code='Linda Hernandez,lamjohn@example.net,\"307 William Shores, Collinsville, ME 71742\",2024-05-29T00:00:00.000+03:00,(868)799-1887x284,Rocha LLC,Colour technologist,1973-03-27,Guinea,c05c10d3-407a-4015-abc5-fcd8ef73bb4b,15900,MR'),\n",
       " Row(name,email,address,registration_date,phone,company,job,birthdate,country,uuid,salary,country_code='Melissa Hall,susan01@example.net,\"004 Dawn Land, Jonathanbury, IL 33779\",2024-04-04T00:00:00.000+03:00,(591)894-4695,Greene Ltd,Telecommunications researcher,1965-05-18,Canada,8b3a09bb-afc5-4122-9522-c5ce7076a5fd,5450,ME'),\n",
       " Row(name,email,address,registration_date,phone,company,job,birthdate,country,uuid,salary,country_code='Elizabeth Ritter,emcdowell@example.com,\"USS Shelton, FPO AA 12599\",2024-08-30T00:00:00.000+03:00,(327)690-9930x84955,Mccann-Pierce,Equality and diversity officer,1969-07-08,Holy See (Vatican City State),2913a239-bcab-4442-baab-4f22d47c2069,12250,NL'),\n",
       " Row(name,email,address,registration_date,phone,company,job,birthdate,country,uuid,salary,country_code='John Weaver,elijah03@example.net,\"PSC 7617, Box 0090, APO AE 20871\",2024-05-29T00:00:00.000+03:00,+1-259-379-0460,\"Lawrence, Pugh and Dorsey\",\"Biochemist, clinical\",1966-03-26,Greece,fc511bed-0fac-4f7f-bbb0-0506df179b81,18750,BH'),\n",
       " Row(name,email,address,registration_date,phone,company,job,birthdate,country,uuid,salary,country_code='Heidi Mclaughlin,kaylaward@example.net,\"USNS Smith, FPO AP 98405\",2024-05-29T00:00:00.000+03:00,7302813079,\"Holmes, Hall and Jensen\",Occupational hygienist,1978-10-30,Togo,17d1f0ad-2493-427f-aa32-7a12b8dc8613,6000,LY'),\n",
       " Row(name,email,address,registration_date,phone,company,job,birthdate,country,uuid,salary,country_code='Jacqueline Murphy,fwright@example.com,\"6645 Price Ports Suite 424, East Aimeemouth, GA 97419\",2024-06-01T00:00:00.000+03:00,291-408-3240x955,Robertson-Howard,Furniture designer,1976-03-09,Djibouti,38d3c325-7296-4c8f-a8c8-481c401475b5,5400,ST'),\n",
       " Row(name,email,address,registration_date,phone,company,job,birthdate,country,uuid,salary,country_code='Cindy Huff,dwilcox@example.net,\"334 Tina Lodge Apt. 842, East Shelleyberg, ND 62249\",2024-01-10T00:00:00.000+03:00,3923788195,Peck-Jacobs,\"Designer, exhibition/display\",1979-06-19,United States Virgin Islands,128bd9a3-c6af-4984-aad6-008b2aa0dd8c,10900,GB'),\n",
       " Row(name,email,address,registration_date,phone,company,job,birthdate,country,uuid,salary,country_code='William Guerrero,gouldjames@example.com,\"74796 Christian Common Apt. 122, Lake Jessicachester, OH 82407\",2024-08-30T00:00:00.000+03:00,001-411-940-9992x2974,Bush Group,Educational psychologist,1967-08-12,Malaysia,c2c3b8bf-6e2b-413e-aebc-df370dd3e51c,9850,KZ'),\n",
       " Row(name,email,address,registration_date,phone,company,job,birthdate,country,uuid,salary,country_code='Sherry Farrell,robertrogers@example.org,\"00205 Shawn Roads, South Cynthia, HI 20380\",2024-08-30T00:00:00.000+03:00,214-926-8136,\"Smith, White and Gallagher\",Company secretary,1983-11-25,Nicaragua,44f00e7c-ab36-4a62-89ca-0c0b8c3957ee,10900,CF'),\n",
       " Row(name,email,address,registration_date,phone,company,job,birthdate,country,uuid,salary,country_code='Patrick White,darrenrogers@example.org,\"5853 Richard Streets, Petermouth, SD 88173\",2024-06-01T00:00:00.000+03:00,+1-373-865-7541x3210,Barnes-Saunders,Estate manager/land agent,2005-03-31,Angola,b73f6d85-c308-4ec7-99e8-529aff6974f4,10050,BF'),\n",
       " Row(name,email,address,registration_date,phone,company,job,birthdate,country,uuid,salary,country_code='Kevin Watson,thomasmichael@example.com,\"29690 Porter Alley, Marshside, DE 27833\",2024-02-23T00:00:00.000+03:00,662-889-3718,\"Robinson, Stewart and Williams\",Neurosurgeon,1975-06-18,China,87b4c3e9-ccb2-4dbd-aa70-c7b9d99542ed,18750,GN'),\n",
       " Row(name,email,address,registration_date,phone,company,job,birthdate,country,uuid,salary,country_code='Melissa Brown,evan86@example.com,\"229 Amanda Village Apt. 313, Kimberlyport, OR 36860\",2024-09-03T00:00:00.000+03:00,573-251-3404,\"Hodge, Benson and Reynolds\",Geochemist,1968-10-21,Belize,aff5f0ef-30fc-45da-8f35-1773e145aa29,13300,SZ'),\n",
       " Row(name,email,address,registration_date,phone,company,job,birthdate,country,uuid,salary,country_code='Mario Mercer,seancooley@example.org,\"4832 Morris Rapids, Burgessburgh, MO 33943\",2024-04-04T00:00:00.000+03:00,+1-284-546-1779x127,Flores-Dunn,Research scientist (maths),1976-09-11,Bahrain,513ea8a2-d571-4fd3-9767-e5465bd2ca93,3850,SC'),\n",
       " Row(name,email,address,registration_date,phone,company,job,birthdate,country,uuid,salary,country_code='Jeffery Ferguson,dustin79@example.com,\"749 Jackson Route, Heatherfurt, NM 85923\",2024-06-01T00:00:00.000+03:00,+1-686-969-1281,Woods-Cohen,Chiropractor,1959-09-13,Sudan,8fe817ed-d1d8-4e00-8352-48e489af7506,6600,SG'),\n",
       " Row(name,email,address,registration_date,phone,company,job,birthdate,country,uuid,salary,country_code='Alexis Jordan,huntermcpherson@example.com,\"417 Allen Cliffs, Markview, AZ 47347\",2024-06-01T00:00:00.000+03:00,437-342-1570x96433,\"Fletcher, Lee and Hartman\",Planning and development surveyor,2000-09-09,Greenland,97060ebe-9d67-449e-ae5c-d58c9f91e404,10200,GL'),\n",
       " Row(name,email,address,registration_date,phone,company,job,birthdate,country,uuid,salary,country_code='Anthony Kennedy,derek07@example.org,\"36892 Ellison Mission, Ashleyberg, OK 16921\",2024-08-30T00:00:00.000+03:00,(668)727-1857,Burke-Sullivan,Armed forces operational officer,2005-03-24,South Africa,a6c3cf88-3fbb-462b-930d-483d73cc71de,18750,FJ'),\n",
       " Row(name,email,address,registration_date,phone,company,job,birthdate,country,uuid,salary,country_code='Kaitlyn Gomez,barberchristopher@example.net,\"036 Rodney Estate Apt. 032, South Sean, MN 14952\",2024-01-10T00:00:00.000+03:00,001-585-634-7744x72232,\"Hendricks, Page and Hodge\",Production engineer,1993-04-02,Spain,0d7fd5be-cab5-405b-848a-9536d21ba2f2,18850,MW'),\n",
       " Row(name,email,address,registration_date,phone,company,job,birthdate,country,uuid,salary,country_code='Connor Lloyd,nicole98@example.net,\"Unit 9687 Box 0706, DPO AP 74171\",2024-09-03T00:00:00.000+03:00,(207)594-6134x667,Barrett-Johnson,Farm manager,1969-01-05,Tunisia,60a46806-6840-4b21-9482-bed0540b252d,6500,TK'),\n",
       " Row(name,email,address,registration_date,phone,company,job,birthdate,country,uuid,salary,country_code='Isaac Mejia,rlawrence@example.net,\"9979 Sean Lights Apt. 168, New Thomasside, PA 45229\",2024-06-01T00:00:00.000+03:00,(522)538-9717,Leon Inc,Scientific laboratory technician,2000-05-24,Bahamas,15e54cce-cb63-4fc5-ad25-5ea9ca78e51d,4350,GU'),\n",
       " Row(name,email,address,registration_date,phone,company,job,birthdate,country,uuid,salary,country_code='Joshua Green,monicawoods@example.net,\"22630 May Ridge Suite 476, Cooperview, SC 67502\",2024-08-30T00:00:00.000+03:00,700-923-4018x289,Campbell PLC,Video editor,2005-08-28,Dominica,e6023ba9-5254-46c7-ace6-538a6ee00306,15250,SS'),\n",
       " Row(name,email,address,registration_date,phone,company,job,birthdate,country,uuid,salary,country_code='Connie Chapman,davidsonsean@example.com,\"5410 Cooper Mountains Suite 222, Holmeston, KS 74783\",2024-02-23T00:00:00.000+03:00,9335712817,\"Hayes, Pope and Walsh\",Quality manager,1961-06-19,Zimbabwe,bc1c3c52-5a4d-4360-a53f-57393426c3f4,14850,CR'),\n",
       " Row(name,email,address,registration_date,phone,company,job,birthdate,country,uuid,salary,country_code='Robert Stark,emarshall@example.net,\"20587 Jesse Pass, New Jeffreyborough, NY 92982\",2024-02-23T00:00:00.000+03:00,(541)511-1131x624,Werner Group,Chief Technology Officer,1994-01-23,Macao,1336b107-0613-47f4-8670-db4889ad1fc5,7750,ES'),\n",
       " Row(name,email,address,registration_date,phone,company,job,birthdate,country,uuid,salary,country_code='Matthew Wheeler,jennifer10@example.org,\"922 Moore Fields, Port Jeffreyport, VA 59975\",2024-01-10T00:00:00.000+03:00,(239)953-6109,Ewing LLC,Early years teacher,2006-12-31,Myanmar,21a5a1d3-8762-4dc7-9712-84082c860b75,7500,KN'),\n",
       " Row(name,email,address,registration_date,phone,company,job,birthdate,country,uuid,salary,country_code='Dennis Flores,amanda14@example.org,\"USS Medina, FPO AP 18182\",2024-03-12T00:00:00.000+03:00,(381)309-8496,Goodman-Bush,Surgeon,1995-10-09,Sri Lanka,eead565a-6e18-4b7f-b189-26a7a1f3bd4b,9400,VC'),\n",
       " Row(name,email,address,registration_date,phone,company,job,birthdate,country,uuid,salary,country_code='Jill Barnes,amanda68@example.org,\"391 Scott Field, Port Seanville, TN 41705\",2024-09-03T00:00:00.000+03:00,7095198082,Hall-Griffith,Teaching laboratory technician,1960-02-12,Tokelau,3b25d257-458c-4b96-a809-ffa685676c22,9250,DM'),\n",
       " Row(name,email,address,registration_date,phone,company,job,birthdate,country,uuid,salary,country_code='Aaron Wilson,rturner@example.com,\"561 Sheri Way Suite 203, South Natalie, IN 36130\",2024-05-29T00:00:00.000+03:00,(592)452-2813,Moore-Boyer,\"Scientist, research (medical)\",1987-12-04,Spain,cfb9181e-a792-411b-94b9-408baf986a7b,3500,NA'),\n",
       " Row(name,email,address,registration_date,phone,company,job,birthdate,country,uuid,salary,country_code='Jonathan Parker,anthonynorris@example.com,\"3424 Guerrero Crossroad, Port Melindatown, MN 96085\",2024-06-01T00:00:00.000+03:00,+1-824-931-9569,\"Wallace, Gallagher and Hill\",Mining engineer,2002-12-06,South Africa,595cbf85-a80c-42b3-a254-fdef32676136,2850,AT'),\n",
       " Row(name,email,address,registration_date,phone,company,job,birthdate,country,uuid,salary,country_code='Wayne Clark,thomaswhite@example.com,\"287 Jeffery Rue Apt. 138, Port Oscarton, NE 92048\",2024-04-04T00:00:00.000+03:00,520.233.5429,Medina-Garcia,Community pharmacist,1966-04-21,Paraguay,6c9b2f02-ffb5-4def-a1af-8d52922e0723,4700,MF'),\n",
       " Row(name,email,address,registration_date,phone,company,job,birthdate,country,uuid,salary,country_code='William Brown,alex85@example.com,\"72772 Carey Common Apt. 135, West Ryanshire, SD 53532\",2024-08-30T00:00:00.000+03:00,603-227-4566x6518,\"Shelton, Garcia and Perez\",Site engineer,1983-11-11,Benin,5d9e98f7-a479-40e6-bd95-88971c596ca6,11850,TG'),\n",
       " Row(name,email,address,registration_date,phone,company,job,birthdate,country,uuid,salary,country_code='David Edwards,pcross@example.org,\"5323 Hurst Glens, West Jamesside, FL 49675\",2024-02-23T00:00:00.000+03:00,(246)982-5773,\"Conway, Gutierrez and Bryant\",Recruitment consultant,1960-07-31,El Salvador,4ee460b8-16ec-4813-a8ff-7464d77b2dc9,6300,NA'),\n",
       " Row(name,email,address,registration_date,phone,company,job,birthdate,country,uuid,salary,country_code='Michaela Mooney,suerodriguez@example.net,\"342 Angela Union, Carsonport, KY 94066\",2024-09-03T00:00:00.000+03:00,001-363-399-0666,Dodson-Barrett,Transport planner,1992-05-19,Cyprus,adea6b03-6e5f-4622-918a-dc673d0ea8be,18900,CX'),\n",
       " Row(name,email,address,registration_date,phone,company,job,birthdate,country,uuid,salary,country_code='David Gutierrez,jordangutierrez@example.org,\"0783 King Road, Annchester, FL 48770\",2024-02-23T00:00:00.000+03:00,737-915-9475,\"Stafford, Trevino and Anderson\",\"Restaurant manager, fast food\",1992-03-28,Philippines,61c3e9b9-559b-41fd-aa96-52858424d7a2,8400,NU'),\n",
       " Row(name,email,address,registration_date,phone,company,job,birthdate,country,uuid,salary,country_code='Brian Rasmussen,mmeyer@example.com,\"952 Diana Fort Suite 238, Christopherstad, OR 47584\",2024-06-01T00:00:00.000+03:00,001-656-600-8385x16370,\"Davis, Stephens and Kramer\",Forest/woodland manager,1985-07-05,Saint Martin,98b69340-4734-4607-964b-72fc78b65f79,9900,TM'),\n",
       " Row(name,email,address,registration_date,phone,company,job,birthdate,country,uuid,salary,country_code='Yesenia Arias,jameshowe@example.org,\"PSC 4707, Box 4141, APO AP 71626\",2024-06-01T00:00:00.000+03:00,9607553861,Garcia-Mclaughlin,Seismic interpreter,1995-11-29,Palau,fa401fd4-35fd-4e35-baca-201b70bf9367,14550,CO'),\n",
       " Row(name,email,address,registration_date,phone,company,job,birthdate,country,uuid,salary,country_code='Brandon Martin,ltaylor@example.com,\"6697 White Squares Apt. 549, East Isabel, VA 53567\",2024-03-12T00:00:00.000+03:00,315.492.7221,Camacho-James,Advertising copywriter,2004-02-29,Norway,5257edf8-dc71-4e9e-8794-960a2ee5d89d,5100,NR'),\n",
       " Row(name,email,address,registration_date,phone,company,job,birthdate,country,uuid,salary,country_code='Erika Robinson,samuel27@example.org,\"0333 Trevor Landing, East Amanda, OH 98864\",2024-09-03T00:00:00.000+03:00,+1-400-924-1816x1587,\"Harmon, Brown and Clark\",\"Radiographer, therapeutic\",1967-05-25,Guam,cfbde264-bad3-4bc6-8c58-b3e971821118,7850,MQ'),\n",
       " Row(name,email,address,registration_date,phone,company,job,birthdate,country,uuid,salary,country_code='Elizabeth Daniels,alan99@example.com,\"678 Carrie Underpass Apt. 627, North Jennifermouth, PR 73314\",2024-04-04T00:00:00.000+03:00,612.469.0721x307,Baker-Atkinson,Aid worker,1961-11-22,Netherlands,e82a9f3a-8a7a-4bf2-a114-e0a5957daa45,4400,BS'),\n",
       " Row(name,email,address,registration_date,phone,company,job,birthdate,country,uuid,salary,country_code='Gabriel Stevens,richard85@example.org,\"06999 James Court Suite 725, Martinmouth, VI 63871\",2024-04-04T00:00:00.000+03:00,(503)975-2664,\"Marsh, Young and Smith\",Special effects artist,1970-07-06,Cameroon,839cbcb7-ad60-4645-b79a-770357cd7150,11150,BE'),\n",
       " Row(name,email,address,registration_date,phone,company,job,birthdate,country,uuid,salary,country_code='Brett Mcdaniel,lloyddavid@example.net,\"32346 Jones Lodge Suite 216, West Jenniferfort, NV 93703\",2024-04-04T00:00:00.000+03:00,(313)374-0096,Bush-Rodriguez,Speech and language therapist,1992-06-15,Marshall Islands,13b642de-9725-4f2a-9611-85bb35278ff5,9800,QA'),\n",
       " Row(name,email,address,registration_date,phone,company,job,birthdate,country,uuid,salary,country_code='Linda Smith,bobby47@example.com,\"030 Johnson Crossroad Apt. 916, Santosborough, MH 32325\",2024-09-03T00:00:00.000+03:00,7766098811,Benson-Sanchez,Planning and development surveyor,2002-06-09,Palau,1ee7ec84-dea7-4b7a-8a90-37e5c7303fdc,9000,GI'),\n",
       " Row(name,email,address,registration_date,phone,company,job,birthdate,country,uuid,salary,country_code='Samuel Evans,raymondnorton@example.net,\"3121 Mcmahon Viaduct, New Allisonhaven, NH 19693\",2024-01-10T00:00:00.000+03:00,001-685-969-8824x89831,Phelps Inc,Market researcher,1985-06-10,Ghana,ddc8108a-e45a-4c4d-a503-fcfd94f27529,14800,ST'),\n",
       " Row(name,email,address,registration_date,phone,company,job,birthdate,country,uuid,salary,country_code='Tammy Bishop,qmartinez@example.com,\"42881 Bowen Corners Suite 342, South Claudia, WA 64276\",2024-08-30T00:00:00.000+03:00,+1-710-347-4987,\"Johnson, Hall and Erickson\",\"Producer, television/film/video\",2004-05-06,Georgia,da7062e9-2267-4880-86a3-d109424695e5,19900,SA'),\n",
       " Row(name,email,address,registration_date,phone,company,job,birthdate,country,uuid,salary,country_code='Corey Olson,dawn69@example.org,\"44181 Trevino Valleys Apt. 462, Lewiston, NC 09878\",2024-04-04T00:00:00.000+03:00,001-723-896-0543x3801,Bean and Sons,Phytotherapist,1989-02-02,Kyrgyz Republic,5df52228-5a68-4e22-bc07-fc9911c46fe2,6900,KW'),\n",
       " Row(name,email,address,registration_date,phone,company,job,birthdate,country,uuid,salary,country_code='Marilyn Yoder,miahammond@example.org,\"USNV Hughes, FPO AP 57021\",2024-06-01T00:00:00.000+03:00,(620)244-0920x86079,\"Clark, Reid and Williams\",Jewellery designer,1972-03-25,Ghana,3f1aeeed-480d-4b70-9262-a6afd6a68985,16950,PK'),\n",
       " Row(name,email,address,registration_date,phone,company,job,birthdate,country,uuid,salary,country_code='John Thomas,jessicaryan@example.org,\"65433 Daniel Circles Apt. 099, Davidton, IL 96076\",2024-01-10T00:00:00.000+03:00,+1-808-280-2845x297,Leblanc LLC,Network engineer,2006-12-15,Sao Tome and Principe,a8bcc7b9-802a-47ad-bf34-fe5730d98ea3,3650,JM'),\n",
       " Row(name,email,address,registration_date,phone,company,job,birthdate,country,uuid,salary,country_code='Daniel Taylor,zshields@example.com,\"8201 Johnson Square, Farmerfort, NJ 86578\",2024-05-29T00:00:00.000+03:00,+1-993-847-1078x03128,\"Parrish, Ross and Wells\",Magazine features editor,1974-10-29,Kenya,4ff08fea-bde9-4435-9f9e-fdbc917bbfc2,7400,BV'),\n",
       " Row(name,email,address,registration_date,phone,company,job,birthdate,country,uuid,salary,country_code='Terry York,jonathanwhite@example.com,\"7500 Gibson Walk Suite 230, Alanport, VT 57282\",2024-05-29T00:00:00.000+03:00,+1-293-456-0448,Walker-Willis,Acupuncturist,1964-11-17,Norway,b6ed509e-d46a-4bba-8dbf-b3410defda89,9250,SJ'),\n",
       " Row(name,email,address,registration_date,phone,company,job,birthdate,country,uuid,salary,country_code='Barry Pitts,lynnandrew@example.org,\"097 Roy Light, South Timothyberg, MS 46906\",2024-09-03T00:00:00.000+03:00,001-767-706-3649x9095,Walker-Baker,Clinical research associate,1975-09-05,Togo,865aeea4-7cbd-4fd5-9fdc-3ef1595d632f,8050,CD'),\n",
       " Row(name,email,address,registration_date,phone,company,job,birthdate,country,uuid,salary,country_code='George Johnson,ubyrd@example.net,\"44713 John Squares Suite 212, New Colleenmouth, KY 31590\",2024-02-23T00:00:00.000+03:00,914.355.3620,Sanders-Valenzuela,Field seismologist,1962-02-15,Benin,9210cf2f-5c44-42de-b2e1-966447df8664,11500,MZ'),\n",
       " Row(name,email,address,registration_date,phone,company,job,birthdate,country,uuid,salary,country_code='Lauren Foster,randall87@example.org,\"07859 Kennedy Lakes Apt. 366, West Ashleyview, FL 34169\",2024-05-29T00:00:00.000+03:00,001-342-448-7417,Taylor Ltd,Animal technologist,1980-07-28,Iraq,2f0586d8-5c37-492d-b29b-9ddc0fb33ca6,13450,FO'),\n",
       " Row(name,email,address,registration_date,phone,company,job,birthdate,country,uuid,salary,country_code='Alexandra Baker,ianderson@example.com,\"8571 Vargas Wall, Ochoaborough, WV 20450\",2024-01-10T00:00:00.000+03:00,352-420-6628,\"Taylor, Thornton and Richardson\",Air broker,2005-10-01,Armenia,22776fd5-07c9-4690-b7ea-e43962ec2570,19100,CL'),\n",
       " Row(name,email,address,registration_date,phone,company,job,birthdate,country,uuid,salary,country_code='Sarah Ewing,sharper@example.net,\"177 Stephen Inlet, Dannybury, VI 84097\",2024-01-10T00:00:00.000+03:00,642-294-1384x48471,Rubio Ltd,\"Programmer, multimedia\",1988-02-06,Maldives,378f8bae-feea-4267-8cb7-b7acf4045fcb,16350,KY'),\n",
       " Row(name,email,address,registration_date,phone,company,job,birthdate,country,uuid,salary,country_code='Cheryl Jimenez,trobinson@example.net,\"2337 Wilson Island, West Tiffany, NJ 74595\",2024-04-04T00:00:00.000+03:00,001-536-884-8702x945,Mitchell Group,Sports therapist,1969-11-28,El Salvador,0f18597d-f476-4bc3-972b-e003a5f02fe1,14900,GM'),\n",
       " Row(name,email,address,registration_date,phone,company,job,birthdate,country,uuid,salary,country_code='Nancy Parker,marnold@example.com,\"1314 Sanchez Ridges Apt. 068, Port Patrick, AK 82147\",2024-02-23T00:00:00.000+03:00,(326)314-2386x0910,White Ltd,\"Designer, interior/spatial\",1988-04-18,Saudi Arabia,0f6e0ecc-ac91-46bb-9e9a-036050111600,12200,CH'),\n",
       " Row(name,email,address,registration_date,phone,company,job,birthdate,country,uuid,salary,country_code='Terry Miller,nixongeorge@example.org,\"4758 Cline Stravenue Suite 836, East Theodore, NH 12890\",2024-02-23T00:00:00.000+03:00,296-601-0285,Mendoza-Roy,\"Teacher, secondary school\",1985-12-22,Singapore,c06ee60c-a525-4475-b691-6724a9583616,6400,AM'),\n",
       " Row(name,email,address,registration_date,phone,company,job,birthdate,country,uuid,salary,country_code='Christopher Cruz,latasha52@example.net,\"238 Charles Wall, Josephside, SC 03812\",2024-02-23T00:00:00.000+03:00,+1-222-381-8147,Hogan-Lopez,Personnel officer,2007-05-21,Korea,626d5896-a611-4785-b384-686663c54496,9900,BG'),\n",
       " Row(name,email,address,registration_date,phone,company,job,birthdate,country,uuid,salary,country_code='Gary Russell,diazdan@example.org,\"27079 Jon Island Apt. 713, New Kristenstad, LA 13034\",2024-02-23T00:00:00.000+03:00,001-371-814-4251x50177,Woods-Williams,\"Administrator, sports\",2003-06-19,Comoros,470e19ae-fc2e-427a-bbc1-95dbd7b37ad8,8200,BB'),\n",
       " Row(name,email,address,registration_date,phone,company,job,birthdate,country,uuid,salary,country_code='Erin Snyder,larryrosales@example.net,\"62883 Pam Path Suite 793, Danielhaven, MN 38161\",2024-08-30T00:00:00.000+03:00,293.279.8210,\"Malone, Fuentes and Martin\",Control and instrumentation engineer,1994-05-09,Myanmar,bdc1873e-d4eb-4cbc-b79c-d4abfce5cf84,10600,FJ'),\n",
       " Row(name,email,address,registration_date,phone,company,job,birthdate,country,uuid,salary,country_code='Sarah Nash,djohnson@example.net,\"789 Gina Parkway Suite 283, New Mathewchester, KS 33021\",2024-01-10T00:00:00.000+03:00,624-408-8551x71986,\"Munoz, Peterson and West\",Publishing rights manager,1967-05-26,Solomon Islands,5cb3035e-f885-461a-942c-ff63a21c31f5,16750,CM'),\n",
       " Row(name,email,address,registration_date,phone,company,job,birthdate,country,uuid,salary,country_code='Christopher Landry,alfredhunter@example.org,\"794 Campbell Throughway Apt. 939, West Timothy, CO 45382\",2024-01-10T00:00:00.000+03:00,636.499.6605,Edwards-Harding,Accommodation manager,1968-07-27,Philippines,90c2f22c-587c-473d-9c9b-758771f79a1b,17200,AI'),\n",
       " Row(name,email,address,registration_date,phone,company,job,birthdate,country,uuid,salary,country_code='Brian Williams,hayleyjones@example.com,\"PSC 3235, Box 3637, APO AA 25445\",2024-09-03T00:00:00.000+03:00,945-202-8722,\"Walker, Waters and Rogers\",\"Accountant, chartered public finance\",1959-06-30,Pakistan,2dd99280-b211-4764-8c33-4a9e20c8983c,2650,CX'),\n",
       " Row(name,email,address,registration_date,phone,company,job,birthdate,country,uuid,salary,country_code='Kevin Johnson,brownadam@example.org,\"421 Nicolas Drives Apt. 208, Medinaside, FL 13931\",2024-05-29T00:00:00.000+03:00,001-353-250-4335x59907,\"Dougherty, White and Thompson\",\"Administrator, arts\",1996-06-25,Mali,8bad1259-15dc-4866-970e-6413f95e82e2,5650,ES'),\n",
       " Row(name,email,address,registration_date,phone,company,job,birthdate,country,uuid,salary,country_code='Kyle Hutchinson,usparks@example.org,\"USCGC Pearson, FPO AP 64026\",2024-08-30T00:00:00.000+03:00,001-934-947-8733x73378,Williams-Hughes,Financial manager,1979-08-30,Tuvalu,c5719681-6229-4a4b-bdb6-73fbf4d97db8,15200,MU'),\n",
       " Row(name,email,address,registration_date,phone,company,job,birthdate,country,uuid,salary,country_code='Jenna Gomez,fcastro@example.net,\"76201 Ruiz Mountains, New Bridgetshire, SD 84640\",2024-02-23T00:00:00.000+03:00,706-686-9067x10046,Gonzalez-Saunders,Environmental education officer,1996-02-06,Venezuela,d76b7420-5fde-4783-9d17-7b9b00dfa492,13950,ZA'),\n",
       " Row(name,email,address,registration_date,phone,company,job,birthdate,country,uuid,salary,country_code='Martha Odonnell,morgan93@example.com,\"5360 Marshall Skyway, Lauraburgh, NV 61796\",2024-09-03T00:00:00.000+03:00,858.250.2755x1979,\"Espinoza, White and Jones\",Land,2002-03-17,Sudan,596467c5-15fc-46e7-971b-039614d50a7b,17150,BY'),\n",
       " Row(name,email,address,registration_date,phone,company,job,birthdate,country,uuid,salary,country_code='Stephanie Mccarthy,matthewcalhoun@example.com,\"USNV Randall, FPO AE 23145\",2024-04-04T00:00:00.000+03:00,(222)885-4521x944,Martinez PLC,\"Therapist, drama\",1979-04-26,Isle of Man,6c276538-0717-4f1c-9610-e6c8d06c631d,16600,IE'),\n",
       " Row(name,email,address,registration_date,phone,company,job,birthdate,country,uuid,salary,country_code='April Yoder,mary42@example.com,\"690 Brian Glen Suite 783, Hoffmanland, SC 78539\",2024-02-23T00:00:00.000+03:00,708.366.7880,\"Carroll, Haynes and Johnston\",\"Conservation officer, historic buildings\",2006-05-26,San Marino,b55a2186-a958-46a6-a1b7-e44701f2fbab,12900,TJ'),\n",
       " Row(name,email,address,registration_date,phone,company,job,birthdate,country,uuid,salary,country_code='Steven Leblanc,elizabethlee@example.org,\"38272 Carter Gardens Suite 590, Maciasmouth, FL 49342\",2024-09-03T00:00:00.000+03:00,(296)981-2569,Henson and Sons,Film/video editor,1977-03-31,United States Virgin Islands,18b4ff98-0fc0-443f-bb4f-3942fad12519,9650,ID'),\n",
       " Row(name,email,address,registration_date,phone,company,job,birthdate,country,uuid,salary,country_code='Mrs. Michelle Hardy,johnsonshannon@example.org,\"191 Michelle Road Suite 357, Port Yesenia, PA 34502\",2024-06-01T00:00:00.000+03:00,9962632949,\"Powers, Hall and Neal\",Actuary,1997-07-04,Brazil,f711a7d5-396a-48fb-963b-0824eb916105,16450,VE'),\n",
       " Row(name,email,address,registration_date,phone,company,job,birthdate,country,uuid,salary,country_code='Kevin Villarreal,kristina31@example.org,\"9304 Terry Landing Suite 885, Port David, TX 37634\",2024-04-04T00:00:00.000+03:00,(512)749-1234x57210,\"Padilla, Hayes and Fuller\",Housing manager/officer,1980-02-09,Botswana,60f45fe5-1734-454b-b580-441762c0b9bc,4600,MS'),\n",
       " Row(name,email,address,registration_date,phone,company,job,birthdate,country,uuid,salary,country_code='Alejandro White,megan59@example.org,\"115 Castro Extensions, West Katie, PA 83229\",2024-05-29T00:00:00.000+03:00,+1-612-653-6254x4913,Ramirez-Stanley,Chiropractor,1990-10-11,Sweden,705022d3-e4a1-43c4-949f-ba760c83991c,9700,PR'),\n",
       " Row(name,email,address,registration_date,phone,company,job,birthdate,country,uuid,salary,country_code='Erin Ochoa,mariamayo@example.net,\"1885 Laura Lights, Lindseyside, UT 12312\",2024-03-12T00:00:00.000+03:00,2525874428,Henry-Greer,Research scientist (medical),1963-04-28,Bouvet Island (Bouvetoya),8ad255e8-3de9-4186-a208-3529453ed98c,6200,MT'),\n",
       " Row(name,email,address,registration_date,phone,company,job,birthdate,country,uuid,salary,country_code='Hannah Love,pwalker@example.org,\"436 Walker Stravenue Suite 124, Peterstad, WI 34683\",2024-01-10T00:00:00.000+03:00,941.710.4599,Smith-Morris,\"Surveyor, planning and development\",1971-08-20,Oman,b97c429d-a059-4e2f-9451-59883a5874c0,4350,KM'),\n",
       " Row(name,email,address,registration_date,phone,company,job,birthdate,country,uuid,salary,country_code='James Velazquez,anthony51@example.com,\"7000 Edwards Loaf Suite 982, New Karla, IA 39376\",2024-03-12T00:00:00.000+03:00,(367)411-0504,Taylor-Rivera,\"Psychologist, counselling\",1977-11-24,Mali,385e16fc-157b-418c-affe-134f3da593c8,14250,NR'),\n",
       " Row(name,email,address,registration_date,phone,company,job,birthdate,country,uuid,salary,country_code='David Conway,matthew60@example.com,\"97110 Madison Canyon, Port Jennifermouth, NJ 00623\",2024-04-04T00:00:00.000+03:00,306.862.6505,Clarke-Cruz,Editorial assistant,1971-04-08,Cayman Islands,2aedbc76-e09a-4539-bb72-27d2bda7d948,5850,YE'),\n",
       " Row(name,email,address,registration_date,phone,company,job,birthdate,country,uuid,salary,country_code='Betty Perry,joshuaballard@example.com,\"USNV Miller, FPO AP 09414\",2024-06-01T00:00:00.000+03:00,765-446-2134,Wright and Sons,Microbiologist,1996-11-09,Chile,6f55a721-d26d-4f8a-a2e5-de3f5e6e1710,7800,BQ'),\n",
       " Row(name,email,address,registration_date,phone,company,job,birthdate,country,uuid,salary,country_code='Amanda Bennett,mendozachelsea@example.org,\"1002 Kim Junctions, New Amberport, AR 75242\",2024-03-12T00:00:00.000+03:00,+1-324-209-1634x5239,\"Walker, Williams and Sanchez\",\"Physicist, medical\",1998-06-05,Guadeloupe,e5661d0f-52dc-4ddd-8827-1d6264d9a096,18900,MR'),\n",
       " Row(name,email,address,registration_date,phone,company,job,birthdate,country,uuid,salary,country_code='Michael Joyce,daisy09@example.com,\"9507 Joseph Grove, North Catherine, PA 25243\",2024-09-03T00:00:00.000+03:00,001-692-451-5950x8879,Velez Ltd,Catering manager,1979-12-29,Pitcairn Islands,b336c657-3f50-4750-be0d-792e36db2519,18200,BH'),\n",
       " Row(name,email,address,registration_date,phone,company,job,birthdate,country,uuid,salary,country_code='Sharon Moore,kathyjenkins@example.org,\"6731 Amy Mountain, Jonesfurt, MO 81400\",2024-04-04T00:00:00.000+03:00,819.993.3411x378,\"Alexander, Berry and Edwards\",\"Engineer, communications\",1992-06-20,Zambia,06d28558-16fc-4433-a5a8-f3439528e2ac,4500,UY'),\n",
       " Row(name,email,address,registration_date,phone,company,job,birthdate,country,uuid,salary,country_code='Tamara Calderon,russellcrystal@example.com,\"09391 Christensen Overpass Apt. 432, Port Steven, UT 38295\",2024-02-23T00:00:00.000+03:00,3518706080,\"Ramirez, Parker and Bennett\",\"Therapist, speech and language\",2000-07-01,Indonesia,57d90be1-fac3-4bd2-9cb6-c4eec479113f,13400,LA'),\n",
       " Row(name,email,address,registration_date,phone,company,job,birthdate,country,uuid,salary,country_code='Debra Townsend,ncooper@example.org,\"47290 Zachary Valleys, North Angelicatown, AZ 38713\",2024-09-03T00:00:00.000+03:00,914.806.3281x002,\"Carroll, Fitzgerald and Duarte\",Health visitor,1962-05-19,Paraguay,16abd686-90ae-456e-87c9-6c6a1f8538a5,11500,EH'),\n",
       " Row(name,email,address,registration_date,phone,company,job,birthdate,country,uuid,salary,country_code='Eileen Clements,marciaweaver@example.org,\"Unit 1489 Box 3782, DPO AP 24855\",2024-06-01T00:00:00.000+03:00,001-508-507-6692x123,\"Bowen, Holland and Smith\",Catering manager,1970-06-28,Greenland,f872445b-8090-478b-bcfb-1483984a7a5e,19250,TM'),\n",
       " Row(name,email,address,registration_date,phone,company,job,birthdate,country,uuid,salary,country_code='Lindsay Roberts,andrew15@example.com,\"389 Hopkins Isle, Jasonton, WV 18264\",2024-08-30T00:00:00.000+03:00,001-582-434-6393x9548,Fernandez and Sons,Advertising art director,2007-04-09,Kazakhstan,d688334a-a54b-4ad6-ac8c-fd3bc64989ac,3300,ZA'),\n",
       " Row(name,email,address,registration_date,phone,company,job,birthdate,country,uuid,salary,country_code='Suzanne Hall,smithbrandon@example.org,\"1109 Sandoval Oval, West Ashleyville, ND 30871\",2024-01-10T00:00:00.000+03:00,+1-969-977-8776,Morales-Wilson,Paediatric nurse,1968-09-07,Egypt,ad181aca-02f5-476e-bb6a-0f23d0f9f8c1,2150,UA'),\n",
       " Row(name,email,address,registration_date,phone,company,job,birthdate,country,uuid,salary,country_code='Lindsay Wilson,bellamy@example.org,\"71634 Baker Manor Apt. 346, South Christineland, NJ 25538\",2024-04-04T00:00:00.000+03:00,706.524.4671x34627,Morales-Lewis,\"Accountant, chartered certified\",2002-10-06,Kyrgyz Republic,a34b320f-aae8-4436-9237-c45ff7435100,16200,CZ'),\n",
       " Row(name,email,address,registration_date,phone,company,job,birthdate,country,uuid,salary,country_code='Stephen Rios,justinturner@example.org,\"53344 Michael Burgs Apt. 002, South Kirk, IN 17204\",2024-05-29T00:00:00.000+03:00,421.239.3747x495,\"Smith, Allen and Singh\",Newspaper journalist,1975-02-26,Armenia,65a0cc1e-9f35-4076-b9d1-09adf8efd51e,7100,FK'),\n",
       " Row(name,email,address,registration_date,phone,company,job,birthdate,country,uuid,salary,country_code='Lisa Johnson,deborah07@example.net,\"21559 Taylor Meadow, Brookstown, MD 63635\",2024-06-01T00:00:00.000+03:00,204-905-3827x818,Wright-Smith,Electrical engineer,1972-08-11,Mayotte,65c23989-fcde-4af3-a8e4-d10562fc7459,12550,HM'),\n",
       " Row(name,email,address,registration_date,phone,company,job,birthdate,country,uuid,salary,country_code='Jeffrey Kelly,lisa48@example.net,\"7244 Pamela Station, Kimberlybury, SD 04051\",2024-04-04T00:00:00.000+03:00,683-250-9760,Brady-Cole,Company secretary,2005-08-03,El Salvador,f61ff156-e7f6-4ba6-b18a-38505076a4f8,8300,BV'),\n",
       " Row(name,email,address,registration_date,phone,company,job,birthdate,country,uuid,salary,country_code='Kathy Lee,kvalenzuela@example.net,\"USNV Ortiz, FPO AA 05183\",2024-03-12T00:00:00.000+03:00,442-946-9677,Anderson-Coleman,\"Clinical scientist, histocompatibility and immunogenetics\",1978-01-03,Saudi Arabia,0ee2d8a8-b781-4426-803c-36cc2297221b,7350,GY'),\n",
       " Row(name,email,address,registration_date,phone,company,job,birthdate,country,uuid,salary,country_code='Donald Miller,william40@example.org,\"10284 Medina River Apt. 454, Floresport, IN 16268\",2024-08-30T00:00:00.000+03:00,(591)335-4949x816,Blackburn LLC,\"Nurse, adult\",1998-12-20,Brunei Darussalam,cb10713e-6da1-4bcf-9824-3aa06a03d888,9100,HM'),\n",
       " Row(name,email,address,registration_date,phone,company,job,birthdate,country,uuid,salary,country_code='Tiffany Christian,hunterpeter@example.net,\"47935 Taylor Mall Suite 272, South Laura, OK 91805\",2024-03-12T00:00:00.000+03:00,001-801-374-3835x9498,Patrick-Hughes,\"Engineer, civil (consulting)\",1977-03-31,Indonesia,2001b242-a02f-4505-aaed-2ed8bd93709c,5600,CX'),\n",
       " Row(name,email,address,registration_date,phone,company,job,birthdate,country,uuid,salary,country_code='Hannah Young,xstanley@example.org,\"680 Krueger Gateway, Paulmouth, VA 57940\",2024-08-30T00:00:00.000+03:00,001-935-422-9934,\"Diaz, Kent and Chen\",Art gallery manager,2005-03-31,Guam,0e434d55-7b82-40a1-a98e-5cbe75707b57,12600,LA'),\n",
       " Row(name,email,address,registration_date,phone,company,job,birthdate,country,uuid,salary,country_code='Robert Martin,davidhale@example.com,\"46115 Hudson Trafficway Apt. 883, Ryanborough, VT 44770\",2024-08-30T00:00:00.000+03:00,907-697-2026,Richardson and Sons,\"Designer, industrial/product\",1978-02-07,Greenland,7fa1e544-bbac-4e76-a1a9-cca905a66ded,17650,NO'),\n",
       " Row(name,email,address,registration_date,phone,company,job,birthdate,country,uuid,salary,country_code='Amanda Miranda,shawmichael@example.com,\"25155 Steven Fall Apt. 377, Vasquezstad, ME 75871\",2024-05-29T00:00:00.000+03:00,(821)966-2848x5278,\"Peterson, Hunter and Jones\",Field trials officer,1975-10-17,Cote d\\'Ivoire,347ad34f-ecec-450c-b028-59e5a9c59d57,18100,CI'),\n",
       " Row(name,email,address,registration_date,phone,company,job,birthdate,country,uuid,salary,country_code='Christian Donaldson,danderson@example.com,\"575 Cynthia Alley, Williamsville, IN 79015\",2024-01-10T00:00:00.000+03:00,605.627.3563,\"Ponce, Welch and Mcdowell\",Prison officer,1975-06-19,Guinea-Bissau,af350cbc-feaf-4ec4-b12d-ad688ce0cca0,13200,RS'),\n",
       " Row(name,email,address,registration_date,phone,company,job,birthdate,country,uuid,salary,country_code='Jeffrey Thomas,beardstacey@example.com,\"3545 Burgess Freeway, Debraburgh, CA 76856\",2024-02-23T00:00:00.000+03:00,589.814.7304,\"Calderon, Gates and Salas\",\"Administrator, arts\",1998-06-03,Austria,d5c4cee3-9d75-41b0-8fdf-8504d4798c0d,8550,SZ'),\n",
       " Row(name,email,address,registration_date,phone,company,job,birthdate,country,uuid,salary,country_code='Gregory Long,veronicabell@example.com,\"51223 Madden Street Apt. 973, Dianeport, NM 55534\",2024-09-03T00:00:00.000+03:00,+1-524-379-4037x6644,Stevens-Lewis,Engineering geologist,1989-04-27,Comoros,36bafb75-ed22-465e-add7-6027ab835b12,9600,GW'),\n",
       " Row(name,email,address,registration_date,phone,company,job,birthdate,country,uuid,salary,country_code='Ryan Cortez,helenpace@example.org,\"53956 Taylor Coves, Woodland, MI 05936\",2024-03-12T00:00:00.000+03:00,5316455543,Thomas-Lowe,Clothing/textile technologist,1978-04-03,Albania,76ee0f33-cbc0-4799-b5c7-c249d5ba6a48,13600,TK'),\n",
       " Row(name,email,address,registration_date,phone,company,job,birthdate,country,uuid,salary,country_code='Jamie Arnold,michaelwatkins@example.net,\"98347 Joshua Island, West Kristin, TX 94768\",2024-01-10T00:00:00.000+03:00,928-792-6261x5964,White-Smith,\"Surveyor, building control\",2001-05-23,Namibia,9281bb7b-b4e7-45f0-a715-bdfdf6c32eb1,6000,GT'),\n",
       " Row(name,email,address,registration_date,phone,company,job,birthdate,country,uuid,salary,country_code='Matthew Delgado,maureenbright@example.net,\"59681 Anderson Ports, New Adam, SD 36570\",2024-09-03T00:00:00.000+03:00,+1-446-209-9757x61714,Watkins-Harris,Clinical molecular geneticist,2002-01-24,Congo,83ee1e7d-460c-499f-b04d-8df4d423bd08,18400,SG'),\n",
       " Row(name,email,address,registration_date,phone,company,job,birthdate,country,uuid,salary,country_code='Evan Chaney,eric13@example.org,\"45164 Erica Fork Apt. 700, Brucemouth, MT 74271\",2024-04-04T00:00:00.000+03:00,4762847048,Wang Group,Oncologist,1966-03-13,Senegal,e164dedd-ef35-49e7-ac0a-2a73dce50f9d,7100,MC'),\n",
       " Row(name,email,address,registration_date,phone,company,job,birthdate,country,uuid,salary,country_code='Joshua Wilson,slopez@example.com,\"585 Henderson Trafficway, Aprilview, TN 01442\",2024-06-01T00:00:00.000+03:00,+1-699-593-4963x37747,Mckenzie Inc,Tax inspector,1962-03-30,Congo,a0bf28ff-bc67-4e7c-bd08-7ce1f63f506f,4950,GH'),\n",
       " Row(name,email,address,registration_date,phone,company,job,birthdate,country,uuid,salary,country_code='Joseph Chavez,rebeccacarter@example.org,\"227 Tyler Lakes Suite 870, New Melissafort, SC 99928\",2024-04-04T00:00:00.000+03:00,518.405.3583x045,\"Murphy, Reed and Lin\",Learning disability nurse,1993-03-19,Korea,4d37d82c-ca1d-402a-9b54-b30c535ae1ce,20000,PA'),\n",
       " Row(name,email,address,registration_date,phone,company,job,birthdate,country,uuid,salary,country_code='Carla Mcfarland,nicoleterry@example.org,\"9229 Graham Plain, New Christian, UT 22543\",2024-08-30T00:00:00.000+03:00,+1-751-386-8393,Gibbs-Lambert,Plant breeder/geneticist,1973-05-27,Poland,7f13d948-11f2-4649-9605-ad5ad256a30e,6000,TO'),\n",
       " Row(name,email,address,registration_date,phone,company,job,birthdate,country,uuid,salary,country_code='Christopher Williams,olewis@example.org,\"744 Nichols Drive, Port Alyssa, GU 93573\",2024-02-23T00:00:00.000+03:00,718.781.0176,Valenzuela-Mejia,\"Psychologist, occupational\",1976-11-03,Zambia,cd9bb2f0-f643-4771-bc53-27db009a7ea5,12750,KW'),\n",
       " Row(name,email,address,registration_date,phone,company,job,birthdate,country,uuid,salary,country_code='Robin Gonzales,igutierrez@example.org,\"0132 Thompson River, East Matthewbury, SD 28435\",2024-03-12T00:00:00.000+03:00,(230)283-2815x2290,Allen-Melton,Accounting technician,1977-02-01,Tuvalu,479174c0-8004-4839-89d0-62324bc9a285,13200,LS'),\n",
       " Row(name,email,address,registration_date,phone,company,job,birthdate,country,uuid,salary,country_code='Sharon Saunders,lorirogers@example.com,\"90442 Heather Neck Apt. 553, Phillipsside, KS 00652\",2024-01-10T00:00:00.000+03:00,271.810.0425,Harrison Inc,\"Engineer, manufacturing systems\",1989-07-24,Uganda,2b39798c-e168-46d7-8864-8fc1a4da73f9,12300,PM'),\n",
       " Row(name,email,address,registration_date,phone,company,job,birthdate,country,uuid,salary,country_code='Leon Gomez,mnicholson@example.org,\"26307 Gonzales Causeway, Ryanberg, IL 60925\",2024-01-10T00:00:00.000+03:00,(514)777-3209,\"Tran, Maldonado and Garcia\",Legal executive,1967-09-18,Tajikistan,84c4bcbb-e327-4c39-8e5b-4f07467b88a3,3050,SD'),\n",
       " Row(name,email,address,registration_date,phone,company,job,birthdate,country,uuid,salary,country_code='Andrew Johnson,michael97@example.net,\"1452 Stephanie Oval, Ryanhaven, AR 47008\",2024-09-03T00:00:00.000+03:00,+1-772-615-4239x0845,\"Rodriguez, Riley and Johnson\",\"Horticulturist, amenity\",1984-09-18,Australia,d0899086-a452-4719-94c7-c86d8937d2bf,2700,LV'),\n",
       " Row(name,email,address,registration_date,phone,company,job,birthdate,country,uuid,salary,country_code='Jean Richmond,autumnwilson@example.com,\"4851 Jason Ramp Suite 763, Reneeberg, PR 17093\",2024-02-23T00:00:00.000+03:00,217-250-1350x2023,Burns-Martinez,Fisheries officer,1999-08-02,Sri Lanka,31ed5eb5-b863-4732-8eaa-0bca48eccb04,4850,JE'),\n",
       " Row(name,email,address,registration_date,phone,company,job,birthdate,country,uuid,salary,country_code='Javier Hayes,luis87@example.org,\"4021 Keith Inlet, Lowestad, MS 46801\",2024-03-12T00:00:00.000+03:00,5302301026,Rose-Ryan,Patent examiner,1970-08-06,Ethiopia,1c2e93f6-2471-424d-bdb3-8457214f0ce3,19200,AG'),\n",
       " Row(name,email,address,registration_date,phone,company,job,birthdate,country,uuid,salary,country_code='Kelsey Meyer,rwhite@example.com,\"0684 Oscar Fall Suite 849, Lake Jenniferstad, LA 30048\",2024-05-29T00:00:00.000+03:00,+1-445-667-0963x432,\"Henry, Alvarado and Lucas\",\"Therapist, drama\",1960-10-04,Qatar,9cefe0c4-224a-4080-89e9-9de67774e7ec,3500,AI'),\n",
       " Row(name,email,address,registration_date,phone,company,job,birthdate,country,uuid,salary,country_code='Melissa Williams,renee16@example.org,\"735 Trevor Knoll, West Brian, CA 98934\",2024-03-12T00:00:00.000+03:00,8294928009,Hale-Higgins,Science writer,1997-04-25,Senegal,2d099cd7-f1a3-4aa2-bc17-a4dce540b98e,13050,RW'),\n",
       " Row(name,email,address,registration_date,phone,company,job,birthdate,country,uuid,salary,country_code='Miranda Casey,teresacooper@example.net,\"Unit 6125 Box 8433, DPO AA 85936\",2024-04-04T00:00:00.000+03:00,366-342-0170,Fields Ltd,Herbalist,1960-12-03,Pitcairn Islands,d68b0672-c729-4bd7-ba3e-1948c26cca0c,3550,MK'),\n",
       " Row(name,email,address,registration_date,phone,company,job,birthdate,country,uuid,salary,country_code='James Ayala,melanie77@example.net,\"24075 Autumn Motorway, Nicoleburgh, WV 44027\",2024-02-23T00:00:00.000+03:00,970-326-4643x8134,Roberts-Miller,Careers information officer,2004-12-07,Belize,22717e16-cdd2-4b76-8137-3add33e47cd3,6100,NG'),\n",
       " Row(name,email,address,registration_date,phone,company,job,birthdate,country,uuid,salary,country_code='Kristin Sanchez,neil17@example.net,\"92754 Roberts Glens, Zunigahaven, LA 29722\",2024-09-03T00:00:00.000+03:00,001-359-774-5169x57264,\"Olson, Cummings and Lee\",\"Administrator, Civil Service\",1967-04-30,Ecuador,1a100b21-fb61-4c3b-bb03-f34668dfb772,10300,ZM'),\n",
       " Row(name,email,address,registration_date,phone,company,job,birthdate,country,uuid,salary,country_code='Tammy Cruz,hillcharles@example.net,\"PSC 3832, Box 6441, APO AA 74786\",2024-05-29T00:00:00.000+03:00,549.314.6034,\"Robinson, Carey and Davidson\",Economist,2005-02-03,Georgia,2279b37f-f42f-409f-a8bb-913a105c8841,5700,CM'),\n",
       " Row(name,email,address,registration_date,phone,company,job,birthdate,country,uuid,salary,country_code='Eric Johnson,kingjordan@example.org,\"811 Anderson Glens, Josephland, MO 68741\",2024-06-01T00:00:00.000+03:00,(807)935-8665x7761,Lopez Inc,Site engineer,2002-07-06,Honduras,69dfcf94-6c90-4b76-bc27-9fb28a90e2a1,17050,EC'),\n",
       " Row(name,email,address,registration_date,phone,company,job,birthdate,country,uuid,salary,country_code='Brent Martinez,johnbrown@example.com,\"055 Cochran Estates, Davidchester, KS 62688\",2024-05-29T00:00:00.000+03:00,(838)415-0843x8513,\"Terry, Stevens and Villegas\",Art therapist,1996-06-19,Iraq,ea58c865-5cd0-4089-8315-77805e249a82,18850,ZM'),\n",
       " Row(name,email,address,registration_date,phone,company,job,birthdate,country,uuid,salary,country_code='Eric Robinson,roynicole@example.org,\"Unit 9273 Box 3774, DPO AP 02422\",2024-01-10T00:00:00.000+03:00,(921)467-2118,Price Group,\"Psychologist, counselling\",1967-07-22,Cambodia,035d0812-80fd-4ef1-ad71-916b11c1c056,2800,MA'),\n",
       " Row(name,email,address,registration_date,phone,company,job,birthdate,country,uuid,salary,country_code='Chad Payne,amymartin@example.com,\"987 Rebecca Brook, Williamsfort, VA 86318\",2024-01-10T00:00:00.000+03:00,299-202-3273x0491,Floyd LLC,Academic librarian,1970-06-23,China,98dca6a4-8bcf-45ac-9fde-89da7893aed4,2150,PG'),\n",
       " Row(name,email,address,registration_date,phone,company,job,birthdate,country,uuid,salary,country_code='Fernando Beck,erin16@example.org,\"95580 Rita River Suite 453, Lake Nathanieltown, ID 75570\",2024-04-04T00:00:00.000+03:00,846-658-7701,\"Briggs, Bailey and Robinson\",Catering manager,2005-07-14,Syrian Arab Republic,41fe8c62-f0f2-4926-b07b-d48a42833aa0,18500,SY'),\n",
       " Row(name,email,address,registration_date,phone,company,job,birthdate,country,uuid,salary,country_code='Toni Harper,tinahull@example.com,\"3394 Hubbard Stream, Elizabethhaven, VI 59484\",2024-06-01T00:00:00.000+03:00,001-380-543-5597x1872,\"May, Dunn and Johnson\",\"Engineer, electrical\",1969-10-24,United States Minor Outlying Islands,76c18241-8e29-4d77-be8f-9caf11ea6a46,4250,KR'),\n",
       " Row(name,email,address,registration_date,phone,company,job,birthdate,country,uuid,salary,country_code='Steve Lopez,greencaroline@example.org,\"271 Jonathan Key Suite 216, Washingtonburgh, MN 80536\",2024-03-12T00:00:00.000+03:00,001-217-516-3499,Lang-Ayala,Theatre manager,1979-05-17,Greenland,fdf4540d-5c14-4d00-9701-c6aaf07d401e,19550,CA'),\n",
       " Row(name,email,address,registration_date,phone,company,job,birthdate,country,uuid,salary,country_code='Lisa Barnes,yolanda69@example.org,\"9027 Jason Rest Apt. 828, Brentstad, NJ 33665\",2024-06-01T00:00:00.000+03:00,+1-522-468-1695x10086,\"Lloyd, Williams and Spence\",\"Engineer, production\",1968-09-24,Namibia,17b65e63-3439-43db-851d-85ee56fb6a4f,15750,MQ'),\n",
       " Row(name,email,address,registration_date,phone,company,job,birthdate,country,uuid,salary,country_code='Sabrina Fowler,gilesalexis@example.org,\"893 King Mission Apt. 498, East Brittneyfurt, NM 50224\",2024-08-30T00:00:00.000+03:00,618-580-8361x61041,\"Cole, Reid and Smith\",\"Journalist, newspaper\",1962-04-29,United Kingdom,6d748325-0a7d-4c7f-8228-46bc57c75809,19900,CA'),\n",
       " Row(name,email,address,registration_date,phone,company,job,birthdate,country,uuid,salary,country_code='Julie Cook,ericahughes@example.org,\"5395 Adam Roads Suite 045, Port Garrett, LA 03165\",2024-02-23T00:00:00.000+03:00,(848)213-8269x138,Thomas Inc,Environmental consultant,1988-11-22,Palestinian Territory,2873ee18-acf7-4b14-ab55-a0a4a752a5da,5350,SL'),\n",
       " Row(name,email,address,registration_date,phone,company,job,birthdate,country,uuid,salary,country_code='Jason Richardson DDS,lrogers@example.net,\"731 Michelle Place Suite 556, East Malloryville, IL 46818\",2024-04-04T00:00:00.000+03:00,834.555.8315x9996,Torres-Morales,Trade union research officer,1972-08-09,United Kingdom,0f8aec52-9e1a-4a3b-b2e6-b19c0c4604fd,2100,BY'),\n",
       " Row(name,email,address,registration_date,phone,company,job,birthdate,country,uuid,salary,country_code='Thomas Harrison,brownkayla@example.com,\"50568 Patrick Springs Suite 446, North Jonathanhaven, MP 54613\",2024-05-29T00:00:00.000+03:00,+1-384-858-1592x3620,\"Brown, Ballard and Mckenzie\",Financial planner,2000-05-29,Venezuela,cce82e15-5fe2-464b-ac3b-458283914e52,18750,VC'),\n",
       " Row(name,email,address,registration_date,phone,company,job,birthdate,country,uuid,salary,country_code='Jason Lewis MD,darius24@example.net,\"782 Ortiz Expressway, South Christophershire, UT 68480\",2024-09-03T00:00:00.000+03:00,729.602.4002,Mccann-Morris,Child psychotherapist,1977-08-29,Sri Lanka,8ca3c576-d732-426d-aef4-a3ca0aaf6f92,2050,KM'),\n",
       " Row(name,email,address,registration_date,phone,company,job,birthdate,country,uuid,salary,country_code='Thomas Mcdonald,nwright@example.org,\"PSC 2721, Box 5639, APO AE 89644\",2024-03-12T00:00:00.000+03:00,501-440-2979,Johns-Ortiz,Lobbyist,1976-09-29,Paraguay,76796790-d5bf-42e7-8891-9703745abda7,9450,BT'),\n",
       " Row(name,email,address,registration_date,phone,company,job,birthdate,country,uuid,salary,country_code='Natasha Fischer,ashleykelley@example.org,\"92306 Sarah Creek Suite 268, West Tiffanytown, MN 13513\",2024-04-04T00:00:00.000+03:00,+1-566-594-1783x57604,Wells Group,Clinical psychologist,1975-10-18,Trinidad and Tobago,f55d9ea2-9931-4b24-bc86-ffc36bb6dcfc,7450,QA'),\n",
       " Row(name,email,address,registration_date,phone,company,job,birthdate,country,uuid,salary,country_code='Adrienne Kirk,victoria04@example.net,\"834 Kristina Bypass Suite 234, New Rosstown, MD 41086\",2024-01-10T00:00:00.000+03:00,3074740159,\"Watkins, Jimenez and Nelson\",Make,2006-03-13,Northern Mariana Islands,5ef349f7-85f0-4b59-959b-cab7b6805592,3350,RU'),\n",
       " Row(name,email,address,registration_date,phone,company,job,birthdate,country,uuid,salary,country_code='Ms. Mary Robinson MD,matthewjohnson@example.org,\"1629 Jennifer Parkways Apt. 811, Lake Josephland, AR 78624\",2024-01-10T00:00:00.000+03:00,+1-275-413-6397x004,\"Taylor, Blair and Cox\",Veterinary surgeon,1985-05-08,Dominica,5a70ca32-758f-49f3-8ac9-e97b7b29f9af,17150,LK'),\n",
       " Row(name,email,address,registration_date,phone,company,job,birthdate,country,uuid,salary,country_code='Jerry Peterson,jonesadam@example.org,\"USNS Krueger, FPO AA 61073\",2024-03-12T00:00:00.000+03:00,+1-343-719-9332,\"Guzman, Snyder and Clark\",Pension scheme manager,1959-12-02,Colombia,41f9f976-b7ce-4db4-95cf-92b716b97dca,10700,PW'),\n",
       " Row(name,email,address,registration_date,phone,company,job,birthdate,country,uuid,salary,country_code='Jonathan Lopez,johnsanchez@example.com,\"6010 Howell View, East Holly, OK 07525\",2024-09-03T00:00:00.000+03:00,001-459-404-6981x06912,\"Lowe, Phillips and Mccall\",Cytogeneticist,1978-01-23,Guatemala,9cd5caf9-7b75-4d4a-8d2f-1aaea9416f28,8950,PM'),\n",
       " Row(name,email,address,registration_date,phone,company,job,birthdate,country,uuid,salary,country_code='Emily Chang,zbennett@example.com,\"425 Long Circle, Gonzalezside, PR 75562\",2024-03-12T00:00:00.000+03:00,5502912959,Bradley-Gonzalez,Clinical cytogeneticist,1976-03-12,Bangladesh,f09ba82c-d6e9-4f5d-9deb-2782c3710c41,5000,KZ'),\n",
       " Row(name,email,address,registration_date,phone,company,job,birthdate,country,uuid,salary,country_code='Amy Ferrell,mariarodriguez@example.com,\"842 Melinda Path Suite 876, Nicholasmouth, IA 84375\",2024-08-30T00:00:00.000+03:00,351.251.4625x65623,Williams Inc,\"Development worker, community\",1977-03-09,Greenland,33395ffc-fdf8-4343-9378-51d5f86792be,10100,MV'),\n",
       " Row(name,email,address,registration_date,phone,company,job,birthdate,country,uuid,salary,country_code='Madison Werner,jonessarah@example.org,\"518 Carolyn Stravenue Apt. 567, Johnsonport, CT 54412\",2024-08-30T00:00:00.000+03:00,975.375.5048,Campbell-George,Water engineer,1998-08-30,Niue,1ff6ab2f-414d-45d6-bf4d-dfa22b14830e,7100,SV'),\n",
       " Row(name,email,address,registration_date,phone,company,job,birthdate,country,uuid,salary,country_code='Jennifer Oneal DVM,ccarter@example.com,\"09880 Jeffrey Green, Ruizhaven, PW 95249\",2024-03-12T00:00:00.000+03:00,401-283-5669,Smith-Johnson,\"Teacher, secondary school\",2004-08-06,Guyana,cb5fb5ad-4326-49f4-b0c2-ba987d53a793,13950,DO'),\n",
       " Row(name,email,address,registration_date,phone,company,job,birthdate,country,uuid,salary,country_code='Sarah Sawyer,acohen@example.org,\"3166 Jimenez Expressway, Martintown, WI 20397\",2024-05-29T00:00:00.000+03:00,262.933.7679x2911,\"Zamora, Armstrong and Walker\",Media buyer,1974-11-30,Wallis and Futuna,22040e46-ff88-4af8-a245-4a268a3588c4,19200,NF'),\n",
       " Row(name,email,address,registration_date,phone,company,job,birthdate,country,uuid,salary,country_code='Timothy Hernandez,melissa81@example.com,\"60224 Taylor Coves, South Williamview, MA 23303\",2024-06-01T00:00:00.000+03:00,450-767-6527,\"Gonzales, Rodriguez and Richards\",Medical laboratory scientific officer,2005-04-16,Thailand,11017c14-2e09-4f98-abd0-60b5be42c93b,15500,CC'),\n",
       " Row(name,email,address,registration_date,phone,company,job,birthdate,country,uuid,salary,country_code='Jasmin Vasquez,hansoncolleen@example.net,\"7693 Alexander Key Apt. 628, Banksborough, DE 56434\",2024-01-10T00:00:00.000+03:00,(478)752-5847,Merritt and Sons,Seismic interpreter,1988-01-27,Burkina Faso,79503d14-a75f-4707-934a-15ee4d32fce2,14650,ST'),\n",
       " Row(name,email,address,registration_date,phone,company,job,birthdate,country,uuid,salary,country_code='Brian James,smithjennifer@example.com,\"7666 Crawford Locks, North Amandaland, WI 92817\",2024-02-23T00:00:00.000+03:00,+1-964-277-3870x6141,Hamilton-Harris,Health service manager,2001-09-23,Ethiopia,db669599-17bc-4008-b3d2-0b103bb8f4bf,18800,LY'),\n",
       " Row(name,email,address,registration_date,phone,company,job,birthdate,country,uuid,salary,country_code='Craig Smith,rlawrence@example.com,\"63390 Michael Villages, East Shelleyland, MS 93469\",2024-08-30T00:00:00.000+03:00,2566654897,Rios-Collier,Geophysicist/field seismologist,1967-11-09,Costa Rica,7b4d956a-1cb8-4efa-b34f-d388f47f9c3a,10800,BW'),\n",
       " Row(name,email,address,registration_date,phone,company,job,birthdate,country,uuid,salary,country_code='Peter Johnson,uedwards@example.com,\"38854 Emily Plaza Suite 095, Rhondaland, KS 03083\",2024-01-10T00:00:00.000+03:00,9734036805,Huffman-Hill,\"Secretary, company\",1977-03-19,Guyana,b49786c8-2e60-41b5-9ddb-0b7c99bfa636,18650,GI'),\n",
       " Row(name,email,address,registration_date,phone,company,job,birthdate,country,uuid,salary,country_code='John Johnson,gomezbarbara@example.net,\"695 Holland Lake, Millerfort, NM 36871\",2024-09-03T00:00:00.000+03:00,988-574-4757x46424,Fitzpatrick PLC,Photographer,1969-11-02,Dominica,4f47d30b-ccab-4fa2-b5de-c7fbc74c922b,3700,SJ'),\n",
       " Row(name,email,address,registration_date,phone,company,job,birthdate,country,uuid,salary,country_code='Melissa Thomas,kimberlymiddleton@example.com,\"455 Natalie Green Apt. 392, Raymondport, MH 38843\",2024-01-10T00:00:00.000+03:00,6599698986,\"Sloan, Le and Lee\",\"Civil engineer, contracting\",1991-06-16,Singapore,d468cfa7-c3ad-4c15-973d-7140ae0d1721,19900,GW'),\n",
       " Row(name,email,address,registration_date,phone,company,job,birthdate,country,uuid,salary,country_code='Timothy Waller,pterry@example.org,\"926 Owen Divide, New Marcusberg, FM 39900\",2024-06-01T00:00:00.000+03:00,345-615-4291x707,Myers Ltd,Sports development officer,1979-03-20,Kuwait,8f7749ab-5e7d-4226-ae81-dd308b859622,2800,PY'),\n",
       " Row(name,email,address,registration_date,phone,company,job,birthdate,country,uuid,salary,country_code='Erin Bray,williamslisa@example.com,\"Unit 6092 Box 5188, DPO AE 62456\",2024-02-23T00:00:00.000+03:00,(710)861-6699x9176,Walton and Sons,Arts development officer,1982-08-25,El Salvador,b6c1bc3e-c736-4da2-aabe-addd19ee5e88,14500,WF'),\n",
       " Row(name,email,address,registration_date,phone,company,job,birthdate,country,uuid,salary,country_code='Nancy Bennett,rubiojames@example.org,\"3838 Clark View, New Rebecca, GU 61794\",2024-06-01T00:00:00.000+03:00,(452)331-0025,\"Romero, Russell and Madden\",Psychotherapist,1985-09-27,French Guiana,45e084db-bb6b-4144-9b4a-af02013265cd,12150,NC'),\n",
       " Row(name,email,address,registration_date,phone,company,job,birthdate,country,uuid,salary,country_code='Christopher George,daniel12@example.com,\"2081 Miller Gateway Apt. 770, Daveside, MN 65351\",2024-01-10T00:00:00.000+03:00,001-980-524-9371,Camacho-Caldwell,Ambulance person,1983-10-01,India,bf778e22-fcdb-418d-ab73-2fa72a17a78a,2900,TM'),\n",
       " Row(name,email,address,registration_date,phone,company,job,birthdate,country,uuid,salary,country_code='Darryl Blake,wsmith@example.org,\"1448 Matthew Village, Grayborough, NY 01191\",2024-02-23T00:00:00.000+03:00,(834)442-1762,Meyer-Willis,IT technical support officer,1970-07-28,Argentina,b318decd-69a0-4c17-bf6e-41e51c1a025a,19150,KY'),\n",
       " Row(name,email,address,registration_date,phone,company,job,birthdate,country,uuid,salary,country_code='Ashley Martin,jennifer80@example.com,\"03520 John Lock, Sandraborough, KS 92942\",2024-04-04T00:00:00.000+03:00,001-643-968-9577x033,\"Stafford, Ramos and Andrews\",Chiropodist,1978-06-19,Rwanda,cf0d65af-d189-4962-8e97-fd9c342b31e9,15800,RE'),\n",
       " Row(name,email,address,registration_date,phone,company,job,birthdate,country,uuid,salary,country_code='Eric Miranda,vincentramirez@example.org,\"3771 Benjamin Ville Apt. 927, Wilsonmouth, MO 53468\",2024-02-23T00:00:00.000+03:00,4934922806,Harris-Williams,Editorial assistant,1990-12-11,Japan,7f4b1222-2e94-4785-9058-d7149061adb8,8500,BD'),\n",
       " Row(name,email,address,registration_date,phone,company,job,birthdate,country,uuid,salary,country_code='Shelia Harris,joejones@example.com,\"74484 Kathryn Ramp, North Alexa, NV 27326\",2024-03-12T00:00:00.000+03:00,+1-923-337-3386x29100,Giles LLC,Outdoor activities/education manager,1977-08-26,Saint Martin,b321190d-a055-42c5-b9b4-1e311c66f8d8,11500,SZ'),\n",
       " Row(name,email,address,registration_date,phone,company,job,birthdate,country,uuid,salary,country_code='Jason Watts,jennifersimpson@example.org,\"2781 Brenda Shore Apt. 963, Zacharyhaven, OH 82144\",2024-06-01T00:00:00.000+03:00,001-384-729-5449x6299,\"Wright, Smith and Williams\",Advertising art director,1967-06-30,Monaco,e51aa8f5-ce58-41e7-b0de-472b1929bd0f,18850,GR'),\n",
       " Row(name,email,address,registration_date,phone,company,job,birthdate,country,uuid,salary,country_code='Olivia Rocha,lroman@example.com,\"6174 Susan Stravenue, Tylerland, ME 39990\",2024-03-12T00:00:00.000+03:00,+1-603-532-3987x744,\"Williams, Davenport and Warren\",Management consultant,1979-01-01,Iran,c20cdfcc-fe09-4e6b-b89d-7c394551c01f,16050,TO'),\n",
       " Row(name,email,address,registration_date,phone,company,job,birthdate,country,uuid,salary,country_code='Autumn Stewart,mnelson@example.org,\"990 Joshua Burg Apt. 814, Kevinshire, SD 22903\",2024-06-01T00:00:00.000+03:00,764-240-1044x4036,\"Rivera, Thomas and Garcia\",Geophysicist/field seismologist,1966-06-18,Macao,bb7cd40d-6208-4057-a804-0f7e3e241a12,19750,NC'),\n",
       " Row(name,email,address,registration_date,phone,company,job,birthdate,country,uuid,salary,country_code='Amber Johnson,gwilliams@example.com,\"399 Walton View Suite 103, Donnaburgh, MD 35201\",2024-09-03T00:00:00.000+03:00,801-999-5314,Thompson-Miller,\"Engineer, electrical\",1998-08-31,Hungary,0e4e5fc0-c66a-472a-9213-dd8bbb0bed33,15500,MR'),\n",
       " Row(name,email,address,registration_date,phone,company,job,birthdate,country,uuid,salary,country_code='Natalie Nielsen,justinfitzpatrick@example.com,\"357 Brown Brooks, Port Kelly, PR 30883\",2024-09-03T00:00:00.000+03:00,937.350.2466x24526,Davidson-Gonzalez,\"Scientist, physiological\",1996-12-29,Palestinian Territory,eaf51928-9228-482b-aeb1-bc183d24892f,18300,PL'),\n",
       " Row(name,email,address,registration_date,phone,company,job,birthdate,country,uuid,salary,country_code='Brittany Silva,jane39@example.com,\"730 Margaret Spur, Thompsonside, UT 10425\",2024-03-12T00:00:00.000+03:00,7496020699,\"Harrison, Robbins and Martin\",Facilities manager,1962-04-05,Angola,381b1406-8b0c-4f9e-bc86-58c6d637c431,6150,TJ'),\n",
       " Row(name,email,address,registration_date,phone,company,job,birthdate,country,uuid,salary,country_code='Erin Cobb,uwade@example.com,\"47646 Caldwell Tunnel, Mcfarlandfurt, MA 27707\",2024-06-01T00:00:00.000+03:00,001-867-517-5241x5217,Watts Group,\"Education officer, community\",1975-07-08,Poland,458c929e-5ec0-4b9c-85ad-47566ec5831b,16800,PK'),\n",
       " Row(name,email,address,registration_date,phone,company,job,birthdate,country,uuid,salary,country_code='Daniel Bennett,cristian58@example.com,\"528 Browning Glen, Harmonfurt, ME 25801\",2024-05-29T00:00:00.000+03:00,892-415-9854,Warner Group,\"Copywriter, advertising\",1993-06-17,Jamaica,f5988aed-0299-41a8-bebc-2fd53fa218a1,8150,ZA'),\n",
       " Row(name,email,address,registration_date,phone,company,job,birthdate,country,uuid,salary,country_code='Diane Mcknight,erica66@example.com,\"363 Jonathon Estate Apt. 214, Burgessmouth, SC 95666\",2024-09-03T00:00:00.000+03:00,335.536.7695,\"Burns, Stevens and Ramos\",Colour technologist,1989-07-16,Paraguay,2f20df32-3264-4808-ab3a-70e205cd6f2b,7700,TL'),\n",
       " Row(name,email,address,registration_date,phone,company,job,birthdate,country,uuid,salary,country_code='Margaret Arnold,csmith@example.net,\"12339 Glover Spring Apt. 293, Smithview, NE 51363\",2024-06-01T00:00:00.000+03:00,772.268.0184x1552,Moore and Sons,Illustrator,1969-02-03,Benin,93eccf37-5bd0-46d2-b5a6-a532798cc57a,11850,SX'),\n",
       " Row(name,email,address,registration_date,phone,company,job,birthdate,country,uuid,salary,country_code='Marc Hernandez,ayalacurtis@example.org,\"86776 Ramos Landing Apt. 411, Swansonhaven, IN 90175\",2024-05-29T00:00:00.000+03:00,972.238.6998,Morton PLC,Historic buildings inspector/conservation officer,2003-11-09,Gabon,44f41902-fdaf-4fca-935c-71fec77389af,17100,SS'),\n",
       " Row(name,email,address,registration_date,phone,company,job,birthdate,country,uuid,salary,country_code='Joshua Dominguez,mikaylacross@example.net,\"44091 Christopher Pike, Sarahberg, TX 64983\",2024-08-30T00:00:00.000+03:00,727-339-2388,\"Nelson, Henderson and Mcgee\",Personal assistant,1980-09-11,Argentina,098479cd-48e5-423c-90c1-bb8523f18402,11850,NP'),\n",
       " Row(name,email,address,registration_date,phone,company,job,birthdate,country,uuid,salary,country_code='Kiara Fields,christopherjuarez@example.net,\"76464 Cameron Port Apt. 718, North Frederickville, MS 53953\",2024-09-03T00:00:00.000+03:00,758.449.2687,Stanley Ltd,Exercise physiologist,1967-12-14,Honduras,ec669770-0d5c-4ab0-b0b1-b5e55da2ff4c,7200,BA'),\n",
       " Row(name,email,address,registration_date,phone,company,job,birthdate,country,uuid,salary,country_code='Matthew Zavala DVM,nathan62@example.net,\"91605 Annette Ford, Andersonborough, AS 19561\",2024-01-10T00:00:00.000+03:00,257.661.5372x71089,\"Cain, Wilkins and Sullivan\",General practice doctor,1960-03-26,Chile,cf79dac8-8526-4e6f-a08a-2dfb7be295ac,18400,GG'),\n",
       " Row(name,email,address,registration_date,phone,company,job,birthdate,country,uuid,salary,country_code='Robert Smith,fscott@example.org,\"34867 Yu Orchard, Lake Kaylaton, GA 24232\",2024-04-04T00:00:00.000+03:00,+1-239-502-1351x6040,Nelson-Nelson,Quantity surveyor,1982-07-10,Guam,6fb459ea-4536-4520-881c-aeb640800a38,13600,TV'),\n",
       " Row(name,email,address,registration_date,phone,company,job,birthdate,country,uuid,salary,country_code='Jay Walsh,freyjacob@example.org,\"56804 Reeves Rapid Apt. 727, Danielletown, AK 37735\",2024-04-04T00:00:00.000+03:00,+1-329-712-5825x314,\"Morales, Bennett and Jensen\",\"Engineer, aeronautical\",2007-04-26,Liechtenstein,31cf723b-1598-459a-ac5a-1002c7889d31,19700,HK'),\n",
       " Row(name,email,address,registration_date,phone,company,job,birthdate,country,uuid,salary,country_code='Wesley Stokes,nicholas18@example.com,\"52823 James Keys, Annburgh, CO 73171\",2024-01-10T00:00:00.000+03:00,950-719-9997x98900,\"Bryant, Hoover and Krause\",Marketing executive,1992-06-13,Haiti,4663b32c-3ed4-4cb1-a214-226cce86e9d6,11900,KG'),\n",
       " Row(name,email,address,registration_date,phone,company,job,birthdate,country,uuid,salary,country_code='Donald Blair,cynthia34@example.com,\"73230 Davis Estate Apt. 043, New Victoria, GU 72245\",2024-08-30T00:00:00.000+03:00,828-788-3700x073,Long Inc,Town planner,2000-09-10,Slovenia,45c84baa-6807-4ebe-8b21-24cf3d54b64a,19600,IO'),\n",
       " Row(name,email,address,registration_date,phone,company,job,birthdate,country,uuid,salary,country_code='Seth Pugh,richard01@example.net,\"42926 Julie Square Apt. 624, Jennifertown, NV 44793\",2024-05-29T00:00:00.000+03:00,(589)312-6005,Stephens-Hart,Financial manager,1966-08-08,Albania,31d0c9ac-5bf4-417f-b2a5-219ba2b544b3,3650,CL'),\n",
       " Row(name,email,address,registration_date,phone,company,job,birthdate,country,uuid,salary,country_code='Chad Lawrence,martinezjulie@example.com,\"574 Angela Ridge, North Deanstad, FM 35929\",2024-03-12T00:00:00.000+03:00,276-961-0254x81128,Martinez LLC,\"Investment banker, operational\",1979-04-15,Belize,f6269c27-79a4-4606-83bb-674830d6a871,12050,LT'),\n",
       " Row(name,email,address,registration_date,phone,company,job,birthdate,country,uuid,salary,country_code='Joshua Cook,michael96@example.com,\"21248 Mark Meadows, New Christinaberg, NC 31023\",2024-03-12T00:00:00.000+03:00,(481)372-6257x213,\"Cowan, Costa and Robertson\",\"Engineer, building services\",1970-10-10,Maldives,4750930f-9aa7-4b92-ba74-db1ade82e2be,6050,CY'),\n",
       " Row(name,email,address,registration_date,phone,company,job,birthdate,country,uuid,salary,country_code='Tina Herrera,gedwards@example.net,\"6917 Douglas Prairie Apt. 974, Marymouth, CT 53078\",2024-05-29T00:00:00.000+03:00,(974)210-6244x3860,Chavez-Sloan,Armed forces technical officer,2004-03-26,Venezuela,8a867df6-112a-408b-acbd-f3bc114582fb,5750,MM'),\n",
       " Row(name,email,address,registration_date,phone,company,job,birthdate,country,uuid,salary,country_code='David Williams,cindyyoung@example.net,\"865 Rivera Village, Sandratown, WY 38103\",2024-09-03T00:00:00.000+03:00,331.363.0568,\"Garcia, Peterson and West\",Rural practice surveyor,1962-03-06,Belgium,ab2f4a77-5879-4c73-ba3d-eeb45f18f55b,19350,FO'),\n",
       " Row(name,email,address,registration_date,phone,company,job,birthdate,country,uuid,salary,country_code='Rebecca Mckenzie,hrice@example.net,\"52282 Morgan Oval Suite 478, Ramseyhaven, MA 53505\",2024-04-04T00:00:00.000+03:00,409.771.3382x6143,\"Howard, Trevino and Smith\",Call centre manager,1986-01-26,Uzbekistan,7776d321-e288-4619-a399-a2a952aadcb7,3000,CC'),\n",
       " Row(name,email,address,registration_date,phone,company,job,birthdate,country,uuid,salary,country_code='Joseph Figueroa,wilkersontimothy@example.net,\"54728 Johnson Station Apt. 294, Burtonland, IN 88423\",2024-08-30T00:00:00.000+03:00,(814)856-4324x6207,Glass and Sons,Music therapist,1991-12-15,Antigua and Barbuda,ed3f707d-e0d8-4b58-abc3-fb3debfc46c6,4900,ET'),\n",
       " Row(name,email,address,registration_date,phone,company,job,birthdate,country,uuid,salary,country_code='Donna Hughes,kelly45@example.org,\"899 Tonya Row Apt. 374, Perezchester, AL 40005\",2024-02-23T00:00:00.000+03:00,879.647.6558x148,Calderon-Cain,Best boy,1963-08-13,Kuwait,ed3a4b3b-098b-4f67-8971-72b3127a1eb7,15050,TM'),\n",
       " Row(name,email,address,registration_date,phone,company,job,birthdate,country,uuid,salary,country_code='John Thomas,brivers@example.com,\"7144 Sabrina Place Apt. 988, Downsburgh, DE 63362\",2024-09-03T00:00:00.000+03:00,001-587-939-0011,Collins-Norton,Conference centre manager,1988-07-27,Nicaragua,a47b674a-217d-4493-86bf-502427541805,3250,BH'),\n",
       " Row(name,email,address,registration_date,phone,company,job,birthdate,country,uuid,salary,country_code='Gary Elliott,fcain@example.com,\"411 Vargas Unions Suite 444, East Charlenechester, MA 18666\",2024-04-04T00:00:00.000+03:00,+1-615-838-1221x9520,\"Smith, Alexander and Harris\",Air cabin crew,1969-12-18,Ireland,2b557bd5-6678-478a-b34c-305a7b637ef9,14200,KH'),\n",
       " Row(name,email,address,registration_date,phone,company,job,birthdate,country,uuid,salary,country_code='Maria Lawrence,michelle21@example.net,\"5712 Samantha Cape, Paulshire, KS 18129\",2024-02-23T00:00:00.000+03:00,270-899-3467x87513,Robinson Ltd,Drilling engineer,1981-12-12,Malawi,da34aabc-0d6a-4023-a02b-64c0f352ef95,8000,BJ'),\n",
       " Row(name,email,address,registration_date,phone,company,job,birthdate,country,uuid,salary,country_code='Angelica Jones,anthonyvillarreal@example.com,\"164 Brian Extensions, Chadmouth, OK 25317\",2024-05-29T00:00:00.000+03:00,+1-982-742-2757x07874,Brown-Turner,\"Solicitor, Scotland\",1967-06-28,Monaco,6c5f39d2-f14d-48e6-be76-518faf2b30ad,5150,AX'),\n",
       " Row(name,email,address,registration_date,phone,company,job,birthdate,country,uuid,salary,country_code='Phillip Hall,operez@example.com,\"87480 Fitzgerald Garden, Randallhaven, VI 86966\",2024-09-03T00:00:00.000+03:00,001-761-216-6934x9658,Hamilton-Reyes,\"Therapist, art\",1979-08-01,Jamaica,588aea9a-dd45-4f54-beea-2842e5907ca4,9500,KP'),\n",
       " Row(name,email,address,registration_date,phone,company,job,birthdate,country,uuid,salary,country_code='Karen Smith,stevencollins@example.org,\"USNS Wilson, FPO AA 69181\",2024-06-01T00:00:00.000+03:00,526.892.9479,Yoder Ltd,Medical illustrator,1970-07-20,Ireland,1a3a065a-6e91-4394-8b4c-2c0bb005fb40,15700,GB'),\n",
       " Row(name,email,address,registration_date,phone,company,job,birthdate,country,uuid,salary,country_code='Karen Peck,russellwendy@example.org,\"010 Christie Hollow, Susanland, CA 13224\",2024-02-23T00:00:00.000+03:00,2897156216,Bell LLC,Museum/gallery exhibitions officer,1991-11-19,Portugal,84251a53-e0fe-4a23-b2a0-7f57cebd6daf,6700,TH'),\n",
       " Row(name,email,address,registration_date,phone,company,job,birthdate,country,uuid,salary,country_code='Barry Velez,zimmermansean@example.net,\"19355 Montgomery Springs Apt. 086, Staceyborough, DC 54314\",2024-02-23T00:00:00.000+03:00,6387686065,Thompson-Roberts,\"Surveyor, commercial/residential\",1978-07-16,New Zealand,e3c67aa2-af4f-4fca-952d-f24bb4ffd101,2850,SI'),\n",
       " Row(name,email,address,registration_date,phone,company,job,birthdate,country,uuid,salary,country_code='James Sharp,thompsonjames@example.net,\"8941 Angel Pike Suite 091, Jeffreyborough, OR 44762\",2024-09-03T00:00:00.000+03:00,(430)655-9612x2047,Johnson-Reyes,Medical illustrator,1962-06-28,Bahrain,282822af-3029-4abc-aebc-8e8abf443a74,14050,BD'),\n",
       " Row(name,email,address,registration_date,phone,company,job,birthdate,country,uuid,salary,country_code='Mrs. Monica Glass,adamgarcia@example.com,\"1606 Knight Common, New Charles, AL 94927\",2024-05-29T00:00:00.000+03:00,949-926-3994x355,\"Morris, Young and Mason\",\"Surveyor, mining\",1964-08-02,Guam,b4964145-e924-4724-a982-69628f56ac24,12650,HM'),\n",
       " Row(name,email,address,registration_date,phone,company,job,birthdate,country,uuid,salary,country_code='Felicia White,ohoward@example.net,\"429 Herbert Manors, Thompsonville, MH 44234\",2024-02-23T00:00:00.000+03:00,398-816-0502,\"Morrow, Taylor and Davies\",Architect,2002-09-16,Nepal,7a62e9f0-81a5-42db-9ac1-2bf0ca5654ce,12800,ER'),\n",
       " Row(name,email,address,registration_date,phone,company,job,birthdate,country,uuid,salary,country_code='Dawn Brown,featon@example.org,\"7802 Kennedy Courts Suite 595, New Kayleeberg, FM 66018\",2024-01-10T00:00:00.000+03:00,+1-254-677-5967,Wells LLC,\"Therapist, drama\",1963-10-27,Guyana,194e56d2-29d0-4666-93f0-1cb7ae594369,13300,BD'),\n",
       " Row(name,email,address,registration_date,phone,company,job,birthdate,country,uuid,salary,country_code='Patricia Hurst,harrisonkathy@example.net,\"56153 Amber Coves Suite 897, North Joelborough, DE 73202\",2024-05-29T00:00:00.000+03:00,+1-510-951-3939,Smith-Barton,Chief Operating Officer,1963-12-01,Nepal,b9f8524e-2da8-4804-a9b5-415dd98dd20e,17900,RW'),\n",
       " Row(name,email,address,registration_date,phone,company,job,birthdate,country,uuid,salary,country_code='Sonya Blake,pamanderson@example.net,\"8159 Dennis Cove, Port Jonathanton, MN 94140\",2024-02-23T00:00:00.000+03:00,(729)288-4942x3943,\"Mueller, Porter and Fletcher\",Technical brewer,1980-10-22,Marshall Islands,d0725cac-3d8c-4be4-8dab-63b5674f1406,14450,WS'),\n",
       " Row(name,email,address,registration_date,phone,company,job,birthdate,country,uuid,salary,country_code='William Gonzales,qclark@example.org,\"5190 Fritz Inlet Apt. 273, Michaelchester, SD 23325\",2024-05-29T00:00:00.000+03:00,(404)260-3708x664,Bush Group,Museum education officer,1971-03-03,Macao,72ad5939-f0b9-4b60-81a2-b8d056f00e6f,10850,DK'),\n",
       " Row(name,email,address,registration_date,phone,company,job,birthdate,country,uuid,salary,country_code='Shane Todd,jenniferwalker@example.net,\"556 Marshall View, Browningmouth, PA 70175\",2024-01-10T00:00:00.000+03:00,(772)637-0827,Robinson Group,Careers information officer,1979-03-25,Kyrgyz Republic,7560e2f3-d4ac-4280-a8c0-03adc5b41aac,19100,RE'),\n",
       " Row(name,email,address,registration_date,phone,company,job,birthdate,country,uuid,salary,country_code='Tammy Hernandez,johnsondustin@example.com,\"101 Lopez Ranch, New Johnchester, OK 28243\",2024-04-04T00:00:00.000+03:00,914-681-2899x17314,\"Smith, Smith and Bailey\",Metallurgist,1976-02-12,Vietnam,4bc2cd41-c87c-4f0c-b8f1-73ec556594a7,4950,BM'),\n",
       " Row(name,email,address,registration_date,phone,company,job,birthdate,country,uuid,salary,country_code='Adam Davis,jwalker@example.com,\"PSC 1593, Box 3391, APO AP 34927\",2024-08-30T00:00:00.000+03:00,001-857-431-2924x7660,\"Morris, Adams and Payne\",Trade union research officer,1973-09-30,Western Sahara,138d02ce-be0c-43eb-bd7b-c8a7f8ccfa77,13750,KY'),\n",
       " Row(name,email,address,registration_date,phone,company,job,birthdate,country,uuid,salary,country_code='Ricardo Atkins,kingsteve@example.net,\"PSC 5717, Box 6412, APO AP 24540\",2024-02-23T00:00:00.000+03:00,308-408-9760x75610,Williams-Price,Politician\\'s assistant,1971-09-24,Tonga,84896eb8-6101-43f6-b595-2357e7a7892a,9700,EC'),\n",
       " Row(name,email,address,registration_date,phone,company,job,birthdate,country,uuid,salary,country_code='Erin Ryan,rholt@example.org,\"7980 Daniel Village Suite 884, Murphyton, FL 07525\",2024-02-23T00:00:00.000+03:00,+1-553-420-7744x840,\"Nguyen, Richardson and Miller\",\"Surveyor, minerals\",2004-11-04,China,253a44f9-d9a6-4459-a8f7-56b3c01ac179,14350,ST'),\n",
       " Row(name,email,address,registration_date,phone,company,job,birthdate,country,uuid,salary,country_code='Robin Bentley,arellanolouis@example.org,\"5239 Smith Prairie Suite 582, Brandychester, AZ 42222\",2024-06-01T00:00:00.000+03:00,456-995-6218,Berry-Gutierrez,Agricultural consultant,1968-05-03,Hong Kong,b207610d-675d-433e-8609-165a1794e42d,6950,MH'),\n",
       " Row(name,email,address,registration_date,phone,company,job,birthdate,country,uuid,salary,country_code='Jennifer Mccarthy,jenniferramirez@example.net,\"0751 Sarah Pine, Ortizchester, TX 19693\",2024-03-12T00:00:00.000+03:00,341-719-7105x81918,Reed-Bernard,Estate manager/land agent,1988-09-03,Panama,0aafee27-6656-48ce-aa21-77e6ebb5421d,5400,PG'),\n",
       " Row(name,email,address,registration_date,phone,company,job,birthdate,country,uuid,salary,country_code='Bruce Orr,michael25@example.net,\"7344 Nicole Valleys, Amyland, MS 59863\",2024-09-03T00:00:00.000+03:00,446-499-8891x43294,Austin-Maldonado,Licensed conveyancer,2005-08-17,Algeria,b44ff672-644f-4bb9-8b35-4fd87d33c7a7,12350,RE'),\n",
       " Row(name,email,address,registration_date,phone,company,job,birthdate,country,uuid,salary,country_code='Dylan Davis,jenniferyates@example.org,\"099 William Ports Suite 024, Deniseland, WV 68841\",2024-05-29T00:00:00.000+03:00,+1-446-410-8400,\"Miller, May and Duffy\",Records manager,1988-01-29,Slovakia (Slovak Republic),a76f341d-95d1-482c-93e7-049d10055c94,6500,KN'),\n",
       " Row(name,email,address,registration_date,phone,company,job,birthdate,country,uuid,salary,country_code='Mckenzie Schmidt,samuelsaunders@example.org,\"385 Mclean Landing, Nathanielmouth, DC 79117\",2024-06-01T00:00:00.000+03:00,202-968-6753,Gill-Lester,Equality and diversity officer,1980-02-11,Reunion,023112cc-48f8-4818-9fff-4440e21ace29,19600,IR'),\n",
       " Row(name,email,address,registration_date,phone,company,job,birthdate,country,uuid,salary,country_code='Anita Patel,woodardjoe@example.org,\"66032 Hawkins Ports, New Keithmouth, AS 80025\",2024-06-01T00:00:00.000+03:00,2729194013,Taylor-Barber,Learning mentor,1977-08-07,Niue,49ec717d-9e22-479e-a9a2-57f98a783e29,16100,YE'),\n",
       " Row(name,email,address,registration_date,phone,company,job,birthdate,country,uuid,salary,country_code='Gloria Walters,clarkjason@example.org,\"98949 Charles Point, Murphyburgh, VI 78567\",2024-05-29T00:00:00.000+03:00,001-815-432-6872x48802,Wilson LLC,Technical sales engineer,1994-05-07,Cayman Islands,896aacc7-f34e-488e-9bef-a036f3b18fbd,3500,BQ'),\n",
       " Row(name,email,address,registration_date,phone,company,job,birthdate,country,uuid,salary,country_code='Eric Murray,dnovak@example.com,\"007 Gonzales Walks, Ashleemouth, IA 03266\",2024-01-10T00:00:00.000+03:00,3684760974,Roy-Lopez,Insurance risk surveyor,1986-10-26,Dominica,8bbcc123-6a34-4b52-b6b4-511f8ed7fc86,19700,LY'),\n",
       " Row(name,email,address,registration_date,phone,company,job,birthdate,country,uuid,salary,country_code='Curtis White,dreyes@example.org,\"856 Gardner Cliff Apt. 625, West Robert, ME 24360\",2024-03-12T00:00:00.000+03:00,001-689-546-5561x63026,Shea-Miller,Farm manager,1994-07-26,Montserrat,17be7b11-fe69-44ec-961b-7f960ef5360f,5950,GG'),\n",
       " Row(name,email,address,registration_date,phone,company,job,birthdate,country,uuid,salary,country_code='Wendy Anderson,martineric@example.com,\"16960 Warren Loaf, New Michael, PW 01659\",2024-03-12T00:00:00.000+03:00,228-690-9246,Duffy PLC,Astronomer,2007-02-01,Northern Mariana Islands,dc086e20-0239-4836-be4a-8ecd0a313d8f,18050,HT'),\n",
       " Row(name,email,address,registration_date,phone,company,job,birthdate,country,uuid,salary,country_code='Cheyenne Watson,amymurphy@example.org,\"172 Vaughan Locks Apt. 656, Port Kevinland, CO 03985\",2024-06-01T00:00:00.000+03:00,001-636-936-1127x641,\"Dickerson, Christensen and Khan\",Commissioning editor,1959-10-19,Belarus,a4f7cc28-51ff-4c1f-bbeb-5f4cbc963835,7350,TN'),\n",
       " Row(name,email,address,registration_date,phone,company,job,birthdate,country,uuid,salary,country_code='Angela Scott,arellanocarlos@example.net,\"4906 Melanie Ranch, Josephtown, UT 15863\",2024-06-01T00:00:00.000+03:00,692-368-4709x327,Mcdonald-Little,Teaching laboratory technician,1995-02-05,Vanuatu,45ece3e1-f580-46c4-bd1a-6f3628ecb9e8,8050,OM'),\n",
       " Row(name,email,address,registration_date,phone,company,job,birthdate,country,uuid,salary,country_code='Robert Martinez,bennetthayley@example.com,\"PSC 4329, Box 8891, APO AA 62569\",2024-02-23T00:00:00.000+03:00,435.786.4666x333,Meyer-Norris,Advertising art director,1970-04-26,Solomon Islands,548a9750-b4c4-455d-83ba-2882fe8b8e84,9050,RE'),\n",
       " Row(name,email,address,registration_date,phone,company,job,birthdate,country,uuid,salary,country_code='Matthew Nichols,palmermichael@example.org,\"76420 Lee Circles Apt. 298, West Sherrystad, MI 54950\",2024-04-04T00:00:00.000+03:00,385.468.6169,\"Jones, Young and Mckinney\",Charity officer,1965-10-02,Romania,29a3b19a-3b1a-4479-90a0-af9e221619c8,19650,SS'),\n",
       " Row(name,email,address,registration_date,phone,company,job,birthdate,country,uuid,salary,country_code='Shawn Perry,moniquemarquez@example.org,\"049 Stephanie Brooks, East Frank, HI 19878\",2024-04-04T00:00:00.000+03:00,+1-345-945-1189x018,Smith-Lang,Exhibition designer,2002-10-30,Heard Island and McDonald Islands,fa2a737b-1476-464a-9960-644dce9f3b08,3850,UG'),\n",
       " Row(name,email,address,registration_date,phone,company,job,birthdate,country,uuid,salary,country_code='Gregory Adams,mhart@example.net,\"Unit 3744 Box 1520, DPO AP 83510\",2024-09-03T00:00:00.000+03:00,001-600-291-8187x7095,Moore-Price,Waste management officer,2001-10-13,Honduras,42a4f502-1c42-40e4-8371-21501f3db2a9,10700,SO'),\n",
       " Row(name,email,address,registration_date,phone,company,job,birthdate,country,uuid,salary,country_code='Ashley Schneider,collinsmary@example.com,\"385 Garcia Hill Apt. 913, East Gina, AL 14711\",2024-05-29T00:00:00.000+03:00,(590)538-3557,\"Rogers, Shaw and Green\",\"Optician, dispensing\",2000-10-10,Kenya,2f3d2968-6612-48d4-8ca8-1a15ef74e7bb,12750,BQ'),\n",
       " Row(name,email,address,registration_date,phone,company,job,birthdate,country,uuid,salary,country_code='Robert Smith,nataliesharp@example.net,\"518 Molina Valleys Apt. 324, Stephaniefort, MA 05147\",2024-08-30T00:00:00.000+03:00,+1-854-887-3192x41009,\"Rush, Riley and Rodriguez\",Mental health nurse,1988-09-17,Heard Island and McDonald Islands,f1092345-c80a-44f3-b74f-9ee64a972002,11500,VA'),\n",
       " Row(name,email,address,registration_date,phone,company,job,birthdate,country,uuid,salary,country_code='Tammy Smith,huntkimberly@example.org,\"08480 Christy Mountains Apt. 425, Davidtown, AZ 90629\",2024-04-04T00:00:00.000+03:00,(816)487-0826x25907,Young-Perez,\"Programmer, systems\",1973-03-14,French Guiana,cae5e262-6586-4fe5-8411-9b3dc9eb3af8,16000,EC'),\n",
       " Row(name,email,address,registration_date,phone,company,job,birthdate,country,uuid,salary,country_code='Andrew Hubbard,lawsonstephanie@example.com,\"2935 Matthew Mews, Tinaland, DE 14877\",2024-09-03T00:00:00.000+03:00,001-782-621-3350x3152,Ingram-Mahoney,Physiological scientist,1967-03-22,Tanzania,c6e05ab5-60e2-414a-bd9c-11c08febd06c,19950,NF'),\n",
       " Row(name,email,address,registration_date,phone,company,job,birthdate,country,uuid,salary,country_code='Janet Jones,amy13@example.org,\"PSC 9650, Box 9925, APO AA 17262\",2024-09-03T00:00:00.000+03:00,945.604.5444,Pearson-Phillips,Environmental manager,1987-06-19,French Southern Territories,b80be953-2349-4e4b-9375-3f1b1098b5d6,14100,GG'),\n",
       " Row(name,email,address,registration_date,phone,company,job,birthdate,country,uuid,salary,country_code='Sean Jones,michelle89@example.com,\"PSC 3708, Box 7261, APO AE 97861\",2024-02-23T00:00:00.000+03:00,270-204-3630,Butler LLC,Illustrator,1979-01-19,Barbados,38d0b520-6421-41f2-8c25-c62f09b70901,8400,PL'),\n",
       " Row(name,email,address,registration_date,phone,company,job,birthdate,country,uuid,salary,country_code='Mark Jefferson,melanie07@example.org,\"USNV Jones, FPO AA 95986\",2024-09-03T00:00:00.000+03:00,940-336-7643x186,Munoz Inc,Chief of Staff,2002-05-08,Ghana,b9ba2273-ab74-491e-9145-4a4ec9e98467,3750,AE'),\n",
       " Row(name,email,address,registration_date,phone,company,job,birthdate,country,uuid,salary,country_code='Christina Brewer,sandra62@example.com,\"85282 Shelby View, Bethfurt, MD 05353\",2024-01-10T00:00:00.000+03:00,786-496-6596,Santos Group,Air broker,1997-07-23,Haiti,119007c3-baaf-48e5-8f92-81f2476765eb,18100,SR'),\n",
       " Row(name,email,address,registration_date,phone,company,job,birthdate,country,uuid,salary,country_code='Chad Gonzales,keithroach@example.com,\"0527 Kathy Prairie Suite 362, Richardsbury, AK 56502\",2024-08-30T00:00:00.000+03:00,269-933-7402x461,Coleman-Ortega,\"Engineer, water\",1977-02-27,Taiwan,6db988f3-4b56-420e-9971-caf97fa945a3,13900,CN'),\n",
       " Row(name,email,address,registration_date,phone,company,job,birthdate,country,uuid,salary,country_code='Adrian Sanchez,anthonypeters@example.com,\"821 Alvarez Club, Lake Davidstad, AS 83407\",2024-04-04T00:00:00.000+03:00,264.225.7658,Long Group,Seismic interpreter,1962-07-11,Montenegro,8cf7804b-e80c-4e10-bda8-a718d8c1d80c,18100,SO'),\n",
       " Row(name,email,address,registration_date,phone,company,job,birthdate,country,uuid,salary,country_code='Elizabeth Mcmillan,aimee74@example.net,\"85894 Wagner Way, Smithland, MP 82857\",2024-08-30T00:00:00.000+03:00,001-643-900-9275x3887,King-Moore,Human resources officer,1979-10-21,Malta,31ca8a28-30a7-4e18-a9bd-37a0852bd940,12600,LT'),\n",
       " Row(name,email,address,registration_date,phone,company,job,birthdate,country,uuid,salary,country_code='Thomas Brown,hgibbs@example.com,\"690 Mark Keys Apt. 407, Lake Stephanieville, FL 85854\",2024-06-01T00:00:00.000+03:00,(463)801-3596,Morris-Mays,Stage manager,1989-02-19,Puerto Rico,3a5fc854-06ef-4af6-b395-3e5b23593110,16350,ES'),\n",
       " Row(name,email,address,registration_date,phone,company,job,birthdate,country,uuid,salary,country_code='James Hendricks,ashleyproctor@example.net,\"0483 Miller Park Apt. 014, Johnsonberg, IL 36568\",2024-02-23T00:00:00.000+03:00,+1-632-448-1366x768,Sanchez-Moss,Theatre manager,1976-06-11,Suriname,3cc42921-c7e2-4a60-8cca-ca898aed46eb,18150,CY'),\n",
       " Row(name,email,address,registration_date,phone,company,job,birthdate,country,uuid,salary,country_code='Michael Ryan,agomez@example.org,\"22727 Hicks Mews Suite 072, Sarahmouth, VA 39068\",2024-02-23T00:00:00.000+03:00,787-725-3749x654,Garcia LLC,\"Buyer, industrial\",1972-01-09,Saint Vincent and the Grenadines,536b7ec9-f951-4a1c-b96d-ce28a885702d,14150,CH'),\n",
       " Row(name,email,address,registration_date,phone,company,job,birthdate,country,uuid,salary,country_code='Lucas Berry,gcurtis@example.net,\"Unit 3449 Box 5442, DPO AP 83116\",2024-09-03T00:00:00.000+03:00,001-482-348-9110x83053,\"Nelson, Douglas and Chapman\",\"Education officer, community\",1971-02-10,Norfolk Island,a97bd481-7632-4efc-a3d9-61da596f0913,7300,UY'),\n",
       " Row(name,email,address,registration_date,phone,company,job,birthdate,country,uuid,salary,country_code='Bryan Martin,lbaldwin@example.org,\"711 Rebecca Street, West Reginafurt, AR 58935\",2024-09-03T00:00:00.000+03:00,(294)952-0366,\"Harris, Price and Campbell\",Psychotherapist,1994-12-16,Iraq,2e10acc8-acec-4d83-bbab-bca63728eafa,4800,BM'),\n",
       " Row(name,email,address,registration_date,phone,company,job,birthdate,country,uuid,salary,country_code='Eric Weaver,petersryan@example.net,\"154 Julia Ridge, East Rachelton, MN 56727\",2024-02-23T00:00:00.000+03:00,338-311-3768,Bell Ltd,\"Merchandiser, retail\",1982-09-12,Jordan,ecd86056-b5e9-4f8b-98ce-a0240c136be6,2650,MY'),\n",
       " Row(name,email,address,registration_date,phone,company,job,birthdate,country,uuid,salary,country_code='Daniel Cantu,ruthlopez@example.com,\"357 Miller Route, Mccluremouth, OH 20360\",2024-05-29T00:00:00.000+03:00,+1-677-775-6079x01194,\"Buck, Green and Reid\",Financial trader,1973-12-23,Tokelau,8502d81c-186b-47fa-871c-16060051a21e,6100,MK'),\n",
       " Row(name,email,address,registration_date,phone,company,job,birthdate,country,uuid,salary,country_code='Crystal Rosales,mjohnson@example.com,\"9597 Billy Well Apt. 755, East Melissa, OR 39557\",2024-06-01T00:00:00.000+03:00,489.388.1627x14942,Morrison-Parker,Air traffic controller,1993-01-12,Qatar,0e6e318b-0e90-41f5-8c8f-0e00b23af6e9,17400,FI'),\n",
       " Row(name,email,address,registration_date,phone,company,job,birthdate,country,uuid,salary,country_code='William Ellison,john30@example.net,\"054 Karen Stravenue Suite 633, Port Jacob, NC 46281\",2024-02-23T00:00:00.000+03:00,923-920-0467,\"Barber, Fowler and Fuller\",\"Engineer, chemical\",1963-09-17,Wallis and Futuna,9617fc9f-dffe-4bdd-911e-545dd63cfbba,10050,FJ'),\n",
       " Row(name,email,address,registration_date,phone,company,job,birthdate,country,uuid,salary,country_code='Janet White,nicole36@example.net,\"4942 Adams Creek, Lake Connie, ND 10087\",2024-05-29T00:00:00.000+03:00,001-398-378-9603x237,\"Jones, Orozco and Henry\",Estate manager/land agent,1989-11-17,Armenia,5679fba7-4558-4e98-862c-3f2276dcb758,7350,AM'),\n",
       " Row(name,email,address,registration_date,phone,company,job,birthdate,country,uuid,salary,country_code='Calvin Martin,michelle93@example.com,\"Unit 0671 Box 8809, DPO AA 09507\",2024-03-12T00:00:00.000+03:00,869-375-7410x3509,Vargas-Lee,Immunologist,1969-11-08,Sudan,df6876fd-0c61-4645-8f66-bdc66386fee0,3750,PG'),\n",
       " Row(name,email,address,registration_date,phone,company,job,birthdate,country,uuid,salary,country_code='Elizabeth Schmidt,yhouse@example.org,\"35607 Matthew Hill, Shannonfurt, NJ 71448\",2024-09-03T00:00:00.000+03:00,567.240.9822x084,Howard Group,Arts development officer,1972-10-20,Uganda,48a088d1-a694-4e55-b0c1-a63004eb3142,12250,BY'),\n",
       " Row(name,email,address,registration_date,phone,company,job,birthdate,country,uuid,salary,country_code='Richard Buck,ashleynelson@example.net,\"955 James Ports Suite 399, Carterbury, PW 77690\",2024-05-29T00:00:00.000+03:00,867-344-8937,Herrera-Sanchez,Dentist,2004-05-19,Tuvalu,68361efa-8b2f-4630-b6c2-3911358b6721,6200,GT'),\n",
       " Row(name,email,address,registration_date,phone,company,job,birthdate,country,uuid,salary,country_code='Nicole Owens,james53@example.net,\"8657 Bell Villages, South James, NH 38613\",2024-06-01T00:00:00.000+03:00,950.707.7277x7536,Spears-Casey,Firefighter,1996-04-03,Tonga,87d58bd2-2259-40dd-9b3b-20bd5041afe3,9450,IE'),\n",
       " Row(name,email,address,registration_date,phone,company,job,birthdate,country,uuid,salary,country_code='Noah Smith,kimberly11@example.org,\"45766 Whitaker Radial Apt. 384, South Gregory, HI 31422\",2024-09-03T00:00:00.000+03:00,(928)818-2103,\"Lee, Barrera and Powell\",\"Teacher, primary school\",2002-09-04,Mayotte,7fe23abf-b116-4577-bf0c-48a290ebbc47,8600,CK'),\n",
       " Row(name,email,address,registration_date,phone,company,job,birthdate,country,uuid,salary,country_code='Leslie Smith,ayerslauren@example.org,\"536 Cooper Ridges, Austinside, PW 81075\",2024-05-29T00:00:00.000+03:00,+1-593-231-7841x0981,\"Miller, Snow and Schaefer\",\"Engineer, building services\",1991-02-28,Burkina Faso,94cd60c8-1e24-4f66-8bb4-0499c9bdd5d3,17450,CM'),\n",
       " Row(name,email,address,registration_date,phone,company,job,birthdate,country,uuid,salary,country_code='Dominique Walker,lauren29@example.com,\"USNV Calhoun, FPO AP 34172\",2024-03-12T00:00:00.000+03:00,(555)206-9563,Stuart-Alvarez,\"Research officer, trade union\",1962-12-14,Afghanistan,406b7816-9ef8-4e6b-8584-dbbe9c173a10,14000,CO'),\n",
       " Row(name,email,address,registration_date,phone,company,job,birthdate,country,uuid,salary,country_code='Monica Montgomery,icole@example.com,\"75461 Cox Unions, Dustinchester, KS 29455\",2024-01-10T00:00:00.000+03:00,275-977-9965,Boyd and Sons,Higher education careers adviser,2004-06-04,Cote d\\'Ivoire,4b0554fe-ce05-4d9b-b810-7e52f83e9262,9500,SE'),\n",
       " Row(name,email,address,registration_date,phone,company,job,birthdate,country,uuid,salary,country_code='Ricky Clark,james18@example.net,\"33775 Timothy Valley Suite 169, East Kenneth, WY 14499\",2024-04-04T00:00:00.000+03:00,579.356.2147x53307,\"Long, Neal and Mcclain\",TEFL teacher,1967-07-03,Dominica,1d86e0ed-765e-4077-bd50-bf3963cb06f7,17300,CV'),\n",
       " Row(name,email,address,registration_date,phone,company,job,birthdate,country,uuid,salary,country_code='Aaron Sharp,emilytownsend@example.org,\"353 Love Knolls Suite 088, Vegachester, RI 78788\",2024-03-12T00:00:00.000+03:00,6523349855,Fuller and Sons,Editorial assistant,1976-09-02,Pakistan,722cd75e-3a4c-46f3-bb4d-403adddeba83,7950,HN'),\n",
       " Row(name,email,address,registration_date,phone,company,job,birthdate,country,uuid,salary,country_code='Jessica Moore,ncox@example.com,\"9144 Dustin Port, East Johnny, OH 74646\",2024-02-23T00:00:00.000+03:00,885-923-9177x66698,Smith PLC,Insurance claims handler,2006-01-18,Saint Vincent and the Grenadines,b5ecbc55-18a2-4811-894e-ff97ac77b0c5,5000,LY'),\n",
       " Row(name,email,address,registration_date,phone,company,job,birthdate,country,uuid,salary,country_code='Carla Richardson,jasonreid@example.net,\"624 Zamora Dale, Matthewhaven, OR 43060\",2024-09-03T00:00:00.000+03:00,001-820-640-9956x1264,Madden-Giles,\"Scientist, forensic\",1989-07-13,Ghana,2eaa0705-f00c-4c34-b2ac-87dad7885270,12250,HK'),\n",
       " Row(name,email,address,registration_date,phone,company,job,birthdate,country,uuid,salary,country_code='Rodney Wright,nicholsoncalvin@example.org,\"9030 Johnson Village, North Andrew, FL 17248\",2024-03-12T00:00:00.000+03:00,396.687.8966,Williamson-Johnson,\"Scientist, water quality\",1990-11-19,Argentina,c0ae08f7-8996-44c3-8638-c76c0eeb83f0,9650,PK'),\n",
       " Row(name,email,address,registration_date,phone,company,job,birthdate,country,uuid,salary,country_code='Anthony Payne,colin78@example.com,\"160 Murray Walk Apt. 060, North Bradleyfurt, WA 12331\",2024-08-30T00:00:00.000+03:00,826.856.9520,\"Gray, Robinson and Goodwin\",Public house manager,1997-10-28,Bouvet Island (Bouvetoya),40aedc2a-05e3-4994-a1ce-fff3bb2c501e,18500,BB'),\n",
       " Row(name,email,address,registration_date,phone,company,job,birthdate,country,uuid,salary,country_code='Abigail Nelson,nathanielevans@example.com,\"8514 David Shores, Fritzshire, WI 95082\",2024-06-01T00:00:00.000+03:00,449-920-7294x921,\"Mclaughlin, Clark and Peck\",Solicitor,1996-06-20,Tunisia,1147ca2f-c7a1-44fa-ad48-f24d08fb500f,14100,BV'),\n",
       " Row(name,email,address,registration_date,phone,company,job,birthdate,country,uuid,salary,country_code='Ashley Snyder,mallorypotter@example.net,\"44788 Rios Flat, South Lucas, MP 33507\",2024-03-12T00:00:00.000+03:00,001-695-501-0408x956,Moss and Sons,\"Scientist, clinical (histocompatibility and immunogenetics)\",2004-01-16,Monaco,571fc045-5b56-4386-b6d7-7bc5eee428c1,8300,TW'),\n",
       " Row(name,email,address,registration_date,phone,company,job,birthdate,country,uuid,salary,country_code='Michaela Spence,flowersjohn@example.org,\"892 Bauer Run, Berryside, MO 34254\",2024-09-03T00:00:00.000+03:00,880-253-1237x651,\"Moyer, Carson and Rowland\",\"Therapist, music\",1986-06-21,Luxembourg,a94ef46e-f6cf-4e2f-9cdc-f0dadf0184d0,2750,SG'),\n",
       " Row(name,email,address,registration_date,phone,company,job,birthdate,country,uuid,salary,country_code='Kristen Lee,qowen@example.org,\"0612 Grimes Valley Apt. 131, Ericport, FL 68272\",2024-05-29T00:00:00.000+03:00,+1-586-995-8998x94795,Holmes Inc,Trading standards officer,1976-03-09,French Guiana,9f4b1323-f8bc-47c1-9f75-339aa758625a,4500,NC'),\n",
       " Row(name,email,address,registration_date,phone,company,job,birthdate,country,uuid,salary,country_code='Christopher Robbins,fsanchez@example.org,\"USNS Kline, FPO AA 44870\",2024-04-04T00:00:00.000+03:00,501.693.8582,Taylor Inc,\"Engineer, communications\",2004-06-06,Vietnam,f1db1bbc-4451-4e3a-b66d-d6e101e0a373,14600,HN'),\n",
       " Row(name,email,address,registration_date,phone,company,job,birthdate,country,uuid,salary,country_code='Eric Johnson MD,fwalter@example.org,\"4070 Butler Underpass Apt. 623, North Haleybury, NJ 56398\",2024-05-29T00:00:00.000+03:00,812.219.2958,Nguyen Inc,Child psychotherapist,1981-12-11,Palestinian Territory,a7f41e13-6227-47be-9f75-dcd35f69905e,3250,GQ'),\n",
       " Row(name,email,address,registration_date,phone,company,job,birthdate,country,uuid,salary,country_code='Dominique Leonard,edward96@example.net,\"08457 Brown Lights, Markstad, RI 69128\",2024-02-23T00:00:00.000+03:00,317.829.3745,\"Li, Cooke and Villegas\",Quarry manager,2001-04-23,Estonia,1e09c9fe-7412-4e96-80df-0f9cd8fc5f90,11900,EH'),\n",
       " Row(name,email,address,registration_date,phone,company,job,birthdate,country,uuid,salary,country_code='Charles Hernandez,phampamela@example.org,\"82260 Brittany Springs, East Crystalland, NH 86236\",2024-08-30T00:00:00.000+03:00,(655)306-9866,Ross Group,Office manager,1980-10-21,Guinea,1b6bafa7-0c78-4c0c-bdb9-f6a7057f4b48,6350,CW'),\n",
       " Row(name,email,address,registration_date,phone,company,job,birthdate,country,uuid,salary,country_code='Karla Cannon,shannonnguyen@example.net,\"096 Webster Lock, New Kari, TX 20801\",2024-01-10T00:00:00.000+03:00,6352770427,\"Harvey, Robinson and Sloan\",\"Designer, industrial/product\",1977-03-09,Armenia,5c94f721-ea00-4d5a-a335-f91f07bbb5af,3700,MX'),\n",
       " Row(name,email,address,registration_date,phone,company,job,birthdate,country,uuid,salary,country_code='George Wheeler,bennettmichael@example.org,\"59732 Michael Place Apt. 156, Lake Jamesshire, WI 13971\",2024-01-10T00:00:00.000+03:00,(390)902-5852,Harrison and Sons,Adult nurse,1988-01-21,Uruguay,b9d13e9f-83f3-43f9-bf2a-6d243ec5a6f3,19800,AU'),\n",
       " Row(name,email,address,registration_date,phone,company,job,birthdate,country,uuid,salary,country_code='Nicole Matthews,thomaskaren@example.com,\"Unit 0949 Box 1608, DPO AP 40885\",2024-05-29T00:00:00.000+03:00,(511)978-1875,\"Singleton, Morris and Burch\",Patent examiner,1961-02-06,Swaziland,5c69f67f-27a9-429b-82fb-7a9096ec1870,5650,HU'),\n",
       " Row(name,email,address,registration_date,phone,company,job,birthdate,country,uuid,salary,country_code='David Fernandez,ddavis@example.net,\"0554 Garcia Greens Apt. 304, South Johnborough, PA 64960\",2024-09-03T00:00:00.000+03:00,(671)215-4977x472,\"Alvarado, Hampton and Maxwell\",\"Therapist, horticultural\",1999-05-13,Czech Republic,1d6ac412-f410-4293-8387-22328bd7cc1a,9400,CD'),\n",
       " Row(name,email,address,registration_date,phone,company,job,birthdate,country,uuid,salary,country_code='Linda Brown,amanda32@example.com,\"777 William Inlet Apt. 729, Port Anthonyport, DE 70454\",2024-05-29T00:00:00.000+03:00,(892)668-4899x347,\"Johnson, Reed and Scott\",Mental health nurse,2000-07-29,American Samoa,d5451700-cd95-4bff-a902-dfaaf82ac6d7,9900,NO'),\n",
       " Row(name,email,address,registration_date,phone,company,job,birthdate,country,uuid,salary,country_code='Emily Wagner,teresazimmerman@example.net,\"21203 Anita Rue Suite 705, Port Tammy, NV 11573\",2024-01-10T00:00:00.000+03:00,(995)814-1532,Deleon-Luna,Building surveyor,1983-01-08,Guatemala,f3047330-c0cf-4333-820e-1167a3099fd0,10250,AS'),\n",
       " Row(name,email,address,registration_date,phone,company,job,birthdate,country,uuid,salary,country_code='Taylor Peters,james31@example.com,\"68686 Kim Bypass Apt. 801, Richardview, NV 33217\",2024-09-03T00:00:00.000+03:00,(388)759-7132x1928,Hawkins Inc,Warehouse manager,2002-11-30,Cocos (Keeling) Islands,a95f4b1e-17f0-4d49-b999-7bd9dd0430df,13900,JM'),\n",
       " Row(name,email,address,registration_date,phone,company,job,birthdate,country,uuid,salary,country_code='Shawn Mills,loriwalker@example.org,\"83639 Matthew Road, South Melissa, NC 15861\",2024-01-10T00:00:00.000+03:00,437.913.4375x297,Chang Ltd,\"Engineer, broadcasting (operations)\",1968-01-29,Korea,36ced121-b040-46fd-a0db-ba6ca4de9b23,2350,SC'),\n",
       " Row(name,email,address,registration_date,phone,company,job,birthdate,country,uuid,salary,country_code='Cassandra Griffin,michael66@example.com,\"9704 White Views, Jimenezborough, NM 36493\",2024-01-10T00:00:00.000+03:00,001-876-607-7688x952,Smith-Stephenson,Media planner,1983-07-11,Chad,535345b5-eb6e-4543-8874-226de485a8fd,3600,IQ'),\n",
       " Row(name,email,address,registration_date,phone,company,job,birthdate,country,uuid,salary,country_code='Wendy Pena DVM,ryanross@example.net,\"916 Brown Ridges, Vincenthaven, IN 08045\",2024-02-23T00:00:00.000+03:00,001-699-476-9220x1547,Roman Ltd,Data scientist,1989-12-16,Venezuela,1871c8d8-cdaa-44c1-b0b5-78f95d6738fa,12750,PT'),\n",
       " Row(name,email,address,registration_date,phone,company,job,birthdate,country,uuid,salary,country_code='Anna Wilkinson,katelyn62@example.org,\"51147 Higgins Union Suite 973, South Cindybury, MS 20211\",2024-06-01T00:00:00.000+03:00,381.549.9621,\"Johnston, Murphy and Morgan\",Systems analyst,1979-04-30,Greenland,07ad6c4b-7209-4320-bbde-be7a48a266cc,7150,MQ'),\n",
       " Row(name,email,address,registration_date,phone,company,job,birthdate,country,uuid,salary,country_code='Caleb Wells,rhonda75@example.net,\"06668 Peterson Wells, South Elizabethmouth, MP 38556\",2024-06-01T00:00:00.000+03:00,+1-324-742-9488x526,Jones-Blackwell,Operational investment banker,1964-01-11,Mali,bbfaeb3f-06dd-4b9a-915a-ac07eb7357f7,11750,HR'),\n",
       " Row(name,email,address,registration_date,phone,company,job,birthdate,country,uuid,salary,country_code='Mrs. Jasmine Adams MD,paula65@example.com,\"773 Nicholas Locks Apt. 406, New Christinestad, NC 47362\",2024-01-10T00:00:00.000+03:00,001-571-827-3038x2703,Lewis-Cooper,Probation officer,1985-11-24,Kenya,89ca6be5-203a-48eb-bbfe-3b8c9918f528,15600,NA'),\n",
       " Row(name,email,address,registration_date,phone,company,job,birthdate,country,uuid,salary,country_code='Briana Cooper,llewis@example.com,\"5410 Lisa Views, South Jordanshire, MH 18309\",2024-03-12T00:00:00.000+03:00,532.331.9061x86450,Mcdonald-Martinez,Teaching laboratory technician,2004-12-14,Finland,d0b08ae8-8c7d-4f0c-a4c4-ee142fa30421,6800,CY'),\n",
       " Row(name,email,address,registration_date,phone,company,job,birthdate,country,uuid,salary,country_code='Jeffrey Hardin,william30@example.net,\"4355 Hunter Flats, West Amandastad, SD 53174\",2024-02-23T00:00:00.000+03:00,(733)509-3270x370,\"King, Walters and Davis\",Advertising account executive,1993-05-16,Cuba,f1abb804-a202-48ab-be1d-7eb8ef93be40,3750,MS'),\n",
       " Row(name,email,address,registration_date,phone,company,job,birthdate,country,uuid,salary,country_code='Carl Russell,kthomas@example.com,\"PSC 4895, Box 9782, APO AA 19430\",2024-05-29T00:00:00.000+03:00,216-278-6920,\"Day, Jones and Garcia\",Meteorologist,1968-08-24,Philippines,54562d23-9f11-46d2-9f8b-a981db09ed5c,3850,AE'),\n",
       " Row(name,email,address,registration_date,phone,company,job,birthdate,country,uuid,salary,country_code='Francisco Kelley,kharmon@example.org,\"6413 Henry Heights Suite 472, Bakerburgh, ME 84048\",2024-01-10T00:00:00.000+03:00,849-919-8099x9838,Ayers-Benjamin,Chief Operating Officer,2006-02-11,Tajikistan,cf43bfc7-31db-4801-be07-16b4a306ac9b,7100,UA'),\n",
       " Row(name,email,address,registration_date,phone,company,job,birthdate,country,uuid,salary,country_code='Sarah Perry,aaron60@example.com,\"45183 Lisa Islands, West Kari, OH 39359\",2024-04-04T00:00:00.000+03:00,(576)420-4934,Carter Inc,Research scientist (physical sciences),1976-07-29,Wallis and Futuna,dd1ee8a0-628b-4389-a04d-883f2fd50201,4950,PF'),\n",
       " Row(name,email,address,registration_date,phone,company,job,birthdate,country,uuid,salary,country_code='Kayla Nelson,mandygoodwin@example.net,\"208 Edward Union Suite 687, East Dean, OH 79354\",2024-03-12T00:00:00.000+03:00,800.661.7992x632,Lewis-Daniels,Youth worker,1966-12-04,Turkey,af11f2bc-2d6b-4f3f-977e-bf6c390ea452,11400,LS'),\n",
       " Row(name,email,address,registration_date,phone,company,job,birthdate,country,uuid,salary,country_code='Brenda Harris,patricia40@example.org,\"3005 Perez Knolls Apt. 080, North Danielletown, GA 74602\",2024-01-10T00:00:00.000+03:00,+1-555-487-2527x983,Davidson-Garcia,\"Therapist, horticultural\",1960-10-07,Turkmenistan,55f2560b-38a1-43de-b221-2cf2b660d29d,9850,PN'),\n",
       " Row(name,email,address,registration_date,phone,company,job,birthdate,country,uuid,salary,country_code='George Jones,jordan37@example.net,\"38801 Friedman Ranch, South Jasonland, IL 86935\",2024-08-30T00:00:00.000+03:00,(267)896-8627,Burns and Sons,\"Physicist, medical\",1967-07-05,Turkmenistan,a9776148-453d-4c7e-9e7f-12642fe74953,15200,VC'),\n",
       " Row(name,email,address,registration_date,phone,company,job,birthdate,country,uuid,salary,country_code='Charles Holloway,hardylori@example.net,\"2890 Davis Court Suite 477, Flowerschester, KY 74330\",2024-01-10T00:00:00.000+03:00,+1-958-790-3743,Ramirez-Martinez,Ship broker,1964-01-20,Bermuda,da3c0e6a-4212-4d5c-96ea-44aa055d5a3b,15300,LT'),\n",
       " Row(name,email,address,registration_date,phone,company,job,birthdate,country,uuid,salary,country_code='Joshua Martin,allison49@example.org,\"8061 Charlotte Plains, New Larryville, IA 14516\",2024-04-04T00:00:00.000+03:00,+1-794-969-5678x556,Strong-Fitzpatrick,Armed forces operational officer,1965-04-23,Chile,4a7971b2-bd19-49c8-b1e3-755c3f00f8c2,6400,CF'),\n",
       " Row(name,email,address,registration_date,phone,company,job,birthdate,country,uuid,salary,country_code='Michael Hanna,lewismichael@example.net,\"1728 Daniel Locks Suite 691, Zimmermanburgh, MA 09997\",2024-06-01T00:00:00.000+03:00,798.884.7585x50175,Yates Ltd,Adult nurse,1964-05-28,Guernsey,3b242ab0-4f68-4af8-8c36-166cd1e941fb,4050,MU'),\n",
       " Row(name,email,address,registration_date,phone,company,job,birthdate,country,uuid,salary,country_code='Emily Ferguson,jasonbrown@example.com,\"7156 Kimberly Plains Apt. 032, South Lindsay, TN 29229\",2024-08-30T00:00:00.000+03:00,725-478-4454,Cortez-Petersen,Furniture conservator/restorer,1969-08-01,Gambia,e5a167b7-7c07-49da-9005-2713643230da,11600,KE'),\n",
       " Row(name,email,address,registration_date,phone,company,job,birthdate,country,uuid,salary,country_code='Alex Bright,ryan47@example.net,\"801 Williams Groves, Stephenbury, IN 14712\",2024-01-10T00:00:00.000+03:00,(474)519-2293x2093,\"Choi, Newman and Yang\",Microbiologist,1984-04-01,Ethiopia,e2af0b4c-e790-46f7-adf3-969a5231dabb,16600,SA'),\n",
       " Row(name,email,address,registration_date,phone,company,job,birthdate,country,uuid,salary,country_code='Craig Soto,brownemily@example.com,\"67640 Ramirez Mall Suite 070, Smithton, MO 69514\",2024-03-12T00:00:00.000+03:00,(296)861-6239,Lynch-Henderson,\"Biochemist, clinical\",1961-10-11,Sweden,bf5b3238-b3e4-4752-8a7a-64dfa44ae5f4,16700,BM'),\n",
       " Row(name,email,address,registration_date,phone,company,job,birthdate,country,uuid,salary,country_code='Krystal Martinez,mclaughlinconnor@example.com,\"1960 Tina Harbors Apt. 387, Johnstad, OH 11080\",2024-03-12T00:00:00.000+03:00,365.342.1214,Lawson-Brown,Interior and spatial designer,1970-08-05,Rwanda,f5ed30f5-13e0-4afd-8ed5-e4b01bebcd2c,11900,CH'),\n",
       " Row(name,email,address,registration_date,phone,company,job,birthdate,country,uuid,salary,country_code='Dean Cannon,madisonnunez@example.org,\"8756 Tyler Ridge Apt. 266, East Stacey, MI 66142\",2024-05-29T00:00:00.000+03:00,376-950-4276,\"French, Gutierrez and Williams\",Financial controller,1968-04-27,Equatorial Guinea,2ab34268-161e-4d34-8226-d3eba529b496,8850,VI'),\n",
       " Row(name,email,address,registration_date,phone,company,job,birthdate,country,uuid,salary,country_code='James Marshall,avilabeth@example.org,\"4479 Holloway Camp Suite 425, Mcdanielport, VT 83690\",2024-04-04T00:00:00.000+03:00,538.960.7180,Moses-Cole,Estate agent,1994-08-10,Micronesia,456a685a-1d80-4253-804f-524065dd8113,8100,MA'),\n",
       " Row(name,email,address,registration_date,phone,company,job,birthdate,country,uuid,salary,country_code='Diana Wood,robertrhodes@example.org,\"PSC 3445, Box 8529, APO AA 69100\",2024-05-29T00:00:00.000+03:00,798.636.1777x33708,Casey-Brown,\"Presenter, broadcasting\",1988-09-16,Cambodia,18613e0d-faba-4594-a85b-07fd05a2a215,8300,TR'),\n",
       " Row(name,email,address,registration_date,phone,company,job,birthdate,country,uuid,salary,country_code='Frederick Brown,kayladavis@example.org,\"1527 Mckay Light Apt. 803, West Stacy, UT 56603\",2024-02-23T00:00:00.000+03:00,(568)369-7797,Skinner Ltd,Archaeologist,1974-04-03,Iceland,91754878-4647-4983-be7a-192ae62471a3,6000,CX'),\n",
       " Row(name,email,address,registration_date,phone,company,job,birthdate,country,uuid,salary,country_code='Lee Matthews,debrahenry@example.org,\"9503 Petersen Village, Santosberg, CA 20227\",2024-05-29T00:00:00.000+03:00,921.205.7532x90575,Moore-Yates,Warehouse manager,1997-01-23,Papua New Guinea,10d7f032-786d-4860-8006-7923c8358250,6800,AX'),\n",
       " Row(name,email,address,registration_date,phone,company,job,birthdate,country,uuid,salary,country_code='Christopher West,brittanywatkins@example.org,\"028 Christina Place, Mathewtown, NE 65099\",2024-04-04T00:00:00.000+03:00,001-512-483-9774x157,\"Rivera, Craig and Thompson\",Politician\\'s assistant,1969-02-08,Reunion,dc68d9bc-d4b2-4b94-b4ad-1931458fd948,18300,KG'),\n",
       " Row(name,email,address,registration_date,phone,company,job,birthdate,country,uuid,salary,country_code='Brett Gentry,xmedina@example.org,\"357 Mccoy Oval Suite 036, Mitchelltown, CO 08833\",2024-06-01T00:00:00.000+03:00,+1-921-893-5296x5274,\"Yang, Silva and Hill\",Actor,1999-10-15,Pakistan,54eca9c7-61b8-4d11-960e-8718fb9c2304,16000,TW'),\n",
       " Row(name,email,address,registration_date,phone,company,job,birthdate,country,uuid,salary,country_code='Veronica Yang,tayloremily@example.com,\"039 Collins Turnpike, South Scottside, CA 05160\",2024-02-23T00:00:00.000+03:00,981-510-5630x531,\"Compton, Ochoa and Smith\",\"Engineer, civil (consulting)\",1991-03-13,Qatar,7a967255-7ce7-4ba9-aea1-dc7aaa57124e,12100,MP'),\n",
       " Row(name,email,address,registration_date,phone,company,job,birthdate,country,uuid,salary,country_code='Juan Pham,brianjohnson@example.com,\"13411 Hobbs Junction Suite 707, Davidfurt, OR 43737\",2024-05-29T00:00:00.000+03:00,341-401-0444,Berger Inc,Tourist information centre manager,2004-03-31,Northern Mariana Islands,5c6e50d1-fa3b-49c3-b8b4-67098d7647e8,12700,VG'),\n",
       " Row(name,email,address,registration_date,phone,company,job,birthdate,country,uuid,salary,country_code='Tiffany Liu,bridgescynthia@example.com,\"PSC 9848, Box 8805, APO AP 44150\",2024-01-10T00:00:00.000+03:00,944-281-1870x61778,\"Conway, Lopez and Walsh\",Metallurgist,1992-07-01,Nepal,ac676c57-8846-416f-bd9e-353862872a56,3500,PA'),\n",
       " Row(name,email,address,registration_date,phone,company,job,birthdate,country,uuid,salary,country_code='Jared Mata,francisjohn@example.org,\"6736 Larson Rest Suite 657, New Emily, MT 58895\",2024-08-30T00:00:00.000+03:00,(994)840-3582x0698,James Inc,\"Psychologist, forensic\",2007-02-21,Panama,3181115e-a3ec-459b-bb54-0800006bf8a9,6500,BN'),\n",
       " Row(name,email,address,registration_date,phone,company,job,birthdate,country,uuid,salary,country_code='Jessica King PhD,dianajackson@example.net,\"85398 Mcneil Burg Suite 930, Ortizshire, AR 42346\",2024-03-12T00:00:00.000+03:00,5028611807,\"Rodriguez, Holmes and Poole\",Hydrogeologist,2000-12-12,Luxembourg,09e2e5b7-3582-42ba-a107-f60334ce7477,2950,AQ'),\n",
       " Row(name,email,address,registration_date,phone,company,job,birthdate,country,uuid,salary,country_code='Bryan Pierce,martinezpatricia@example.org,\"45038 Gregory Inlet Suite 274, Davidstad, NJ 51531\",2024-01-10T00:00:00.000+03:00,001-946-514-7724x080,\"Long, Watson and Hall\",Bonds trader,1965-01-19,Antarctica (the territory South of 60 deg S),dbc3c3ba-4284-4997-b26a-7a948ae7850b,16700,AW'),\n",
       " Row(name,email,address,registration_date,phone,company,job,birthdate,country,uuid,salary,country_code='Karina Johnson,trevorbenton@example.org,\"9851 Olivia Port, Vanessabury, MN 01148\",2024-08-30T00:00:00.000+03:00,431.917.9424x2631,Sheppard Group,Freight forwarder,1960-10-09,Syrian Arab Republic,110a7e4c-cc22-47d4-9ee4-5761ced5aeb1,15250,AE'),\n",
       " Row(name,email,address,registration_date,phone,company,job,birthdate,country,uuid,salary,country_code='Pamela Watson,jcampbell@example.com,\"7063 Emily Shoals Apt. 057, Shieldshaven, SD 96049\",2024-02-23T00:00:00.000+03:00,(560)926-5932x859,Mccormick-Woods,Historic buildings inspector/conservation officer,1998-10-13,Colombia,7378284d-0dd3-4d68-86ff-206b6f191064,11000,SH'),\n",
       " Row(name,email,address,registration_date,phone,company,job,birthdate,country,uuid,salary,country_code='Cynthia Fletcher,melissahall@example.net,\"08300 Higgins Turnpike Suite 051, South Donaldshire, MA 28862\",2024-08-30T00:00:00.000+03:00,455-606-3284x26138,Fernandez-Lewis,Petroleum engineer,1960-04-10,Greenland,0fff4484-9a99-443a-87bf-17c9b96970fc,14400,GL'),\n",
       " Row(name,email,address,registration_date,phone,company,job,birthdate,country,uuid,salary,country_code='Jason Powell,desireemartin@example.net,\"054 Kyle Harbor Suite 593, Harrischester, RI 27072\",2024-08-30T00:00:00.000+03:00,959.618.6659x9516,Romero-Davis,Further education lecturer,1995-01-04,Russian Federation,451eb6bc-520e-4dde-835c-9969a5bef255,10350,MD'),\n",
       " Row(name,email,address,registration_date,phone,company,job,birthdate,country,uuid,salary,country_code='Scott Crawford,james19@example.com,\"1865 Darren Landing Apt. 309, West Mario, WA 41608\",2024-04-04T00:00:00.000+03:00,+1-777-579-3955x8468,Fields-Dunn,\"Programmer, multimedia\",1977-02-24,Greece,fa484c23-390b-45b1-9f44-4b2be3626915,3750,LS'),\n",
       " Row(name,email,address,registration_date,phone,company,job,birthdate,country,uuid,salary,country_code='Matthew Sullivan,joseph02@example.org,\"4580 John Burgs, West Ethan, MI 11286\",2024-02-23T00:00:00.000+03:00,(403)816-3624,Carpenter-Ward,Civil Service fast streamer,1981-09-14,Algeria,ab6311b5-2b71-4e5f-8ee2-b0b3f1a52b60,6000,PG'),\n",
       " Row(name,email,address,registration_date,phone,company,job,birthdate,country,uuid,salary,country_code='Sierra Aguilar,elizabeth07@example.com,\"1997 Hannah Island Suite 467, North Emma, GU 80312\",2024-06-01T00:00:00.000+03:00,(723)443-7660x3140,Perkins and Sons,Haematologist,1977-02-06,Sao Tome and Principe,00313479-26c1-4f9e-9bf8-41cb67474160,4100,PL'),\n",
       " Row(name,email,address,registration_date,phone,company,job,birthdate,country,uuid,salary,country_code='Brian Thomas,bthornton@example.com,\"92359 King Tunnel, Walkerburgh, AK 97786\",2024-03-12T00:00:00.000+03:00,799.726.7041x447,\"Raymond, Wilson and Mullen\",Health promotion specialist,1997-07-05,Saint Vincent and the Grenadines,35a5119e-c842-48a8-ba2a-6b2f16bb6f13,19250,NA'),\n",
       " Row(name,email,address,registration_date,phone,company,job,birthdate,country,uuid,salary,country_code='Kayla Lee,leonarderic@example.net,\"5701 Michael Tunnel, Powellview, MO 46929\",2024-09-03T00:00:00.000+03:00,(470)514-9521,Cooper LLC,Firefighter,1973-02-03,Ukraine,f786b9f7-a762-4bd2-9d8b-df3ad1b3efb0,16050,UM'),\n",
       " Row(name,email,address,registration_date,phone,company,job,birthdate,country,uuid,salary,country_code='Melanie Cooke,ksmith@example.com,\"6139 Brian Circle, Cameronmouth, VI 00687\",2024-04-04T00:00:00.000+03:00,9547666849,Willis PLC,Photographer,1985-11-08,Saint Helena,d7eb5bb5-e2f0-4826-94e7-03e0a4636c6a,3000,SX'),\n",
       " Row(name,email,address,registration_date,phone,company,job,birthdate,country,uuid,salary,country_code='Samuel Pena,ramireznicholas@example.net,\"51201 Ward Ways Apt. 944, West John, FM 53151\",2024-01-10T00:00:00.000+03:00,+1-941-418-9490,Rojas PLC,\"Geneticist, molecular\",1971-10-11,Turkey,fa1ee729-2ef1-46b9-875c-254e95ab8a78,2350,VA'),\n",
       " Row(name,email,address,registration_date,phone,company,job,birthdate,country,uuid,salary,country_code='Brianna Mann,nicholas51@example.com,\"25515 Karen Rest Apt. 895, Cobbborough, NM 33869\",2024-05-29T00:00:00.000+03:00,001-343-278-1144x58615,Whitehead Group,\"Pharmacist, community\",2000-03-13,Swaziland,d945c53d-9301-4e96-b643-63fa3c9f1b7f,11200,NG'),\n",
       " Row(name,email,address,registration_date,phone,company,job,birthdate,country,uuid,salary,country_code='Cody Nelson,jrollins@example.com,\"41006 Hughes Estate Suite 383, East Sherrytown, CT 08511\",2024-09-03T00:00:00.000+03:00,+1-385-619-6656x74736,\"Jones, Boyd and Stevens\",\"Geneticist, molecular\",2001-04-26,Gambia,9f37a9e9-eb22-43e0-ad5f-a7c49cc72d5e,6500,TC'),\n",
       " Row(name,email,address,registration_date,phone,company,job,birthdate,country,uuid,salary,country_code='Michelle Collins,vjones@example.com,\"056 Mark Rue, Wilsonport, NE 21705\",2024-01-10T00:00:00.000+03:00,+1-602-219-0489,\"Sanders, Maldonado and Greer\",Financial controller,1980-12-20,Reunion,78456890-5cdd-4b03-b797-3a786b1b9bdb,16400,BO'),\n",
       " Row(name,email,address,registration_date,phone,company,job,birthdate,country,uuid,salary,country_code='Joseph Bradley,claytonmaria@example.com,\"84915 Judy Keys, Jaredchester, MN 68947\",2024-02-23T00:00:00.000+03:00,+1-657-740-9685x9577,Jones-Sullivan,Merchant navy officer,1998-09-27,Nigeria,593db9da-729c-4110-9984-8a76f39bb0ad,3350,ZM'),\n",
       " Row(name,email,address,registration_date,phone,company,job,birthdate,country,uuid,salary,country_code='Robin Smith,virginiachambers@example.com,\"59487 Carpenter Stravenue Apt. 548, Carlborough, IA 03598\",2024-04-04T00:00:00.000+03:00,(463)670-2249,Dawson Group,\"Engineer, production\",1968-11-21,Kazakhstan,26fa2fed-2e4e-4926-9dd5-aa2938714c1f,4750,AE'),\n",
       " Row(name,email,address,registration_date,phone,company,job,birthdate,country,uuid,salary,country_code='Catherine Smith,fmarshall@example.com,\"82651 Miller Land Apt. 320, New Ricardofort, LA 04274\",2024-01-10T00:00:00.000+03:00,755.834.1341x976,Mora-Martin,Furniture conservator/restorer,1982-08-12,San Marino,c198ad62-0144-48b7-af79-87145ece267a,11600,CN'),\n",
       " Row(name,email,address,registration_date,phone,company,job,birthdate,country,uuid,salary,country_code='John Kelly,kdavis@example.org,\"4238 Jason Divide Suite 919, New Stevenfurt, MP 40005\",2024-08-30T00:00:00.000+03:00,579-253-7208x852,Peters and Sons,Animal nutritionist,1963-06-13,Paraguay,c5a350db-4279-4036-965f-81339050d572,12900,CZ'),\n",
       " Row(name,email,address,registration_date,phone,company,job,birthdate,country,uuid,salary,country_code='Dustin Wilson,andradegina@example.net,\"219 Holmes Extension, Lake Paulaburgh, NM 60885\",2024-01-10T00:00:00.000+03:00,861.634.2895x2515,\"Smith, Knox and Thornton\",\"Psychologist, clinical\",1971-04-08,Guernsey,18d36184-8905-4e84-adc7-a777f64e5fac,13650,SV'),\n",
       " Row(name,email,address,registration_date,phone,company,job,birthdate,country,uuid,salary,country_code='Jacob Lawson,pmccann@example.com,\"398 Sherri Alley Suite 938, North Kevinbury, SD 44673\",2024-06-01T00:00:00.000+03:00,+1-741-655-3668,\"Rivera, Roberts and Wilson\",Medical illustrator,1986-08-06,French Guiana,33bb8803-b66a-44f3-a0d1-4a7aa3ac5ff6,14800,BV'),\n",
       " ...]"
      ]
     },
     "execution_count": 45,
     "metadata": {},
     "output_type": "execute_result"
    }
   ],
   "source": [
    "# OUT OF MEMORY\n",
    "\n",
    "d = spark.read.csv('data/orders.csv', header=True, sep='\\t')\n",
    "d.collect()"
   ]
  },
  {
   "cell_type": "code",
   "execution_count": 46,
   "id": "aa4746da",
   "metadata": {},
   "outputs": [],
   "source": [
    "dl = list()"
   ]
  },
  {
   "cell_type": "code",
   "execution_count": null,
   "id": "62a1e5e3",
   "metadata": {},
   "outputs": [
    {
     "name": "stderr",
     "output_type": "stream",
     "text": [
      "                                                                                \r"
     ]
    }
   ],
   "source": [
    "try:\n",
    "    while True:\n",
    "        dl.append(spark.read.csv('data/orders.csv', header=True, sep='\\t').collect())\n",
    "finally:\n",
    "    print(len(dl))"
   ]
  },
  {
   "cell_type": "code",
   "execution_count": null,
   "id": "cd02711c",
   "metadata": {},
   "outputs": [],
   "source": [
    "# spark.stop()"
   ]
  },
  {
   "cell_type": "code",
   "execution_count": null,
   "id": "03b8b84d",
   "metadata": {},
   "outputs": [],
   "source": []
  },
  {
   "cell_type": "code",
   "execution_count": null,
   "id": "3f05f66d",
   "metadata": {},
   "outputs": [],
   "source": [
    "# import os\n",
    "# import sys\n",
    "\n",
    "# sys.executable"
   ]
  }
 ],
 "metadata": {
  "kernelspec": {
   "display_name": "Python 3 (ipykernel)",
   "language": "python",
   "name": "python3"
  },
  "language_info": {
   "codemirror_mode": {
    "name": "ipython",
    "version": 3
   },
   "file_extension": ".py",
   "mimetype": "text/x-python",
   "name": "python",
   "nbconvert_exporter": "python",
   "pygments_lexer": "ipython3",
   "version": "3.9.2"
  }
 },
 "nbformat": 4,
 "nbformat_minor": 5
}
