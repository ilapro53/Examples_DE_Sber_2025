{
 "cells": [
  {
   "cell_type": "markdown",
   "id": "8e0f1861",
   "metadata": {},
   "source": [
    "# Домашнее задание 5"
   ]
  },
  {
   "cell_type": "markdown",
   "id": "a3a00951",
   "metadata": {},
   "source": [
    "### Запуск SparkSession"
   ]
  },
  {
   "cell_type": "code",
   "execution_count": 1,
   "id": "537c89e8",
   "metadata": {},
   "outputs": [
    {
     "name": "stderr",
     "output_type": "stream",
     "text": [
      "25/07/22 17:33:16 WARN NativeCodeLoader: Unable to load native-hadoop library for your platform... using builtin-java classes where applicable\n",
      "Using Spark's default log4j profile: org/apache/spark/log4j-defaults.properties\n",
      "Setting default log level to \"WARN\".\n",
      "To adjust logging level use sc.setLogLevel(newLevel). For SparkR, use setLogLevel(newLevel).\n"
     ]
    },
    {
     "name": "stdout",
     "output_type": "stream",
     "text": [
      "Активные Spark сессии: http://16ecfb548f4b:4040\n"
     ]
    },
    {
     "data": {
      "text/html": [
       "\n",
       "        <div>\n",
       "            <p><b>SparkContext</b></p>\n",
       "\n",
       "            <p><a href=\"http://16ecfb548f4b:4040\">Spark UI</a></p>\n",
       "\n",
       "            <dl>\n",
       "              <dt>Version</dt>\n",
       "                <dd><code>v3.0.0</code></dd>\n",
       "              <dt>Master</dt>\n",
       "                <dd><code>local[*]</code></dd>\n",
       "              <dt>AppName</dt>\n",
       "                <dd><code>pyspark_local</code></dd>\n",
       "            </dl>\n",
       "        </div>\n",
       "        "
      ],
      "text/plain": [
       "<SparkContext master=local[*] appName=pyspark_local>"
      ]
     },
     "execution_count": 1,
     "metadata": {},
     "output_type": "execute_result"
    }
   ],
   "source": [
    "from pyspark.sql import SparkSession\n",
    "import pyspark.sql.functions as F\n",
    "\n",
    "\n",
    "spark = SparkSession \\\n",
    "            .builder \\\n",
    "            .appName(\"pyspark_local\") \\\n",
    "            .config(\"spark.driver.memory\", \"4g\") \\\n",
    "            .config(\"spark.executor.memory\", \"2g\") \\\n",
    "            .config(\"spark.executor.cores\", \"2\") \\\n",
    "    .getOrCreate()\n",
    "\n",
    "sc = spark.sparkContext\n",
    "\n",
    "print(\"Активные Spark сессии:\", spark.sparkContext.uiWebUrl)\n",
    "sc"
   ]
  },
  {
   "cell_type": "markdown",
   "id": "6e71ec14",
   "metadata": {},
   "source": [
    "### Чтение данных"
   ]
  },
  {
   "cell_type": "code",
   "execution_count": 2,
   "id": "6dc25a66",
   "metadata": {},
   "outputs": [
    {
     "name": "stdout",
     "output_type": "stream",
     "text": [
      "root\n",
      " |-- name: string (nullable = true)\n",
      " |-- email: string (nullable = true)\n",
      " |-- address: string (nullable = true)\n",
      " |-- registration_date: string (nullable = true)\n",
      " |-- phone: string (nullable = true)\n",
      " |-- company: string (nullable = true)\n",
      " |-- job: string (nullable = true)\n",
      " |-- birthdate: string (nullable = true)\n",
      " |-- country: string (nullable = true)\n",
      " |-- uuid: string (nullable = true)\n",
      " |-- salary: string (nullable = true)\n",
      " |-- country_code: string (nullable = true)\n",
      "\n"
     ]
    }
   ],
   "source": [
    "PATH = 'data/orders.csv'\n",
    "orig_df = spark.read.csv(PATH, sep=',', header=True)\n",
    "orig_df.printSchema()"
   ]
  },
  {
   "cell_type": "code",
   "execution_count": 3,
   "id": "fd6be198",
   "metadata": {},
   "outputs": [
    {
     "name": "stdout",
     "output_type": "stream",
     "text": [
      "+-----------------+---------------------------+---------------------------------------------------------+-----------------------------+----------------------+----------------------------+------------------------------------+----------+-----------------+------------------------------------+------+------------+\n",
      "|name             |email                      |address                                                  |registration_date            |phone                 |company                     |job                                 |birthdate |country          |uuid                                |salary|country_code|\n",
      "+-----------------+---------------------------+---------------------------------------------------------+-----------------------------+----------------------+----------------------------+------------------------------------+----------+-----------------+------------------------------------+------+------------+\n",
      "|Jermaine Espinoza|fbaker@example.org         |634 Gonzalez Inlet Suite 238, South Trevormouth, VA 19774|2024-06-01T00:00:00.000+03:00|+1-605-744-8478x494   |Baker Ltd                   |Broadcast presenter                 |1985-01-12|Azerbaijan       |9c482b2e-b191-4462-bee4-b5dda215e792|10350 |HT          |\n",
      "|Lauren Thomas    |alfredwaters@example.com   |26631 Jill Junction, Sandersborough, GA 60912            |2024-03-12T00:00:00.000+03:00|722.209.9393          |Castillo-Valencia           |Dramatherapist                      |1965-10-31|Barbados         |ca0d3252-e65c-43aa-b557-8d5efe5f60bb|8000  |TF          |\n",
      "|James Gutierrez  |carmen78@example.com       |01077 Wilson Viaduct, West Heather, NV 03145             |2024-09-03T00:00:00.000+03:00|001-458-508-9427x3274 |Dean, Hall and Simmons      |Development worker, community       |1993-10-28|Kazakhstan       |6a625dc7-238f-4cbc-8368-f3a33ec291c6|15900 |GM          |\n",
      "|Kyle Kline       |zgonzalez@example.net      |54247 Phillips Forest, Simmonsview, CT 26557             |2024-06-01T00:00:00.000+03:00|001-579-863-8127x73535|Nelson, Zhang and Robinson  |Print production planner            |1964-05-26|Equatorial Guinea|0f05ddba-d193-416f-a8dd-2be953d8c8a4|8300  |KM          |\n",
      "|Rhonda Foley     |jonathan92@example.org     |1234 Cox Light Suite 381, Brownfurt, NV 24776            |2024-08-30T00:00:00.000+03:00|513-361-0719          |White-Oneill                |Academic librarian                  |2006-08-07|Korea            |757b9bd8-1aa7-4241-9710-77d285870a2d|2300  |LV          |\n",
      "|Kyle Watson      |ryanbarron@example.net     |518 Adams Junction, Lake Dawn, GU 67031                  |2024-05-29T00:00:00.000+03:00|476-776-5078x2432     |Solomon, Moore and White    |Clothing/textile technologist       |1998-01-16|Bhutan           |425adba2-c30b-45cf-b18d-a37414425fb2|7150  |CZ          |\n",
      "|Amy Mcfarland    |alvaradoadam@example.org   |021 Jordan Wall, North Cynthia, LA 89021                 |2024-05-29T00:00:00.000+03:00|517-897-7421x9848     |Dawson-Hensley              |Commissioning editor                |1992-10-15|Guernsey         |92c6c55e-bb76-4f96-926e-7676db392ae6|3000  |BY          |\n",
      "|Angela Mcpherson |charleserickson@example.net|9953 Silva Ville Apt. 591, Williamsville, WA 02562       |2024-09-03T00:00:00.000+03:00|+1-207-529-2129x002   |King-Bailey                 |Audiological scientist              |1994-05-20|Canada           |ea2d6a30-88e8-4356-802a-f339f71f9b79|10350 |FO          |\n",
      "|John Sparks      |aguirrethomas@example.org  |6488 Bernard Mill Suite 158, West Kristen, FM 62114      |2024-01-10T00:00:00.000+03:00|447.276.7449x063      |Bonilla-Mccarthy            |Meteorologist                       |1987-09-21|Christmas Island |f3d44b10-e23e-4ff9-84f0-82d1dbbfee15|13350 |MT          |\n",
      "|Madison Chambers |natalie43@example.com      |74333 Graham Via Suite 553, Jacquelinebury, NH 67031     |2024-09-03T00:00:00.000+03:00|680-540-2534x29453    |Burgess, Williams and Cooley|Control and instrumentation engineer|1966-04-09|Samoa            |a777a93d-b214-4c3a-84b6-5269f7e683e4|2000  |HM          |\n",
      "+-----------------+---------------------------+---------------------------------------------------------+-----------------------------+----------------------+----------------------------+------------------------------------+----------+-----------------+------------------------------------+------+------------+\n",
      "only showing top 10 rows\n",
      "\n"
     ]
    }
   ],
   "source": [
    "orig_df.show(10, truncate=False)"
   ]
  },
  {
   "cell_type": "markdown",
   "id": "ffcf5f8c",
   "metadata": {},
   "source": [
    "### Data Preparation"
   ]
  },
  {
   "cell_type": "code",
   "execution_count": 4,
   "id": "b0e63157",
   "metadata": {},
   "outputs": [
    {
     "name": "stdout",
     "output_type": "stream",
     "text": [
      "root\n",
      " |-- name: string (nullable = true)\n",
      " |-- email: string (nullable = true)\n",
      " |-- address: string (nullable = true)\n",
      " |-- registration_date: date (nullable = true)\n",
      " |-- phone: string (nullable = true)\n",
      " |-- company: string (nullable = true)\n",
      " |-- job: string (nullable = true)\n",
      " |-- birthdate: date (nullable = true)\n",
      " |-- country: string (nullable = true)\n",
      " |-- uuid: string (nullable = true)\n",
      " |-- salary: long (nullable = true)\n",
      " |-- country_code: string (nullable = true)\n",
      "\n"
     ]
    }
   ],
   "source": [
    "df = orig_df \\\n",
    "    .withColumn('registration_date', F.col('registration_date').cast('date')) \\\n",
    "    .withColumn('birthdate', F.col('birthdate').cast('date')) \\\n",
    "    .withColumn('salary', F.col('salary').cast('long'))\\\n",
    "    .alias('orders')\n",
    "\n",
    "df.printSchema()"
   ]
  },
  {
   "cell_type": "markdown",
   "id": "b4ef4e9f",
   "metadata": {},
   "source": [
    "### Задача 1"
   ]
  },
  {
   "cell_type": "code",
   "execution_count": 5,
   "id": "2a862bbe",
   "metadata": {},
   "outputs": [
    {
     "name": "stdout",
     "output_type": "stream",
     "text": [
      "+-----------------+------+---------------------+-----------------------------+\n",
      "|name             |salary|phone                |country                      |\n",
      "+-----------------+------+---------------------+-----------------------------+\n",
      "|Jermaine Espinoza|10350 |+1-605-744-8478x494  |Azerbaijan                   |\n",
      "|James Gutierrez  |15900 |001-458-508-9427x3274|Kazakhstan                   |\n",
      "|Angela Mcpherson |10350 |+1-207-529-2129x002  |Canada                       |\n",
      "|John Sparks      |13350 |447.276.7449x063     |Christmas Island             |\n",
      "|Megan Day        |18300 |+1-898-862-7028x5398 |Venezuela                    |\n",
      "|James Gomez      |14850 |6296247845           |Holy See (Vatican City State)|\n",
      "|Kenneth Johnson  |11550 |8952051792           |Germany                      |\n",
      "|Sara Vega        |19100 |(850)284-8908        |Suriname                     |\n",
      "|Alan Martin      |14150 |297-935-8388         |Montenegro                   |\n",
      "|Kellie Wolf      |15250 |+1-931-409-4930x02398|Switzerland                  |\n",
      "|Shawn Garza      |15450 |279.629.6598         |Comoros                      |\n",
      "|Michael Castro   |18800 |6574114030           |Iceland                      |\n",
      "|Anthony Hernandez|19050 |(331)906-2027x035    |Montenegro                   |\n",
      "|Keith Todd       |13450 |377.557.8862         |Namibia                      |\n",
      "|Austin Hines     |13700 |(653)817-3811        |Tuvalu                       |\n",
      "|Jaclyn Poole     |14650 |+1-614-968-4601x9017 |Afghanistan                  |\n",
      "|Donna Chen       |16000 |584.959.9553         |Wallis and Futuna            |\n",
      "|Sara Parker      |11950 |882.621.8093x1614    |Algeria                      |\n",
      "|Jonathan Johnson |11950 |505.874.2285x150     |Bahrain                      |\n",
      "|Johnny Green     |17950 |+1-295-835-9133x269  |Faroe Islands                |\n",
      "+-----------------+------+---------------------+-----------------------------+\n",
      "only showing top 20 rows\n",
      "\n"
     ]
    }
   ],
   "source": [
    "### Задача 1 ###\n",
    "\n",
    "selection1 = df\\\n",
    "    .where(F.col(\"salary\") > 10000) \\\n",
    "    .select('name', 'salary', 'phone', 'country')\n",
    "\n",
    "selection1.show(20, truncate=False)"
   ]
  },
  {
   "cell_type": "markdown",
   "id": "90dce30a",
   "metadata": {},
   "source": [
    "### Задача 2"
   ]
  },
  {
   "cell_type": "code",
   "execution_count": 6,
   "id": "f12e6f75",
   "metadata": {},
   "outputs": [
    {
     "name": "stdout",
     "output_type": "stream",
     "text": [
      "+----------------+------+---------------------+-----------------------------+\n",
      "|name            |salary|phone                |country                      |\n",
      "+----------------+------+---------------------+-----------------------------+\n",
      "|James Gutierrez |15900 |001-458-508-9427x3274|Kazakhstan                   |\n",
      "|Rhonda Foley    |2300  |513-361-0719         |Korea                        |\n",
      "|Angela Mcpherson|10350 |+1-207-529-2129x002  |Canada                       |\n",
      "|Madison Chambers|2000  |680-540-2534x29453   |Samoa                        |\n",
      "|James Gomez     |14850 |6296247845           |Holy See (Vatican City State)|\n",
      "|Alan Martin     |14150 |297-935-8388         |Montenegro                   |\n",
      "|Kylie Conner    |9050  |(205)800-9320x880    |Cote d'Ivoire                |\n",
      "|Kellie Wolf     |15250 |+1-931-409-4930x02398|Switzerland                  |\n",
      "|Austin Hines    |13700 |(653)817-3811        |Tuvalu                       |\n",
      "|Kelly Mills     |9200  |887.870.2343x1272    |Saint Pierre and Miquelon    |\n",
      "|Sara Parker     |11950 |882.621.8093x1614    |Algeria                      |\n",
      "|Johnny Green    |17950 |+1-295-835-9133x269  |Faroe Islands                |\n",
      "|Eric Jones      |13200 |001-319-872-2374x272 |Croatia                      |\n",
      "|Amanda Martinez |19300 |(859)877-3299x750    |Cyprus                       |\n",
      "|Sarah Garcia    |18700 |341-618-4432x6111    |Algeria                      |\n",
      "|Pamela Smith    |16850 |+1-630-471-9349x5676 |Congo                        |\n",
      "|Ryan Good       |13200 |(400)220-5485x21189  |San Marino                   |\n",
      "|Cody Finley     |10950 |001-747-382-6825     |Burkina Faso                 |\n",
      "|Ricky Sandoval  |16550 |(251)944-5391        |Marshall Islands             |\n",
      "|Blake Huerta    |8600  |709-694-0002         |Canada                       |\n",
      "+----------------+------+---------------------+-----------------------------+\n",
      "only showing top 20 rows\n",
      "\n"
     ]
    }
   ],
   "source": [
    "### Задача 2 ###\n",
    "\n",
    "selection2 = df\\\n",
    "    .where(F.col(\"registration_date\") > '2024-06-01') \\\n",
    "    .select('name', 'salary', 'phone', 'country')\n",
    "\n",
    "selection2.show(20, truncate=False)"
   ]
  },
  {
   "cell_type": "markdown",
   "id": "169ba0f5",
   "metadata": {},
   "source": [
    "### Задача 3"
   ]
  },
  {
   "cell_type": "code",
   "execution_count": 7,
   "id": "ded54990",
   "metadata": {},
   "outputs": [
    {
     "name": "stdout",
     "output_type": "stream",
     "text": [
      "+-------------------+------+----------------------+-------+\n",
      "|name               |salary|phone                 |country|\n",
      "+-------------------+------+----------------------+-------+\n",
      "|Rhonda Foley       |2300  |513-361-0719          |Korea  |\n",
      "|Christopher Kemp   |3400  |(331)445-9427x743     |Korea  |\n",
      "|Carrie Phillips DDS|4250  |306-950-8592x63897    |Korea  |\n",
      "|Shawn Mills        |2350  |437.913.4375x297      |Korea  |\n",
      "|Melissa Murphy     |2450  |001-839-235-6489x239  |Korea  |\n",
      "|Hannah Pope        |3800  |(644)206-9182x6454    |Korea  |\n",
      "|Angela Flores      |2050  |620.630.5834x79673    |Korea  |\n",
      "|Christopher Harris |4400  |001-321-607-2841x639  |Korea  |\n",
      "|Nicole Ho          |4600  |696.349.9231x8164     |Korea  |\n",
      "|Craig Khan         |2850  |286-515-2028x8940     |Korea  |\n",
      "|David Davis        |3150  |941-805-4323x284      |Korea  |\n",
      "|Troy Delacruz      |3750  |449-474-5582x3316     |Korea  |\n",
      "|Barbara Smith      |3300  |001-924-410-7184x31865|Korea  |\n",
      "|Gwendolyn Harmon   |3350  |+1-312-430-7372x10070 |Korea  |\n",
      "|Megan Simpson      |4700  |8405197951            |Korea  |\n",
      "|Charles White      |2500  |707.272.4032          |Korea  |\n",
      "|Todd Peterson      |3450  |841.977.3864          |Korea  |\n",
      "|Virginia Thomas    |3600  |320-717-0106x573      |Korea  |\n",
      "|Norma Adams        |2000  |744-388-9910x127      |Korea  |\n",
      "|Pamela Wade        |4500  |+1-236-559-2886x122   |Korea  |\n",
      "+-------------------+------+----------------------+-------+\n",
      "only showing top 20 rows\n",
      "\n"
     ]
    }
   ],
   "source": [
    "### Задача 3 ###\n",
    "\n",
    "selection3 = df\\\n",
    "    .where(\n",
    "        (F.col(\"country\") == 'Korea') & (F.col(\"salary\") < 5000)\n",
    "    ) \\\n",
    "    .select('name', 'salary', 'phone', 'country')\n",
    "\n",
    "selection3.show(20, truncate=False)"
   ]
  },
  {
   "cell_type": "markdown",
   "id": "223f7cb4",
   "metadata": {},
   "source": [
    "### Задача 4"
   ]
  },
  {
   "cell_type": "code",
   "execution_count": 8,
   "id": "469ce6be",
   "metadata": {},
   "outputs": [
    {
     "name": "stdout",
     "output_type": "stream",
     "text": [
      "+------------------+------+----------------------+-------+\n",
      "|name              |salary|phone                 |country|\n",
      "+------------------+------+----------------------+-------+\n",
      "|Thomas Schultz    |19900 |001-653-780-7038x4003 |Korea  |\n",
      "|Melissa Murphy    |2450  |001-839-235-6489x239  |Korea  |\n",
      "|Ryan Brown        |5500  |001-549-219-3976x6096 |Korea  |\n",
      "|Travis Mcbride    |11400 |001-266-864-2833x98727|Korea  |\n",
      "|Vanessa Fowler    |7050  |001-940-675-2285x7793 |Korea  |\n",
      "|Edward Vincent    |13800 |001-978-842-3173      |Korea  |\n",
      "|Robert Olson      |9150  |001-214-785-6710      |Korea  |\n",
      "|Brooke Clark      |16700 |001-431-966-4062      |Korea  |\n",
      "|Paul Mcdonald     |8600  |001-889-536-3012x590  |Korea  |\n",
      "|Christopher Harris|4400  |001-321-607-2841x639  |Korea  |\n",
      "|Juan Davis        |9150  |001-563-801-5091x7045 |Korea  |\n",
      "|Lisa Hood         |10500 |001-374-963-8385x800  |Korea  |\n",
      "|Amanda Robinson   |13550 |001-654-523-1479x012  |Korea  |\n",
      "|Jessica Lee       |16250 |001-973-331-8161      |Korea  |\n",
      "|Barbara Smith     |3300  |001-924-410-7184x31865|Korea  |\n",
      "|Amber Griffin     |8100  |001-979-741-8098x9535 |Korea  |\n",
      "|Kyle Meyer        |13600 |001-907-812-1703x17249|Korea  |\n",
      "|Shelby Johnson    |15000 |001-682-503-2903x6265 |Korea  |\n",
      "|Darrell Hamilton  |16250 |001-631-751-0550x2244 |Korea  |\n",
      "|Samuel Paul       |19050 |001-370-612-2693x6338 |Korea  |\n",
      "+------------------+------+----------------------+-------+\n",
      "only showing top 20 rows\n",
      "\n"
     ]
    }
   ],
   "source": [
    "### Задача 4 ###\n",
    "\n",
    "selection4 = df\\\n",
    "    .where(\n",
    "        (F.col(\"country\") == 'Korea') & (F.col(\"phone\").startswith('001'))\n",
    "    ) \\\n",
    "    .select('name', 'salary', 'phone', 'country')\n",
    "\n",
    "selection4.show(20, truncate=False)"
   ]
  },
  {
   "cell_type": "markdown",
   "id": "6a4442ad",
   "metadata": {},
   "source": [
    "### Задача 5"
   ]
  },
  {
   "cell_type": "code",
   "execution_count": 9,
   "id": "d89cd7ce",
   "metadata": {},
   "outputs": [
    {
     "name": "stdout",
     "output_type": "stream",
     "text": [
      "+-----------------+------+----------------------+-------------------------+\n",
      "|name             |salary|phone                 |country                  |\n",
      "+-----------------+------+----------------------+-------------------------+\n",
      "|Jermaine Espinoza|10350 |+1-605-744-8478x494   |Azerbaijan               |\n",
      "|Madison Chambers |2000  |680-540-2534x29453    |Samoa                    |\n",
      "|Joseph Garcia    |9700  |+1-710-354-9159x3200  |Niger                    |\n",
      "|Victoria Adams   |11550 |+1-961-903-5402       |Luxembourg               |\n",
      "|Alexander Wilson |5800  |482-557-5037          |Saint Pierre and Miquelon|\n",
      "|Latoya Nicholson |9300  |+1-807-283-8513x0392  |Barbados                 |\n",
      "|Veronica Rice    |17550 |+1-895-966-3028       |Egypt                    |\n",
      "|Erica Middleton  |4700  |001-791-892-6594x357  |Togo                     |\n",
      "|Christopher Levy |15700 |517-672-5121          |Zambia                   |\n",
      "|Roy Davis        |13300 |001-625-207-6369x420  |Norway                   |\n",
      "|Katie Wallace    |18500 |+1-770-624-1369x7216  |Somalia                  |\n",
      "|Mario Peck       |14350 |001-824-334-7204x85451|Bosnia and Herzegovina   |\n",
      "|Kyle Henderson   |16750 |982.595.0556x2388     |Antigua and Barbuda      |\n",
      "|Lisa Johnson     |12550 |204-905-3827x818      |Mayotte                  |\n",
      "|Donald Miller    |9100  |(591)335-4949x816     |Brunei Darussalam        |\n",
      "|Jay Walsh        |19700 |+1-329-712-5825x314   |Liechtenstein            |\n",
      "|Mrs. Monica Glass|12650 |949-926-3994x355      |Guam                     |\n",
      "|Wendy Anderson   |18050 |228-690-9246          |Northern Mariana Islands |\n",
      "|Aaron Sharp      |7950  |6523349855            |Pakistan                 |\n",
      "|Carla Richardson |12250 |001-820-640-9956x1264 |Ghana                    |\n",
      "+-----------------+------+----------------------+-------------------------+\n",
      "only showing top 20 rows\n",
      "\n"
     ]
    }
   ],
   "source": [
    "### Задача 5 ###\n",
    "\n",
    "selection5 = df\\\n",
    "    .where(F.col(\"country_code\").startswith('H')) \\\n",
    "    .select('name', 'salary', 'phone', 'country')\n",
    "\n",
    "selection5.show(20, truncate=False)"
   ]
  },
  {
   "cell_type": "markdown",
   "id": "f2cb837f",
   "metadata": {},
   "source": [
    "### Задача 6"
   ]
  },
  {
   "cell_type": "code",
   "execution_count": 10,
   "id": "c97ac81a",
   "metadata": {},
   "outputs": [
    {
     "name": "stderr",
     "output_type": "stream",
     "text": [
      "                                                                                \r"
     ]
    },
    {
     "name": "stdout",
     "output_type": "stream",
     "text": [
      "+------------------+---------------------------------+\n",
      "|avg_salary        |country                          |\n",
      "+------------------+---------------------------------+\n",
      "|10993.791205056752|Chad                             |\n",
      "|11019.629326233873|Paraguay                         |\n",
      "|11045.240368223662|Anguilla                         |\n",
      "|10991.558131605865|Macao                            |\n",
      "|11001.287976619316|Heard Island and McDonald Islands|\n",
      "|10912.682364117527|Yemen                            |\n",
      "|10995.190933224423|Senegal                          |\n",
      "|10993.406929347826|Tokelau                          |\n",
      "|11043.685497012493|Sweden                           |\n",
      "|10971.608091540662|French Southern Territories      |\n",
      "|11027.50517391014 |Kiribati                         |\n",
      "|11020.357364180954|Guyana                           |\n",
      "|10952.664782129068|Jersey                           |\n",
      "|11066.10701979596 |Philippines                      |\n",
      "|11033.043507679817|Eritrea                          |\n",
      "|11077.546135701401|Tonga                            |\n",
      "|10966.90730777089 |Norfolk Island                   |\n",
      "|10889.106106659297|Djibouti                         |\n",
      "|10931.932118420162|Malaysia                         |\n",
      "|11071.796354237518|Singapore                        |\n",
      "+------------------+---------------------------------+\n",
      "only showing top 20 rows\n",
      "\n"
     ]
    }
   ],
   "source": [
    "### Задача 6 ###\n",
    "\n",
    "selection6 = df\\\n",
    "    .groupBy('country')\\\n",
    "    .agg(F.avg('salary').alias('avg_salary'))\\\n",
    "    .select('avg_salary', 'country')\n",
    "\n",
    "selection6.show(20, truncate=False)"
   ]
  },
  {
   "cell_type": "markdown",
   "id": "d8a4a255",
   "metadata": {},
   "source": [
    "### Задача 7"
   ]
  },
  {
   "cell_type": "code",
   "execution_count": 11,
   "id": "6b51e26b",
   "metadata": {},
   "outputs": [
    {
     "name": "stderr",
     "output_type": "stream",
     "text": [
      "[Stage 13:>                                                       (0 + 12) / 12]\r"
     ]
    },
    {
     "name": "stdout",
     "output_type": "stream",
     "text": [
      "+-------------+-------------+---------------------------------------+\n",
      "|min_birthdate|max_birthdate|job                                    |\n",
      "+-------------+-------------+---------------------------------------+\n",
      "|1959-06-02   |2007-05-22   |Designer, ceramics/pottery             |\n",
      "|1959-06-02   |2007-05-28   |Diplomatic Services operational officer|\n",
      "|1959-06-03   |2007-05-28   |Retail merchandiser                    |\n",
      "|1959-06-03   |2007-05-26   |Catering manager                       |\n",
      "|1959-06-02   |2007-05-21   |Engineer, aeronautical                 |\n",
      "|1959-06-01   |2007-05-26   |Librarian, academic                    |\n",
      "|1959-06-05   |2007-05-30   |Occupational hygienist                 |\n",
      "|1959-06-04   |2007-05-28   |Patent examiner                        |\n",
      "|1959-06-11   |2007-05-17   |English as a second language teacher   |\n",
      "|1959-06-01   |2007-05-21   |Early years teacher                    |\n",
      "|1959-06-01   |2007-05-30   |Primary school teacher                 |\n",
      "|1959-06-04   |2007-05-28   |Control and instrumentation engineer   |\n",
      "|1959-06-02   |2007-05-25   |Clinical molecular geneticist          |\n",
      "|1959-06-09   |2007-05-28   |Estate agent                           |\n",
      "|1959-06-03   |2007-05-30   |Applications developer                 |\n",
      "|1959-06-01   |2007-05-27   |Transport planner                      |\n",
      "|1959-06-01   |2007-05-26   |Art therapist                          |\n",
      "|1959-06-04   |2007-05-28   |Stage manager                          |\n",
      "|1959-06-01   |2007-05-26   |Conservator, furniture                 |\n",
      "|1959-06-01   |2007-05-29   |Adult nurse                            |\n",
      "+-------------+-------------+---------------------------------------+\n",
      "only showing top 20 rows\n",
      "\n"
     ]
    },
    {
     "name": "stderr",
     "output_type": "stream",
     "text": [
      "                                                                                \r"
     ]
    }
   ],
   "source": [
    "### Задача 7 ###\n",
    "\n",
    "selection7 = df\\\n",
    "    .groupBy('job')\\\n",
    "    .agg(\n",
    "        F.min('birthdate').alias('min_birthdate'),\n",
    "        F.max('birthdate').alias('max_birthdate')\n",
    "    )\\\n",
    "    .select('min_birthdate', 'max_birthdate', 'job')\n",
    "\n",
    "selection7.show(20, truncate=False)"
   ]
  },
  {
   "cell_type": "markdown",
   "id": "1aa1e25f",
   "metadata": {},
   "source": [
    "### Задача 8"
   ]
  },
  {
   "cell_type": "code",
   "execution_count": 12,
   "id": "f625387e",
   "metadata": {},
   "outputs": [
    {
     "name": "stderr",
     "output_type": "stream",
     "text": [
      "[Stage 17:====>                                                   (1 + 11) / 12]\r"
     ]
    },
    {
     "name": "stdout",
     "output_type": "stream",
     "text": [
      "+----------+----------------------------+\n",
      "|count_empl|company                     |\n",
      "+----------+----------------------------+\n",
      "|1         |Ayala-Huang                 |\n",
      "|4355      |Smith PLC                   |\n",
      "|2         |Weber-Keller                |\n",
      "|184       |Hernandez-Smith             |\n",
      "|1         |Anderson, Dunn and Best     |\n",
      "|213       |Payne Group                 |\n",
      "|1         |Weeks, Williams and Martinez|\n",
      "|2         |Quinn-Greer                 |\n",
      "|302       |Holmes LLC                  |\n",
      "|1         |Hurley-Dixon                |\n",
      "|1         |Little, Davis and Ford      |\n",
      "|220       |Obrien PLC                  |\n",
      "|1         |Shelton-Savage              |\n",
      "|7         |Roberts-Acosta              |\n",
      "|1         |Abbott, Vazquez and Garcia  |\n",
      "|12        |Stewart-Hill                |\n",
      "|3         |Buchanan-Wright             |\n",
      "|95        |Leblanc and Sons            |\n",
      "|1         |Lawson, Adams and Walker    |\n",
      "|4         |Simpson-Garrett             |\n",
      "+----------+----------------------------+\n",
      "only showing top 20 rows\n",
      "\n"
     ]
    },
    {
     "name": "stderr",
     "output_type": "stream",
     "text": [
      "                                                                                \r"
     ]
    }
   ],
   "source": [
    "### Задача 8 ###\n",
    "\n",
    "selection8 = df\\\n",
    "    .groupBy('company')\\\n",
    "    .agg(F.count('*').alias('count_empl'))\\\n",
    "    .select('count_empl', 'company')\n",
    "\n",
    "selection8.show(20, truncate=False)"
   ]
  },
  {
   "cell_type": "markdown",
   "id": "6bd6e214",
   "metadata": {},
   "source": [
    "### Задача 9"
   ]
  },
  {
   "cell_type": "code",
   "execution_count": 13,
   "id": "df6aa02a",
   "metadata": {},
   "outputs": [
    {
     "name": "stderr",
     "output_type": "stream",
     "text": [
      "                                                                                \r"
     ]
    },
    {
     "name": "stdout",
     "output_type": "stream",
     "text": [
      "+---------------+------------------+\n",
      "|country        |avg_asia_salary   |\n",
      "+---------------+------------------+\n",
      "|Bhutan         |10990.781335898846|\n",
      "|Kyrgyz Republic|11010.297131147541|\n",
      "|Kazakhstan     |10962.393664845426|\n",
      "|Korea          |10994.604735633759|\n",
      "+---------------+------------------+\n",
      "\n"
     ]
    }
   ],
   "source": [
    "### Задача 9 ###\n",
    "\n",
    "region2country_data = [\n",
    "    ('Barbados', 'Caribbean'),\n",
    "    ('Kazakhstan', 'Asia'),\n",
    "    ('Equatorial Guinea', 'Africa'),\n",
    "    ('Korea', 'Asia'),\n",
    "    ('Bhutan', 'Asia'),\n",
    "    ('Guernsey', 'Europe'),\n",
    "    ('Canada', 'North America'),\n",
    "    ('Christmas Island', 'Oceania'),\n",
    "    ('Samoa', 'Oceania'),\n",
    "    ('Venezuela', 'South America'),\n",
    "    ('Germany', 'Europe'),\n",
    "    ('Suriname', 'South America'),\n",
    "    ('Montenegro', 'Europe'),\n",
    "    (\"Cote d'Ivoire\", 'Africa'),\n",
    "    ('Kyrgyz Republic', 'Asia'),\n",
    "    ('Switzerland', 'Europe'),\n",
    "    ('Comoros', 'Africa'),\n",
    "    ('Iceland', 'Europe'),\n",
    "    ('Namibia', 'Africa'),\n",
    "    ('Tuvalu', 'Oceania')\n",
    "]\n",
    "\n",
    "region2country_df = spark.createDataFrame(\n",
    "    region2country_data, \n",
    "    schema=\"country string, region string\"\n",
    ").alias(\"region2country\")\n",
    "\n",
    "joined9 = df\\\n",
    "    .join(\n",
    "        region2country_df,\n",
    "        region2country_df.country == df.country,\n",
    "        how=\"left\"\n",
    "    )\\\n",
    "    .drop(region2country_df.country)\n",
    "\n",
    "selection9 = joined9\\\n",
    "    .where(F.col('region') == 'Asia')\\\n",
    "    .groupBy('country')\\\n",
    "    .agg(F.avg('salary').alias('avg_asia_salary'))\n",
    "\n",
    "# joined9.show(20, truncate=False)\n",
    "selection9.show(20, truncate=False)"
   ]
  },
  {
   "cell_type": "markdown",
   "id": "e393b047",
   "metadata": {},
   "source": [
    "### Задача 10"
   ]
  },
  {
   "cell_type": "code",
   "execution_count": 14,
   "id": "ebf4fc52",
   "metadata": {},
   "outputs": [
    {
     "name": "stdout",
     "output_type": "stream",
     "text": [
      "root\n",
      " |-- name: string (nullable = true)\n",
      " |-- email: string (nullable = true)\n",
      " |-- address: string (nullable = true)\n",
      " |-- registration_date: date (nullable = true)\n",
      " |-- phone: string (nullable = true)\n",
      " |-- company: string (nullable = true)\n",
      " |-- job: string (nullable = true)\n",
      " |-- birthdate: date (nullable = true)\n",
      " |-- country: string (nullable = true)\n",
      " |-- uuid: string (nullable = true)\n",
      " |-- salary: long (nullable = true)\n",
      " |-- country_code: string (nullable = true)\n",
      " |-- region: string (nullable = true)\n",
      " |-- salary_range: string (nullable = true)\n",
      "\n"
     ]
    },
    {
     "name": "stderr",
     "output_type": "stream",
     "text": [
      "                                                                                \r"
     ]
    }
   ],
   "source": [
    "### Задача 10 ###\n",
    "\n",
    "selection10 = joined9\\\n",
    "    .withColumn(\n",
    "        'salary_range', \n",
    "        (\n",
    "            F\\\n",
    "            .when(F.col('salary') < 5000, 'low')\\\n",
    "            .when(\n",
    "                (F.col('salary') >= 5000) & \n",
    "                (F.col('salary') < 10001),\n",
    "                'meduim'\n",
    "            )\\\n",
    "            .when(F.col('salary') >= 10001, 'high')\\\n",
    "            .otherwise(None)\\\n",
    "        )\n",
    "    )\n",
    "\n",
    "selection10.printSchema()\n",
    "\n",
    "selection10\\\n",
    "    .drop('region2country.country')\\\n",
    "    .coalesce(1)\\\n",
    "    .write\\\n",
    "    .partitionBy('salary_range')\\\n",
    "    .format('csv')\\\n",
    "    .options(header='True', sep=',')\\\n",
    "    .csv('data/t10_partition_by_salary_range')"
   ]
  }
 ],
 "metadata": {
  "kernelspec": {
   "display_name": "Python 3 (ipykernel)",
   "language": "python",
   "name": "python3"
  },
  "language_info": {
   "codemirror_mode": {
    "name": "ipython",
    "version": 3
   },
   "file_extension": ".py",
   "mimetype": "text/x-python",
   "name": "python",
   "nbconvert_exporter": "python",
   "pygments_lexer": "ipython3",
   "version": "3.9.2"
  }
 },
 "nbformat": 4,
 "nbformat_minor": 5
}
